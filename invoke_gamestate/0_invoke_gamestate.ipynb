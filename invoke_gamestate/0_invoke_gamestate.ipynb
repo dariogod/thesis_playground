{
 "cells": [
  {
   "cell_type": "code",
   "execution_count": 8,
   "metadata": {},
   "outputs": [
    {
     "data": {
      "text/plain": [
       "True"
      ]
     },
     "execution_count": 8,
     "metadata": {},
     "output_type": "execute_result"
    }
   ],
   "source": [
    "from dotenv import load_dotenv\n",
    "load_dotenv()"
   ]
  },
  {
   "cell_type": "code",
   "execution_count": 9,
   "metadata": {},
   "outputs": [
    {
     "name": "stdout",
     "output_type": "stream",
     "text": [
      "http://localhost:8000\n",
      "200\n",
      "{'status': 'ok', 'message': 'API is running'}\n"
     ]
    }
   ],
   "source": [
    "import os\n",
    "import requests\n",
    "\n",
    "\n",
    "URL = os.getenv(\"GAMESTATE_URL\")\n",
    "print(URL)\n",
    "\n",
    "response = requests.get(f'{URL}/test')\n",
    "response.raise_for_status()\n",
    "response_json = response.json()\n",
    "\n",
    "print(response.status_code)\n",
    "print(response_json)\n"
   ]
  },
  {
   "cell_type": "code",
   "execution_count": 10,
   "metadata": {},
   "outputs": [
    {
     "name": "stdout",
     "output_type": "stream",
     "text": [
      "http://localhost:8000\n",
      "Internal Server Error\n"
     ]
    }
   ],
   "source": [
    "import os\n",
    "import requests\n",
    "\n",
    "\n",
    "video_path = \"data/Dataset/Train/action_33/clip_0.mp4\"\n",
    "\n",
    "\n",
    "URL = os.getenv(\"GAMESTATE_URL\")\n",
    "print(URL)\n",
    "\n",
    "payload = {}\n",
    "files=[\n",
    "  ('video',('file_example_MP4_480_1_5MG.mp4',open(video_path,'rb'),'application/octet-stream'))\n",
    "]\n",
    "headers = {}\n",
    "\n",
    "response = requests.request(\n",
    "    method=\"POST\",\n",
    "    url=f\"{URL}/invoke\",\n",
    "    headers=headers,\n",
    "    data=payload,\n",
    "    files=files\n",
    ")\n",
    "\n",
    "print(response.text)\n"
   ]
  },
  {
   "cell_type": "code",
   "execution_count": null,
   "metadata": {},
   "outputs": [],
   "source": []
  }
 ],
 "metadata": {
  "kernelspec": {
   "display_name": "Python 3",
   "language": "python",
   "name": "python3"
  },
  "language_info": {
   "codemirror_mode": {
    "name": "ipython",
    "version": 3
   },
   "file_extension": ".py",
   "mimetype": "text/x-python",
   "name": "python",
   "nbconvert_exporter": "python",
   "pygments_lexer": "ipython3",
   "version": "3.11.9"
  }
 },
 "nbformat": 4,
 "nbformat_minor": 2
}
