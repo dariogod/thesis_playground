{
 "cells": [
  {
   "cell_type": "code",
   "execution_count": 1,
   "metadata": {},
   "outputs": [],
   "source": [
    "import json\n",
    "\n",
    "with open(\"data/gamestate_output/SNGS-001.json\", \"r\") as f:\n",
    "    data = json.load(f)\n",
    "    predictions = data[\"predictions\"]"
   ]
  },
  {
   "cell_type": "code",
   "execution_count": 2,
   "metadata": {},
   "outputs": [
    {
     "name": "stdout",
     "output_type": "stream",
     "text": [
      "12376\n"
     ]
    }
   ],
   "source": [
    "print(len(predictions))"
   ]
  },
  {
   "cell_type": "code",
   "execution_count": 3,
   "metadata": {},
   "outputs": [
    {
     "name": "stdout",
     "output_type": "stream",
     "text": [
      "{\n",
      "    \"image_id\": \"4001000001\",\n",
      "    \"bbox_image\": {\n",
      "        \"x\": 382.20587158203125,\n",
      "        \"y\": 783.1085815429688,\n",
      "        \"w\": 71.101806640625,\n",
      "        \"h\": 177.919189453125\n",
      "    },\n",
      "    \"video_id\": \"001\",\n",
      "    \"category_id\": 1.0,\n",
      "    \"track_id\": 1,\n",
      "    \"bbox_pitch\": {\n",
      "        \"x_bottom_left\": -6.3148218321410114,\n",
      "        \"y_bottom_left\": 23.00920891811881,\n",
      "        \"x_bottom_right\": -5.6064553448488725,\n",
      "        \"y_bottom_right\": 23.014673568178488,\n",
      "        \"x_bottom_middle\": -5.960646729080064,\n",
      "        \"y_bottom_middle\": 23.011941180348604\n",
      "    },\n",
      "    \"supercategory\": \"object\",\n",
      "    \"attributes\": {\n",
      "        \"role\": \"player\",\n",
      "        \"jersey\": \"24\",\n",
      "        \"team\": \"left\"\n",
      "    },\n",
      "    \"id\": \"0\"\n",
      "}\n",
      "{\n",
      "    \"image_id\": \"4001000001\",\n",
      "    \"bbox_image\": {\n",
      "        \"x\": 1064.484375,\n",
      "        \"y\": 493.9342041015625,\n",
      "        \"w\": 56.9696044921875,\n",
      "        \"h\": 149.6256103515625\n",
      "    },\n",
      "    \"video_id\": \"001\",\n",
      "    \"category_id\": 1.0,\n",
      "    \"track_id\": 2,\n",
      "    \"bbox_pitch\": {\n",
      "        \"x_bottom_left\": 0.6250356705669231,\n",
      "        \"y_bottom_left\": 11.066534794546762,\n",
      "        \"x_bottom_right\": 1.363904834243854,\n",
      "        \"y_bottom_right\": 11.071659811461535,\n",
      "        \"x_bottom_middle\": 0.9944613996447407,\n",
      "        \"y_bottom_middle\": 11.06909724159876\n",
      "    },\n",
      "    \"supercategory\": \"object\",\n",
      "    \"attributes\": {\n",
      "        \"role\": \"player\",\n",
      "        \"jersey\": \"9\",\n",
      "        \"team\": \"left\"\n",
      "    },\n",
      "    \"id\": \"1\"\n",
      "}\n",
      "{\n",
      "    \"image_id\": \"4001000001\",\n",
      "    \"bbox_image\": {\n",
      "        \"x\": 699.456298828125,\n",
      "        \"y\": 462.572021484375,\n",
      "        \"w\": 35.71783447265625,\n",
      "        \"h\": 132.19647216796875\n",
      "    },\n",
      "    \"video_id\": \"001\",\n",
      "    \"category_id\": 1.0,\n",
      "    \"track_id\": 11,\n",
      "    \"bbox_pitch\": {\n",
      "        \"x_bottom_left\": -4.307424044498785,\n",
      "        \"y_bottom_left\": 8.519004132574603,\n",
      "        \"x_bottom_right\": -3.822058526052938,\n",
      "        \"y_bottom_right\": 8.522291619237063,\n",
      "        \"x_bottom_middle\": -4.064745106689241,\n",
      "        \"y_bottom_middle\": 8.520647850022568\n",
      "    },\n",
      "    \"supercategory\": \"object\",\n",
      "    \"attributes\": {\n",
      "        \"role\": \"player\",\n",
      "        \"jersey\": \"13\",\n",
      "        \"team\": \"left\"\n",
      "    },\n",
      "    \"id\": \"10\"\n",
      "}\n",
      "{\n",
      "    \"image_id\": \"4001000007\",\n",
      "    \"bbox_image\": {\n",
      "        \"x\": 173.09812927246094,\n",
      "        \"y\": 610.048095703125,\n",
      "        \"w\": 49.00917053222656,\n",
      "        \"h\": 160.4874267578125\n",
      "    },\n",
      "    \"video_id\": \"001\",\n",
      "    \"category_id\": 1.0,\n",
      "    \"track_id\": 7,\n",
      "    \"bbox_pitch\": {\n",
      "        \"x_bottom_left\": -9.893348792315702,\n",
      "        \"y_bottom_left\": 16.516563768404087,\n",
      "        \"x_bottom_right\": -9.321554441043313,\n",
      "        \"y_bottom_right\": 16.52015104731613,\n",
      "        \"x_bottom_middle\": -9.60743079345189,\n",
      "        \"y_bottom_middle\": 16.518357538499252\n",
      "    },\n",
      "    \"supercategory\": \"object\",\n",
      "    \"attributes\": {\n",
      "        \"role\": \"goalkeeper\",\n",
      "        \"jersey\": null,\n",
      "        \"team\": \"left\"\n",
      "    },\n",
      "    \"id\": \"100\"\n",
      "}\n",
      "{\n",
      "    \"image_id\": \"4001000064\",\n",
      "    \"bbox_image\": {\n",
      "        \"x\": 676.9772338867188,\n",
      "        \"y\": 193.9530487060547,\n",
      "        \"w\": 37.33746337890625,\n",
      "        \"h\": 94.35572814941406\n",
      "    },\n",
      "    \"video_id\": \"001\",\n",
      "    \"category_id\": 1.0,\n",
      "    \"track_id\": 8,\n",
      "    \"bbox_pitch\": {\n",
      "        \"x_bottom_left\": -6.840241746689485,\n",
      "        \"y_bottom_left\": -15.749625550734047,\n",
      "        \"x_bottom_right\": -6.088973873880838,\n",
      "        \"y_bottom_right\": -15.73851263948354,\n",
      "        \"x_bottom_middle\": -6.464475130738093,\n",
      "        \"y_bottom_middle\": -15.744067132485226\n",
      "    },\n",
      "    \"supercategory\": \"object\",\n",
      "    \"attributes\": {\n",
      "        \"role\": \"player\",\n",
      "        \"jersey\": null,\n",
      "        \"team\": \"left\"\n",
      "    },\n",
      "    \"id\": \"1000\"\n",
      "}\n",
      "{\n",
      "    \"image_id\": \"4001000678\",\n",
      "    \"bbox_image\": {\n",
      "        \"x\": 1192.5986328125,\n",
      "        \"y\": 335.68994140625,\n",
      "        \"w\": 76.345947265625,\n",
      "        \"h\": 124.22772216796875\n",
      "    },\n",
      "    \"video_id\": \"001\",\n",
      "    \"category_id\": 1.0,\n",
      "    \"track_id\": 24,\n",
      "    \"bbox_pitch\": {\n",
      "        \"x_bottom_left\": -39.768377879538676,\n",
      "        \"y_bottom_left\": -2.714977322940354,\n",
      "        \"x_bottom_right\": -38.90181431081351,\n",
      "        \"y_bottom_right\": -3.3254133595380244,\n",
      "        \"x_bottom_middle\": -39.3350725988294,\n",
      "        \"y_bottom_middle\": -3.0202118928428634\n",
      "    },\n",
      "    \"supercategory\": \"object\",\n",
      "    \"attributes\": {\n",
      "        \"role\": \"player\",\n",
      "        \"jersey\": null,\n",
      "        \"team\": \"left\"\n",
      "    },\n",
      "    \"id\": \"10000\"\n",
      "}\n",
      "{\n",
      "    \"image_id\": \"4001000678\",\n",
      "    \"bbox_image\": {\n",
      "        \"x\": 969.3973388671875,\n",
      "        \"y\": 347.1929626464844,\n",
      "        \"w\": 48.61395263671875,\n",
      "        \"h\": 84.54428100585938\n",
      "    },\n",
      "    \"video_id\": \"001\",\n",
      "    \"category_id\": 1.0,\n",
      "    \"track_id\": 39,\n",
      "    \"bbox_pitch\": {\n",
      "        \"x_bottom_left\": -43.69912750780262,\n",
      "        \"y_bottom_left\": -2.7721056755346716,\n",
      "        \"x_bottom_right\": -43.12946024441759,\n",
      "        \"y_bottom_right\": -3.173196750449311,\n",
      "        \"x_bottom_middle\": -43.41428372717808,\n",
      "        \"y_bottom_middle\": -2.9726583586475583\n",
      "    },\n",
      "    \"supercategory\": \"object\",\n",
      "    \"attributes\": {\n",
      "        \"role\": \"player\",\n",
      "        \"jersey\": \"33\",\n",
      "        \"team\": \"right\"\n",
      "    },\n",
      "    \"id\": \"10001\"\n",
      "}\n",
      "{\n",
      "    \"image_id\": \"4001000678\",\n",
      "    \"bbox_image\": {\n",
      "        \"x\": 1600.790771484375,\n",
      "        \"y\": 376.30133056640625,\n",
      "        \"w\": 56.398681640625,\n",
      "        \"h\": 145.02825927734375\n",
      "    },\n",
      "    \"video_id\": \"001\",\n",
      "    \"category_id\": 1.0,\n",
      "    \"track_id\": 51,\n",
      "    \"bbox_pitch\": {\n",
      "        \"x_bottom_left\": -32.8211549044231,\n",
      "        \"y_bottom_left\": -2.015808657948152,\n",
      "        \"x_bottom_right\": -32.2217871805735,\n",
      "        \"y_bottom_right\": -2.438443012241052,\n",
      "        \"x_bottom_middle\": -32.521459792389855,\n",
      "        \"y_bottom_middle\": -2.2271337679246956\n",
      "    },\n",
      "    \"supercategory\": \"object\",\n",
      "    \"attributes\": {\n",
      "        \"role\": \"player\",\n",
      "        \"jersey\": \"15\",\n",
      "        \"team\": \"right\"\n",
      "    },\n",
      "    \"id\": \"10002\"\n",
      "}\n",
      "{\n",
      "    \"image_id\": \"4001000678\",\n",
      "    \"bbox_image\": {\n",
      "        \"x\": 1637.463134765625,\n",
      "        \"y\": 390.8480529785156,\n",
      "        \"w\": 89.338623046875,\n",
      "        \"h\": 119.03009033203125\n",
      "    },\n",
      "    \"video_id\": \"001\",\n",
      "    \"category_id\": 1.0,\n",
      "    \"track_id\": 50,\n",
      "    \"bbox_pitch\": {\n",
      "        \"x_bottom_left\": -32.83653582775856,\n",
      "        \"y_bottom_left\": -2.9945759708816095,\n",
      "        \"x_bottom_right\": -31.87601889183149,\n",
      "        \"y_bottom_right\": -3.671749724620303,\n",
      "        \"x_bottom_middle\": -32.35624846703406,\n",
      "        \"y_bottom_middle\": -3.3331832174276066\n",
      "    },\n",
      "    \"supercategory\": \"object\",\n",
      "    \"attributes\": {\n",
      "        \"role\": \"player\",\n",
      "        \"jersey\": \"24\",\n",
      "        \"team\": \"left\"\n",
      "    },\n",
      "    \"id\": \"10003\"\n",
      "}\n",
      "{\n",
      "    \"image_id\": \"4001000679\",\n",
      "    \"bbox_image\": {\n",
      "        \"x\": 1111.7523193359375,\n",
      "        \"y\": 744.0640869140625,\n",
      "        \"w\": 84.136962890625,\n",
      "        \"h\": 191.5799560546875\n",
      "    },\n",
      "    \"video_id\": \"001\",\n",
      "    \"category_id\": 1.0,\n",
      "    \"track_id\": 21,\n",
      "    \"bbox_pitch\": {\n",
      "        \"x_bottom_left\": -26.462257691551994,\n",
      "        \"y_bottom_left\": 17.869629547052085,\n",
      "        \"x_bottom_right\": -25.844083863698597,\n",
      "        \"y_bottom_right\": 17.427942185126255,\n",
      "        \"x_bottom_middle\": -26.15302847084105,\n",
      "        \"y_bottom_middle\": 17.648684187394142\n",
      "    },\n",
      "    \"supercategory\": \"object\",\n",
      "    \"attributes\": {\n",
      "        \"role\": \"player\",\n",
      "        \"jersey\": \"2\",\n",
      "        \"team\": \"left\"\n",
      "    },\n",
      "    \"id\": \"10004\"\n",
      "}\n",
      "{\n",
      "    \"image_id\": \"4001000679\",\n",
      "    \"bbox_image\": {\n",
      "        \"x\": 1483.5267333984375,\n",
      "        \"y\": 588.9339599609375,\n",
      "        \"w\": 90.2628173828125,\n",
      "        \"h\": 137.68603515625\n",
      "    },\n",
      "    \"video_id\": \"001\",\n",
      "    \"category_id\": 1.0,\n",
      "    \"track_id\": 48,\n",
      "    \"bbox_pitch\": {\n",
      "        \"x_bottom_left\": -28.085147742989342,\n",
      "        \"y_bottom_left\": 8.848847235219553,\n",
      "        \"x_bottom_right\": -27.305298508523922,\n",
      "        \"y_bottom_right\": 8.303434282013798,\n",
      "        \"x_bottom_middle\": -27.694997166966353,\n",
      "        \"y_bottom_middle\": 8.57598272697971\n",
      "    },\n",
      "    \"supercategory\": \"object\",\n",
      "    \"attributes\": {\n",
      "        \"role\": \"player\",\n",
      "        \"jersey\": \"27\",\n",
      "        \"team\": \"right\"\n",
      "    },\n",
      "    \"id\": \"10005\"\n",
      "}\n",
      "{\n",
      "    \"image_id\": \"4001000679\",\n",
      "    \"bbox_image\": {\n",
      "        \"x\": 1078.22265625,\n",
      "        \"y\": 581.6691284179688,\n",
      "        \"w\": 80.431640625,\n",
      "        \"h\": 178.64288330078125\n",
      "    },\n",
      "    \"video_id\": \"001\",\n",
      "    \"category_id\": 1.0,\n",
      "    \"track_id\": 30,\n",
      "    \"bbox_pitch\": {\n",
      "        \"x_bottom_left\": -30.704095054393044,\n",
      "        \"y_bottom_left\": 12.557161521168625,\n",
      "        \"x_bottom_right\": -30.022401698820357,\n",
      "        \"y_bottom_right\": 12.078504268729377,\n",
      "        \"x_bottom_middle\": -30.363076400769696,\n",
      "        \"y_bottom_middle\": 12.317712140535079\n",
      "    },\n",
      "    \"supercategory\": \"object\",\n",
      "    \"attributes\": {\n",
      "        \"role\": \"player\",\n",
      "        \"jersey\": null,\n",
      "        \"team\": \"left\"\n",
      "    },\n",
      "    \"id\": \"10006\"\n",
      "}\n",
      "{\n",
      "    \"image_id\": \"4001000679\",\n",
      "    \"bbox_image\": {\n",
      "        \"x\": 737.5204467773438,\n",
      "        \"y\": 347.6208190917969,\n",
      "        \"w\": 61.87738037109375,\n",
      "        \"h\": 112.42398071289062\n",
      "    },\n",
      "    \"video_id\": \"001\",\n",
      "    \"category_id\": 1.0,\n",
      "    \"track_id\": 5,\n",
      "    \"bbox_pitch\": {\n",
      "        \"x_bottom_left\": -45.09520175365929,\n",
      "        \"y_bottom_left\": 0.833231643710001,\n",
      "        \"x_bottom_right\": -44.37696402176459,\n",
      "        \"y_bottom_right\": 0.35162759261121346,\n",
      "        \"x_bottom_middle\": -44.73589595617331,\n",
      "        \"y_bottom_middle\": 0.5923042738876974\n",
      "    },\n",
      "    \"supercategory\": \"object\",\n",
      "    \"attributes\": {\n",
      "        \"role\": \"player\",\n",
      "        \"jersey\": \"84\",\n",
      "        \"team\": \"left\"\n",
      "    },\n",
      "    \"id\": \"10007\"\n",
      "}\n",
      "{\n",
      "    \"image_id\": \"4001000681\",\n",
      "    \"bbox_image\": {\n",
      "        \"x\": 1132.7486572265625,\n",
      "        \"y\": 746.3876953125,\n",
      "        \"w\": 84.377197265625,\n",
      "        \"h\": 189.3431396484375\n",
      "    },\n",
      "    \"video_id\": \"001\",\n",
      "    \"category_id\": 1.0,\n",
      "    \"track_id\": 21,\n",
      "    \"bbox_pitch\": {\n",
      "        \"x_bottom_left\": -26.591170721133572,\n",
      "        \"y_bottom_left\": 17.642002505006026,\n",
      "        \"x_bottom_right\": -25.97810789342841,\n",
      "        \"y_bottom_right\": 17.189087194675047,\n",
      "        \"x_bottom_middle\": -26.284507259870196,\n",
      "        \"y_bottom_middle\": 17.41544729655344\n",
      "    },\n",
      "    \"supercategory\": \"object\",\n",
      "    \"attributes\": {\n",
      "        \"role\": \"player\",\n",
      "        \"jersey\": \"2\",\n",
      "        \"team\": \"left\"\n",
      "    },\n",
      "    \"id\": \"10008\"\n",
      "}\n",
      "{\n",
      "    \"image_id\": \"4001000681\",\n",
      "    \"bbox_image\": {\n",
      "        \"x\": 1468.823974609375,\n",
      "        \"y\": 585.1689453125,\n",
      "        \"w\": 111.60302734375,\n",
      "        \"h\": 140.95684814453125\n",
      "    },\n",
      "    \"video_id\": \"001\",\n",
      "    \"category_id\": 1.0,\n",
      "    \"track_id\": 48,\n",
      "    \"bbox_pitch\": {\n",
      "        \"x_bottom_left\": -28.507811993983694,\n",
      "        \"y_bottom_left\": 8.780859976752664,\n",
      "        \"x_bottom_right\": -27.5510673453271,\n",
      "        \"y_bottom_right\": 8.087816247361213,\n",
      "        \"x_bottom_middle\": -28.029118859279546,\n",
      "        \"y_bottom_middle\": 8.434105724429141\n",
      "    },\n",
      "    \"supercategory\": \"object\",\n",
      "    \"attributes\": {\n",
      "        \"role\": \"player\",\n",
      "        \"jersey\": \"27\",\n",
      "        \"team\": \"right\"\n",
      "    },\n",
      "    \"id\": \"10009\"\n",
      "}\n",
      "{\n",
      "    \"image_id\": \"4001000064\",\n",
      "    \"bbox_image\": {\n",
      "        \"x\": 972.9508666992188,\n",
      "        \"y\": 241.9221954345703,\n",
      "        \"w\": 45.69873046875,\n",
      "        \"h\": 101.77470397949219\n",
      "    },\n",
      "    \"video_id\": \"001\",\n",
      "    \"category_id\": 1.0,\n",
      "    \"track_id\": 12,\n",
      "    \"bbox_pitch\": {\n",
      "        \"x_bottom_left\": -0.8402936901347534,\n",
      "        \"y_bottom_left\": -9.724594122301477,\n",
      "        \"x_bottom_right\": -0.0035250581682402,\n",
      "        \"y_bottom_right\": -9.716912129290659,\n",
      "        \"x_bottom_middle\": -0.42174383533327364,\n",
      "        \"y_bottom_middle\": -9.720751606059313\n",
      "    },\n",
      "    \"supercategory\": \"object\",\n",
      "    \"attributes\": {\n",
      "        \"role\": \"player\",\n",
      "        \"jersey\": \"25\",\n",
      "        \"team\": \"right\"\n",
      "    },\n",
      "    \"id\": \"1001\"\n",
      "}\n",
      "{\n",
      "    \"image_id\": \"4001000681\",\n",
      "    \"bbox_image\": {\n",
      "        \"x\": 292.90277099609375,\n",
      "        \"y\": 362.4822692871094,\n",
      "        \"w\": 64.51809692382812,\n",
      "        \"h\": 132.66741943359375\n",
      "    },\n",
      "    \"video_id\": \"001\",\n",
      "    \"category_id\": 1.0,\n",
      "    \"track_id\": 46,\n",
      "    \"bbox_pitch\": {\n",
      "        \"x_bottom_left\": -48.55752865997506,\n",
      "        \"y_bottom_left\": 6.388267151568907,\n",
      "        \"x_bottom_right\": -47.833862461183166,\n",
      "        \"y_bottom_right\": 5.880741534340959,\n",
      "        \"x_bottom_middle\": -48.1955170658898,\n",
      "        \"y_bottom_middle\": 6.134379160063263\n",
      "    },\n",
      "    \"supercategory\": \"object\",\n",
      "    \"attributes\": {\n",
      "        \"role\": \"goalkeeper\",\n",
      "        \"jersey\": null,\n",
      "        \"team\": \"left\"\n",
      "    },\n",
      "    \"id\": \"10010\"\n",
      "}\n",
      "{\n",
      "    \"image_id\": \"4001000681\",\n",
      "    \"bbox_image\": {\n",
      "        \"x\": 1093.7037353515625,\n",
      "        \"y\": 584.947265625,\n",
      "        \"w\": 74.9263916015625,\n",
      "        \"h\": 178.12994384765625\n",
      "    },\n",
      "    \"video_id\": \"001\",\n",
      "    \"category_id\": 1.0,\n",
      "    \"track_id\": 30,\n",
      "    \"bbox_pitch\": {\n",
      "        \"x_bottom_left\": -30.75973566626444,\n",
      "        \"y_bottom_left\": 12.48248489103466,\n",
      "        \"x_bottom_right\": -30.132310361687548,\n",
      "        \"y_bottom_right\": 12.026178352895553,\n",
      "        \"x_bottom_middle\": -30.44588551116851,\n",
      "        \"y_bottom_middle\": 12.254231620531291\n",
      "    },\n",
      "    \"supercategory\": \"object\",\n",
      "    \"attributes\": {\n",
      "        \"role\": \"player\",\n",
      "        \"jersey\": null,\n",
      "        \"team\": \"left\"\n",
      "    },\n",
      "    \"id\": \"10011\"\n",
      "}\n",
      "{\n",
      "    \"image_id\": \"4001000681\",\n",
      "    \"bbox_image\": {\n",
      "        \"x\": 934.5518798828125,\n",
      "        \"y\": 355.9779968261719,\n",
      "        \"w\": 69.6551513671875,\n",
      "        \"h\": 83.430908203125\n",
      "    },\n",
      "    \"video_id\": \"001\",\n",
      "    \"category_id\": 1.0,\n",
      "    \"track_id\": 39,\n",
      "    \"bbox_pitch\": {\n",
      "        \"x_bottom_left\": -44.09268011312304,\n",
      "        \"y_bottom_left\": -2.0690842781264474,\n",
      "        \"x_bottom_right\": -43.27407223722362,\n",
      "        \"y_bottom_right\": -2.6372173452698493,\n",
      "        \"x_bottom_middle\": -43.683146359023496,\n",
      "        \"y_bottom_middle\": -2.3533103094967007\n",
      "    },\n",
      "    \"supercategory\": \"object\",\n",
      "    \"attributes\": {\n",
      "        \"role\": \"player\",\n",
      "        \"jersey\": \"33\",\n",
      "        \"team\": \"right\"\n",
      "    },\n",
      "    \"id\": \"10012\"\n",
      "}\n",
      "{\n",
      "    \"image_id\": \"4001000681\",\n",
      "    \"bbox_image\": {\n",
      "        \"x\": 1016.7987670898438,\n",
      "        \"y\": 543.4421997070312,\n",
      "        \"w\": 63.45074462890625,\n",
      "        \"h\": 176.25408935546875\n",
      "    },\n",
      "    \"video_id\": \"001\",\n",
      "    \"category_id\": 1.0,\n",
      "    \"track_id\": 42,\n",
      "    \"bbox_pitch\": {\n",
      "        \"x_bottom_left\": -32.59072454157145,\n",
      "        \"y_bottom_left\": 11.364176762021089,\n",
      "        \"x_bottom_right\": -32.037266990516635,\n",
      "        \"y_bottom_right\": 10.963553425771906,\n",
      "        \"x_bottom_middle\": -32.31388905136415,\n",
      "        \"y_bottom_middle\": 11.163787847880068\n",
      "    },\n",
      "    \"supercategory\": \"object\",\n",
      "    \"attributes\": {\n",
      "        \"role\": \"player\",\n",
      "        \"jersey\": \"90\",\n",
      "        \"team\": \"left\"\n",
      "    },\n",
      "    \"id\": \"10013\"\n",
      "}\n",
      "{\n",
      "    \"image_id\": \"4001000681\",\n",
      "    \"bbox_image\": {\n",
      "        \"x\": 1140.4603271484375,\n",
      "        \"y\": 351.1989440917969,\n",
      "        \"w\": 89.445556640625,\n",
      "        \"h\": 129.57440185546875\n",
      "    },\n",
      "    \"video_id\": \"001\",\n",
      "    \"category_id\": 1.0,\n",
      "    \"track_id\": 27,\n",
      "    \"bbox_pitch\": {\n",
      "        \"x_bottom_left\": -39.78232248997129,\n",
      "        \"y_bottom_left\": -1.0726182852051036,\n",
      "        \"x_bottom_right\": -38.788599526384296,\n",
      "        \"y_bottom_right\": -1.767750890452188,\n",
      "        \"x_bottom_middle\": -39.28512029619616,\n",
      "        \"y_bottom_middle\": -1.4204229238801522\n",
      "    },\n",
      "    \"supercategory\": \"object\",\n",
      "    \"attributes\": {\n",
      "        \"role\": \"player\",\n",
      "        \"jersey\": \"7\",\n",
      "        \"team\": \"left\"\n",
      "    },\n",
      "    \"id\": \"10014\"\n",
      "}\n",
      "{\n",
      "    \"image_id\": \"4001000681\",\n",
      "    \"bbox_image\": {\n",
      "        \"x\": 748.7456665039062,\n",
      "        \"y\": 351.69598388671875,\n",
      "        \"w\": 55.40924072265625,\n",
      "        \"h\": 112.685302734375\n",
      "    },\n",
      "    \"video_id\": \"001\",\n",
      "    \"category_id\": 1.0,\n",
      "    \"track_id\": 5,\n",
      "    \"bbox_pitch\": {\n",
      "        \"x_bottom_left\": -44.98246571721502,\n",
      "        \"y_bottom_left\": 1.0155018797165778,\n",
      "        \"x_bottom_right\": -44.346834262853015,\n",
      "        \"y_bottom_right\": 0.5722114075713586,\n",
      "        \"x_bottom_middle\": -44.66451161579207,\n",
      "        \"y_bottom_middle\": 0.793760141209059\n",
      "    },\n",
      "    \"supercategory\": \"object\",\n",
      "    \"attributes\": {\n",
      "        \"role\": \"player\",\n",
      "        \"jersey\": \"84\",\n",
      "        \"team\": \"left\"\n",
      "    },\n",
      "    \"id\": \"10015\"\n",
      "}\n",
      "{\n",
      "    \"image_id\": \"4001000681\",\n",
      "    \"bbox_image\": {\n",
      "        \"x\": 1596.482666015625,\n",
      "        \"y\": 474.9141540527344,\n",
      "        \"w\": 64.80029296875,\n",
      "        \"h\": 150.12612915039062\n",
      "    },\n",
      "    \"video_id\": \"001\",\n",
      "    \"category_id\": 1.0,\n",
      "    \"track_id\": 34,\n",
      "    \"bbox_pitch\": {\n",
      "        \"x_bottom_left\": -30.02152045090186,\n",
      "        \"y_bottom_left\": 3.5111157911824744,\n",
      "        \"x_bottom_right\": -29.412206382047557,\n",
      "        \"y_bottom_right\": 3.0751656224318733,\n",
      "        \"x_bottom_middle\": -29.716733605149763,\n",
      "        \"y_bottom_middle\": 3.2930478297969303\n",
      "    },\n",
      "    \"supercategory\": \"object\",\n",
      "    \"attributes\": {\n",
      "        \"role\": \"player\",\n",
      "        \"jersey\": \"7\",\n",
      "        \"team\": \"left\"\n",
      "    },\n",
      "    \"id\": \"10016\"\n",
      "}\n",
      "{\n",
      "    \"image_id\": \"4001000681\",\n",
      "    \"bbox_image\": {\n",
      "        \"x\": 1264.202880859375,\n",
      "        \"y\": 310.9354248046875,\n",
      "        \"w\": 82.9591064453125,\n",
      "        \"h\": 94.05441284179688\n",
      "    },\n",
      "    \"video_id\": \"001\",\n",
      "    \"category_id\": 1.0,\n",
      "    \"track_id\": 12,\n",
      "    \"bbox_pitch\": {\n",
      "        \"x_bottom_left\": -41.89284815444418,\n",
      "        \"y_bottom_left\": -7.209568525061181,\n",
      "        \"x_bottom_right\": -40.88623468361486,\n",
      "        \"y_bottom_right\": -7.903179495556957,\n",
      "        \"x_bottom_middle\": -41.38919282261338,\n",
      "        \"y_bottom_middle\": -7.556614212040441\n",
      "    },\n",
      "    \"supercategory\": \"object\",\n",
      "    \"attributes\": {\n",
      "        \"role\": \"player\",\n",
      "        \"jersey\": \"25\",\n",
      "        \"team\": \"right\"\n",
      "    },\n",
      "    \"id\": \"10017\"\n",
      "}\n",
      "{\n",
      "    \"image_id\": \"4001000681\",\n",
      "    \"bbox_image\": {\n",
      "        \"x\": 1038.94140625,\n",
      "        \"y\": 465.591796875,\n",
      "        \"w\": 65.876220703125,\n",
      "        \"h\": 147.78204345703125\n",
      "    },\n",
      "    \"video_id\": \"001\",\n",
      "    \"category_id\": 1.0,\n",
      "    \"track_id\": 45,\n",
      "    \"bbox_pitch\": {\n",
      "        \"x_bottom_left\": -35.702695664821,\n",
      "        \"y_bottom_left\": 6.758758174296473,\n",
      "        \"x_bottom_right\": -35.06667636524227,\n",
      "        \"y_bottom_right\": 6.304421835646589,\n",
      "        \"x_bottom_middle\": -35.38454568788344,\n",
      "        \"y_bottom_middle\": 6.531489763166337\n",
      "    },\n",
      "    \"supercategory\": \"object\",\n",
      "    \"attributes\": {\n",
      "        \"role\": \"player\",\n",
      "        \"jersey\": \"33\",\n",
      "        \"team\": \"left\"\n",
      "    },\n",
      "    \"id\": \"10018\"\n",
      "}\n",
      "{\n",
      "    \"image_id\": \"4001000681\",\n",
      "    \"bbox_image\": {\n",
      "        \"x\": 1218.29541015625,\n",
      "        \"y\": 339.9610595703125,\n",
      "        \"w\": 75.86962890625,\n",
      "        \"h\": 125.30911254882812\n",
      "    },\n",
      "    \"video_id\": \"001\",\n",
      "    \"category_id\": 1.0,\n",
      "    \"track_id\": 24,\n",
      "    \"bbox_pitch\": {\n",
      "        \"x_bottom_left\": -39.59144848695385,\n",
      "        \"y_bottom_left\": -2.6594275945755323,\n",
      "        \"x_bottom_right\": -38.73498194944408,\n",
      "        \"y_bottom_right\": -3.2568289987044627,\n",
      "        \"x_bottom_middle\": -39.16296208399519,\n",
      "        \"y_bottom_middle\": -2.9583048624743173\n",
      "    },\n",
      "    \"supercategory\": \"object\",\n",
      "    \"attributes\": {\n",
      "        \"role\": \"player\",\n",
      "        \"jersey\": null,\n",
      "        \"team\": \"left\"\n",
      "    },\n",
      "    \"id\": \"10019\"\n",
      "}\n",
      "{\n",
      "    \"image_id\": \"4001000064\",\n",
      "    \"bbox_image\": {\n",
      "        \"x\": 1610.6312255859375,\n",
      "        \"y\": 255.66270446777344,\n",
      "        \"w\": 36.4251708984375,\n",
      "        \"h\": 95.26545715332031\n",
      "    },\n",
      "    \"video_id\": \"001\",\n",
      "    \"category_id\": 1.0,\n",
      "    \"track_id\": 10,\n",
      "    \"bbox_pitch\": {\n",
      "        \"x_bottom_left\": 10.608603772787529,\n",
      "        \"y_bottom_left\": -8.9210947537714,\n",
      "        \"x_bottom_right\": 11.254613915856742,\n",
      "        \"y_bottom_right\": -8.91559519129224,\n",
      "        \"x_bottom_middle\": 10.931708581238855,\n",
      "        \"y_bottom_middle\": -8.918344123459388\n",
      "    },\n",
      "    \"supercategory\": \"object\",\n",
      "    \"attributes\": {\n",
      "        \"role\": \"player\",\n",
      "        \"jersey\": null,\n",
      "        \"team\": \"right\"\n",
      "    },\n",
      "    \"id\": \"1002\"\n",
      "}\n",
      "{\n",
      "    \"image_id\": \"4001000681\",\n",
      "    \"bbox_image\": {\n",
      "        \"x\": 1060.9229736328125,\n",
      "        \"y\": 392.07220458984375,\n",
      "        \"w\": 38.38916015625,\n",
      "        \"h\": 97.3780517578125\n",
      "    },\n",
      "    \"video_id\": \"001\",\n",
      "    \"category_id\": 1.0,\n",
      "    \"track_id\": 43,\n",
      "    \"bbox_pitch\": {\n",
      "        \"x_bottom_left\": -40.28347817745796,\n",
      "        \"y_bottom_left\": 0.07175771770202617,\n",
      "        \"x_bottom_right\": -39.859890579467134,\n",
      "        \"y_bottom_right\": -0.22501520014984644,\n",
      "        \"x_bottom_middle\": -40.07162253807008,\n",
      "        \"y_bottom_middle\": -0.07667206769002745\n",
      "    },\n",
      "    \"supercategory\": \"object\",\n",
      "    \"attributes\": {\n",
      "        \"role\": \"player\",\n",
      "        \"jersey\": null,\n",
      "        \"team\": \"left\"\n",
      "    },\n",
      "    \"id\": \"10020\"\n",
      "}\n",
      "{\n",
      "    \"image_id\": \"4001000681\",\n",
      "    \"bbox_image\": {\n",
      "        \"x\": 1628.7205810546875,\n",
      "        \"y\": 383.9058837890625,\n",
      "        \"w\": 60.796875,\n",
      "        \"h\": 144.68975830078125\n",
      "    },\n",
      "    \"video_id\": \"001\",\n",
      "    \"category_id\": 1.0,\n",
      "    \"track_id\": 51,\n",
      "    \"bbox_pitch\": {\n",
      "        \"x_bottom_left\": -32.68641992352478,\n",
      "        \"y_bottom_left\": -1.8755771553885618,\n",
      "        \"x_bottom_right\": -32.05529871483102,\n",
      "        \"y_bottom_right\": -2.3207187522849044,\n",
      "        \"x_bottom_middle\": -32.37072056480824,\n",
      "        \"y_bottom_middle\": -2.098245819889774\n",
      "    },\n",
      "    \"supercategory\": \"object\",\n",
      "    \"attributes\": {\n",
      "        \"role\": \"player\",\n",
      "        \"jersey\": \"15\",\n",
      "        \"team\": \"right\"\n",
      "    },\n",
      "    \"id\": \"10021\"\n",
      "}\n",
      "{\n",
      "    \"image_id\": \"4001000682\",\n",
      "    \"bbox_image\": {\n",
      "        \"x\": 1148.4935302734375,\n",
      "        \"y\": 747.0675659179688,\n",
      "        \"w\": 80.408935546875,\n",
      "        \"h\": 190.072265625\n",
      "    },\n",
      "    \"video_id\": \"001\",\n",
      "    \"category_id\": 1.0,\n",
      "    \"track_id\": 21,\n",
      "    \"bbox_pitch\": {\n",
      "        \"x_bottom_left\": -26.541257878080607,\n",
      "        \"y_bottom_left\": 17.720790705066566,\n",
      "        \"x_bottom_right\": -25.961689880079916,\n",
      "        \"y_bottom_right\": 17.29785049051861,\n",
      "        \"x_bottom_middle\": -26.25141071859815,\n",
      "        \"y_bottom_middle\": 17.509274506379764\n",
      "    },\n",
      "    \"supercategory\": \"object\",\n",
      "    \"attributes\": {\n",
      "        \"role\": \"player\",\n",
      "        \"jersey\": \"2\",\n",
      "        \"team\": \"left\"\n",
      "    },\n",
      "    \"id\": \"10022\"\n",
      "}\n"
     ]
    }
   ],
   "source": [
    "for prediction in predictions[:30]:\n",
    "    print(json.dumps(prediction, indent=4))"
   ]
  },
  {
   "cell_type": "code",
   "execution_count": 4,
   "metadata": {},
   "outputs": [
    {
     "name": "stdout",
     "output_type": "stream",
     "text": [
      "Obtaining file:///Users/dariogod/coding/ugent/thesis_playground/invoke_gamestate/visualization\n",
      "  Installing build dependencies ... \u001b[?25ldone\n",
      "\u001b[?25h  Checking if build backend supports build_editable ... \u001b[?25ldone\n",
      "\u001b[?25h  Getting requirements to build editable ... \u001b[?25ldone\n",
      "\u001b[?25h  Preparing editable metadata (pyproject.toml) ... \u001b[?25ldone\n",
      "\u001b[?25hRequirement already satisfied: numpy in /Users/dariogod/.pyenv/versions/3.11.9/lib/python3.11/site-packages (from visualization==0.0.1) (1.26.4)\n",
      "Requirement already satisfied: opencv-python in /Users/dariogod/.pyenv/versions/3.11.9/lib/python3.11/site-packages (from visualization==0.0.1) (4.11.0.86)\n",
      "Requirement already satisfied: pydantic in /Users/dariogod/.pyenv/versions/3.11.9/lib/python3.11/site-packages (from visualization==0.0.1) (2.8.2)\n",
      "Requirement already satisfied: tqdm in /Users/dariogod/.pyenv/versions/3.11.9/lib/python3.11/site-packages (from visualization==0.0.1) (4.65.0)\n",
      "Requirement already satisfied: annotated-types>=0.4.0 in /Users/dariogod/.pyenv/versions/3.11.9/lib/python3.11/site-packages (from pydantic->visualization==0.0.1) (0.7.0)\n",
      "Requirement already satisfied: pydantic-core==2.20.1 in /Users/dariogod/.pyenv/versions/3.11.9/lib/python3.11/site-packages (from pydantic->visualization==0.0.1) (2.20.1)\n",
      "Requirement already satisfied: typing-extensions>=4.6.1 in /Users/dariogod/.pyenv/versions/3.11.9/lib/python3.11/site-packages (from pydantic->visualization==0.0.1) (4.12.2)\n",
      "Building wheels for collected packages: visualization\n",
      "  Building editable for visualization (pyproject.toml) ... \u001b[?25ldone\n",
      "\u001b[?25h  Created wheel for visualization: filename=visualization-0.0.1-0.editable-py3-none-any.whl size=2772 sha256=fd1a1e8282027506c08b4f78ba5a2775e957233e69bc975431be0febacbbf982\n",
      "  Stored in directory: /private/var/folders/6l/p6zt7z7j3qz18vr9n_6dpf3w0000gn/T/pip-ephem-wheel-cache-l0ohse0k/wheels/04/f6/2c/685b13e65d0683e01515b854ce058514aef692573ea731d26c\n",
      "Successfully built visualization\n",
      "Installing collected packages: visualization\n",
      "  Attempting uninstall: visualization\n",
      "    Found existing installation: visualization 0.0.1\n",
      "    Uninstalling visualization-0.0.1:\n",
      "      Successfully uninstalled visualization-0.0.1\n",
      "Successfully installed visualization-0.0.1\n"
     ]
    }
   ],
   "source": [
    "!pip install -e visualization/ "
   ]
  },
  {
   "cell_type": "code",
   "execution_count": 5,
   "metadata": {},
   "outputs": [
    {
     "name": "stdout",
     "output_type": "stream",
     "text": [
      "Processing 126 frames ...\n"
     ]
    },
    {
     "name": "stderr",
     "output_type": "stream",
     "text": [
      "Processing frames: 100%|██████████| 126/126 [00:03<00:00, 38.60it/s]\n"
     ]
    },
    {
     "name": "stdout",
     "output_type": "stream",
     "text": [
      "Completed! All frames saved to visualization/output/action_1332/frames\n",
      "Creating video from 126 frames...\n"
     ]
    },
    {
     "name": "stderr",
     "output_type": "stream",
     "text": [
      "Creating video: 100%|██████████| 126/126 [00:01<00:00, 78.83it/s]\n"
     ]
    },
    {
     "name": "stdout",
     "output_type": "stream",
     "text": [
      "Video created successfully: visualization/output/action_1332/video/action_1332.mp4\n",
      "Visualization completed for data/gamestate_output/action_1332.json\n",
      "Frames saved to visualization/output/action_1332/frames\n",
      "Video saved to visualization/output/action_1332/video/action_1332.mp4\n",
      "Processing 126 frames ...\n"
     ]
    },
    {
     "name": "stderr",
     "output_type": "stream",
     "text": [
      "Processing frames: 100%|██████████| 126/126 [00:03<00:00, 40.02it/s]\n"
     ]
    },
    {
     "name": "stdout",
     "output_type": "stream",
     "text": [
      "Completed! All frames saved to visualization/output/action_2230/frames\n",
      "Creating video from 126 frames...\n"
     ]
    },
    {
     "name": "stderr",
     "output_type": "stream",
     "text": [
      "Creating video: 100%|██████████| 126/126 [00:01<00:00, 82.72it/s]\n"
     ]
    },
    {
     "name": "stdout",
     "output_type": "stream",
     "text": [
      "Video created successfully: visualization/output/action_2230/video/action_2230.mp4\n",
      "Visualization completed for data/gamestate_output/action_2230.json\n",
      "Frames saved to visualization/output/action_2230/frames\n",
      "Video saved to visualization/output/action_2230/video/action_2230.mp4\n",
      "Processing 126 frames ...\n"
     ]
    },
    {
     "name": "stderr",
     "output_type": "stream",
     "text": [
      "Processing frames: 100%|██████████| 126/126 [00:03<00:00, 40.27it/s]\n"
     ]
    },
    {
     "name": "stdout",
     "output_type": "stream",
     "text": [
      "Completed! All frames saved to visualization/output/action_2725/frames\n",
      "Creating video from 126 frames...\n"
     ]
    },
    {
     "name": "stderr",
     "output_type": "stream",
     "text": [
      "Creating video: 100%|██████████| 126/126 [00:01<00:00, 79.67it/s]\n"
     ]
    },
    {
     "name": "stdout",
     "output_type": "stream",
     "text": [
      "Video created successfully: visualization/output/action_2725/video/action_2725.mp4\n",
      "Visualization completed for data/gamestate_output/action_2725.json\n",
      "Frames saved to visualization/output/action_2725/frames\n",
      "Video saved to visualization/output/action_2725/video/action_2725.mp4\n",
      "Processing 126 frames ...\n"
     ]
    },
    {
     "name": "stderr",
     "output_type": "stream",
     "text": [
      "Processing frames: 100%|██████████| 126/126 [00:02<00:00, 47.39it/s]\n"
     ]
    },
    {
     "name": "stdout",
     "output_type": "stream",
     "text": [
      "Completed! All frames saved to visualization/output/action_40/frames\n",
      "Creating video from 126 frames...\n"
     ]
    },
    {
     "name": "stderr",
     "output_type": "stream",
     "text": [
      "Creating video: 100%|██████████| 126/126 [00:01<00:00, 74.69it/s]\n"
     ]
    },
    {
     "name": "stdout",
     "output_type": "stream",
     "text": [
      "Video created successfully: visualization/output/action_40/video/action_40.mp4\n",
      "Visualization completed for data/gamestate_output/action_40.json\n",
      "Frames saved to visualization/output/action_40/frames\n",
      "Video saved to visualization/output/action_40/video/action_40.mp4\n",
      "Processing 126 frames ...\n"
     ]
    },
    {
     "name": "stderr",
     "output_type": "stream",
     "text": [
      "Processing frames: 100%|██████████| 126/126 [00:03<00:00, 41.71it/s]\n"
     ]
    },
    {
     "name": "stdout",
     "output_type": "stream",
     "text": [
      "Completed! All frames saved to visualization/output/action_1670/frames\n",
      "Creating video from 126 frames...\n"
     ]
    },
    {
     "name": "stderr",
     "output_type": "stream",
     "text": [
      "Creating video: 100%|██████████| 126/126 [00:01<00:00, 84.07it/s]\n"
     ]
    },
    {
     "name": "stdout",
     "output_type": "stream",
     "text": [
      "Video created successfully: visualization/output/action_1670/video/action_1670.mp4\n",
      "Visualization completed for data/gamestate_output/action_1670.json\n",
      "Frames saved to visualization/output/action_1670/frames\n",
      "Video saved to visualization/output/action_1670/video/action_1670.mp4\n",
      "Processing 126 frames ...\n"
     ]
    },
    {
     "name": "stderr",
     "output_type": "stream",
     "text": [
      "Processing frames: 100%|██████████| 126/126 [00:02<00:00, 43.27it/s]\n"
     ]
    },
    {
     "name": "stdout",
     "output_type": "stream",
     "text": [
      "Completed! All frames saved to visualization/output/action_1959/frames\n",
      "Creating video from 126 frames...\n"
     ]
    },
    {
     "name": "stderr",
     "output_type": "stream",
     "text": [
      "Creating video: 100%|██████████| 126/126 [00:01<00:00, 85.20it/s]\n"
     ]
    },
    {
     "name": "stdout",
     "output_type": "stream",
     "text": [
      "Video created successfully: visualization/output/action_1959/video/action_1959.mp4\n",
      "Visualization completed for data/gamestate_output/action_1959.json\n",
      "Frames saved to visualization/output/action_1959/frames\n",
      "Video saved to visualization/output/action_1959/video/action_1959.mp4\n",
      "Processing 126 frames ...\n"
     ]
    },
    {
     "name": "stderr",
     "output_type": "stream",
     "text": [
      "Processing frames: 100%|██████████| 126/126 [00:02<00:00, 42.50it/s]\n"
     ]
    },
    {
     "name": "stdout",
     "output_type": "stream",
     "text": [
      "Completed! All frames saved to visualization/output/action_2226/frames\n",
      "Creating video from 126 frames...\n"
     ]
    },
    {
     "name": "stderr",
     "output_type": "stream",
     "text": [
      "Creating video: 100%|██████████| 126/126 [00:01<00:00, 84.10it/s]\n"
     ]
    },
    {
     "name": "stdout",
     "output_type": "stream",
     "text": [
      "Video created successfully: visualization/output/action_2226/video/action_2226.mp4\n",
      "Visualization completed for data/gamestate_output/action_2226.json\n",
      "Frames saved to visualization/output/action_2226/frames\n",
      "Video saved to visualization/output/action_2226/video/action_2226.mp4\n",
      "Processing 126 frames ...\n"
     ]
    },
    {
     "name": "stderr",
     "output_type": "stream",
     "text": [
      "Processing frames: 100%|██████████| 126/126 [00:03<00:00, 39.26it/s]\n"
     ]
    },
    {
     "name": "stdout",
     "output_type": "stream",
     "text": [
      "Completed! All frames saved to visualization/output/action_637/frames\n",
      "Creating video from 126 frames...\n"
     ]
    },
    {
     "name": "stderr",
     "output_type": "stream",
     "text": [
      "Creating video: 100%|██████████| 126/126 [00:01<00:00, 80.58it/s]\n"
     ]
    },
    {
     "name": "stdout",
     "output_type": "stream",
     "text": [
      "Video created successfully: visualization/output/action_637/video/action_637.mp4\n",
      "Visualization completed for data/gamestate_output/action_637.json\n",
      "Frames saved to visualization/output/action_637/frames\n",
      "Video saved to visualization/output/action_637/video/action_637.mp4\n",
      "Processing 126 frames ...\n"
     ]
    },
    {
     "name": "stderr",
     "output_type": "stream",
     "text": [
      "Processing frames: 100%|██████████| 126/126 [00:02<00:00, 45.13it/s]\n"
     ]
    },
    {
     "name": "stdout",
     "output_type": "stream",
     "text": [
      "Completed! All frames saved to visualization/output/action_1631/frames\n",
      "Creating video from 126 frames...\n"
     ]
    },
    {
     "name": "stderr",
     "output_type": "stream",
     "text": [
      "Creating video: 100%|██████████| 126/126 [00:01<00:00, 82.99it/s]\n"
     ]
    },
    {
     "name": "stdout",
     "output_type": "stream",
     "text": [
      "Video created successfully: visualization/output/action_1631/video/action_1631.mp4\n",
      "Visualization completed for data/gamestate_output/action_1631.json\n",
      "Frames saved to visualization/output/action_1631/frames\n",
      "Video saved to visualization/output/action_1631/video/action_1631.mp4\n",
      "Processing 126 frames ...\n"
     ]
    },
    {
     "name": "stderr",
     "output_type": "stream",
     "text": [
      "Processing frames: 100%|██████████| 126/126 [00:03<00:00, 41.41it/s]\n"
     ]
    },
    {
     "name": "stdout",
     "output_type": "stream",
     "text": [
      "Completed! All frames saved to visualization/output/action_1774/frames\n",
      "Creating video from 126 frames...\n"
     ]
    },
    {
     "name": "stderr",
     "output_type": "stream",
     "text": [
      "Creating video: 100%|██████████| 126/126 [00:01<00:00, 75.06it/s]\n"
     ]
    },
    {
     "name": "stdout",
     "output_type": "stream",
     "text": [
      "Video created successfully: visualization/output/action_1774/video/action_1774.mp4\n",
      "Visualization completed for data/gamestate_output/action_1774.json\n",
      "Frames saved to visualization/output/action_1774/frames\n",
      "Video saved to visualization/output/action_1774/video/action_1774.mp4\n",
      "Processing 126 frames ...\n"
     ]
    },
    {
     "name": "stderr",
     "output_type": "stream",
     "text": [
      "Processing frames: 100%|██████████| 126/126 [00:03<00:00, 35.02it/s]\n"
     ]
    },
    {
     "name": "stdout",
     "output_type": "stream",
     "text": [
      "Completed! All frames saved to visualization/output/action_2508/frames\n",
      "Creating video from 126 frames...\n"
     ]
    },
    {
     "name": "stderr",
     "output_type": "stream",
     "text": [
      "Creating video: 100%|██████████| 126/126 [00:01<00:00, 83.03it/s]\n"
     ]
    },
    {
     "name": "stdout",
     "output_type": "stream",
     "text": [
      "Video created successfully: visualization/output/action_2508/video/action_2508.mp4\n",
      "Visualization completed for data/gamestate_output/action_2508.json\n",
      "Frames saved to visualization/output/action_2508/frames\n",
      "Video saved to visualization/output/action_2508/video/action_2508.mp4\n",
      "Processing 126 frames ...\n"
     ]
    },
    {
     "name": "stderr",
     "output_type": "stream",
     "text": [
      "Processing frames: 100%|██████████| 126/126 [00:03<00:00, 37.13it/s]\n"
     ]
    },
    {
     "name": "stdout",
     "output_type": "stream",
     "text": [
      "Completed! All frames saved to visualization/output/action_1975/frames\n",
      "Creating video from 126 frames...\n"
     ]
    },
    {
     "name": "stderr",
     "output_type": "stream",
     "text": [
      "Creating video: 100%|██████████| 126/126 [00:01<00:00, 87.18it/s]\n"
     ]
    },
    {
     "name": "stdout",
     "output_type": "stream",
     "text": [
      "Video created successfully: visualization/output/action_1975/video/action_1975.mp4\n",
      "Visualization completed for data/gamestate_output/action_1975.json\n",
      "Frames saved to visualization/output/action_1975/frames\n",
      "Video saved to visualization/output/action_1975/video/action_1975.mp4\n",
      "Processing 126 frames ...\n"
     ]
    },
    {
     "name": "stderr",
     "output_type": "stream",
     "text": [
      "Processing frames: 100%|██████████| 126/126 [00:02<00:00, 45.86it/s]\n"
     ]
    },
    {
     "name": "stdout",
     "output_type": "stream",
     "text": [
      "Completed! All frames saved to visualization/output/action_2089/frames\n",
      "Creating video from 126 frames...\n"
     ]
    },
    {
     "name": "stderr",
     "output_type": "stream",
     "text": [
      "Creating video: 100%|██████████| 126/126 [00:01<00:00, 79.22it/s]\n"
     ]
    },
    {
     "name": "stdout",
     "output_type": "stream",
     "text": [
      "Video created successfully: visualization/output/action_2089/video/action_2089.mp4\n",
      "Visualization completed for data/gamestate_output/action_2089.json\n",
      "Frames saved to visualization/output/action_2089/frames\n",
      "Video saved to visualization/output/action_2089/video/action_2089.mp4\n",
      "Processing 126 frames ...\n"
     ]
    },
    {
     "name": "stderr",
     "output_type": "stream",
     "text": [
      "Processing frames: 100%|██████████| 126/126 [00:03<00:00, 38.94it/s]\n"
     ]
    },
    {
     "name": "stdout",
     "output_type": "stream",
     "text": [
      "Completed! All frames saved to visualization/output/action_477/frames\n",
      "Creating video from 126 frames...\n"
     ]
    },
    {
     "name": "stderr",
     "output_type": "stream",
     "text": [
      "Creating video: 100%|██████████| 126/126 [00:01<00:00, 83.69it/s]\n"
     ]
    },
    {
     "name": "stdout",
     "output_type": "stream",
     "text": [
      "Video created successfully: visualization/output/action_477/video/action_477.mp4\n",
      "Visualization completed for data/gamestate_output/action_477.json\n",
      "Frames saved to visualization/output/action_477/frames\n",
      "Video saved to visualization/output/action_477/video/action_477.mp4\n",
      "Processing 126 frames ...\n"
     ]
    },
    {
     "name": "stderr",
     "output_type": "stream",
     "text": [
      "Processing frames: 100%|██████████| 126/126 [00:03<00:00, 40.15it/s]\n"
     ]
    },
    {
     "name": "stdout",
     "output_type": "stream",
     "text": [
      "Completed! All frames saved to visualization/output/action_861/frames\n",
      "Creating video from 126 frames...\n"
     ]
    },
    {
     "name": "stderr",
     "output_type": "stream",
     "text": [
      "Creating video: 100%|██████████| 126/126 [00:01<00:00, 78.03it/s]\n"
     ]
    },
    {
     "name": "stdout",
     "output_type": "stream",
     "text": [
      "Video created successfully: visualization/output/action_861/video/action_861.mp4\n",
      "Visualization completed for data/gamestate_output/action_861.json\n",
      "Frames saved to visualization/output/action_861/frames\n",
      "Video saved to visualization/output/action_861/video/action_861.mp4\n",
      "Processing 126 frames ...\n"
     ]
    },
    {
     "name": "stderr",
     "output_type": "stream",
     "text": [
      "Processing frames: 100%|██████████| 126/126 [00:03<00:00, 40.86it/s]\n"
     ]
    },
    {
     "name": "stdout",
     "output_type": "stream",
     "text": [
      "Completed! All frames saved to visualization/output/action_2748/frames\n",
      "Creating video from 126 frames...\n"
     ]
    },
    {
     "name": "stderr",
     "output_type": "stream",
     "text": [
      "Creating video: 100%|██████████| 126/126 [00:01<00:00, 84.15it/s]\n"
     ]
    },
    {
     "name": "stdout",
     "output_type": "stream",
     "text": [
      "Video created successfully: visualization/output/action_2748/video/action_2748.mp4\n",
      "Visualization completed for data/gamestate_output/action_2748.json\n",
      "Frames saved to visualization/output/action_2748/frames\n",
      "Video saved to visualization/output/action_2748/video/action_2748.mp4\n",
      "Processing 126 frames ...\n"
     ]
    },
    {
     "name": "stderr",
     "output_type": "stream",
     "text": [
      "Processing frames: 100%|██████████| 126/126 [00:03<00:00, 35.33it/s]\n"
     ]
    },
    {
     "name": "stdout",
     "output_type": "stream",
     "text": [
      "Completed! All frames saved to visualization/output/action_359/frames\n",
      "Creating video from 126 frames...\n"
     ]
    },
    {
     "name": "stderr",
     "output_type": "stream",
     "text": [
      "Creating video: 100%|██████████| 126/126 [00:01<00:00, 83.41it/s]\n"
     ]
    },
    {
     "name": "stdout",
     "output_type": "stream",
     "text": [
      "Video created successfully: visualization/output/action_359/video/action_359.mp4\n",
      "Visualization completed for data/gamestate_output/action_359.json\n",
      "Frames saved to visualization/output/action_359/frames\n",
      "Video saved to visualization/output/action_359/video/action_359.mp4\n",
      "Processing 126 frames ...\n"
     ]
    },
    {
     "name": "stderr",
     "output_type": "stream",
     "text": [
      "Processing frames: 100%|██████████| 126/126 [00:02<00:00, 46.44it/s]\n"
     ]
    },
    {
     "name": "stdout",
     "output_type": "stream",
     "text": [
      "Completed! All frames saved to visualization/output/action_135/frames\n",
      "Creating video from 126 frames...\n"
     ]
    },
    {
     "name": "stderr",
     "output_type": "stream",
     "text": [
      "Creating video: 100%|██████████| 126/126 [00:01<00:00, 85.16it/s]\n"
     ]
    },
    {
     "name": "stdout",
     "output_type": "stream",
     "text": [
      "Video created successfully: visualization/output/action_135/video/action_135.mp4\n",
      "Visualization completed for data/gamestate_output/action_135.json\n",
      "Frames saved to visualization/output/action_135/frames\n",
      "Video saved to visualization/output/action_135/video/action_135.mp4\n",
      "Processing 126 frames ...\n"
     ]
    },
    {
     "name": "stderr",
     "output_type": "stream",
     "text": [
      "Processing frames: 100%|██████████| 126/126 [00:03<00:00, 41.37it/s]\n"
     ]
    },
    {
     "name": "stdout",
     "output_type": "stream",
     "text": [
      "Completed! All frames saved to visualization/output/action_1871/frames\n",
      "Creating video from 126 frames...\n"
     ]
    },
    {
     "name": "stderr",
     "output_type": "stream",
     "text": [
      "Creating video: 100%|██████████| 126/126 [00:01<00:00, 85.56it/s]\n"
     ]
    },
    {
     "name": "stdout",
     "output_type": "stream",
     "text": [
      "Video created successfully: visualization/output/action_1871/video/action_1871.mp4\n",
      "Visualization completed for data/gamestate_output/action_1871.json\n",
      "Frames saved to visualization/output/action_1871/frames\n",
      "Video saved to visualization/output/action_1871/video/action_1871.mp4\n",
      "Processing 126 frames ...\n"
     ]
    },
    {
     "name": "stderr",
     "output_type": "stream",
     "text": [
      "Processing frames: 100%|██████████| 126/126 [00:03<00:00, 41.84it/s]\n"
     ]
    },
    {
     "name": "stdout",
     "output_type": "stream",
     "text": [
      "Completed! All frames saved to visualization/output/action_1037/frames\n",
      "Creating video from 126 frames...\n"
     ]
    },
    {
     "name": "stderr",
     "output_type": "stream",
     "text": [
      "Creating video: 100%|██████████| 126/126 [00:01<00:00, 86.36it/s]\n"
     ]
    },
    {
     "name": "stdout",
     "output_type": "stream",
     "text": [
      "Video created successfully: visualization/output/action_1037/video/action_1037.mp4\n",
      "Visualization completed for data/gamestate_output/action_1037.json\n",
      "Frames saved to visualization/output/action_1037/frames\n",
      "Video saved to visualization/output/action_1037/video/action_1037.mp4\n",
      "Processing 126 frames ...\n"
     ]
    },
    {
     "name": "stderr",
     "output_type": "stream",
     "text": [
      "Processing frames: 100%|██████████| 126/126 [00:02<00:00, 42.18it/s]\n"
     ]
    },
    {
     "name": "stdout",
     "output_type": "stream",
     "text": [
      "Completed! All frames saved to visualization/output/action_2861/frames\n",
      "Creating video from 126 frames...\n"
     ]
    },
    {
     "name": "stderr",
     "output_type": "stream",
     "text": [
      "Creating video: 100%|██████████| 126/126 [00:01<00:00, 85.92it/s]\n"
     ]
    },
    {
     "name": "stdout",
     "output_type": "stream",
     "text": [
      "Video created successfully: visualization/output/action_2861/video/action_2861.mp4\n",
      "Visualization completed for data/gamestate_output/action_2861.json\n",
      "Frames saved to visualization/output/action_2861/frames\n",
      "Video saved to visualization/output/action_2861/video/action_2861.mp4\n",
      "Processing 126 frames ...\n"
     ]
    },
    {
     "name": "stderr",
     "output_type": "stream",
     "text": [
      "Processing frames: 100%|██████████| 126/126 [00:03<00:00, 36.35it/s]\n"
     ]
    },
    {
     "name": "stdout",
     "output_type": "stream",
     "text": [
      "Completed! All frames saved to visualization/output/action_573/frames\n",
      "Creating video from 126 frames...\n"
     ]
    },
    {
     "name": "stderr",
     "output_type": "stream",
     "text": [
      "Creating video: 100%|██████████| 126/126 [00:01<00:00, 86.00it/s]\n"
     ]
    },
    {
     "name": "stdout",
     "output_type": "stream",
     "text": [
      "Video created successfully: visualization/output/action_573/video/action_573.mp4\n",
      "Visualization completed for data/gamestate_output/action_573.json\n",
      "Frames saved to visualization/output/action_573/frames\n",
      "Video saved to visualization/output/action_573/video/action_573.mp4\n",
      "Processing 126 frames ...\n"
     ]
    },
    {
     "name": "stderr",
     "output_type": "stream",
     "text": [
      "Processing frames: 100%|██████████| 126/126 [00:03<00:00, 34.14it/s]\n"
     ]
    },
    {
     "name": "stdout",
     "output_type": "stream",
     "text": [
      "Completed! All frames saved to visualization/output/action_123/frames\n",
      "Creating video from 126 frames...\n"
     ]
    },
    {
     "name": "stderr",
     "output_type": "stream",
     "text": [
      "Creating video: 100%|██████████| 126/126 [00:01<00:00, 84.41it/s]\n"
     ]
    },
    {
     "name": "stdout",
     "output_type": "stream",
     "text": [
      "Video created successfully: visualization/output/action_123/video/action_123.mp4\n",
      "Visualization completed for data/gamestate_output/action_123.json\n",
      "Frames saved to visualization/output/action_123/frames\n",
      "Video saved to visualization/output/action_123/video/action_123.mp4\n",
      "Processing 126 frames ...\n"
     ]
    },
    {
     "name": "stderr",
     "output_type": "stream",
     "text": [
      "Processing frames: 100%|██████████| 126/126 [00:02<00:00, 48.98it/s]\n"
     ]
    },
    {
     "name": "stdout",
     "output_type": "stream",
     "text": [
      "Completed! All frames saved to visualization/output/action_1963/frames\n",
      "Creating video from 126 frames...\n"
     ]
    },
    {
     "name": "stderr",
     "output_type": "stream",
     "text": [
      "Creating video: 100%|██████████| 126/126 [00:01<00:00, 81.22it/s]\n"
     ]
    },
    {
     "name": "stdout",
     "output_type": "stream",
     "text": [
      "Video created successfully: visualization/output/action_1963/video/action_1963.mp4\n",
      "Visualization completed for data/gamestate_output/action_1963.json\n",
      "Frames saved to visualization/output/action_1963/frames\n",
      "Video saved to visualization/output/action_1963/video/action_1963.mp4\n",
      "Processing 126 frames ...\n"
     ]
    },
    {
     "name": "stderr",
     "output_type": "stream",
     "text": [
      "Processing frames: 100%|██████████| 126/126 [00:03<00:00, 36.93it/s]\n"
     ]
    },
    {
     "name": "stdout",
     "output_type": "stream",
     "text": [
      "Completed! All frames saved to visualization/output/action_748/frames\n",
      "Creating video from 126 frames...\n"
     ]
    },
    {
     "name": "stderr",
     "output_type": "stream",
     "text": [
      "Creating video: 100%|██████████| 126/126 [00:01<00:00, 80.88it/s]\n"
     ]
    },
    {
     "name": "stdout",
     "output_type": "stream",
     "text": [
      "Video created successfully: visualization/output/action_748/video/action_748.mp4\n",
      "Visualization completed for data/gamestate_output/action_748.json\n",
      "Frames saved to visualization/output/action_748/frames\n",
      "Video saved to visualization/output/action_748/video/action_748.mp4\n",
      "Processing 126 frames ...\n"
     ]
    },
    {
     "name": "stderr",
     "output_type": "stream",
     "text": [
      "Processing frames: 100%|██████████| 126/126 [00:03<00:00, 37.03it/s]\n"
     ]
    },
    {
     "name": "stdout",
     "output_type": "stream",
     "text": [
      "Completed! All frames saved to visualization/output/action_461/frames\n",
      "Creating video from 126 frames...\n"
     ]
    },
    {
     "name": "stderr",
     "output_type": "stream",
     "text": [
      "Creating video: 100%|██████████| 126/126 [00:01<00:00, 86.89it/s]\n"
     ]
    },
    {
     "name": "stdout",
     "output_type": "stream",
     "text": [
      "Video created successfully: visualization/output/action_461/video/action_461.mp4\n",
      "Visualization completed for data/gamestate_output/action_461.json\n",
      "Frames saved to visualization/output/action_461/frames\n",
      "Video saved to visualization/output/action_461/video/action_461.mp4\n",
      "Processing 126 frames ...\n"
     ]
    },
    {
     "name": "stderr",
     "output_type": "stream",
     "text": [
      "Processing frames: 100%|██████████| 126/126 [00:03<00:00, 41.70it/s]\n"
     ]
    },
    {
     "name": "stdout",
     "output_type": "stream",
     "text": [
      "Completed! All frames saved to visualization/output/action_2836/frames\n",
      "Creating video from 126 frames...\n"
     ]
    },
    {
     "name": "stderr",
     "output_type": "stream",
     "text": [
      "Creating video: 100%|██████████| 126/126 [00:01<00:00, 80.13it/s]\n"
     ]
    },
    {
     "name": "stdout",
     "output_type": "stream",
     "text": [
      "Video created successfully: visualization/output/action_2836/video/action_2836.mp4\n",
      "Visualization completed for data/gamestate_output/action_2836.json\n",
      "Frames saved to visualization/output/action_2836/frames\n",
      "Video saved to visualization/output/action_2836/video/action_2836.mp4\n",
      "Processing 126 frames ...\n"
     ]
    },
    {
     "name": "stderr",
     "output_type": "stream",
     "text": [
      "Processing frames: 100%|██████████| 126/126 [00:02<00:00, 45.48it/s]\n"
     ]
    },
    {
     "name": "stdout",
     "output_type": "stream",
     "text": [
      "Completed! All frames saved to visualization/output/action_2904/frames\n",
      "Creating video from 126 frames...\n"
     ]
    },
    {
     "name": "stderr",
     "output_type": "stream",
     "text": [
      "Creating video: 100%|██████████| 126/126 [00:01<00:00, 81.65it/s]\n"
     ]
    },
    {
     "name": "stdout",
     "output_type": "stream",
     "text": [
      "Video created successfully: visualization/output/action_2904/video/action_2904.mp4\n",
      "Visualization completed for data/gamestate_output/action_2904.json\n",
      "Frames saved to visualization/output/action_2904/frames\n",
      "Video saved to visualization/output/action_2904/video/action_2904.mp4\n",
      "Processing 126 frames ...\n"
     ]
    },
    {
     "name": "stderr",
     "output_type": "stream",
     "text": [
      "Processing frames: 100%|██████████| 126/126 [00:02<00:00, 43.98it/s]\n"
     ]
    },
    {
     "name": "stdout",
     "output_type": "stream",
     "text": [
      "Completed! All frames saved to visualization/output/action_2841/frames\n",
      "Creating video from 126 frames...\n"
     ]
    },
    {
     "name": "stderr",
     "output_type": "stream",
     "text": [
      "Creating video: 100%|██████████| 126/126 [00:01<00:00, 87.60it/s]\n"
     ]
    },
    {
     "name": "stdout",
     "output_type": "stream",
     "text": [
      "Video created successfully: visualization/output/action_2841/video/action_2841.mp4\n",
      "Visualization completed for data/gamestate_output/action_2841.json\n",
      "Frames saved to visualization/output/action_2841/frames\n",
      "Video saved to visualization/output/action_2841/video/action_2841.mp4\n",
      "Processing 126 frames ...\n"
     ]
    },
    {
     "name": "stderr",
     "output_type": "stream",
     "text": [
      "Processing frames: 100%|██████████| 126/126 [00:03<00:00, 40.18it/s]\n"
     ]
    },
    {
     "name": "stdout",
     "output_type": "stream",
     "text": [
      "Completed! All frames saved to visualization/output/action_504/frames\n",
      "Creating video from 126 frames...\n"
     ]
    },
    {
     "name": "stderr",
     "output_type": "stream",
     "text": [
      "Creating video: 100%|██████████| 126/126 [00:01<00:00, 82.68it/s]\n"
     ]
    },
    {
     "name": "stdout",
     "output_type": "stream",
     "text": [
      "Video created successfully: visualization/output/action_504/video/action_504.mp4\n",
      "Visualization completed for data/gamestate_output/action_504.json\n",
      "Frames saved to visualization/output/action_504/frames\n",
      "Video saved to visualization/output/action_504/video/action_504.mp4\n",
      "Processing 126 frames ...\n"
     ]
    },
    {
     "name": "stderr",
     "output_type": "stream",
     "text": [
      "Processing frames: 100%|██████████| 126/126 [00:03<00:00, 40.76it/s]\n"
     ]
    },
    {
     "name": "stdout",
     "output_type": "stream",
     "text": [
      "Completed! All frames saved to visualization/output/action_1943/frames\n",
      "Creating video from 126 frames...\n"
     ]
    },
    {
     "name": "stderr",
     "output_type": "stream",
     "text": [
      "Creating video: 100%|██████████| 126/126 [00:01<00:00, 81.85it/s]\n"
     ]
    },
    {
     "name": "stdout",
     "output_type": "stream",
     "text": [
      "Video created successfully: visualization/output/action_1943/video/action_1943.mp4\n",
      "Visualization completed for data/gamestate_output/action_1943.json\n",
      "Frames saved to visualization/output/action_1943/frames\n",
      "Video saved to visualization/output/action_1943/video/action_1943.mp4\n",
      "Processing 126 frames ...\n"
     ]
    },
    {
     "name": "stderr",
     "output_type": "stream",
     "text": [
      "Processing frames: 100%|██████████| 126/126 [00:02<00:00, 44.88it/s]\n"
     ]
    },
    {
     "name": "stdout",
     "output_type": "stream",
     "text": [
      "Completed! All frames saved to visualization/output/action_338/frames\n",
      "Creating video from 126 frames...\n"
     ]
    },
    {
     "name": "stderr",
     "output_type": "stream",
     "text": [
      "Creating video: 100%|██████████| 126/126 [00:01<00:00, 80.10it/s]\n"
     ]
    },
    {
     "name": "stdout",
     "output_type": "stream",
     "text": [
      "Video created successfully: visualization/output/action_338/video/action_338.mp4\n",
      "Visualization completed for data/gamestate_output/action_338.json\n",
      "Frames saved to visualization/output/action_338/frames\n",
      "Video saved to visualization/output/action_338/video/action_338.mp4\n",
      "Processing 126 frames ...\n"
     ]
    },
    {
     "name": "stderr",
     "output_type": "stream",
     "text": [
      "Processing frames: 100%|██████████| 126/126 [00:03<00:00, 36.32it/s]\n"
     ]
    },
    {
     "name": "stdout",
     "output_type": "stream",
     "text": [
      "Completed! All frames saved to visualization/output/action_1806/frames\n",
      "Creating video from 126 frames...\n"
     ]
    },
    {
     "name": "stderr",
     "output_type": "stream",
     "text": [
      "Creating video: 100%|██████████| 126/126 [00:01<00:00, 82.27it/s]\n"
     ]
    },
    {
     "name": "stdout",
     "output_type": "stream",
     "text": [
      "Video created successfully: visualization/output/action_1806/video/action_1806.mp4\n",
      "Visualization completed for data/gamestate_output/action_1806.json\n",
      "Frames saved to visualization/output/action_1806/frames\n",
      "Video saved to visualization/output/action_1806/video/action_1806.mp4\n",
      "Processing 126 frames ...\n"
     ]
    },
    {
     "name": "stderr",
     "output_type": "stream",
     "text": [
      "Processing frames: 100%|██████████| 126/126 [00:03<00:00, 33.03it/s]\n"
     ]
    },
    {
     "name": "stdout",
     "output_type": "stream",
     "text": [
      "Completed! All frames saved to visualization/output/action_2683/frames\n",
      "Creating video from 126 frames...\n"
     ]
    },
    {
     "name": "stderr",
     "output_type": "stream",
     "text": [
      "Creating video: 100%|██████████| 126/126 [00:01<00:00, 84.70it/s]\n"
     ]
    },
    {
     "name": "stdout",
     "output_type": "stream",
     "text": [
      "Video created successfully: visualization/output/action_2683/video/action_2683.mp4\n",
      "Visualization completed for data/gamestate_output/action_2683.json\n",
      "Frames saved to visualization/output/action_2683/frames\n",
      "Video saved to visualization/output/action_2683/video/action_2683.mp4\n",
      "Processing 126 frames ...\n"
     ]
    },
    {
     "name": "stderr",
     "output_type": "stream",
     "text": [
      "Processing frames: 100%|██████████| 126/126 [00:03<00:00, 40.54it/s]\n"
     ]
    },
    {
     "name": "stdout",
     "output_type": "stream",
     "text": [
      "Completed! All frames saved to visualization/output/action_1390/frames\n",
      "Creating video from 126 frames...\n"
     ]
    },
    {
     "name": "stderr",
     "output_type": "stream",
     "text": [
      "Creating video: 100%|██████████| 126/126 [00:01<00:00, 83.57it/s]\n"
     ]
    },
    {
     "name": "stdout",
     "output_type": "stream",
     "text": [
      "Video created successfully: visualization/output/action_1390/video/action_1390.mp4\n",
      "Visualization completed for data/gamestate_output/action_1390.json\n",
      "Frames saved to visualization/output/action_1390/frames\n",
      "Video saved to visualization/output/action_1390/video/action_1390.mp4\n",
      "Processing 126 frames ...\n"
     ]
    },
    {
     "name": "stderr",
     "output_type": "stream",
     "text": [
      "Processing frames: 100%|██████████| 126/126 [00:02<00:00, 45.77it/s]\n"
     ]
    },
    {
     "name": "stdout",
     "output_type": "stream",
     "text": [
      "Completed! All frames saved to visualization/output/action_1685/frames\n",
      "Creating video from 126 frames...\n"
     ]
    },
    {
     "name": "stderr",
     "output_type": "stream",
     "text": [
      "Creating video: 100%|██████████| 126/126 [00:01<00:00, 83.93it/s]\n"
     ]
    },
    {
     "name": "stdout",
     "output_type": "stream",
     "text": [
      "Video created successfully: visualization/output/action_1685/video/action_1685.mp4\n",
      "Visualization completed for data/gamestate_output/action_1685.json\n",
      "Frames saved to visualization/output/action_1685/frames\n",
      "Video saved to visualization/output/action_1685/video/action_1685.mp4\n",
      "Processing 126 frames ...\n"
     ]
    },
    {
     "name": "stderr",
     "output_type": "stream",
     "text": [
      "Processing frames: 100%|██████████| 126/126 [00:03<00:00, 36.14it/s]\n"
     ]
    },
    {
     "name": "stdout",
     "output_type": "stream",
     "text": [
      "Completed! All frames saved to visualization/output/action_1113/frames\n",
      "Creating video from 126 frames...\n"
     ]
    },
    {
     "name": "stderr",
     "output_type": "stream",
     "text": [
      "Creating video: 100%|██████████| 126/126 [00:01<00:00, 84.69it/s]\n"
     ]
    },
    {
     "name": "stdout",
     "output_type": "stream",
     "text": [
      "Video created successfully: visualization/output/action_1113/video/action_1113.mp4\n",
      "Visualization completed for data/gamestate_output/action_1113.json\n",
      "Frames saved to visualization/output/action_1113/frames\n",
      "Video saved to visualization/output/action_1113/video/action_1113.mp4\n",
      "Processing 126 frames ...\n"
     ]
    },
    {
     "name": "stderr",
     "output_type": "stream",
     "text": [
      "Processing frames: 100%|██████████| 126/126 [00:03<00:00, 38.05it/s]\n"
     ]
    },
    {
     "name": "stdout",
     "output_type": "stream",
     "text": [
      "Completed! All frames saved to visualization/output/action_400/frames\n",
      "Creating video from 126 frames...\n"
     ]
    },
    {
     "name": "stderr",
     "output_type": "stream",
     "text": [
      "Creating video: 100%|██████████| 126/126 [00:01<00:00, 83.98it/s]\n"
     ]
    },
    {
     "name": "stdout",
     "output_type": "stream",
     "text": [
      "Video created successfully: visualization/output/action_400/video/action_400.mp4\n",
      "Visualization completed for data/gamestate_output/action_400.json\n",
      "Frames saved to visualization/output/action_400/frames\n",
      "Video saved to visualization/output/action_400/video/action_400.mp4\n",
      "Processing 126 frames ...\n"
     ]
    },
    {
     "name": "stderr",
     "output_type": "stream",
     "text": [
      "Processing frames: 100%|██████████| 126/126 [00:03<00:00, 37.00it/s]\n"
     ]
    },
    {
     "name": "stdout",
     "output_type": "stream",
     "text": [
      "Completed! All frames saved to visualization/output/action_2857/frames\n",
      "Creating video from 126 frames...\n"
     ]
    },
    {
     "name": "stderr",
     "output_type": "stream",
     "text": [
      "Creating video: 100%|██████████| 126/126 [00:01<00:00, 79.55it/s]\n"
     ]
    },
    {
     "name": "stdout",
     "output_type": "stream",
     "text": [
      "Video created successfully: visualization/output/action_2857/video/action_2857.mp4\n",
      "Visualization completed for data/gamestate_output/action_2857.json\n",
      "Frames saved to visualization/output/action_2857/frames\n",
      "Video saved to visualization/output/action_2857/video/action_2857.mp4\n",
      "Processing 126 frames ...\n"
     ]
    },
    {
     "name": "stderr",
     "output_type": "stream",
     "text": [
      "Processing frames: 100%|██████████| 126/126 [00:02<00:00, 42.09it/s]\n"
     ]
    },
    {
     "name": "stdout",
     "output_type": "stream",
     "text": [
      "Completed! All frames saved to visualization/output/action_1778/frames\n",
      "Creating video from 126 frames...\n"
     ]
    },
    {
     "name": "stderr",
     "output_type": "stream",
     "text": [
      "Creating video: 100%|██████████| 126/126 [00:01<00:00, 77.46it/s]\n"
     ]
    },
    {
     "name": "stdout",
     "output_type": "stream",
     "text": [
      "Video created successfully: visualization/output/action_1778/video/action_1778.mp4\n",
      "Visualization completed for data/gamestate_output/action_1778.json\n",
      "Frames saved to visualization/output/action_1778/frames\n",
      "Video saved to visualization/output/action_1778/video/action_1778.mp4\n",
      "Processing 126 frames ...\n"
     ]
    },
    {
     "name": "stderr",
     "output_type": "stream",
     "text": [
      "Processing frames: 100%|██████████| 126/126 [00:02<00:00, 42.76it/s]\n"
     ]
    },
    {
     "name": "stdout",
     "output_type": "stream",
     "text": [
      "Completed! All frames saved to visualization/output/action_2085/frames\n",
      "Creating video from 126 frames...\n"
     ]
    },
    {
     "name": "stderr",
     "output_type": "stream",
     "text": [
      "Creating video: 100%|██████████| 126/126 [00:01<00:00, 83.39it/s]\n"
     ]
    },
    {
     "name": "stdout",
     "output_type": "stream",
     "text": [
      "Video created successfully: visualization/output/action_2085/video/action_2085.mp4\n",
      "Visualization completed for data/gamestate_output/action_2085.json\n",
      "Frames saved to visualization/output/action_2085/frames\n",
      "Video saved to visualization/output/action_2085/video/action_2085.mp4\n",
      "Processing 126 frames ...\n"
     ]
    },
    {
     "name": "stderr",
     "output_type": "stream",
     "text": [
      "Processing frames: 100%|██████████| 126/126 [00:02<00:00, 42.96it/s]\n"
     ]
    },
    {
     "name": "stdout",
     "output_type": "stream",
     "text": [
      "Completed! All frames saved to visualization/output/action_2590/frames\n",
      "Creating video from 126 frames...\n"
     ]
    },
    {
     "name": "stderr",
     "output_type": "stream",
     "text": [
      "Creating video: 100%|██████████| 126/126 [00:01<00:00, 86.80it/s]\n"
     ]
    },
    {
     "name": "stdout",
     "output_type": "stream",
     "text": [
      "Video created successfully: visualization/output/action_2590/video/action_2590.mp4\n",
      "Visualization completed for data/gamestate_output/action_2590.json\n",
      "Frames saved to visualization/output/action_2590/frames\n",
      "Video saved to visualization/output/action_2590/video/action_2590.mp4\n",
      "Processing 126 frames ...\n"
     ]
    },
    {
     "name": "stderr",
     "output_type": "stream",
     "text": [
      "Processing frames: 100%|██████████| 126/126 [00:03<00:00, 38.44it/s]\n"
     ]
    },
    {
     "name": "stdout",
     "output_type": "stream",
     "text": [
      "Completed! All frames saved to visualization/output/action_2656/frames\n",
      "Creating video from 126 frames...\n"
     ]
    },
    {
     "name": "stderr",
     "output_type": "stream",
     "text": [
      "Creating video: 100%|██████████| 126/126 [00:01<00:00, 86.32it/s]\n"
     ]
    },
    {
     "name": "stdout",
     "output_type": "stream",
     "text": [
      "Video created successfully: visualization/output/action_2656/video/action_2656.mp4\n",
      "Visualization completed for data/gamestate_output/action_2656.json\n",
      "Frames saved to visualization/output/action_2656/frames\n",
      "Video saved to visualization/output/action_2656/video/action_2656.mp4\n",
      "Processing 126 frames ...\n"
     ]
    },
    {
     "name": "stderr",
     "output_type": "stream",
     "text": [
      "Processing frames: 100%|██████████| 126/126 [00:02<00:00, 52.38it/s]\n"
     ]
    },
    {
     "name": "stdout",
     "output_type": "stream",
     "text": [
      "Completed! All frames saved to visualization/output/action_1304/frames\n",
      "Creating video from 126 frames...\n"
     ]
    },
    {
     "name": "stderr",
     "output_type": "stream",
     "text": [
      "Creating video: 100%|██████████| 126/126 [00:01<00:00, 84.40it/s]\n"
     ]
    },
    {
     "name": "stdout",
     "output_type": "stream",
     "text": [
      "Video created successfully: visualization/output/action_1304/video/action_1304.mp4\n",
      "Visualization completed for data/gamestate_output/action_1304.json\n",
      "Frames saved to visualization/output/action_1304/frames\n",
      "Video saved to visualization/output/action_1304/video/action_1304.mp4\n",
      "Processing 126 frames ...\n"
     ]
    },
    {
     "name": "stderr",
     "output_type": "stream",
     "text": [
      "Processing frames: 100%|██████████| 126/126 [00:02<00:00, 50.41it/s]\n"
     ]
    },
    {
     "name": "stdout",
     "output_type": "stream",
     "text": [
      "Completed! All frames saved to visualization/output/action_2197/frames\n",
      "Creating video from 126 frames...\n"
     ]
    },
    {
     "name": "stderr",
     "output_type": "stream",
     "text": [
      "Creating video: 100%|██████████| 126/126 [00:01<00:00, 85.17it/s]\n"
     ]
    },
    {
     "name": "stdout",
     "output_type": "stream",
     "text": [
      "Video created successfully: visualization/output/action_2197/video/action_2197.mp4\n",
      "Visualization completed for data/gamestate_output/action_2197.json\n",
      "Frames saved to visualization/output/action_2197/frames\n",
      "Video saved to visualization/output/action_2197/video/action_2197.mp4\n",
      "Processing 126 frames ...\n"
     ]
    },
    {
     "name": "stderr",
     "output_type": "stream",
     "text": [
      "Processing frames: 100%|██████████| 126/126 [00:02<00:00, 46.05it/s]\n"
     ]
    },
    {
     "name": "stdout",
     "output_type": "stream",
     "text": [
      "Completed! All frames saved to visualization/output/action_1611/frames\n",
      "Creating video from 126 frames...\n"
     ]
    },
    {
     "name": "stderr",
     "output_type": "stream",
     "text": [
      "Creating video: 100%|██████████| 126/126 [00:01<00:00, 85.42it/s]\n"
     ]
    },
    {
     "name": "stdout",
     "output_type": "stream",
     "text": [
      "Video created successfully: visualization/output/action_1611/video/action_1611.mp4\n",
      "Visualization completed for data/gamestate_output/action_1611.json\n",
      "Frames saved to visualization/output/action_1611/frames\n",
      "Video saved to visualization/output/action_1611/video/action_1611.mp4\n",
      "Processing 126 frames ...\n"
     ]
    },
    {
     "name": "stderr",
     "output_type": "stream",
     "text": [
      "Processing frames: 100%|██████████| 126/126 [00:03<00:00, 40.89it/s]\n"
     ]
    },
    {
     "name": "stdout",
     "output_type": "stream",
     "text": [
      "Completed! All frames saved to visualization/output/action_21/frames\n",
      "Creating video from 126 frames...\n"
     ]
    },
    {
     "name": "stderr",
     "output_type": "stream",
     "text": [
      "Creating video: 100%|██████████| 126/126 [00:01<00:00, 83.60it/s]\n"
     ]
    },
    {
     "name": "stdout",
     "output_type": "stream",
     "text": [
      "Video created successfully: visualization/output/action_21/video/action_21.mp4\n",
      "Visualization completed for data/gamestate_output/action_21.json\n",
      "Frames saved to visualization/output/action_21/frames\n",
      "Video saved to visualization/output/action_21/video/action_21.mp4\n",
      "Processing 126 frames ...\n"
     ]
    },
    {
     "name": "stderr",
     "output_type": "stream",
     "text": [
      "Processing frames: 100%|██████████| 126/126 [00:02<00:00, 50.25it/s]\n"
     ]
    },
    {
     "name": "stdout",
     "output_type": "stream",
     "text": [
      "Completed! All frames saved to visualization/output/action_1492/frames\n",
      "Creating video from 126 frames...\n"
     ]
    },
    {
     "name": "stderr",
     "output_type": "stream",
     "text": [
      "Creating video: 100%|██████████| 126/126 [00:01<00:00, 77.97it/s]\n"
     ]
    },
    {
     "name": "stdout",
     "output_type": "stream",
     "text": [
      "Video created successfully: visualization/output/action_1492/video/action_1492.mp4\n",
      "Visualization completed for data/gamestate_output/action_1492.json\n",
      "Frames saved to visualization/output/action_1492/frames\n",
      "Video saved to visualization/output/action_1492/video/action_1492.mp4\n",
      "Processing 126 frames ...\n"
     ]
    },
    {
     "name": "stderr",
     "output_type": "stream",
     "text": [
      "Processing frames: 100%|██████████| 126/126 [00:02<00:00, 43.07it/s]\n"
     ]
    },
    {
     "name": "stdout",
     "output_type": "stream",
     "text": [
      "Completed! All frames saved to visualization/output/action_2752/frames\n",
      "Creating video from 126 frames...\n"
     ]
    },
    {
     "name": "stderr",
     "output_type": "stream",
     "text": [
      "Creating video: 100%|██████████| 126/126 [00:01<00:00, 86.00it/s]\n"
     ]
    },
    {
     "name": "stdout",
     "output_type": "stream",
     "text": [
      "Video created successfully: visualization/output/action_2752/video/action_2752.mp4\n",
      "Visualization completed for data/gamestate_output/action_2752.json\n",
      "Frames saved to visualization/output/action_2752/frames\n",
      "Video saved to visualization/output/action_2752/video/action_2752.mp4\n",
      "Processing 126 frames ...\n"
     ]
    },
    {
     "name": "stderr",
     "output_type": "stream",
     "text": [
      "Processing frames: 100%|██████████| 126/126 [00:03<00:00, 41.92it/s]\n"
     ]
    },
    {
     "name": "stdout",
     "output_type": "stream",
     "text": [
      "Completed! All frames saved to visualization/output/action_713/frames\n",
      "Creating video from 126 frames...\n"
     ]
    },
    {
     "name": "stderr",
     "output_type": "stream",
     "text": [
      "Creating video: 100%|██████████| 126/126 [00:01<00:00, 79.32it/s]\n"
     ]
    },
    {
     "name": "stdout",
     "output_type": "stream",
     "text": [
      "Video created successfully: visualization/output/action_713/video/action_713.mp4\n",
      "Visualization completed for data/gamestate_output/action_713.json\n",
      "Frames saved to visualization/output/action_713/frames\n",
      "Video saved to visualization/output/action_713/video/action_713.mp4\n",
      "Processing 126 frames ...\n"
     ]
    },
    {
     "name": "stderr",
     "output_type": "stream",
     "text": [
      "Processing frames: 100%|██████████| 126/126 [00:03<00:00, 37.77it/s]\n"
     ]
    },
    {
     "name": "stdout",
     "output_type": "stream",
     "text": [
      "Completed! All frames saved to visualization/output/action_2705/frames\n",
      "Creating video from 126 frames...\n"
     ]
    },
    {
     "name": "stderr",
     "output_type": "stream",
     "text": [
      "Creating video: 100%|██████████| 126/126 [00:01<00:00, 81.90it/s]\n"
     ]
    },
    {
     "name": "stdout",
     "output_type": "stream",
     "text": [
      "Video created successfully: visualization/output/action_2705/video/action_2705.mp4\n",
      "Visualization completed for data/gamestate_output/action_2705.json\n",
      "Frames saved to visualization/output/action_2705/frames\n",
      "Video saved to visualization/output/action_2705/video/action_2705.mp4\n",
      "Processing 126 frames ...\n"
     ]
    },
    {
     "name": "stderr",
     "output_type": "stream",
     "text": [
      "Processing frames: 100%|██████████| 126/126 [00:03<00:00, 41.73it/s]\n"
     ]
    },
    {
     "name": "stdout",
     "output_type": "stream",
     "text": [
      "Completed! All frames saved to visualization/output/action_2354/frames\n",
      "Creating video from 126 frames...\n"
     ]
    },
    {
     "name": "stderr",
     "output_type": "stream",
     "text": [
      "Creating video: 100%|██████████| 126/126 [00:01<00:00, 81.97it/s]\n"
     ]
    },
    {
     "name": "stdout",
     "output_type": "stream",
     "text": [
      "Video created successfully: visualization/output/action_2354/video/action_2354.mp4\n",
      "Visualization completed for data/gamestate_output/action_2354.json\n",
      "Frames saved to visualization/output/action_2354/frames\n",
      "Video saved to visualization/output/action_2354/video/action_2354.mp4\n",
      "Processing 126 frames ...\n"
     ]
    },
    {
     "name": "stderr",
     "output_type": "stream",
     "text": [
      "Processing frames: 100%|██████████| 126/126 [00:02<00:00, 44.41it/s]\n"
     ]
    },
    {
     "name": "stdout",
     "output_type": "stream",
     "text": [
      "Completed! All frames saved to visualization/output/action_745/frames\n",
      "Creating video from 126 frames...\n"
     ]
    },
    {
     "name": "stderr",
     "output_type": "stream",
     "text": [
      "Creating video: 100%|██████████| 126/126 [00:01<00:00, 77.11it/s]\n"
     ]
    },
    {
     "name": "stdout",
     "output_type": "stream",
     "text": [
      "Video created successfully: visualization/output/action_745/video/action_745.mp4\n",
      "Visualization completed for data/gamestate_output/action_745.json\n",
      "Frames saved to visualization/output/action_745/frames\n",
      "Video saved to visualization/output/action_745/video/action_745.mp4\n",
      "Processing 126 frames ...\n"
     ]
    },
    {
     "name": "stderr",
     "output_type": "stream",
     "text": [
      "Processing frames: 100%|██████████| 126/126 [00:03<00:00, 40.61it/s]\n"
     ]
    },
    {
     "name": "stdout",
     "output_type": "stream",
     "text": [
      "Completed! All frames saved to visualization/output/action_2092/frames\n",
      "Creating video from 126 frames...\n"
     ]
    },
    {
     "name": "stderr",
     "output_type": "stream",
     "text": [
      "Creating video: 100%|██████████| 126/126 [00:01<00:00, 87.62it/s]\n"
     ]
    },
    {
     "name": "stdout",
     "output_type": "stream",
     "text": [
      "Video created successfully: visualization/output/action_2092/video/action_2092.mp4\n",
      "Visualization completed for data/gamestate_output/action_2092.json\n",
      "Frames saved to visualization/output/action_2092/frames\n",
      "Video saved to visualization/output/action_2092/video/action_2092.mp4\n",
      "Processing 126 frames ...\n"
     ]
    },
    {
     "name": "stderr",
     "output_type": "stream",
     "text": [
      "Processing frames: 100%|██████████| 126/126 [00:02<00:00, 46.22it/s]\n"
     ]
    },
    {
     "name": "stdout",
     "output_type": "stream",
     "text": [
      "Completed! All frames saved to visualization/output/action_2568/frames\n",
      "Creating video from 126 frames...\n"
     ]
    },
    {
     "name": "stderr",
     "output_type": "stream",
     "text": [
      "Creating video: 100%|██████████| 126/126 [00:01<00:00, 86.80it/s]\n"
     ]
    },
    {
     "name": "stdout",
     "output_type": "stream",
     "text": [
      "Video created successfully: visualization/output/action_2568/video/action_2568.mp4\n",
      "Visualization completed for data/gamestate_output/action_2568.json\n",
      "Frames saved to visualization/output/action_2568/frames\n",
      "Video saved to visualization/output/action_2568/video/action_2568.mp4\n",
      "Processing 126 frames ...\n"
     ]
    },
    {
     "name": "stderr",
     "output_type": "stream",
     "text": [
      "Processing frames: 100%|██████████| 126/126 [00:03<00:00, 38.92it/s]\n"
     ]
    },
    {
     "name": "stdout",
     "output_type": "stream",
     "text": [
      "Completed! All frames saved to visualization/output/action_1485/frames\n",
      "Creating video from 126 frames...\n"
     ]
    },
    {
     "name": "stderr",
     "output_type": "stream",
     "text": [
      "Creating video: 100%|██████████| 126/126 [00:01<00:00, 79.06it/s]\n"
     ]
    },
    {
     "name": "stdout",
     "output_type": "stream",
     "text": [
      "Video created successfully: visualization/output/action_1485/video/action_1485.mp4\n",
      "Visualization completed for data/gamestate_output/action_1485.json\n",
      "Frames saved to visualization/output/action_1485/frames\n",
      "Video saved to visualization/output/action_1485/video/action_1485.mp4\n",
      "Processing 126 frames ...\n"
     ]
    },
    {
     "name": "stderr",
     "output_type": "stream",
     "text": [
      "Processing frames: 100%|██████████| 126/126 [00:02<00:00, 46.03it/s]\n"
     ]
    },
    {
     "name": "stdout",
     "output_type": "stream",
     "text": [
      "Completed! All frames saved to visualization/output/action_36/frames\n",
      "Creating video from 126 frames...\n"
     ]
    },
    {
     "name": "stderr",
     "output_type": "stream",
     "text": [
      "Creating video: 100%|██████████| 126/126 [00:01<00:00, 81.73it/s]\n"
     ]
    },
    {
     "name": "stdout",
     "output_type": "stream",
     "text": [
      "Video created successfully: visualization/output/action_36/video/action_36.mp4\n",
      "Visualization completed for data/gamestate_output/action_36.json\n",
      "Frames saved to visualization/output/action_36/frames\n",
      "Video saved to visualization/output/action_36/video/action_36.mp4\n",
      "Processing 126 frames ...\n"
     ]
    },
    {
     "name": "stderr",
     "output_type": "stream",
     "text": [
      "Processing frames: 100%|██████████| 126/126 [00:03<00:00, 39.36it/s]\n"
     ]
    },
    {
     "name": "stdout",
     "output_type": "stream",
     "text": [
      "Completed! All frames saved to visualization/output/action_2616/frames\n",
      "Creating video from 126 frames...\n"
     ]
    },
    {
     "name": "stderr",
     "output_type": "stream",
     "text": [
      "Creating video: 100%|██████████| 126/126 [00:01<00:00, 83.67it/s]\n"
     ]
    },
    {
     "name": "stdout",
     "output_type": "stream",
     "text": [
      "Video created successfully: visualization/output/action_2616/video/action_2616.mp4\n",
      "Visualization completed for data/gamestate_output/action_2616.json\n",
      "Frames saved to visualization/output/action_2616/frames\n",
      "Video saved to visualization/output/action_2616/video/action_2616.mp4\n",
      "Processing 126 frames ...\n"
     ]
    },
    {
     "name": "stderr",
     "output_type": "stream",
     "text": [
      "Processing frames: 100%|██████████| 126/126 [00:03<00:00, 40.62it/s]\n"
     ]
    },
    {
     "name": "stdout",
     "output_type": "stream",
     "text": [
      "Completed! All frames saved to visualization/output/action_20/frames\n",
      "Creating video from 126 frames...\n"
     ]
    },
    {
     "name": "stderr",
     "output_type": "stream",
     "text": [
      "Creating video: 100%|██████████| 126/126 [00:01<00:00, 81.49it/s]\n"
     ]
    },
    {
     "name": "stdout",
     "output_type": "stream",
     "text": [
      "Video created successfully: visualization/output/action_20/video/action_20.mp4\n",
      "Visualization completed for data/gamestate_output/action_20.json\n",
      "Frames saved to visualization/output/action_20/frames\n",
      "Video saved to visualization/output/action_20/video/action_20.mp4\n",
      "Processing 126 frames ...\n"
     ]
    },
    {
     "name": "stderr",
     "output_type": "stream",
     "text": [
      "Processing frames: 100%|██████████| 126/126 [00:03<00:00, 41.95it/s]\n"
     ]
    },
    {
     "name": "stdout",
     "output_type": "stream",
     "text": [
      "Completed! All frames saved to visualization/output/action_704/frames\n",
      "Creating video from 126 frames...\n"
     ]
    },
    {
     "name": "stderr",
     "output_type": "stream",
     "text": [
      "Creating video: 100%|██████████| 126/126 [00:01<00:00, 80.23it/s]\n"
     ]
    },
    {
     "name": "stdout",
     "output_type": "stream",
     "text": [
      "Video created successfully: visualization/output/action_704/video/action_704.mp4\n",
      "Visualization completed for data/gamestate_output/action_704.json\n",
      "Frames saved to visualization/output/action_704/frames\n",
      "Video saved to visualization/output/action_704/video/action_704.mp4\n",
      "Processing 126 frames ...\n"
     ]
    },
    {
     "name": "stderr",
     "output_type": "stream",
     "text": [
      "Processing frames: 100%|██████████| 126/126 [00:03<00:00, 37.40it/s]\n"
     ]
    },
    {
     "name": "stdout",
     "output_type": "stream",
     "text": [
      "Completed! All frames saved to visualization/output/action_587/frames\n",
      "Creating video from 126 frames...\n"
     ]
    },
    {
     "name": "stderr",
     "output_type": "stream",
     "text": [
      "Creating video: 100%|██████████| 126/126 [00:01<00:00, 82.17it/s]\n"
     ]
    },
    {
     "name": "stdout",
     "output_type": "stream",
     "text": [
      "Video created successfully: visualization/output/action_587/video/action_587.mp4\n",
      "Visualization completed for data/gamestate_output/action_587.json\n",
      "Frames saved to visualization/output/action_587/frames\n",
      "Video saved to visualization/output/action_587/video/action_587.mp4\n",
      "Processing 126 frames ...\n"
     ]
    },
    {
     "name": "stderr",
     "output_type": "stream",
     "text": [
      "Processing frames: 100%|██████████| 126/126 [00:03<00:00, 34.46it/s]\n"
     ]
    },
    {
     "name": "stdout",
     "output_type": "stream",
     "text": [
      "Completed! All frames saved to visualization/output/action_568/frames\n",
      "Creating video from 126 frames...\n"
     ]
    },
    {
     "name": "stderr",
     "output_type": "stream",
     "text": [
      "Creating video: 100%|██████████| 126/126 [00:01<00:00, 77.92it/s]\n"
     ]
    },
    {
     "name": "stdout",
     "output_type": "stream",
     "text": [
      "Video created successfully: visualization/output/action_568/video/action_568.mp4\n",
      "Visualization completed for data/gamestate_output/action_568.json\n",
      "Frames saved to visualization/output/action_568/frames\n",
      "Video saved to visualization/output/action_568/video/action_568.mp4\n",
      "Processing 126 frames ...\n"
     ]
    },
    {
     "name": "stderr",
     "output_type": "stream",
     "text": [
      "Processing frames: 100%|██████████| 126/126 [00:02<00:00, 49.13it/s]\n"
     ]
    },
    {
     "name": "stdout",
     "output_type": "stream",
     "text": [
      "Completed! All frames saved to visualization/output/action_1094/frames\n",
      "Creating video from 126 frames...\n"
     ]
    },
    {
     "name": "stderr",
     "output_type": "stream",
     "text": [
      "Creating video: 100%|██████████| 126/126 [00:01<00:00, 84.84it/s]\n"
     ]
    },
    {
     "name": "stdout",
     "output_type": "stream",
     "text": [
      "Video created successfully: visualization/output/action_1094/video/action_1094.mp4\n",
      "Visualization completed for data/gamestate_output/action_1094.json\n",
      "Frames saved to visualization/output/action_1094/frames\n",
      "Video saved to visualization/output/action_1094/video/action_1094.mp4\n",
      "Processing 126 frames ...\n"
     ]
    },
    {
     "name": "stderr",
     "output_type": "stream",
     "text": [
      "Processing frames: 100%|██████████| 126/126 [00:03<00:00, 41.19it/s]\n"
     ]
    },
    {
     "name": "stdout",
     "output_type": "stream",
     "text": [
      "Completed! All frames saved to visualization/output/action_1581/frames\n",
      "Creating video from 126 frames...\n"
     ]
    },
    {
     "name": "stderr",
     "output_type": "stream",
     "text": [
      "Creating video: 100%|██████████| 126/126 [00:01<00:00, 84.45it/s]\n"
     ]
    },
    {
     "name": "stdout",
     "output_type": "stream",
     "text": [
      "Video created successfully: visualization/output/action_1581/video/action_1581.mp4\n",
      "Visualization completed for data/gamestate_output/action_1581.json\n",
      "Frames saved to visualization/output/action_1581/frames\n",
      "Video saved to visualization/output/action_1581/video/action_1581.mp4\n",
      "Processing 126 frames ...\n"
     ]
    },
    {
     "name": "stderr",
     "output_type": "stream",
     "text": [
      "Processing frames: 100%|██████████| 126/126 [00:02<00:00, 42.49it/s]\n"
     ]
    },
    {
     "name": "stdout",
     "output_type": "stream",
     "text": [
      "Completed! All frames saved to visualization/output/action_2769/frames\n",
      "Creating video from 126 frames...\n"
     ]
    },
    {
     "name": "stderr",
     "output_type": "stream",
     "text": [
      "Creating video: 100%|██████████| 126/126 [00:01<00:00, 69.63it/s]\n"
     ]
    },
    {
     "name": "stdout",
     "output_type": "stream",
     "text": [
      "Video created successfully: visualization/output/action_2769/video/action_2769.mp4\n",
      "Visualization completed for data/gamestate_output/action_2769.json\n",
      "Frames saved to visualization/output/action_2769/frames\n",
      "Video saved to visualization/output/action_2769/video/action_2769.mp4\n",
      "Processing 126 frames ...\n"
     ]
    },
    {
     "name": "stderr",
     "output_type": "stream",
     "text": [
      "Processing frames: 100%|██████████| 126/126 [00:03<00:00, 34.35it/s]\n"
     ]
    },
    {
     "name": "stdout",
     "output_type": "stream",
     "text": [
      "Completed! All frames saved to visualization/output/action_544/frames\n",
      "Creating video from 126 frames...\n"
     ]
    },
    {
     "name": "stderr",
     "output_type": "stream",
     "text": [
      "Creating video: 100%|██████████| 126/126 [00:01<00:00, 69.11it/s]\n"
     ]
    },
    {
     "name": "stdout",
     "output_type": "stream",
     "text": [
      "Video created successfully: visualization/output/action_544/video/action_544.mp4\n",
      "Visualization completed for data/gamestate_output/action_544.json\n",
      "Frames saved to visualization/output/action_544/frames\n",
      "Video saved to visualization/output/action_544/video/action_544.mp4\n",
      "Processing 126 frames ...\n"
     ]
    },
    {
     "name": "stderr",
     "output_type": "stream",
     "text": [
      "Processing frames: 100%|██████████| 126/126 [00:03<00:00, 37.95it/s]\n"
     ]
    },
    {
     "name": "stdout",
     "output_type": "stream",
     "text": [
      "Completed! All frames saved to visualization/output/action_2856/frames\n",
      "Creating video from 126 frames...\n"
     ]
    },
    {
     "name": "stderr",
     "output_type": "stream",
     "text": [
      "Creating video: 100%|██████████| 126/126 [00:01<00:00, 79.82it/s]\n"
     ]
    },
    {
     "name": "stdout",
     "output_type": "stream",
     "text": [
      "Video created successfully: visualization/output/action_2856/video/action_2856.mp4\n",
      "Visualization completed for data/gamestate_output/action_2856.json\n",
      "Frames saved to visualization/output/action_2856/frames\n",
      "Video saved to visualization/output/action_2856/video/action_2856.mp4\n",
      "Processing 126 frames ...\n"
     ]
    },
    {
     "name": "stderr",
     "output_type": "stream",
     "text": [
      "Processing frames: 100%|██████████| 126/126 [00:02<00:00, 45.69it/s]\n"
     ]
    },
    {
     "name": "stdout",
     "output_type": "stream",
     "text": [
      "Completed! All frames saved to visualization/output/action_1407/frames\n",
      "Creating video from 126 frames...\n"
     ]
    },
    {
     "name": "stderr",
     "output_type": "stream",
     "text": [
      "Creating video: 100%|██████████| 126/126 [00:01<00:00, 81.07it/s]\n"
     ]
    },
    {
     "name": "stdout",
     "output_type": "stream",
     "text": [
      "Video created successfully: visualization/output/action_1407/video/action_1407.mp4\n",
      "Visualization completed for data/gamestate_output/action_1407.json\n",
      "Frames saved to visualization/output/action_1407/frames\n",
      "Video saved to visualization/output/action_1407/video/action_1407.mp4\n",
      "Processing 126 frames ...\n"
     ]
    },
    {
     "name": "stderr",
     "output_type": "stream",
     "text": [
      "Processing frames: 100%|██████████| 126/126 [00:02<00:00, 45.56it/s]\n"
     ]
    },
    {
     "name": "stdout",
     "output_type": "stream",
     "text": [
      "Completed! All frames saved to visualization/output/action_1542/frames\n",
      "Creating video from 126 frames...\n"
     ]
    },
    {
     "name": "stderr",
     "output_type": "stream",
     "text": [
      "Creating video: 100%|██████████| 126/126 [00:01<00:00, 85.28it/s]\n"
     ]
    },
    {
     "name": "stdout",
     "output_type": "stream",
     "text": [
      "Video created successfully: visualization/output/action_1542/video/action_1542.mp4\n",
      "Visualization completed for data/gamestate_output/action_1542.json\n",
      "Frames saved to visualization/output/action_1542/frames\n",
      "Video saved to visualization/output/action_1542/video/action_1542.mp4\n",
      "Processing 126 frames ...\n"
     ]
    },
    {
     "name": "stderr",
     "output_type": "stream",
     "text": [
      "Processing frames: 100%|██████████| 126/126 [00:02<00:00, 44.44it/s]\n"
     ]
    },
    {
     "name": "stdout",
     "output_type": "stream",
     "text": [
      "Completed! All frames saved to visualization/output/action_2801/frames\n",
      "Creating video from 126 frames...\n"
     ]
    },
    {
     "name": "stderr",
     "output_type": "stream",
     "text": [
      "Creating video: 100%|██████████| 126/126 [00:01<00:00, 85.51it/s]\n"
     ]
    },
    {
     "name": "stdout",
     "output_type": "stream",
     "text": [
      "Video created successfully: visualization/output/action_2801/video/action_2801.mp4\n",
      "Visualization completed for data/gamestate_output/action_2801.json\n",
      "Frames saved to visualization/output/action_2801/frames\n",
      "Video saved to visualization/output/action_2801/video/action_2801.mp4\n",
      "Processing 126 frames ...\n"
     ]
    },
    {
     "name": "stderr",
     "output_type": "stream",
     "text": [
      "Processing frames: 100%|██████████| 126/126 [00:02<00:00, 45.53it/s]\n"
     ]
    },
    {
     "name": "stdout",
     "output_type": "stream",
     "text": [
      "Completed! All frames saved to visualization/output/action_769/frames\n",
      "Creating video from 126 frames...\n"
     ]
    },
    {
     "name": "stderr",
     "output_type": "stream",
     "text": [
      "Creating video: 100%|██████████| 126/126 [00:01<00:00, 77.72it/s]\n"
     ]
    },
    {
     "name": "stdout",
     "output_type": "stream",
     "text": [
      "Video created successfully: visualization/output/action_769/video/action_769.mp4\n",
      "Visualization completed for data/gamestate_output/action_769.json\n",
      "Frames saved to visualization/output/action_769/frames\n",
      "Video saved to visualization/output/action_769/video/action_769.mp4\n",
      "Processing 126 frames ...\n"
     ]
    },
    {
     "name": "stderr",
     "output_type": "stream",
     "text": [
      "Processing frames: 100%|██████████| 126/126 [00:02<00:00, 42.62it/s]\n"
     ]
    },
    {
     "name": "stdout",
     "output_type": "stream",
     "text": [
      "Completed! All frames saved to visualization/output/action_2397/frames\n",
      "Creating video from 126 frames...\n"
     ]
    },
    {
     "name": "stderr",
     "output_type": "stream",
     "text": [
      "Creating video: 100%|██████████| 126/126 [00:01<00:00, 87.61it/s]\n"
     ]
    },
    {
     "name": "stdout",
     "output_type": "stream",
     "text": [
      "Video created successfully: visualization/output/action_2397/video/action_2397.mp4\n",
      "Visualization completed for data/gamestate_output/action_2397.json\n",
      "Frames saved to visualization/output/action_2397/frames\n",
      "Video saved to visualization/output/action_2397/video/action_2397.mp4\n",
      "Processing 126 frames ...\n"
     ]
    },
    {
     "name": "stderr",
     "output_type": "stream",
     "text": [
      "Processing frames: 100%|██████████| 126/126 [00:03<00:00, 41.19it/s]\n"
     ]
    },
    {
     "name": "stdout",
     "output_type": "stream",
     "text": [
      "Completed! All frames saved to visualization/output/action_1104/frames\n",
      "Creating video from 126 frames...\n"
     ]
    },
    {
     "name": "stderr",
     "output_type": "stream",
     "text": [
      "Creating video: 100%|██████████| 126/126 [00:01<00:00, 85.72it/s]\n"
     ]
    },
    {
     "name": "stdout",
     "output_type": "stream",
     "text": [
      "Video created successfully: visualization/output/action_1104/video/action_1104.mp4\n",
      "Visualization completed for data/gamestate_output/action_1104.json\n",
      "Frames saved to visualization/output/action_1104/frames\n",
      "Video saved to visualization/output/action_1104/video/action_1104.mp4\n",
      "Processing 126 frames ...\n"
     ]
    },
    {
     "name": "stderr",
     "output_type": "stream",
     "text": [
      "Processing frames: 100%|██████████| 126/126 [00:02<00:00, 44.46it/s]\n"
     ]
    },
    {
     "name": "stdout",
     "output_type": "stream",
     "text": [
      "Completed! All frames saved to visualization/output/action_856/frames\n",
      "Creating video from 126 frames...\n"
     ]
    },
    {
     "name": "stderr",
     "output_type": "stream",
     "text": [
      "Creating video: 100%|██████████| 126/126 [00:01<00:00, 83.39it/s]\n"
     ]
    },
    {
     "name": "stdout",
     "output_type": "stream",
     "text": [
      "Video created successfully: visualization/output/action_856/video/action_856.mp4\n",
      "Visualization completed for data/gamestate_output/action_856.json\n",
      "Frames saved to visualization/output/action_856/frames\n",
      "Video saved to visualization/output/action_856/video/action_856.mp4\n",
      "Processing 126 frames ...\n"
     ]
    },
    {
     "name": "stderr",
     "output_type": "stream",
     "text": [
      "Processing frames: 100%|██████████| 126/126 [00:03<00:00, 35.83it/s]\n"
     ]
    },
    {
     "name": "stdout",
     "output_type": "stream",
     "text": [
      "Completed! All frames saved to visualization/output/action_2114/frames\n",
      "Creating video from 126 frames...\n"
     ]
    },
    {
     "name": "stderr",
     "output_type": "stream",
     "text": [
      "Creating video: 100%|██████████| 126/126 [00:01<00:00, 80.51it/s]\n"
     ]
    },
    {
     "name": "stdout",
     "output_type": "stream",
     "text": [
      "Video created successfully: visualization/output/action_2114/video/action_2114.mp4\n",
      "Visualization completed for data/gamestate_output/action_2114.json\n",
      "Frames saved to visualization/output/action_2114/frames\n",
      "Video saved to visualization/output/action_2114/video/action_2114.mp4\n",
      "Processing 126 frames ...\n"
     ]
    },
    {
     "name": "stderr",
     "output_type": "stream",
     "text": [
      "Processing frames: 100%|██████████| 126/126 [00:03<00:00, 40.75it/s]\n"
     ]
    },
    {
     "name": "stdout",
     "output_type": "stream",
     "text": [
      "Completed! All frames saved to visualization/output/action_694/frames\n",
      "Creating video from 126 frames...\n"
     ]
    },
    {
     "name": "stderr",
     "output_type": "stream",
     "text": [
      "Creating video: 100%|██████████| 126/126 [00:01<00:00, 81.21it/s]\n"
     ]
    },
    {
     "name": "stdout",
     "output_type": "stream",
     "text": [
      "Video created successfully: visualization/output/action_694/video/action_694.mp4\n",
      "Visualization completed for data/gamestate_output/action_694.json\n",
      "Frames saved to visualization/output/action_694/frames\n",
      "Video saved to visualization/output/action_694/video/action_694.mp4\n",
      "Processing 126 frames ...\n"
     ]
    },
    {
     "name": "stderr",
     "output_type": "stream",
     "text": [
      "Processing frames: 100%|██████████| 126/126 [00:03<00:00, 37.80it/s]\n"
     ]
    },
    {
     "name": "stdout",
     "output_type": "stream",
     "text": [
      "Completed! All frames saved to visualization/output/action_2285/frames\n",
      "Creating video from 126 frames...\n"
     ]
    },
    {
     "name": "stderr",
     "output_type": "stream",
     "text": [
      "Creating video: 100%|██████████| 126/126 [00:01<00:00, 82.88it/s]\n"
     ]
    },
    {
     "name": "stdout",
     "output_type": "stream",
     "text": [
      "Video created successfully: visualization/output/action_2285/video/action_2285.mp4\n",
      "Visualization completed for data/gamestate_output/action_2285.json\n",
      "Frames saved to visualization/output/action_2285/frames\n",
      "Video saved to visualization/output/action_2285/video/action_2285.mp4\n",
      "Processing 126 frames ...\n"
     ]
    },
    {
     "name": "stderr",
     "output_type": "stream",
     "text": [
      "Processing frames: 100%|██████████| 126/126 [00:03<00:00, 40.92it/s]\n"
     ]
    },
    {
     "name": "stdout",
     "output_type": "stream",
     "text": [
      "Completed! All frames saved to visualization/output/action_319/frames\n",
      "Creating video from 126 frames...\n"
     ]
    },
    {
     "name": "stderr",
     "output_type": "stream",
     "text": [
      "Creating video: 100%|██████████| 126/126 [00:01<00:00, 81.17it/s]\n"
     ]
    },
    {
     "name": "stdout",
     "output_type": "stream",
     "text": [
      "Video created successfully: visualization/output/action_319/video/action_319.mp4\n",
      "Visualization completed for data/gamestate_output/action_319.json\n",
      "Frames saved to visualization/output/action_319/frames\n",
      "Video saved to visualization/output/action_319/video/action_319.mp4\n",
      "Processing 126 frames ...\n"
     ]
    },
    {
     "name": "stderr",
     "output_type": "stream",
     "text": [
      "Processing frames: 100%|██████████| 126/126 [00:03<00:00, 35.44it/s]\n"
     ]
    },
    {
     "name": "stdout",
     "output_type": "stream",
     "text": [
      "Completed! All frames saved to visualization/output/action_964/frames\n",
      "Creating video from 126 frames...\n"
     ]
    },
    {
     "name": "stderr",
     "output_type": "stream",
     "text": [
      "Creating video: 100%|██████████| 126/126 [00:01<00:00, 83.19it/s]\n"
     ]
    },
    {
     "name": "stdout",
     "output_type": "stream",
     "text": [
      "Video created successfully: visualization/output/action_964/video/action_964.mp4\n",
      "Visualization completed for data/gamestate_output/action_964.json\n",
      "Frames saved to visualization/output/action_964/frames\n",
      "Video saved to visualization/output/action_964/video/action_964.mp4\n",
      "Processing 126 frames ...\n"
     ]
    },
    {
     "name": "stderr",
     "output_type": "stream",
     "text": [
      "Processing frames: 100%|██████████| 126/126 [00:03<00:00, 40.77it/s]\n"
     ]
    },
    {
     "name": "stdout",
     "output_type": "stream",
     "text": [
      "Completed! All frames saved to visualization/output/action_0/frames\n",
      "Creating video from 126 frames...\n"
     ]
    },
    {
     "name": "stderr",
     "output_type": "stream",
     "text": [
      "Creating video: 100%|██████████| 126/126 [00:01<00:00, 81.96it/s]\n"
     ]
    },
    {
     "name": "stdout",
     "output_type": "stream",
     "text": [
      "Video created successfully: visualization/output/action_0/video/action_0.mp4\n",
      "Visualization completed for data/gamestate_output/action_0.json\n",
      "Frames saved to visualization/output/action_0/frames\n",
      "Video saved to visualization/output/action_0/video/action_0.mp4\n",
      "Processing 126 frames ...\n"
     ]
    },
    {
     "name": "stderr",
     "output_type": "stream",
     "text": [
      "Processing frames: 100%|██████████| 126/126 [00:02<00:00, 45.70it/s]\n"
     ]
    },
    {
     "name": "stdout",
     "output_type": "stream",
     "text": [
      "Completed! All frames saved to visualization/output/action_1523/frames\n",
      "Creating video from 126 frames...\n"
     ]
    },
    {
     "name": "stderr",
     "output_type": "stream",
     "text": [
      "Creating video: 100%|██████████| 126/126 [00:01<00:00, 74.06it/s]\n"
     ]
    },
    {
     "name": "stdout",
     "output_type": "stream",
     "text": [
      "Video created successfully: visualization/output/action_1523/video/action_1523.mp4\n",
      "Visualization completed for data/gamestate_output/action_1523.json\n",
      "Frames saved to visualization/output/action_1523/frames\n",
      "Video saved to visualization/output/action_1523/video/action_1523.mp4\n",
      "Processing 126 frames ...\n"
     ]
    },
    {
     "name": "stderr",
     "output_type": "stream",
     "text": [
      "Processing frames: 100%|██████████| 126/126 [00:03<00:00, 40.89it/s]\n"
     ]
    },
    {
     "name": "stdout",
     "output_type": "stream",
     "text": [
      "Completed! All frames saved to visualization/output/action_1466/frames\n",
      "Creating video from 126 frames...\n"
     ]
    },
    {
     "name": "stderr",
     "output_type": "stream",
     "text": [
      "Creating video: 100%|██████████| 126/126 [00:01<00:00, 82.49it/s]\n"
     ]
    },
    {
     "name": "stdout",
     "output_type": "stream",
     "text": [
      "Video created successfully: visualization/output/action_1466/video/action_1466.mp4\n",
      "Visualization completed for data/gamestate_output/action_1466.json\n",
      "Frames saved to visualization/output/action_1466/frames\n",
      "Video saved to visualization/output/action_1466/video/action_1466.mp4\n",
      "Processing 126 frames ...\n"
     ]
    },
    {
     "name": "stderr",
     "output_type": "stream",
     "text": [
      "Processing frames: 100%|██████████| 126/126 [00:03<00:00, 41.57it/s]\n"
     ]
    },
    {
     "name": "stdout",
     "output_type": "stream",
     "text": [
      "Completed! All frames saved to visualization/output/action_972/frames\n",
      "Creating video from 126 frames...\n"
     ]
    },
    {
     "name": "stderr",
     "output_type": "stream",
     "text": [
      "Creating video: 100%|██████████| 126/126 [00:01<00:00, 89.00it/s]\n"
     ]
    },
    {
     "name": "stdout",
     "output_type": "stream",
     "text": [
      "Video created successfully: visualization/output/action_972/video/action_972.mp4\n",
      "Visualization completed for data/gamestate_output/action_972.json\n",
      "Frames saved to visualization/output/action_972/frames\n",
      "Video saved to visualization/output/action_972/video/action_972.mp4\n",
      "Processing 126 frames ...\n"
     ]
    },
    {
     "name": "stderr",
     "output_type": "stream",
     "text": [
      "Processing frames: 100%|██████████| 126/126 [00:03<00:00, 40.74it/s]\n"
     ]
    },
    {
     "name": "stdout",
     "output_type": "stream",
     "text": [
      "Completed! All frames saved to visualization/output/action_2460/frames\n",
      "Creating video from 126 frames...\n"
     ]
    },
    {
     "name": "stderr",
     "output_type": "stream",
     "text": [
      "Creating video: 100%|██████████| 126/126 [00:01<00:00, 82.89it/s]\n"
     ]
    },
    {
     "name": "stdout",
     "output_type": "stream",
     "text": [
      "Video created successfully: visualization/output/action_2460/video/action_2460.mp4\n",
      "Visualization completed for data/gamestate_output/action_2460.json\n",
      "Frames saved to visualization/output/action_2460/frames\n",
      "Video saved to visualization/output/action_2460/video/action_2460.mp4\n",
      "Processing 126 frames ...\n"
     ]
    },
    {
     "name": "stderr",
     "output_type": "stream",
     "text": [
      "Processing frames: 100%|██████████| 126/126 [00:03<00:00, 40.06it/s]\n"
     ]
    },
    {
     "name": "stdout",
     "output_type": "stream",
     "text": [
      "Completed! All frames saved to visualization/output/action_2749/frames\n",
      "Creating video from 126 frames...\n"
     ]
    },
    {
     "name": "stderr",
     "output_type": "stream",
     "text": [
      "Creating video: 100%|██████████| 126/126 [00:01<00:00, 90.41it/s]\n"
     ]
    },
    {
     "name": "stdout",
     "output_type": "stream",
     "text": [
      "Video created successfully: visualization/output/action_2749/video/action_2749.mp4\n",
      "Visualization completed for data/gamestate_output/action_2749.json\n",
      "Frames saved to visualization/output/action_2749/frames\n",
      "Video saved to visualization/output/action_2749/video/action_2749.mp4\n",
      "Processing 126 frames ...\n"
     ]
    },
    {
     "name": "stderr",
     "output_type": "stream",
     "text": [
      "Processing frames: 100%|██████████| 126/126 [00:03<00:00, 34.60it/s]\n"
     ]
    },
    {
     "name": "stdout",
     "output_type": "stream",
     "text": [
      "Completed! All frames saved to visualization/output/action_1923/frames\n",
      "Creating video from 126 frames...\n"
     ]
    },
    {
     "name": "stderr",
     "output_type": "stream",
     "text": [
      "Creating video: 100%|██████████| 126/126 [00:01<00:00, 82.15it/s]\n"
     ]
    },
    {
     "name": "stdout",
     "output_type": "stream",
     "text": [
      "Video created successfully: visualization/output/action_1923/video/action_1923.mp4\n",
      "Visualization completed for data/gamestate_output/action_1923.json\n",
      "Frames saved to visualization/output/action_1923/frames\n",
      "Video saved to visualization/output/action_1923/video/action_1923.mp4\n",
      "Processing 126 frames ...\n"
     ]
    },
    {
     "name": "stderr",
     "output_type": "stream",
     "text": [
      "Processing frames: 100%|██████████| 126/126 [00:03<00:00, 36.06it/s]\n"
     ]
    },
    {
     "name": "stdout",
     "output_type": "stream",
     "text": [
      "Completed! All frames saved to visualization/output/action_476/frames\n",
      "Creating video from 126 frames...\n"
     ]
    },
    {
     "name": "stderr",
     "output_type": "stream",
     "text": [
      "Creating video: 100%|██████████| 126/126 [00:01<00:00, 84.03it/s]\n"
     ]
    },
    {
     "name": "stdout",
     "output_type": "stream",
     "text": [
      "Video created successfully: visualization/output/action_476/video/action_476.mp4\n",
      "Visualization completed for data/gamestate_output/action_476.json\n",
      "Frames saved to visualization/output/action_476/frames\n",
      "Video saved to visualization/output/action_476/video/action_476.mp4\n",
      "Processing 126 frames ...\n"
     ]
    },
    {
     "name": "stderr",
     "output_type": "stream",
     "text": [
      "Processing frames: 100%|██████████| 126/126 [00:03<00:00, 39.71it/s]\n"
     ]
    },
    {
     "name": "stdout",
     "output_type": "stream",
     "text": [
      "Completed! All frames saved to visualization/output/action_2572/frames\n",
      "Creating video from 126 frames...\n"
     ]
    },
    {
     "name": "stderr",
     "output_type": "stream",
     "text": [
      "Creating video: 100%|██████████| 126/126 [00:01<00:00, 81.40it/s]\n"
     ]
    },
    {
     "name": "stdout",
     "output_type": "stream",
     "text": [
      "Video created successfully: visualization/output/action_2572/video/action_2572.mp4\n",
      "Visualization completed for data/gamestate_output/action_2572.json\n",
      "Frames saved to visualization/output/action_2572/frames\n",
      "Video saved to visualization/output/action_2572/video/action_2572.mp4\n",
      "Processing 126 frames ...\n"
     ]
    },
    {
     "name": "stderr",
     "output_type": "stream",
     "text": [
      "Processing frames: 100%|██████████| 126/126 [00:03<00:00, 41.57it/s]\n"
     ]
    },
    {
     "name": "stdout",
     "output_type": "stream",
     "text": [
      "Completed! All frames saved to visualization/output/action_533/frames\n",
      "Creating video from 126 frames...\n"
     ]
    },
    {
     "name": "stderr",
     "output_type": "stream",
     "text": [
      "Creating video: 100%|██████████| 126/126 [00:01<00:00, 79.19it/s]\n"
     ]
    },
    {
     "name": "stdout",
     "output_type": "stream",
     "text": [
      "Video created successfully: visualization/output/action_533/video/action_533.mp4\n",
      "Visualization completed for data/gamestate_output/action_533.json\n",
      "Frames saved to visualization/output/action_533/frames\n",
      "Video saved to visualization/output/action_533/video/action_533.mp4\n",
      "Processing 126 frames ...\n"
     ]
    },
    {
     "name": "stderr",
     "output_type": "stream",
     "text": [
      "Processing frames: 100%|██████████| 126/126 [00:02<00:00, 43.16it/s]\n"
     ]
    },
    {
     "name": "stdout",
     "output_type": "stream",
     "text": [
      "Completed! All frames saved to visualization/output/action_548/frames\n",
      "Creating video from 126 frames...\n"
     ]
    },
    {
     "name": "stderr",
     "output_type": "stream",
     "text": [
      "Creating video: 100%|██████████| 126/126 [00:01<00:00, 80.81it/s]\n"
     ]
    },
    {
     "name": "stdout",
     "output_type": "stream",
     "text": [
      "Video created successfully: visualization/output/action_548/video/action_548.mp4\n",
      "Visualization completed for data/gamestate_output/action_548.json\n",
      "Frames saved to visualization/output/action_548/frames\n",
      "Video saved to visualization/output/action_548/video/action_548.mp4\n",
      "Processing 126 frames ...\n"
     ]
    },
    {
     "name": "stderr",
     "output_type": "stream",
     "text": [
      "Processing frames: 100%|██████████| 126/126 [00:02<00:00, 42.44it/s]\n"
     ]
    },
    {
     "name": "stdout",
     "output_type": "stream",
     "text": [
      "Completed! All frames saved to visualization/output/action_1325/frames\n",
      "Creating video from 126 frames...\n"
     ]
    },
    {
     "name": "stderr",
     "output_type": "stream",
     "text": [
      "Creating video: 100%|██████████| 126/126 [00:01<00:00, 74.61it/s]\n"
     ]
    },
    {
     "name": "stdout",
     "output_type": "stream",
     "text": [
      "Video created successfully: visualization/output/action_1325/video/action_1325.mp4\n",
      "Visualization completed for data/gamestate_output/action_1325.json\n",
      "Frames saved to visualization/output/action_1325/frames\n",
      "Video saved to visualization/output/action_1325/video/action_1325.mp4\n",
      "Processing 126 frames ...\n"
     ]
    },
    {
     "name": "stderr",
     "output_type": "stream",
     "text": [
      "Processing frames: 100%|██████████| 126/126 [00:03<00:00, 41.48it/s]\n"
     ]
    },
    {
     "name": "stdout",
     "output_type": "stream",
     "text": [
      "Completed! All frames saved to visualization/output/action_231/frames\n",
      "Creating video from 126 frames...\n"
     ]
    },
    {
     "name": "stderr",
     "output_type": "stream",
     "text": [
      "Creating video: 100%|██████████| 126/126 [00:01<00:00, 77.09it/s]\n"
     ]
    },
    {
     "name": "stdout",
     "output_type": "stream",
     "text": [
      "Video created successfully: visualization/output/action_231/video/action_231.mp4\n",
      "Visualization completed for data/gamestate_output/action_231.json\n",
      "Frames saved to visualization/output/action_231/frames\n",
      "Video saved to visualization/output/action_231/video/action_231.mp4\n",
      "Processing 126 frames ...\n"
     ]
    },
    {
     "name": "stderr",
     "output_type": "stream",
     "text": [
      "Processing frames: 100%|██████████| 126/126 [00:03<00:00, 41.42it/s]\n"
     ]
    },
    {
     "name": "stdout",
     "output_type": "stream",
     "text": [
      "Completed! All frames saved to visualization/output/action_1237/frames\n",
      "Creating video from 126 frames...\n"
     ]
    },
    {
     "name": "stderr",
     "output_type": "stream",
     "text": [
      "Creating video: 100%|██████████| 126/126 [00:01<00:00, 76.53it/s]\n"
     ]
    },
    {
     "name": "stdout",
     "output_type": "stream",
     "text": [
      "Video created successfully: visualization/output/action_1237/video/action_1237.mp4\n",
      "Visualization completed for data/gamestate_output/action_1237.json\n",
      "Frames saved to visualization/output/action_1237/frames\n",
      "Video saved to visualization/output/action_1237/video/action_1237.mp4\n",
      "Processing 126 frames ...\n"
     ]
    },
    {
     "name": "stderr",
     "output_type": "stream",
     "text": [
      "Processing frames: 100%|██████████| 126/126 [00:03<00:00, 39.98it/s]\n"
     ]
    },
    {
     "name": "stdout",
     "output_type": "stream",
     "text": [
      "Completed! All frames saved to visualization/output/action_2677/frames\n",
      "Creating video from 126 frames...\n"
     ]
    },
    {
     "name": "stderr",
     "output_type": "stream",
     "text": [
      "Creating video: 100%|██████████| 126/126 [00:01<00:00, 82.20it/s]\n"
     ]
    },
    {
     "name": "stdout",
     "output_type": "stream",
     "text": [
      "Video created successfully: visualization/output/action_2677/video/action_2677.mp4\n",
      "Visualization completed for data/gamestate_output/action_2677.json\n",
      "Frames saved to visualization/output/action_2677/frames\n",
      "Video saved to visualization/output/action_2677/video/action_2677.mp4\n",
      "Processing 126 frames ...\n"
     ]
    },
    {
     "name": "stderr",
     "output_type": "stream",
     "text": [
      "Processing frames: 100%|██████████| 126/126 [00:02<00:00, 45.24it/s]\n"
     ]
    },
    {
     "name": "stdout",
     "output_type": "stream",
     "text": [
      "Completed! All frames saved to visualization/output/action_2724/frames\n",
      "Creating video from 126 frames...\n"
     ]
    },
    {
     "name": "stderr",
     "output_type": "stream",
     "text": [
      "Creating video: 100%|██████████| 126/126 [00:01<00:00, 84.61it/s]\n"
     ]
    },
    {
     "name": "stdout",
     "output_type": "stream",
     "text": [
      "Video created successfully: visualization/output/action_2724/video/action_2724.mp4\n",
      "Visualization completed for data/gamestate_output/action_2724.json\n",
      "Frames saved to visualization/output/action_2724/frames\n",
      "Video saved to visualization/output/action_2724/video/action_2724.mp4\n",
      "Processing 126 frames ...\n"
     ]
    },
    {
     "name": "stderr",
     "output_type": "stream",
     "text": [
      "Processing frames: 100%|██████████| 126/126 [00:03<00:00, 38.50it/s]\n"
     ]
    },
    {
     "name": "stdout",
     "output_type": "stream",
     "text": [
      "Completed! All frames saved to visualization/output/action_2636/frames\n",
      "Creating video from 126 frames...\n"
     ]
    },
    {
     "name": "stderr",
     "output_type": "stream",
     "text": [
      "Creating video: 100%|██████████| 126/126 [00:01<00:00, 83.19it/s]\n"
     ]
    },
    {
     "name": "stdout",
     "output_type": "stream",
     "text": [
      "Video created successfully: visualization/output/action_2636/video/action_2636.mp4\n",
      "Visualization completed for data/gamestate_output/action_2636.json\n",
      "Frames saved to visualization/output/action_2636/frames\n",
      "Video saved to visualization/output/action_2636/video/action_2636.mp4\n",
      "Processing 126 frames ...\n"
     ]
    },
    {
     "name": "stderr",
     "output_type": "stream",
     "text": [
      "Processing frames: 100%|██████████| 126/126 [00:03<00:00, 39.44it/s]\n"
     ]
    },
    {
     "name": "stdout",
     "output_type": "stream",
     "text": [
      "Completed! All frames saved to visualization/output/action_677/frames\n",
      "Creating video from 126 frames...\n"
     ]
    },
    {
     "name": "stderr",
     "output_type": "stream",
     "text": [
      "Creating video: 100%|██████████| 126/126 [00:01<00:00, 81.53it/s]\n"
     ]
    },
    {
     "name": "stdout",
     "output_type": "stream",
     "text": [
      "Video created successfully: visualization/output/action_677/video/action_677.mp4\n",
      "Visualization completed for data/gamestate_output/action_677.json\n",
      "Frames saved to visualization/output/action_677/frames\n",
      "Video saved to visualization/output/action_677/video/action_677.mp4\n",
      "Processing 126 frames ...\n"
     ]
    },
    {
     "name": "stderr",
     "output_type": "stream",
     "text": [
      "Processing frames: 100%|██████████| 126/126 [00:02<00:00, 46.86it/s]\n"
     ]
    },
    {
     "name": "stdout",
     "output_type": "stream",
     "text": [
      "Completed! All frames saved to visualization/output/action_2144/frames\n",
      "Creating video from 126 frames...\n"
     ]
    },
    {
     "name": "stderr",
     "output_type": "stream",
     "text": [
      "Creating video: 100%|██████████| 126/126 [00:01<00:00, 84.11it/s]\n"
     ]
    },
    {
     "name": "stdout",
     "output_type": "stream",
     "text": [
      "Video created successfully: visualization/output/action_2144/video/action_2144.mp4\n",
      "Visualization completed for data/gamestate_output/action_2144.json\n",
      "Frames saved to visualization/output/action_2144/frames\n",
      "Video saved to visualization/output/action_2144/video/action_2144.mp4\n",
      "Processing 126 frames ...\n"
     ]
    },
    {
     "name": "stderr",
     "output_type": "stream",
     "text": [
      "Processing frames: 100%|██████████| 126/126 [00:02<00:00, 43.10it/s]\n"
     ]
    },
    {
     "name": "stdout",
     "output_type": "stream",
     "text": [
      "Completed! All frames saved to visualization/output/action_2847/frames\n",
      "Creating video from 126 frames...\n"
     ]
    },
    {
     "name": "stderr",
     "output_type": "stream",
     "text": [
      "Creating video: 100%|██████████| 126/126 [00:01<00:00, 73.37it/s]\n"
     ]
    },
    {
     "name": "stdout",
     "output_type": "stream",
     "text": [
      "Video created successfully: visualization/output/action_2847/video/action_2847.mp4\n",
      "Visualization completed for data/gamestate_output/action_2847.json\n",
      "Frames saved to visualization/output/action_2847/frames\n",
      "Video saved to visualization/output/action_2847/video/action_2847.mp4\n",
      "Processing 126 frames ...\n"
     ]
    },
    {
     "name": "stderr",
     "output_type": "stream",
     "text": [
      "Processing frames: 100%|██████████| 126/126 [00:02<00:00, 43.99it/s]\n"
     ]
    },
    {
     "name": "stdout",
     "output_type": "stream",
     "text": [
      "Completed! All frames saved to visualization/output/action_369/frames\n",
      "Creating video from 126 frames...\n"
     ]
    },
    {
     "name": "stderr",
     "output_type": "stream",
     "text": [
      "Creating video: 100%|██████████| 126/126 [00:01<00:00, 82.33it/s]\n"
     ]
    },
    {
     "name": "stdout",
     "output_type": "stream",
     "text": [
      "Video created successfully: visualization/output/action_369/video/action_369.mp4\n",
      "Visualization completed for data/gamestate_output/action_369.json\n",
      "Frames saved to visualization/output/action_369/frames\n",
      "Video saved to visualization/output/action_369/video/action_369.mp4\n",
      "Processing 126 frames ...\n"
     ]
    },
    {
     "name": "stderr",
     "output_type": "stream",
     "text": [
      "Processing frames: 100%|██████████| 126/126 [00:03<00:00, 38.10it/s]\n"
     ]
    },
    {
     "name": "stdout",
     "output_type": "stream",
     "text": [
      "Completed! All frames saved to visualization/output/action_2797/frames\n",
      "Creating video from 126 frames...\n"
     ]
    },
    {
     "name": "stderr",
     "output_type": "stream",
     "text": [
      "Creating video: 100%|██████████| 126/126 [00:01<00:00, 74.48it/s]\n"
     ]
    },
    {
     "name": "stdout",
     "output_type": "stream",
     "text": [
      "Video created successfully: visualization/output/action_2797/video/action_2797.mp4\n",
      "Visualization completed for data/gamestate_output/action_2797.json\n",
      "Frames saved to visualization/output/action_2797/frames\n",
      "Video saved to visualization/output/action_2797/video/action_2797.mp4\n",
      "Processing 126 frames ...\n"
     ]
    },
    {
     "name": "stderr",
     "output_type": "stream",
     "text": [
      "Processing frames: 100%|██████████| 126/126 [00:02<00:00, 42.58it/s]\n"
     ]
    },
    {
     "name": "stdout",
     "output_type": "stream",
     "text": [
      "Completed! All frames saved to visualization/output/action_739/frames\n",
      "Creating video from 126 frames...\n"
     ]
    },
    {
     "name": "stderr",
     "output_type": "stream",
     "text": [
      "Creating video: 100%|██████████| 126/126 [00:01<00:00, 84.91it/s]\n"
     ]
    },
    {
     "name": "stdout",
     "output_type": "stream",
     "text": [
      "Video created successfully: visualization/output/action_739/video/action_739.mp4\n",
      "Visualization completed for data/gamestate_output/action_739.json\n",
      "Frames saved to visualization/output/action_739/frames\n",
      "Video saved to visualization/output/action_739/video/action_739.mp4\n",
      "Processing 126 frames ...\n"
     ]
    },
    {
     "name": "stderr",
     "output_type": "stream",
     "text": [
      "Processing frames: 100%|██████████| 126/126 [00:02<00:00, 44.95it/s]\n"
     ]
    },
    {
     "name": "stdout",
     "output_type": "stream",
     "text": [
      "Completed! All frames saved to visualization/output/action_2282/frames\n",
      "Creating video from 126 frames...\n"
     ]
    },
    {
     "name": "stderr",
     "output_type": "stream",
     "text": [
      "Creating video: 100%|██████████| 126/126 [00:01<00:00, 84.95it/s]\n"
     ]
    },
    {
     "name": "stdout",
     "output_type": "stream",
     "text": [
      "Video created successfully: visualization/output/action_2282/video/action_2282.mp4\n",
      "Visualization completed for data/gamestate_output/action_2282.json\n",
      "Frames saved to visualization/output/action_2282/frames\n",
      "Video saved to visualization/output/action_2282/video/action_2282.mp4\n",
      "Processing 126 frames ...\n"
     ]
    },
    {
     "name": "stderr",
     "output_type": "stream",
     "text": [
      "Processing frames: 100%|██████████| 126/126 [00:03<00:00, 35.57it/s]\n"
     ]
    },
    {
     "name": "stdout",
     "output_type": "stream",
     "text": [
      "Completed! All frames saved to visualization/output/action_2778/frames\n",
      "Creating video from 126 frames...\n"
     ]
    },
    {
     "name": "stderr",
     "output_type": "stream",
     "text": [
      "Creating video: 100%|██████████| 126/126 [00:01<00:00, 84.71it/s]\n"
     ]
    },
    {
     "name": "stdout",
     "output_type": "stream",
     "text": [
      "Video created successfully: visualization/output/action_2778/video/action_2778.mp4\n",
      "Visualization completed for data/gamestate_output/action_2778.json\n",
      "Frames saved to visualization/output/action_2778/frames\n",
      "Video saved to visualization/output/action_2778/video/action_2778.mp4\n",
      "Processing 126 frames ...\n"
     ]
    },
    {
     "name": "stderr",
     "output_type": "stream",
     "text": [
      "Processing frames: 100%|██████████| 126/126 [00:02<00:00, 43.08it/s]\n"
     ]
    },
    {
     "name": "stdout",
     "output_type": "stream",
     "text": [
      "Completed! All frames saved to visualization/output/action_1380/frames\n",
      "Creating video from 126 frames...\n"
     ]
    },
    {
     "name": "stderr",
     "output_type": "stream",
     "text": [
      "Creating video: 100%|██████████| 126/126 [00:01<00:00, 90.24it/s]\n"
     ]
    },
    {
     "name": "stdout",
     "output_type": "stream",
     "text": [
      "Video created successfully: visualization/output/action_1380/video/action_1380.mp4\n",
      "Visualization completed for data/gamestate_output/action_1380.json\n",
      "Frames saved to visualization/output/action_1380/frames\n",
      "Video saved to visualization/output/action_1380/video/action_1380.mp4\n",
      "Processing 126 frames ...\n"
     ]
    },
    {
     "name": "stderr",
     "output_type": "stream",
     "text": [
      "Processing frames: 100%|██████████| 126/126 [00:03<00:00, 37.73it/s]\n"
     ]
    },
    {
     "name": "stdout",
     "output_type": "stream",
     "text": [
      "Completed! All frames saved to visualization/output/action_1400/frames\n",
      "Creating video from 126 frames...\n"
     ]
    },
    {
     "name": "stderr",
     "output_type": "stream",
     "text": [
      "Creating video: 100%|██████████| 126/126 [00:01<00:00, 78.86it/s]\n"
     ]
    },
    {
     "name": "stdout",
     "output_type": "stream",
     "text": [
      "Video created successfully: visualization/output/action_1400/video/action_1400.mp4\n",
      "Visualization completed for data/gamestate_output/action_1400.json\n",
      "Frames saved to visualization/output/action_1400/frames\n",
      "Video saved to visualization/output/action_1400/video/action_1400.mp4\n",
      "Processing 126 frames ...\n"
     ]
    },
    {
     "name": "stderr",
     "output_type": "stream",
     "text": [
      "Processing frames: 100%|██████████| 126/126 [00:02<00:00, 42.74it/s]\n"
     ]
    },
    {
     "name": "stdout",
     "output_type": "stream",
     "text": [
      "Completed! All frames saved to visualization/output/action_1545/frames\n",
      "Creating video from 126 frames...\n"
     ]
    },
    {
     "name": "stderr",
     "output_type": "stream",
     "text": [
      "Creating video: 100%|██████████| 126/126 [00:01<00:00, 86.12it/s]\n"
     ]
    },
    {
     "name": "stdout",
     "output_type": "stream",
     "text": [
      "Video created successfully: visualization/output/action_1545/video/action_1545.mp4\n",
      "Visualization completed for data/gamestate_output/action_1545.json\n",
      "Frames saved to visualization/output/action_1545/frames\n",
      "Video saved to visualization/output/action_1545/video/action_1545.mp4\n",
      "Processing 126 frames ...\n"
     ]
    },
    {
     "name": "stderr",
     "output_type": "stream",
     "text": [
      "Processing frames: 100%|██████████| 126/126 [00:02<00:00, 43.25it/s]\n"
     ]
    },
    {
     "name": "stdout",
     "output_type": "stream",
     "text": [
      "Completed! All frames saved to visualization/output/action_2739/frames\n",
      "Creating video from 126 frames...\n"
     ]
    },
    {
     "name": "stderr",
     "output_type": "stream",
     "text": [
      "Creating video: 100%|██████████| 126/126 [00:01<00:00, 89.82it/s]\n"
     ]
    },
    {
     "name": "stdout",
     "output_type": "stream",
     "text": [
      "Video created successfully: visualization/output/action_2739/video/action_2739.mp4\n",
      "Visualization completed for data/gamestate_output/action_2739.json\n",
      "Frames saved to visualization/output/action_2739/frames\n",
      "Video saved to visualization/output/action_2739/video/action_2739.mp4\n",
      "Processing 126 frames ...\n"
     ]
    },
    {
     "name": "stderr",
     "output_type": "stream",
     "text": [
      "Processing frames: 100%|██████████| 126/126 [00:02<00:00, 46.14it/s]\n"
     ]
    },
    {
     "name": "stdout",
     "output_type": "stream",
     "text": [
      "Completed! All frames saved to visualization/output/action_1816/frames\n",
      "Creating video from 126 frames...\n"
     ]
    },
    {
     "name": "stderr",
     "output_type": "stream",
     "text": [
      "Creating video: 100%|██████████| 126/126 [00:01<00:00, 87.00it/s]\n"
     ]
    },
    {
     "name": "stdout",
     "output_type": "stream",
     "text": [
      "Video created successfully: visualization/output/action_1816/video/action_1816.mp4\n",
      "Visualization completed for data/gamestate_output/action_1816.json\n",
      "Frames saved to visualization/output/action_1816/frames\n",
      "Video saved to visualization/output/action_1816/video/action_1816.mp4\n",
      "Processing 126 frames ...\n"
     ]
    },
    {
     "name": "stderr",
     "output_type": "stream",
     "text": [
      "Processing frames: 100%|██████████| 126/126 [00:02<00:00, 58.87it/s]\n"
     ]
    },
    {
     "name": "stdout",
     "output_type": "stream",
     "text": [
      "Completed! All frames saved to visualization/output/action_2017/frames\n",
      "Creating video from 126 frames...\n"
     ]
    },
    {
     "name": "stderr",
     "output_type": "stream",
     "text": [
      "Creating video: 100%|██████████| 126/126 [00:01<00:00, 83.02it/s]\n"
     ]
    },
    {
     "name": "stdout",
     "output_type": "stream",
     "text": [
      "Video created successfully: visualization/output/action_2017/video/action_2017.mp4\n",
      "Visualization completed for data/gamestate_output/action_2017.json\n",
      "Frames saved to visualization/output/action_2017/frames\n",
      "Video saved to visualization/output/action_2017/video/action_2017.mp4\n",
      "Processing 126 frames ...\n"
     ]
    },
    {
     "name": "stderr",
     "output_type": "stream",
     "text": [
      "Processing frames: 100%|██████████| 126/126 [00:03<00:00, 40.07it/s]\n"
     ]
    },
    {
     "name": "stdout",
     "output_type": "stream",
     "text": [
      "Completed! All frames saved to visualization/output/action_2083/frames\n",
      "Creating video from 126 frames...\n"
     ]
    },
    {
     "name": "stderr",
     "output_type": "stream",
     "text": [
      "Creating video: 100%|██████████| 126/126 [00:01<00:00, 87.43it/s]\n"
     ]
    },
    {
     "name": "stdout",
     "output_type": "stream",
     "text": [
      "Video created successfully: visualization/output/action_2083/video/action_2083.mp4\n",
      "Visualization completed for data/gamestate_output/action_2083.json\n",
      "Frames saved to visualization/output/action_2083/frames\n",
      "Video saved to visualization/output/action_2083/video/action_2083.mp4\n",
      "Processing 126 frames ...\n"
     ]
    },
    {
     "name": "stderr",
     "output_type": "stream",
     "text": [
      "Processing frames: 100%|██████████| 126/126 [00:02<00:00, 47.18it/s]\n"
     ]
    },
    {
     "name": "stdout",
     "output_type": "stream",
     "text": [
      "Completed! All frames saved to visualization/output/action_2579/frames\n",
      "Creating video from 126 frames...\n"
     ]
    },
    {
     "name": "stderr",
     "output_type": "stream",
     "text": [
      "Creating video: 100%|██████████| 126/126 [00:01<00:00, 82.23it/s]\n"
     ]
    },
    {
     "name": "stdout",
     "output_type": "stream",
     "text": [
      "Video created successfully: visualization/output/action_2579/video/action_2579.mp4\n",
      "Visualization completed for data/gamestate_output/action_2579.json\n",
      "Frames saved to visualization/output/action_2579/frames\n",
      "Video saved to visualization/output/action_2579/video/action_2579.mp4\n",
      "Processing 126 frames ...\n"
     ]
    },
    {
     "name": "stderr",
     "output_type": "stream",
     "text": [
      "Processing frames: 100%|██████████| 126/126 [00:03<00:00, 41.08it/s]\n"
     ]
    },
    {
     "name": "stdout",
     "output_type": "stream",
     "text": [
      "Completed! All frames saved to visualization/output/action_1210/frames\n",
      "Creating video from 126 frames...\n"
     ]
    },
    {
     "name": "stderr",
     "output_type": "stream",
     "text": [
      "Creating video: 100%|██████████| 126/126 [00:01<00:00, 89.48it/s]\n"
     ]
    },
    {
     "name": "stdout",
     "output_type": "stream",
     "text": [
      "Video created successfully: visualization/output/action_1210/video/action_1210.mp4\n",
      "Visualization completed for data/gamestate_output/action_1210.json\n",
      "Frames saved to visualization/output/action_1210/frames\n",
      "Video saved to visualization/output/action_1210/video/action_1210.mp4\n",
      "Processing 126 frames ...\n"
     ]
    },
    {
     "name": "stderr",
     "output_type": "stream",
     "text": [
      "Processing frames: 100%|██████████| 126/126 [00:02<00:00, 42.04it/s]\n"
     ]
    },
    {
     "name": "stdout",
     "output_type": "stream",
     "text": [
      "Completed! All frames saved to visualization/output/action_1928/frames\n",
      "Creating video from 126 frames...\n"
     ]
    },
    {
     "name": "stderr",
     "output_type": "stream",
     "text": [
      "Creating video: 100%|██████████| 126/126 [00:01<00:00, 87.30it/s]\n"
     ]
    },
    {
     "name": "stdout",
     "output_type": "stream",
     "text": [
      "Video created successfully: visualization/output/action_1928/video/action_1928.mp4\n",
      "Visualization completed for data/gamestate_output/action_1928.json\n",
      "Frames saved to visualization/output/action_1928/frames\n",
      "Video saved to visualization/output/action_1928/video/action_1928.mp4\n",
      "Processing 126 frames ...\n"
     ]
    },
    {
     "name": "stderr",
     "output_type": "stream",
     "text": [
      "Processing frames: 100%|██████████| 126/126 [00:03<00:00, 40.50it/s]\n"
     ]
    },
    {
     "name": "stdout",
     "output_type": "stream",
     "text": [
      "Completed! All frames saved to visualization/output/action_1181/frames\n",
      "Creating video from 126 frames...\n"
     ]
    },
    {
     "name": "stderr",
     "output_type": "stream",
     "text": [
      "Creating video: 100%|██████████| 126/126 [00:01<00:00, 87.41it/s]\n"
     ]
    },
    {
     "name": "stdout",
     "output_type": "stream",
     "text": [
      "Video created successfully: visualization/output/action_1181/video/action_1181.mp4\n",
      "Visualization completed for data/gamestate_output/action_1181.json\n",
      "Frames saved to visualization/output/action_1181/frames\n",
      "Video saved to visualization/output/action_1181/video/action_1181.mp4\n",
      "Processing 126 frames ...\n"
     ]
    },
    {
     "name": "stderr",
     "output_type": "stream",
     "text": [
      "Processing frames: 100%|██████████| 126/126 [00:02<00:00, 46.77it/s]\n"
     ]
    },
    {
     "name": "stdout",
     "output_type": "stream",
     "text": [
      "Completed! All frames saved to visualization/output/action_200/frames\n",
      "Creating video from 126 frames...\n"
     ]
    },
    {
     "name": "stderr",
     "output_type": "stream",
     "text": [
      "Creating video: 100%|██████████| 126/126 [00:01<00:00, 87.98it/s]\n"
     ]
    },
    {
     "name": "stdout",
     "output_type": "stream",
     "text": [
      "Video created successfully: visualization/output/action_200/video/action_200.mp4\n",
      "Visualization completed for data/gamestate_output/action_200.json\n",
      "Frames saved to visualization/output/action_200/frames\n",
      "Video saved to visualization/output/action_200/video/action_200.mp4\n",
      "Processing 126 frames ...\n"
     ]
    },
    {
     "name": "stderr",
     "output_type": "stream",
     "text": [
      "Processing frames: 100%|██████████| 126/126 [00:02<00:00, 45.44it/s]\n"
     ]
    },
    {
     "name": "stdout",
     "output_type": "stream",
     "text": [
      "Completed! All frames saved to visualization/output/action_345/frames\n",
      "Creating video from 126 frames...\n"
     ]
    },
    {
     "name": "stderr",
     "output_type": "stream",
     "text": [
      "Creating video: 100%|██████████| 126/126 [00:01<00:00, 87.84it/s]\n"
     ]
    },
    {
     "name": "stdout",
     "output_type": "stream",
     "text": [
      "Video created successfully: visualization/output/action_345/video/action_345.mp4\n",
      "Visualization completed for data/gamestate_output/action_345.json\n",
      "Frames saved to visualization/output/action_345/frames\n",
      "Video saved to visualization/output/action_345/video/action_345.mp4\n",
      "Processing 126 frames ...\n"
     ]
    },
    {
     "name": "stderr",
     "output_type": "stream",
     "text": [
      "Processing frames: 100%|██████████| 126/126 [00:02<00:00, 42.13it/s]\n"
     ]
    },
    {
     "name": "stdout",
     "output_type": "stream",
     "text": [
      "Completed! All frames saved to visualization/output/action_2703/frames\n",
      "Creating video from 126 frames...\n"
     ]
    },
    {
     "name": "stderr",
     "output_type": "stream",
     "text": [
      "Creating video: 100%|██████████| 126/126 [00:01<00:00, 88.23it/s]\n"
     ]
    },
    {
     "name": "stdout",
     "output_type": "stream",
     "text": [
      "Video created successfully: visualization/output/action_2703/video/action_2703.mp4\n",
      "Visualization completed for data/gamestate_output/action_2703.json\n",
      "Frames saved to visualization/output/action_2703/frames\n",
      "Video saved to visualization/output/action_2703/video/action_2703.mp4\n",
      "Processing 126 frames ...\n"
     ]
    },
    {
     "name": "stderr",
     "output_type": "stream",
     "text": [
      "Processing frames: 100%|██████████| 126/126 [00:03<00:00, 41.89it/s]\n"
     ]
    },
    {
     "name": "stdout",
     "output_type": "stream",
     "text": [
      "Completed! All frames saved to visualization/output/action_2631/frames\n",
      "Creating video from 126 frames...\n"
     ]
    },
    {
     "name": "stderr",
     "output_type": "stream",
     "text": [
      "Creating video: 100%|██████████| 126/126 [00:01<00:00, 87.95it/s]\n"
     ]
    },
    {
     "name": "stdout",
     "output_type": "stream",
     "text": [
      "Video created successfully: visualization/output/action_2631/video/action_2631.mp4\n",
      "Visualization completed for data/gamestate_output/action_2631.json\n",
      "Frames saved to visualization/output/action_2631/frames\n",
      "Video saved to visualization/output/action_2631/video/action_2631.mp4\n",
      "Processing 126 frames ...\n"
     ]
    },
    {
     "name": "stderr",
     "output_type": "stream",
     "text": [
      "Processing frames: 100%|██████████| 126/126 [00:02<00:00, 42.40it/s]\n"
     ]
    },
    {
     "name": "stdout",
     "output_type": "stream",
     "text": [
      "Completed! All frames saved to visualization/output/action_220/frames\n",
      "Creating video from 126 frames...\n"
     ]
    },
    {
     "name": "stderr",
     "output_type": "stream",
     "text": [
      "Creating video: 100%|██████████| 126/126 [00:01<00:00, 82.83it/s]\n"
     ]
    },
    {
     "name": "stdout",
     "output_type": "stream",
     "text": [
      "Video created successfully: visualization/output/action_220/video/action_220.mp4\n",
      "Visualization completed for data/gamestate_output/action_220.json\n",
      "Frames saved to visualization/output/action_220/frames\n",
      "Video saved to visualization/output/action_220/video/action_220.mp4\n",
      "Processing 126 frames ...\n"
     ]
    },
    {
     "name": "stderr",
     "output_type": "stream",
     "text": [
      "Processing frames: 100%|██████████| 126/126 [00:03<00:00, 40.42it/s]\n"
     ]
    },
    {
     "name": "stdout",
     "output_type": "stream",
     "text": [
      "Completed! All frames saved to visualization/output/action_1949/frames\n",
      "Creating video from 126 frames...\n"
     ]
    },
    {
     "name": "stderr",
     "output_type": "stream",
     "text": [
      "Creating video: 100%|██████████| 126/126 [00:01<00:00, 83.57it/s]\n"
     ]
    },
    {
     "name": "stdout",
     "output_type": "stream",
     "text": [
      "Video created successfully: visualization/output/action_1949/video/action_1949.mp4\n",
      "Visualization completed for data/gamestate_output/action_1949.json\n",
      "Frames saved to visualization/output/action_1949/frames\n",
      "Video saved to visualization/output/action_1949/video/action_1949.mp4\n",
      "Processing 126 frames ...\n"
     ]
    },
    {
     "name": "stderr",
     "output_type": "stream",
     "text": [
      "Processing frames: 100%|██████████| 126/126 [00:02<00:00, 51.35it/s]\n"
     ]
    },
    {
     "name": "stdout",
     "output_type": "stream",
     "text": [
      "Completed! All frames saved to visualization/output/action_277/frames\n",
      "Creating video from 126 frames...\n"
     ]
    },
    {
     "name": "stderr",
     "output_type": "stream",
     "text": [
      "Creating video: 100%|██████████| 126/126 [00:01<00:00, 81.87it/s]\n"
     ]
    },
    {
     "name": "stdout",
     "output_type": "stream",
     "text": [
      "Video created successfully: visualization/output/action_277/video/action_277.mp4\n",
      "Visualization completed for data/gamestate_output/action_277.json\n",
      "Frames saved to visualization/output/action_277/frames\n",
      "Video saved to visualization/output/action_277/video/action_277.mp4\n",
      "Processing 126 frames ...\n"
     ]
    },
    {
     "name": "stderr",
     "output_type": "stream",
     "text": [
      "Processing frames: 100%|██████████| 126/126 [00:02<00:00, 42.78it/s]\n"
     ]
    },
    {
     "name": "stdout",
     "output_type": "stream",
     "text": [
      "Completed! All frames saved to visualization/output/action_2723/frames\n",
      "Creating video from 126 frames...\n"
     ]
    },
    {
     "name": "stderr",
     "output_type": "stream",
     "text": [
      "Creating video: 100%|██████████| 126/126 [00:01<00:00, 82.67it/s]\n"
     ]
    },
    {
     "name": "stdout",
     "output_type": "stream",
     "text": [
      "Video created successfully: visualization/output/action_2723/video/action_2723.mp4\n",
      "Visualization completed for data/gamestate_output/action_2723.json\n",
      "Frames saved to visualization/output/action_2723/frames\n",
      "Video saved to visualization/output/action_2723/video/action_2723.mp4\n",
      "Processing 126 frames ...\n"
     ]
    },
    {
     "name": "stderr",
     "output_type": "stream",
     "text": [
      "Processing frames: 100%|██████████| 126/126 [00:03<00:00, 36.47it/s]\n"
     ]
    },
    {
     "name": "stdout",
     "output_type": "stream",
     "text": [
      "Completed! All frames saved to visualization/output/action_1676/frames\n",
      "Creating video from 126 frames...\n"
     ]
    },
    {
     "name": "stderr",
     "output_type": "stream",
     "text": [
      "Creating video: 100%|██████████| 126/126 [00:01<00:00, 80.13it/s]\n"
     ]
    },
    {
     "name": "stdout",
     "output_type": "stream",
     "text": [
      "Video created successfully: visualization/output/action_1676/video/action_1676.mp4\n",
      "Visualization completed for data/gamestate_output/action_1676.json\n",
      "Frames saved to visualization/output/action_1676/frames\n",
      "Video saved to visualization/output/action_1676/video/action_1676.mp4\n",
      "Processing 126 frames ...\n"
     ]
    },
    {
     "name": "stderr",
     "output_type": "stream",
     "text": [
      "Processing frames: 100%|██████████| 126/126 [00:02<00:00, 46.87it/s]\n"
     ]
    },
    {
     "name": "stdout",
     "output_type": "stream",
     "text": [
      "Completed! All frames saved to visualization/output/action_373/frames\n",
      "Creating video from 126 frames...\n"
     ]
    },
    {
     "name": "stderr",
     "output_type": "stream",
     "text": [
      "Creating video: 100%|██████████| 126/126 [00:01<00:00, 82.83it/s]\n"
     ]
    },
    {
     "name": "stdout",
     "output_type": "stream",
     "text": [
      "Video created successfully: visualization/output/action_373/video/action_373.mp4\n",
      "Visualization completed for data/gamestate_output/action_373.json\n",
      "Frames saved to visualization/output/action_373/frames\n",
      "Video saved to visualization/output/action_373/video/action_373.mp4\n",
      "Processing 126 frames ...\n"
     ]
    },
    {
     "name": "stderr",
     "output_type": "stream",
     "text": [
      "Processing frames: 100%|██████████| 126/126 [00:02<00:00, 48.01it/s]\n"
     ]
    },
    {
     "name": "stdout",
     "output_type": "stream",
     "text": [
      "Completed! All frames saved to visualization/output/action_723/frames\n",
      "Creating video from 126 frames...\n"
     ]
    },
    {
     "name": "stderr",
     "output_type": "stream",
     "text": [
      "Creating video: 100%|██████████| 126/126 [00:01<00:00, 87.96it/s]\n"
     ]
    },
    {
     "name": "stdout",
     "output_type": "stream",
     "text": [
      "Video created successfully: visualization/output/action_723/video/action_723.mp4\n",
      "Visualization completed for data/gamestate_output/action_723.json\n",
      "Frames saved to visualization/output/action_723/frames\n",
      "Video saved to visualization/output/action_723/video/action_723.mp4\n",
      "Processing 126 frames ...\n"
     ]
    },
    {
     "name": "stderr",
     "output_type": "stream",
     "text": [
      "Processing frames: 100%|██████████| 126/126 [00:02<00:00, 50.70it/s]\n"
     ]
    },
    {
     "name": "stdout",
     "output_type": "stream",
     "text": [
      "Completed! All frames saved to visualization/output/action_1267/frames\n",
      "Creating video from 126 frames...\n"
     ]
    },
    {
     "name": "stderr",
     "output_type": "stream",
     "text": [
      "Creating video: 100%|██████████| 126/126 [00:01<00:00, 86.59it/s]\n"
     ]
    },
    {
     "name": "stdout",
     "output_type": "stream",
     "text": [
      "Video created successfully: visualization/output/action_1267/video/action_1267.mp4\n",
      "Visualization completed for data/gamestate_output/action_1267.json\n",
      "Frames saved to visualization/output/action_1267/frames\n",
      "Video saved to visualization/output/action_1267/video/action_1267.mp4\n",
      "Processing 126 frames ...\n"
     ]
    },
    {
     "name": "stderr",
     "output_type": "stream",
     "text": [
      "Processing frames: 100%|██████████| 126/126 [00:03<00:00, 40.36it/s]\n"
     ]
    },
    {
     "name": "stdout",
     "output_type": "stream",
     "text": [
      "Completed! All frames saved to visualization/output/action_1565/frames\n",
      "Creating video from 126 frames...\n"
     ]
    },
    {
     "name": "stderr",
     "output_type": "stream",
     "text": [
      "Creating video: 100%|██████████| 126/126 [00:01<00:00, 86.77it/s]\n"
     ]
    },
    {
     "name": "stdout",
     "output_type": "stream",
     "text": [
      "Video created successfully: visualization/output/action_1565/video/action_1565.mp4\n",
      "Visualization completed for data/gamestate_output/action_1565.json\n",
      "Frames saved to visualization/output/action_1565/frames\n",
      "Video saved to visualization/output/action_1565/video/action_1565.mp4\n",
      "Processing 126 frames ...\n"
     ]
    },
    {
     "name": "stderr",
     "output_type": "stream",
     "text": [
      "Processing frames: 100%|██████████| 126/126 [00:02<00:00, 42.29it/s]\n"
     ]
    },
    {
     "name": "stdout",
     "output_type": "stream",
     "text": [
      "Completed! All frames saved to visualization/output/action_1836/frames\n",
      "Creating video from 126 frames...\n"
     ]
    },
    {
     "name": "stderr",
     "output_type": "stream",
     "text": [
      "Creating video: 100%|██████████| 126/126 [00:01<00:00, 83.47it/s]\n"
     ]
    },
    {
     "name": "stdout",
     "output_type": "stream",
     "text": [
      "Video created successfully: visualization/output/action_1836/video/action_1836.mp4\n",
      "Visualization completed for data/gamestate_output/action_1836.json\n",
      "Frames saved to visualization/output/action_1836/frames\n",
      "Video saved to visualization/output/action_1836/video/action_1836.mp4\n",
      "Processing 126 frames ...\n"
     ]
    },
    {
     "name": "stderr",
     "output_type": "stream",
     "text": [
      "Processing frames: 100%|██████████| 126/126 [00:02<00:00, 47.21it/s]\n"
     ]
    },
    {
     "name": "stdout",
     "output_type": "stream",
     "text": [
      "Completed! All frames saved to visualization/output/action_2826/frames\n",
      "Creating video from 126 frames...\n"
     ]
    },
    {
     "name": "stderr",
     "output_type": "stream",
     "text": [
      "Creating video: 100%|██████████| 126/126 [00:01<00:00, 85.32it/s]\n"
     ]
    },
    {
     "name": "stdout",
     "output_type": "stream",
     "text": [
      "Video created successfully: visualization/output/action_2826/video/action_2826.mp4\n",
      "Visualization completed for data/gamestate_output/action_2826.json\n",
      "Frames saved to visualization/output/action_2826/frames\n",
      "Video saved to visualization/output/action_2826/video/action_2826.mp4\n",
      "Processing 126 frames ...\n"
     ]
    },
    {
     "name": "stderr",
     "output_type": "stream",
     "text": [
      "Processing frames: 100%|██████████| 126/126 [00:02<00:00, 49.26it/s]\n"
     ]
    },
    {
     "name": "stdout",
     "output_type": "stream",
     "text": [
      "Completed! All frames saved to visualization/output/action_534/frames\n",
      "Creating video from 126 frames...\n"
     ]
    },
    {
     "name": "stderr",
     "output_type": "stream",
     "text": [
      "Creating video: 100%|██████████| 126/126 [00:01<00:00, 86.60it/s]\n"
     ]
    },
    {
     "name": "stdout",
     "output_type": "stream",
     "text": [
      "Video created successfully: visualization/output/action_534/video/action_534.mp4\n",
      "Visualization completed for data/gamestate_output/action_534.json\n",
      "Frames saved to visualization/output/action_534/frames\n",
      "Video saved to visualization/output/action_534/video/action_534.mp4\n",
      "Processing 126 frames ...\n"
     ]
    },
    {
     "name": "stderr",
     "output_type": "stream",
     "text": [
      "Processing frames: 100%|██████████| 126/126 [00:03<00:00, 37.63it/s]\n"
     ]
    },
    {
     "name": "stdout",
     "output_type": "stream",
     "text": [
      "Completed! All frames saved to visualization/output/action_2430/frames\n",
      "Creating video from 126 frames...\n"
     ]
    },
    {
     "name": "stderr",
     "output_type": "stream",
     "text": [
      "Creating video: 100%|██████████| 126/126 [00:01<00:00, 84.20it/s]\n"
     ]
    },
    {
     "name": "stdout",
     "output_type": "stream",
     "text": [
      "Video created successfully: visualization/output/action_2430/video/action_2430.mp4\n",
      "Visualization completed for data/gamestate_output/action_2430.json\n",
      "Frames saved to visualization/output/action_2430/frames\n",
      "Video saved to visualization/output/action_2430/video/action_2430.mp4\n",
      "Processing 126 frames ...\n"
     ]
    },
    {
     "name": "stderr",
     "output_type": "stream",
     "text": [
      "Processing frames: 100%|██████████| 126/126 [00:03<00:00, 39.96it/s]\n"
     ]
    },
    {
     "name": "stdout",
     "output_type": "stream",
     "text": [
      "Completed! All frames saved to visualization/output/action_1861/frames\n",
      "Creating video from 126 frames...\n"
     ]
    },
    {
     "name": "stderr",
     "output_type": "stream",
     "text": [
      "Creating video: 100%|██████████| 126/126 [00:01<00:00, 72.82it/s]\n"
     ]
    },
    {
     "name": "stdout",
     "output_type": "stream",
     "text": [
      "Video created successfully: visualization/output/action_1861/video/action_1861.mp4\n",
      "Visualization completed for data/gamestate_output/action_1861.json\n",
      "Frames saved to visualization/output/action_1861/frames\n",
      "Video saved to visualization/output/action_1861/video/action_1861.mp4\n",
      "Processing 126 frames ...\n"
     ]
    },
    {
     "name": "stderr",
     "output_type": "stream",
     "text": [
      "Processing frames: 100%|██████████| 126/126 [00:02<00:00, 42.08it/s]\n"
     ]
    },
    {
     "name": "stdout",
     "output_type": "stream",
     "text": [
      "Completed! All frames saved to visualization/output/action_1477/frames\n",
      "Creating video from 126 frames...\n"
     ]
    },
    {
     "name": "stderr",
     "output_type": "stream",
     "text": [
      "Creating video: 100%|██████████| 126/126 [00:01<00:00, 82.91it/s]\n"
     ]
    },
    {
     "name": "stdout",
     "output_type": "stream",
     "text": [
      "Video created successfully: visualization/output/action_1477/video/action_1477.mp4\n",
      "Visualization completed for data/gamestate_output/action_1477.json\n",
      "Frames saved to visualization/output/action_1477/frames\n",
      "Video saved to visualization/output/action_1477/video/action_1477.mp4\n",
      "Processing 126 frames ...\n"
     ]
    },
    {
     "name": "stderr",
     "output_type": "stream",
     "text": [
      "Processing frames: 100%|██████████| 126/126 [00:02<00:00, 44.52it/s]\n"
     ]
    },
    {
     "name": "stdout",
     "output_type": "stream",
     "text": [
      "Completed! All frames saved to visualization/output/action_2871/frames\n",
      "Creating video from 126 frames...\n"
     ]
    },
    {
     "name": "stderr",
     "output_type": "stream",
     "text": [
      "Creating video: 100%|██████████| 126/126 [00:01<00:00, 80.60it/s]\n"
     ]
    },
    {
     "name": "stdout",
     "output_type": "stream",
     "text": [
      "Video created successfully: visualization/output/action_2871/video/action_2871.mp4\n",
      "Visualization completed for data/gamestate_output/action_2871.json\n",
      "Frames saved to visualization/output/action_2871/frames\n",
      "Video saved to visualization/output/action_2871/video/action_2871.mp4\n",
      "Processing 126 frames ...\n"
     ]
    },
    {
     "name": "stderr",
     "output_type": "stream",
     "text": [
      "Processing frames: 100%|██████████| 126/126 [00:02<00:00, 42.16it/s]\n"
     ]
    },
    {
     "name": "stdout",
     "output_type": "stream",
     "text": [
      "Completed! All frames saved to visualization/output/action_2522/frames\n",
      "Creating video from 126 frames...\n"
     ]
    },
    {
     "name": "stderr",
     "output_type": "stream",
     "text": [
      "Creating video: 100%|██████████| 126/126 [00:01<00:00, 81.49it/s]\n"
     ]
    },
    {
     "name": "stdout",
     "output_type": "stream",
     "text": [
      "Video created successfully: visualization/output/action_2522/video/action_2522.mp4\n",
      "Visualization completed for data/gamestate_output/action_2522.json\n",
      "Frames saved to visualization/output/action_2522/frames\n",
      "Video saved to visualization/output/action_2522/video/action_2522.mp4\n",
      "Processing 126 frames ...\n"
     ]
    },
    {
     "name": "stderr",
     "output_type": "stream",
     "text": [
      "Processing frames: 100%|██████████| 126/126 [00:03<00:00, 37.21it/s]\n"
     ]
    },
    {
     "name": "stdout",
     "output_type": "stream",
     "text": [
      "Completed! All frames saved to visualization/output/action_1524/frames\n",
      "Creating video from 126 frames...\n"
     ]
    },
    {
     "name": "stderr",
     "output_type": "stream",
     "text": [
      "Creating video: 100%|██████████| 126/126 [00:01<00:00, 70.56it/s]\n"
     ]
    },
    {
     "name": "stdout",
     "output_type": "stream",
     "text": [
      "Video created successfully: visualization/output/action_1524/video/action_1524.mp4\n",
      "Visualization completed for data/gamestate_output/action_1524.json\n",
      "Frames saved to visualization/output/action_1524/frames\n",
      "Video saved to visualization/output/action_1524/video/action_1524.mp4\n",
      "Processing 126 frames ...\n"
     ]
    },
    {
     "name": "stderr",
     "output_type": "stream",
     "text": [
      "Processing frames: 100%|██████████| 126/126 [00:03<00:00, 37.78it/s]\n"
     ]
    },
    {
     "name": "stdout",
     "output_type": "stream",
     "text": [
      "Completed! All frames saved to visualization/output/action_1174/frames\n",
      "Creating video from 126 frames...\n"
     ]
    },
    {
     "name": "stderr",
     "output_type": "stream",
     "text": [
      "Creating video: 100%|██████████| 126/126 [00:01<00:00, 63.96it/s]\n"
     ]
    },
    {
     "name": "stdout",
     "output_type": "stream",
     "text": [
      "Video created successfully: visualization/output/action_1174/video/action_1174.mp4\n",
      "Visualization completed for data/gamestate_output/action_1174.json\n",
      "Frames saved to visualization/output/action_1174/frames\n",
      "Video saved to visualization/output/action_1174/video/action_1174.mp4\n",
      "Processing 126 frames ...\n"
     ]
    },
    {
     "name": "stderr",
     "output_type": "stream",
     "text": [
      "Processing frames: 100%|██████████| 126/126 [00:03<00:00, 41.11it/s]\n"
     ]
    },
    {
     "name": "stdout",
     "output_type": "stream",
     "text": [
      "Completed! All frames saved to visualization/output/action_2758/frames\n",
      "Creating video from 126 frames...\n"
     ]
    },
    {
     "name": "stderr",
     "output_type": "stream",
     "text": [
      "Creating video: 100%|██████████| 126/126 [00:01<00:00, 69.88it/s]\n"
     ]
    },
    {
     "name": "stdout",
     "output_type": "stream",
     "text": [
      "Video created successfully: visualization/output/action_2758/video/action_2758.mp4\n",
      "Visualization completed for data/gamestate_output/action_2758.json\n",
      "Frames saved to visualization/output/action_2758/frames\n",
      "Video saved to visualization/output/action_2758/video/action_2758.mp4\n",
      "Processing 126 frames ...\n"
     ]
    },
    {
     "name": "stderr",
     "output_type": "stream",
     "text": [
      "Processing frames: 100%|██████████| 126/126 [00:02<00:00, 49.25it/s]\n"
     ]
    },
    {
     "name": "stdout",
     "output_type": "stream",
     "text": [
      "Completed! All frames saved to visualization/output/action_349/frames\n",
      "Creating video from 126 frames...\n"
     ]
    },
    {
     "name": "stderr",
     "output_type": "stream",
     "text": [
      "Creating video: 100%|██████████| 126/126 [00:01<00:00, 73.89it/s]\n"
     ]
    },
    {
     "name": "stdout",
     "output_type": "stream",
     "text": [
      "Video created successfully: visualization/output/action_349/video/action_349.mp4\n",
      "Visualization completed for data/gamestate_output/action_349.json\n",
      "Frames saved to visualization/output/action_349/frames\n",
      "Video saved to visualization/output/action_349/video/action_349.mp4\n",
      "Processing 126 frames ...\n"
     ]
    },
    {
     "name": "stderr",
     "output_type": "stream",
     "text": [
      "Processing frames: 100%|██████████| 126/126 [00:03<00:00, 41.17it/s]\n"
     ]
    },
    {
     "name": "stdout",
     "output_type": "stream",
     "text": [
      "Completed! All frames saved to visualization/output/action_1932/frames\n",
      "Creating video from 126 frames...\n"
     ]
    },
    {
     "name": "stderr",
     "output_type": "stream",
     "text": [
      "Creating video: 100%|██████████| 126/126 [00:01<00:00, 78.51it/s]\n"
     ]
    },
    {
     "name": "stdout",
     "output_type": "stream",
     "text": [
      "Video created successfully: visualization/output/action_1932/video/action_1932.mp4\n",
      "Visualization completed for data/gamestate_output/action_1932.json\n",
      "Frames saved to visualization/output/action_1932/frames\n",
      "Video saved to visualization/output/action_1932/video/action_1932.mp4\n",
      "Processing 126 frames ...\n"
     ]
    },
    {
     "name": "stderr",
     "output_type": "stream",
     "text": [
      "Processing frames: 100%|██████████| 126/126 [00:02<00:00, 44.77it/s]\n"
     ]
    },
    {
     "name": "stdout",
     "output_type": "stream",
     "text": [
      "Completed! All frames saved to visualization/output/action_2164/frames\n",
      "Creating video from 126 frames...\n"
     ]
    },
    {
     "name": "stderr",
     "output_type": "stream",
     "text": [
      "Creating video: 100%|██████████| 126/126 [00:01<00:00, 70.33it/s]\n"
     ]
    },
    {
     "name": "stdout",
     "output_type": "stream",
     "text": [
      "Video created successfully: visualization/output/action_2164/video/action_2164.mp4\n",
      "Visualization completed for data/gamestate_output/action_2164.json\n",
      "Frames saved to visualization/output/action_2164/frames\n",
      "Video saved to visualization/output/action_2164/video/action_2164.mp4\n",
      "Processing 126 frames ...\n"
     ]
    },
    {
     "name": "stderr",
     "output_type": "stream",
     "text": [
      "Processing frames: 100%|██████████| 126/126 [00:03<00:00, 34.48it/s]\n"
     ]
    },
    {
     "name": "stdout",
     "output_type": "stream",
     "text": [
      "Completed! All frames saved to visualization/output/action_1748/frames\n",
      "Creating video from 126 frames...\n"
     ]
    },
    {
     "name": "stderr",
     "output_type": "stream",
     "text": [
      "Creating video: 100%|██████████| 126/126 [00:01<00:00, 65.30it/s]\n"
     ]
    },
    {
     "name": "stdout",
     "output_type": "stream",
     "text": [
      "Video created successfully: visualization/output/action_1748/video/action_1748.mp4\n",
      "Visualization completed for data/gamestate_output/action_1748.json\n",
      "Frames saved to visualization/output/action_1748/frames\n",
      "Video saved to visualization/output/action_1748/video/action_1748.mp4\n",
      "Processing 126 frames ...\n"
     ]
    },
    {
     "name": "stderr",
     "output_type": "stream",
     "text": [
      "Processing frames: 100%|██████████| 126/126 [00:03<00:00, 35.05it/s]\n"
     ]
    },
    {
     "name": "stdout",
     "output_type": "stream",
     "text": [
      "Completed! All frames saved to visualization/output/action_826/frames\n",
      "Creating video from 126 frames...\n"
     ]
    },
    {
     "name": "stderr",
     "output_type": "stream",
     "text": [
      "Creating video: 100%|██████████| 126/126 [00:01<00:00, 68.75it/s]\n"
     ]
    },
    {
     "name": "stdout",
     "output_type": "stream",
     "text": [
      "Video created successfully: visualization/output/action_826/video/action_826.mp4\n",
      "Visualization completed for data/gamestate_output/action_826.json\n",
      "Frames saved to visualization/output/action_826/frames\n",
      "Video saved to visualization/output/action_826/video/action_826.mp4\n",
      "Processing 126 frames ...\n"
     ]
    },
    {
     "name": "stderr",
     "output_type": "stream",
     "text": [
      "Processing frames: 100%|██████████| 126/126 [00:03<00:00, 37.24it/s]\n"
     ]
    },
    {
     "name": "stdout",
     "output_type": "stream",
     "text": [
      "Completed! All frames saved to visualization/output/action_1820/frames\n",
      "Creating video from 126 frames...\n"
     ]
    },
    {
     "name": "stderr",
     "output_type": "stream",
     "text": [
      "Creating video: 100%|██████████| 126/126 [00:01<00:00, 73.80it/s]\n"
     ]
    },
    {
     "name": "stdout",
     "output_type": "stream",
     "text": [
      "Video created successfully: visualization/output/action_1820/video/action_1820.mp4\n",
      "Visualization completed for data/gamestate_output/action_1820.json\n",
      "Frames saved to visualization/output/action_1820/frames\n",
      "Video saved to visualization/output/action_1820/video/action_1820.mp4\n",
      "Processing 126 frames ...\n"
     ]
    },
    {
     "name": "stderr",
     "output_type": "stream",
     "text": [
      "Processing frames: 100%|██████████| 126/126 [00:03<00:00, 39.49it/s]\n"
     ]
    },
    {
     "name": "stdout",
     "output_type": "stream",
     "text": [
      "Completed! All frames saved to visualization/output/action_1066/frames\n",
      "Creating video from 126 frames...\n"
     ]
    },
    {
     "name": "stderr",
     "output_type": "stream",
     "text": [
      "Creating video: 100%|██████████| 126/126 [00:01<00:00, 73.78it/s]\n"
     ]
    },
    {
     "name": "stdout",
     "output_type": "stream",
     "text": [
      "Video created successfully: visualization/output/action_1066/video/action_1066.mp4\n",
      "Visualization completed for data/gamestate_output/action_1066.json\n",
      "Frames saved to visualization/output/action_1066/frames\n",
      "Video saved to visualization/output/action_1066/video/action_1066.mp4\n",
      "Processing 126 frames ...\n"
     ]
    },
    {
     "name": "stderr",
     "output_type": "stream",
     "text": [
      "Processing frames: 100%|██████████| 126/126 [00:03<00:00, 40.53it/s]\n"
     ]
    },
    {
     "name": "stdout",
     "output_type": "stream",
     "text": [
      "Completed! All frames saved to visualization/output/action_934/frames\n",
      "Creating video from 126 frames...\n"
     ]
    },
    {
     "name": "stderr",
     "output_type": "stream",
     "text": [
      "Creating video: 100%|██████████| 126/126 [00:01<00:00, 75.47it/s]\n"
     ]
    },
    {
     "name": "stdout",
     "output_type": "stream",
     "text": [
      "Video created successfully: visualization/output/action_934/video/action_934.mp4\n",
      "Visualization completed for data/gamestate_output/action_934.json\n",
      "Frames saved to visualization/output/action_934/frames\n",
      "Video saved to visualization/output/action_934/video/action_934.mp4\n",
      "Processing 126 frames ...\n"
     ]
    },
    {
     "name": "stderr",
     "output_type": "stream",
     "text": [
      "Processing frames: 100%|██████████| 126/126 [00:03<00:00, 40.22it/s]\n"
     ]
    },
    {
     "name": "stdout",
     "output_type": "stream",
     "text": [
      "Completed! All frames saved to visualization/output/action_2099/frames\n",
      "Creating video from 126 frames...\n"
     ]
    },
    {
     "name": "stderr",
     "output_type": "stream",
     "text": [
      "Creating video: 100%|██████████| 126/126 [00:01<00:00, 69.93it/s]\n"
     ]
    },
    {
     "name": "stdout",
     "output_type": "stream",
     "text": [
      "Video created successfully: visualization/output/action_2099/video/action_2099.mp4\n",
      "Visualization completed for data/gamestate_output/action_2099.json\n",
      "Frames saved to visualization/output/action_2099/frames\n",
      "Video saved to visualization/output/action_2099/video/action_2099.mp4\n",
      "Processing 126 frames ...\n"
     ]
    },
    {
     "name": "stderr",
     "output_type": "stream",
     "text": [
      "Processing frames: 100%|██████████| 126/126 [00:03<00:00, 40.21it/s]\n"
     ]
    },
    {
     "name": "stdout",
     "output_type": "stream",
     "text": [
      "Completed! All frames saved to visualization/output/action_2831/frames\n",
      "Creating video from 126 frames...\n"
     ]
    },
    {
     "name": "stderr",
     "output_type": "stream",
     "text": [
      "Creating video: 100%|██████████| 126/126 [00:01<00:00, 63.46it/s]\n"
     ]
    },
    {
     "name": "stdout",
     "output_type": "stream",
     "text": [
      "Video created successfully: visualization/output/action_2831/video/action_2831.mp4\n",
      "Visualization completed for data/gamestate_output/action_2831.json\n",
      "Frames saved to visualization/output/action_2831/frames\n",
      "Video saved to visualization/output/action_2831/video/action_2831.mp4\n",
      "Processing 126 frames ...\n"
     ]
    },
    {
     "name": "stderr",
     "output_type": "stream",
     "text": [
      "Processing frames: 100%|██████████| 126/126 [00:03<00:00, 37.96it/s]\n"
     ]
    },
    {
     "name": "stdout",
     "output_type": "stream",
     "text": [
      "Completed! All frames saved to visualization/output/action_466/frames\n",
      "Creating video from 126 frames...\n"
     ]
    },
    {
     "name": "stderr",
     "output_type": "stream",
     "text": [
      "Creating video: 100%|██████████| 126/126 [00:01<00:00, 68.74it/s]\n"
     ]
    },
    {
     "name": "stdout",
     "output_type": "stream",
     "text": [
      "Video created successfully: visualization/output/action_466/video/action_466.mp4\n",
      "Visualization completed for data/gamestate_output/action_466.json\n",
      "Frames saved to visualization/output/action_466/frames\n",
      "Video saved to visualization/output/action_466/video/action_466.mp4\n",
      "Processing 126 frames ...\n"
     ]
    },
    {
     "name": "stderr",
     "output_type": "stream",
     "text": [
      "Processing frames: 100%|██████████| 126/126 [00:03<00:00, 37.99it/s]\n"
     ]
    },
    {
     "name": "stdout",
     "output_type": "stream",
     "text": [
      "Completed! All frames saved to visualization/output/action_1821/frames\n",
      "Creating video from 126 frames...\n"
     ]
    },
    {
     "name": "stderr",
     "output_type": "stream",
     "text": [
      "Creating video: 100%|██████████| 126/126 [00:01<00:00, 70.77it/s]\n"
     ]
    },
    {
     "name": "stdout",
     "output_type": "stream",
     "text": [
      "Video created successfully: visualization/output/action_1821/video/action_1821.mp4\n",
      "Visualization completed for data/gamestate_output/action_1821.json\n",
      "Frames saved to visualization/output/action_1821/frames\n",
      "Video saved to visualization/output/action_1821/video/action_1821.mp4\n",
      "Processing 126 frames ...\n"
     ]
    },
    {
     "name": "stderr",
     "output_type": "stream",
     "text": [
      "Processing frames: 100%|██████████| 126/126 [00:02<00:00, 52.30it/s]\n"
     ]
    },
    {
     "name": "stdout",
     "output_type": "stream",
     "text": [
      "Completed! All frames saved to visualization/output/action_2866/frames\n",
      "Creating video from 126 frames...\n"
     ]
    },
    {
     "name": "stderr",
     "output_type": "stream",
     "text": [
      "Creating video: 100%|██████████| 126/126 [00:01<00:00, 66.90it/s]\n"
     ]
    },
    {
     "name": "stdout",
     "output_type": "stream",
     "text": [
      "Video created successfully: visualization/output/action_2866/video/action_2866.mp4\n",
      "Visualization completed for data/gamestate_output/action_2866.json\n",
      "Frames saved to visualization/output/action_2866/frames\n",
      "Video saved to visualization/output/action_2866/video/action_2866.mp4\n",
      "Processing 126 frames ...\n"
     ]
    },
    {
     "name": "stderr",
     "output_type": "stream",
     "text": [
      "Processing frames: 100%|██████████| 126/126 [00:03<00:00, 34.14it/s]\n"
     ]
    },
    {
     "name": "stdout",
     "output_type": "stream",
     "text": [
      "Completed! All frames saved to visualization/output/action_2309/frames\n",
      "Creating video from 126 frames...\n"
     ]
    },
    {
     "name": "stderr",
     "output_type": "stream",
     "text": [
      "Creating video: 100%|██████████| 126/126 [00:01<00:00, 74.23it/s]\n"
     ]
    },
    {
     "name": "stdout",
     "output_type": "stream",
     "text": [
      "Video created successfully: visualization/output/action_2309/video/action_2309.mp4\n",
      "Visualization completed for data/gamestate_output/action_2309.json\n",
      "Frames saved to visualization/output/action_2309/frames\n",
      "Video saved to visualization/output/action_2309/video/action_2309.mp4\n",
      "Processing 126 frames ...\n"
     ]
    },
    {
     "name": "stderr",
     "output_type": "stream",
     "text": [
      "Processing frames: 100%|██████████| 126/126 [00:02<00:00, 42.97it/s]\n"
     ]
    },
    {
     "name": "stdout",
     "output_type": "stream",
     "text": [
      "Completed! All frames saved to visualization/output/action_427/frames\n",
      "Creating video from 126 frames...\n"
     ]
    },
    {
     "name": "stderr",
     "output_type": "stream",
     "text": [
      "Creating video: 100%|██████████| 126/126 [00:01<00:00, 65.28it/s]\n"
     ]
    },
    {
     "name": "stdout",
     "output_type": "stream",
     "text": [
      "Video created successfully: visualization/output/action_427/video/action_427.mp4\n",
      "Visualization completed for data/gamestate_output/action_427.json\n",
      "Frames saved to visualization/output/action_427/frames\n",
      "Video saved to visualization/output/action_427/video/action_427.mp4\n",
      "Processing 126 frames ...\n"
     ]
    },
    {
     "name": "stderr",
     "output_type": "stream",
     "text": [
      "Processing frames: 100%|██████████| 126/126 [00:02<00:00, 42.10it/s]\n"
     ]
    },
    {
     "name": "stdout",
     "output_type": "stream",
     "text": [
      "Completed! All frames saved to visualization/output/action_2523/frames\n",
      "Creating video from 126 frames...\n"
     ]
    },
    {
     "name": "stderr",
     "output_type": "stream",
     "text": [
      "Creating video: 100%|██████████| 126/126 [00:01<00:00, 73.10it/s]\n"
     ]
    },
    {
     "name": "stdout",
     "output_type": "stream",
     "text": [
      "Video created successfully: visualization/output/action_2523/video/action_2523.mp4\n",
      "Visualization completed for data/gamestate_output/action_2523.json\n",
      "Frames saved to visualization/output/action_2523/frames\n",
      "Video saved to visualization/output/action_2523/video/action_2523.mp4\n",
      "Processing 126 frames ...\n"
     ]
    },
    {
     "name": "stderr",
     "output_type": "stream",
     "text": [
      "Processing frames: 100%|██████████| 126/126 [00:02<00:00, 49.05it/s]\n"
     ]
    },
    {
     "name": "stdout",
     "output_type": "stream",
     "text": [
      "Completed! All frames saved to visualization/output/action_132/frames\n",
      "Creating video from 126 frames...\n"
     ]
    },
    {
     "name": "stderr",
     "output_type": "stream",
     "text": [
      "Creating video: 100%|██████████| 126/126 [00:01<00:00, 66.32it/s]\n"
     ]
    },
    {
     "name": "stdout",
     "output_type": "stream",
     "text": [
      "Video created successfully: visualization/output/action_132/video/action_132.mp4\n",
      "Visualization completed for data/gamestate_output/action_132.json\n",
      "Frames saved to visualization/output/action_132/frames\n",
      "Video saved to visualization/output/action_132/video/action_132.mp4\n",
      "Processing 126 frames ...\n"
     ]
    },
    {
     "name": "stderr",
     "output_type": "stream",
     "text": [
      "Processing frames: 100%|██████████| 126/126 [00:03<00:00, 37.26it/s]\n"
     ]
    },
    {
     "name": "stdout",
     "output_type": "stream",
     "text": [
      "Completed! All frames saved to visualization/output/action_831/frames\n",
      "Creating video from 126 frames...\n"
     ]
    },
    {
     "name": "stderr",
     "output_type": "stream",
     "text": [
      "Creating video: 100%|██████████| 126/126 [00:01<00:00, 66.34it/s]\n"
     ]
    },
    {
     "name": "stdout",
     "output_type": "stream",
     "text": [
      "Video created successfully: visualization/output/action_831/video/action_831.mp4\n",
      "Visualization completed for data/gamestate_output/action_831.json\n",
      "Frames saved to visualization/output/action_831/frames\n",
      "Video saved to visualization/output/action_831/video/action_831.mp4\n",
      "Processing 126 frames ...\n"
     ]
    },
    {
     "name": "stderr",
     "output_type": "stream",
     "text": [
      "Processing frames: 100%|██████████| 126/126 [00:03<00:00, 36.13it/s]\n"
     ]
    },
    {
     "name": "stdout",
     "output_type": "stream",
     "text": [
      "Completed! All frames saved to visualization/output/action_1476/frames\n",
      "Creating video from 126 frames...\n"
     ]
    },
    {
     "name": "stderr",
     "output_type": "stream",
     "text": [
      "Creating video: 100%|██████████| 126/126 [00:01<00:00, 75.91it/s]\n"
     ]
    },
    {
     "name": "stdout",
     "output_type": "stream",
     "text": [
      "Video created successfully: visualization/output/action_1476/video/action_1476.mp4\n",
      "Visualization completed for data/gamestate_output/action_1476.json\n",
      "Frames saved to visualization/output/action_1476/frames\n",
      "Video saved to visualization/output/action_1476/video/action_1476.mp4\n",
      "Processing 126 frames ...\n"
     ]
    },
    {
     "name": "stderr",
     "output_type": "stream",
     "text": [
      "Processing frames: 100%|██████████| 126/126 [00:03<00:00, 34.84it/s]\n"
     ]
    },
    {
     "name": "stdout",
     "output_type": "stream",
     "text": [
      "Completed! All frames saved to visualization/output/action_1925/frames\n",
      "Creating video from 126 frames...\n"
     ]
    },
    {
     "name": "stderr",
     "output_type": "stream",
     "text": [
      "Creating video: 100%|██████████| 126/126 [00:01<00:00, 76.05it/s]\n"
     ]
    },
    {
     "name": "stdout",
     "output_type": "stream",
     "text": [
      "Video created successfully: visualization/output/action_1925/video/action_1925.mp4\n",
      "Visualization completed for data/gamestate_output/action_1925.json\n",
      "Frames saved to visualization/output/action_1925/frames\n",
      "Video saved to visualization/output/action_1925/video/action_1925.mp4\n",
      "Processing 126 frames ...\n"
     ]
    },
    {
     "name": "stderr",
     "output_type": "stream",
     "text": [
      "Processing frames: 100%|██████████| 126/126 [00:03<00:00, 41.69it/s]\n"
     ]
    },
    {
     "name": "stdout",
     "output_type": "stream",
     "text": [
      "Completed! All frames saved to visualization/output/action_2718/frames\n",
      "Creating video from 126 frames...\n"
     ]
    },
    {
     "name": "stderr",
     "output_type": "stream",
     "text": [
      "Creating video: 100%|██████████| 126/126 [00:01<00:00, 77.34it/s]\n"
     ]
    },
    {
     "name": "stdout",
     "output_type": "stream",
     "text": [
      "Video created successfully: visualization/output/action_2718/video/action_2718.mp4\n",
      "Visualization completed for data/gamestate_output/action_2718.json\n",
      "Frames saved to visualization/output/action_2718/frames\n",
      "Video saved to visualization/output/action_2718/video/action_2718.mp4\n",
      "Processing 126 frames ...\n"
     ]
    },
    {
     "name": "stderr",
     "output_type": "stream",
     "text": [
      "Processing frames: 100%|██████████| 126/126 [00:03<00:00, 40.53it/s]\n"
     ]
    },
    {
     "name": "stdout",
     "output_type": "stream",
     "text": [
      "Completed! All frames saved to visualization/output/action_958/frames\n",
      "Creating video from 126 frames...\n"
     ]
    },
    {
     "name": "stderr",
     "output_type": "stream",
     "text": [
      "Creating video: 100%|██████████| 126/126 [00:01<00:00, 80.75it/s]\n"
     ]
    },
    {
     "name": "stdout",
     "output_type": "stream",
     "text": [
      "Video created successfully: visualization/output/action_958/video/action_958.mp4\n",
      "Visualization completed for data/gamestate_output/action_958.json\n",
      "Frames saved to visualization/output/action_958/frames\n",
      "Video saved to visualization/output/action_958/video/action_958.mp4\n",
      "Processing 126 frames ...\n"
     ]
    },
    {
     "name": "stderr",
     "output_type": "stream",
     "text": [
      "Processing frames: 100%|██████████| 126/126 [00:03<00:00, 39.04it/s]\n"
     ]
    },
    {
     "name": "stdout",
     "output_type": "stream",
     "text": [
      "Completed! All frames saved to visualization/output/action_2763/frames\n",
      "Creating video from 126 frames...\n"
     ]
    },
    {
     "name": "stderr",
     "output_type": "stream",
     "text": [
      "Creating video: 100%|██████████| 126/126 [00:01<00:00, 82.88it/s]\n"
     ]
    },
    {
     "name": "stdout",
     "output_type": "stream",
     "text": [
      "Video created successfully: visualization/output/action_2763/video/action_2763.mp4\n",
      "Visualization completed for data/gamestate_output/action_2763.json\n",
      "Frames saved to visualization/output/action_2763/frames\n",
      "Video saved to visualization/output/action_2763/video/action_2763.mp4\n",
      "Processing 126 frames ...\n"
     ]
    },
    {
     "name": "stderr",
     "output_type": "stream",
     "text": [
      "Processing frames: 100%|██████████| 126/126 [00:03<00:00, 40.44it/s]\n"
     ]
    },
    {
     "name": "stdout",
     "output_type": "stream",
     "text": [
      "Completed! All frames saved to visualization/output/action_667/frames\n",
      "Creating video from 126 frames...\n"
     ]
    },
    {
     "name": "stderr",
     "output_type": "stream",
     "text": [
      "Creating video: 100%|██████████| 126/126 [00:01<00:00, 76.17it/s]\n"
     ]
    },
    {
     "name": "stdout",
     "output_type": "stream",
     "text": [
      "Video created successfully: visualization/output/action_667/video/action_667.mp4\n",
      "Visualization completed for data/gamestate_output/action_667.json\n",
      "Frames saved to visualization/output/action_667/frames\n",
      "Video saved to visualization/output/action_667/video/action_667.mp4\n",
      "Processing 126 frames ...\n"
     ]
    },
    {
     "name": "stderr",
     "output_type": "stream",
     "text": [
      "Processing frames: 100%|██████████| 126/126 [00:02<00:00, 42.75it/s]\n"
     ]
    },
    {
     "name": "stdout",
     "output_type": "stream",
     "text": [
      "Completed! All frames saved to visualization/output/action_1374/frames\n",
      "Creating video from 126 frames...\n"
     ]
    },
    {
     "name": "stderr",
     "output_type": "stream",
     "text": [
      "Creating video: 100%|██████████| 126/126 [00:01<00:00, 73.56it/s]\n"
     ]
    },
    {
     "name": "stdout",
     "output_type": "stream",
     "text": [
      "Video created successfully: visualization/output/action_1374/video/action_1374.mp4\n",
      "Visualization completed for data/gamestate_output/action_1374.json\n",
      "Frames saved to visualization/output/action_1374/frames\n",
      "Video saved to visualization/output/action_1374/video/action_1374.mp4\n",
      "Processing 126 frames ...\n"
     ]
    },
    {
     "name": "stderr",
     "output_type": "stream",
     "text": [
      "Processing frames: 100%|██████████| 126/126 [00:03<00:00, 37.57it/s]\n"
     ]
    },
    {
     "name": "stdout",
     "output_type": "stream",
     "text": [
      "Completed! All frames saved to visualization/output/action_2237/frames\n",
      "Creating video from 126 frames...\n"
     ]
    },
    {
     "name": "stderr",
     "output_type": "stream",
     "text": [
      "Creating video: 100%|██████████| 126/126 [00:01<00:00, 76.18it/s]\n"
     ]
    },
    {
     "name": "stdout",
     "output_type": "stream",
     "text": [
      "Video created successfully: visualization/output/action_2237/video/action_2237.mp4\n",
      "Visualization completed for data/gamestate_output/action_2237.json\n",
      "Frames saved to visualization/output/action_2237/frames\n",
      "Video saved to visualization/output/action_2237/video/action_2237.mp4\n",
      "Processing 126 frames ...\n"
     ]
    },
    {
     "name": "stderr",
     "output_type": "stream",
     "text": [
      "Processing frames: 100%|██████████| 126/126 [00:03<00:00, 41.85it/s]\n"
     ]
    },
    {
     "name": "stdout",
     "output_type": "stream",
     "text": [
      "Completed! All frames saved to visualization/output/action_1270/frames\n",
      "Creating video from 126 frames...\n"
     ]
    },
    {
     "name": "stderr",
     "output_type": "stream",
     "text": [
      "Creating video: 100%|██████████| 126/126 [00:01<00:00, 74.31it/s]\n"
     ]
    },
    {
     "name": "stdout",
     "output_type": "stream",
     "text": [
      "Video created successfully: visualization/output/action_1270/video/action_1270.mp4\n",
      "Visualization completed for data/gamestate_output/action_1270.json\n",
      "Frames saved to visualization/output/action_1270/frames\n",
      "Video saved to visualization/output/action_1270/video/action_1270.mp4\n",
      "Processing 126 frames ...\n"
     ]
    },
    {
     "name": "stderr",
     "output_type": "stream",
     "text": [
      "Processing frames: 100%|██████████| 126/126 [00:03<00:00, 37.61it/s]\n"
     ]
    },
    {
     "name": "stdout",
     "output_type": "stream",
     "text": [
      "Completed! All frames saved to visualization/output/action_2149/frames\n",
      "Creating video from 126 frames...\n"
     ]
    },
    {
     "name": "stderr",
     "output_type": "stream",
     "text": [
      "Creating video: 100%|██████████| 126/126 [00:01<00:00, 75.29it/s]\n"
     ]
    },
    {
     "name": "stdout",
     "output_type": "stream",
     "text": [
      "Video created successfully: visualization/output/action_2149/video/action_2149.mp4\n",
      "Visualization completed for data/gamestate_output/action_2149.json\n",
      "Frames saved to visualization/output/action_2149/frames\n",
      "Video saved to visualization/output/action_2149/video/action_2149.mp4\n",
      "Processing 126 frames ...\n"
     ]
    },
    {
     "name": "stderr",
     "output_type": "stream",
     "text": [
      "Processing frames: 100%|██████████| 126/126 [00:03<00:00, 41.07it/s]\n"
     ]
    },
    {
     "name": "stdout",
     "output_type": "stream",
     "text": [
      "Completed! All frames saved to visualization/output/action_1591/frames\n",
      "Creating video from 126 frames...\n"
     ]
    },
    {
     "name": "stderr",
     "output_type": "stream",
     "text": [
      "Creating video: 100%|██████████| 126/126 [00:01<00:00, 80.87it/s]\n"
     ]
    },
    {
     "name": "stdout",
     "output_type": "stream",
     "text": [
      "Video created successfully: visualization/output/action_1591/video/action_1591.mp4\n",
      "Visualization completed for data/gamestate_output/action_1591.json\n",
      "Frames saved to visualization/output/action_1591/frames\n",
      "Video saved to visualization/output/action_1591/video/action_1591.mp4\n",
      "Processing 126 frames ...\n"
     ]
    },
    {
     "name": "stderr",
     "output_type": "stream",
     "text": [
      "Processing frames: 100%|██████████| 126/126 [00:03<00:00, 36.27it/s]\n"
     ]
    },
    {
     "name": "stdout",
     "output_type": "stream",
     "text": [
      "Completed! All frames saved to visualization/output/action_893/frames\n",
      "Creating video from 126 frames...\n"
     ]
    },
    {
     "name": "stderr",
     "output_type": "stream",
     "text": [
      "Creating video: 100%|██████████| 126/126 [00:01<00:00, 76.37it/s]\n"
     ]
    },
    {
     "name": "stdout",
     "output_type": "stream",
     "text": [
      "Video created successfully: visualization/output/action_893/video/action_893.mp4\n",
      "Visualization completed for data/gamestate_output/action_893.json\n",
      "Frames saved to visualization/output/action_893/frames\n",
      "Video saved to visualization/output/action_893/video/action_893.mp4\n",
      "Processing 126 frames ...\n"
     ]
    },
    {
     "name": "stderr",
     "output_type": "stream",
     "text": [
      "Processing frames: 100%|██████████| 126/126 [00:03<00:00, 38.03it/s]\n"
     ]
    },
    {
     "name": "stdout",
     "output_type": "stream",
     "text": [
      "Completed! All frames saved to visualization/output/action_1657/frames\n",
      "Creating video from 126 frames...\n"
     ]
    },
    {
     "name": "stderr",
     "output_type": "stream",
     "text": [
      "Creating video: 100%|██████████| 126/126 [00:01<00:00, 74.62it/s]\n"
     ]
    },
    {
     "name": "stdout",
     "output_type": "stream",
     "text": [
      "Video created successfully: visualization/output/action_1657/video/action_1657.mp4\n",
      "Visualization completed for data/gamestate_output/action_1657.json\n",
      "Frames saved to visualization/output/action_1657/frames\n",
      "Video saved to visualization/output/action_1657/video/action_1657.mp4\n",
      "Processing 126 frames ...\n"
     ]
    },
    {
     "name": "stderr",
     "output_type": "stream",
     "text": [
      "Processing frames: 100%|██████████| 126/126 [00:03<00:00, 36.06it/s]\n"
     ]
    },
    {
     "name": "stdout",
     "output_type": "stream",
     "text": [
      "Completed! All frames saved to visualization/output/action_2305/frames\n",
      "Creating video from 126 frames...\n"
     ]
    },
    {
     "name": "stderr",
     "output_type": "stream",
     "text": [
      "Creating video: 100%|██████████| 126/126 [00:01<00:00, 74.26it/s]\n"
     ]
    },
    {
     "name": "stdout",
     "output_type": "stream",
     "text": [
      "Video created successfully: visualization/output/action_2305/video/action_2305.mp4\n",
      "Visualization completed for data/gamestate_output/action_2305.json\n",
      "Frames saved to visualization/output/action_2305/frames\n",
      "Video saved to visualization/output/action_2305/video/action_2305.mp4\n",
      "Processing 126 frames ...\n"
     ]
    },
    {
     "name": "stderr",
     "output_type": "stream",
     "text": [
      "Processing frames: 100%|██████████| 126/126 [00:02<00:00, 44.94it/s]\n"
     ]
    },
    {
     "name": "stdout",
     "output_type": "stream",
     "text": [
      "Completed! All frames saved to visualization/output/action_2313/frames\n",
      "Creating video from 126 frames...\n"
     ]
    },
    {
     "name": "stderr",
     "output_type": "stream",
     "text": [
      "Creating video: 100%|██████████| 126/126 [00:01<00:00, 77.37it/s]\n"
     ]
    },
    {
     "name": "stdout",
     "output_type": "stream",
     "text": [
      "Video created successfully: visualization/output/action_2313/video/action_2313.mp4\n",
      "Visualization completed for data/gamestate_output/action_2313.json\n",
      "Frames saved to visualization/output/action_2313/frames\n",
      "Video saved to visualization/output/action_2313/video/action_2313.mp4\n",
      "Processing 126 frames ...\n"
     ]
    },
    {
     "name": "stderr",
     "output_type": "stream",
     "text": [
      "Processing frames: 100%|██████████| 126/126 [00:03<00:00, 39.55it/s]\n"
     ]
    },
    {
     "name": "stdout",
     "output_type": "stream",
     "text": [
      "Completed! All frames saved to visualization/output/action_352/frames\n",
      "Creating video from 126 frames...\n"
     ]
    },
    {
     "name": "stderr",
     "output_type": "stream",
     "text": [
      "Creating video: 100%|██████████| 126/126 [00:01<00:00, 75.17it/s]\n"
     ]
    },
    {
     "name": "stdout",
     "output_type": "stream",
     "text": [
      "Video created successfully: visualization/output/action_352/video/action_352.mp4\n",
      "Visualization completed for data/gamestate_output/action_352.json\n",
      "Frames saved to visualization/output/action_352/frames\n",
      "Video saved to visualization/output/action_352/video/action_352.mp4\n",
      "Processing 126 frames ...\n"
     ]
    },
    {
     "name": "stderr",
     "output_type": "stream",
     "text": [
      "Processing frames: 100%|██████████| 126/126 [00:02<00:00, 42.31it/s]\n"
     ]
    },
    {
     "name": "stdout",
     "output_type": "stream",
     "text": [
      "Completed! All frames saved to visualization/output/action_702/frames\n",
      "Creating video from 126 frames...\n"
     ]
    },
    {
     "name": "stderr",
     "output_type": "stream",
     "text": [
      "Creating video: 100%|██████████| 126/126 [00:01<00:00, 77.29it/s]\n"
     ]
    },
    {
     "name": "stdout",
     "output_type": "stream",
     "text": [
      "Video created successfully: visualization/output/action_702/video/action_702.mp4\n",
      "Visualization completed for data/gamestate_output/action_702.json\n",
      "Frames saved to visualization/output/action_702/frames\n",
      "Video saved to visualization/output/action_702/video/action_702.mp4\n",
      "Processing 126 frames ...\n"
     ]
    },
    {
     "name": "stderr",
     "output_type": "stream",
     "text": [
      "Processing frames: 100%|██████████| 126/126 [00:03<00:00, 38.58it/s]\n"
     ]
    },
    {
     "name": "stdout",
     "output_type": "stream",
     "text": [
      "Completed! All frames saved to visualization/output/action_978/frames\n",
      "Creating video from 126 frames...\n"
     ]
    },
    {
     "name": "stderr",
     "output_type": "stream",
     "text": [
      "Creating video: 100%|██████████| 126/126 [00:01<00:00, 77.92it/s]\n"
     ]
    },
    {
     "name": "stdout",
     "output_type": "stream",
     "text": [
      "Video created successfully: visualization/output/action_978/video/action_978.mp4\n",
      "Visualization completed for data/gamestate_output/action_978.json\n",
      "Frames saved to visualization/output/action_978/frames\n",
      "Video saved to visualization/output/action_978/video/action_978.mp4\n",
      "Processing 126 frames ...\n"
     ]
    },
    {
     "name": "stderr",
     "output_type": "stream",
     "text": [
      "Processing frames: 100%|██████████| 126/126 [00:02<00:00, 47.53it/s]\n"
     ]
    },
    {
     "name": "stdout",
     "output_type": "stream",
     "text": [
      "Completed! All frames saved to visualization/output/action_997/frames\n",
      "Creating video from 126 frames...\n"
     ]
    },
    {
     "name": "stderr",
     "output_type": "stream",
     "text": [
      "Creating video: 100%|██████████| 126/126 [00:01<00:00, 77.56it/s]\n"
     ]
    },
    {
     "name": "stdout",
     "output_type": "stream",
     "text": [
      "Video created successfully: visualization/output/action_997/video/action_997.mp4\n",
      "Visualization completed for data/gamestate_output/action_997.json\n",
      "Frames saved to visualization/output/action_997/frames\n",
      "Video saved to visualization/output/action_997/video/action_997.mp4\n",
      "Processing 126 frames ...\n"
     ]
    },
    {
     "name": "stderr",
     "output_type": "stream",
     "text": [
      "Processing frames: 100%|██████████| 126/126 [00:03<00:00, 38.04it/s]\n"
     ]
    },
    {
     "name": "stdout",
     "output_type": "stream",
     "text": [
      "Completed! All frames saved to visualization/output/action_1991/frames\n",
      "Creating video from 126 frames...\n"
     ]
    },
    {
     "name": "stderr",
     "output_type": "stream",
     "text": [
      "Creating video: 100%|██████████| 126/126 [00:01<00:00, 75.59it/s]\n"
     ]
    },
    {
     "name": "stdout",
     "output_type": "stream",
     "text": [
      "Video created successfully: visualization/output/action_1991/video/action_1991.mp4\n",
      "Visualization completed for data/gamestate_output/action_1991.json\n",
      "Frames saved to visualization/output/action_1991/frames\n",
      "Video saved to visualization/output/action_1991/video/action_1991.mp4\n",
      "Processing 126 frames ...\n"
     ]
    },
    {
     "name": "stderr",
     "output_type": "stream",
     "text": [
      "Processing frames: 100%|██████████| 126/126 [00:02<00:00, 46.87it/s]\n"
     ]
    },
    {
     "name": "stdout",
     "output_type": "stream",
     "text": [
      "Completed! All frames saved to visualization/output/action_2651/frames\n",
      "Creating video from 126 frames...\n"
     ]
    },
    {
     "name": "stderr",
     "output_type": "stream",
     "text": [
      "Creating video: 100%|██████████| 126/126 [00:01<00:00, 77.19it/s]\n"
     ]
    },
    {
     "name": "stdout",
     "output_type": "stream",
     "text": [
      "Video created successfully: visualization/output/action_2651/video/action_2651.mp4\n",
      "Visualization completed for data/gamestate_output/action_2651.json\n",
      "Frames saved to visualization/output/action_2651/frames\n",
      "Video saved to visualization/output/action_2651/video/action_2651.mp4\n",
      "Processing 126 frames ...\n"
     ]
    },
    {
     "name": "stderr",
     "output_type": "stream",
     "text": [
      "Processing frames: 100%|██████████| 126/126 [00:03<00:00, 39.91it/s]\n"
     ]
    },
    {
     "name": "stdout",
     "output_type": "stream",
     "text": [
      "Completed! All frames saved to visualization/output/action_2201/frames\n",
      "Creating video from 126 frames...\n"
     ]
    },
    {
     "name": "stderr",
     "output_type": "stream",
     "text": [
      "Creating video: 100%|██████████| 126/126 [00:01<00:00, 78.41it/s]\n"
     ]
    },
    {
     "name": "stdout",
     "output_type": "stream",
     "text": [
      "Video created successfully: visualization/output/action_2201/video/action_2201.mp4\n",
      "Visualization completed for data/gamestate_output/action_2201.json\n",
      "Frames saved to visualization/output/action_2201/frames\n",
      "Video saved to visualization/output/action_2201/video/action_2201.mp4\n",
      "Processing 126 frames ...\n"
     ]
    },
    {
     "name": "stderr",
     "output_type": "stream",
     "text": [
      "Processing frames: 100%|██████████| 126/126 [00:03<00:00, 34.82it/s]\n"
     ]
    },
    {
     "name": "stdout",
     "output_type": "stream",
     "text": [
      "Completed! All frames saved to visualization/output/action_885/frames\n",
      "Creating video from 126 frames...\n"
     ]
    },
    {
     "name": "stderr",
     "output_type": "stream",
     "text": [
      "Creating video: 100%|██████████| 126/126 [00:01<00:00, 77.07it/s]\n"
     ]
    },
    {
     "name": "stdout",
     "output_type": "stream",
     "text": [
      "Video created successfully: visualization/output/action_885/video/action_885.mp4\n",
      "Visualization completed for data/gamestate_output/action_885.json\n",
      "Frames saved to visualization/output/action_885/frames\n",
      "Video saved to visualization/output/action_885/video/action_885.mp4\n",
      "Processing 126 frames ...\n"
     ]
    },
    {
     "name": "stderr",
     "output_type": "stream",
     "text": [
      "Processing frames: 100%|██████████| 126/126 [00:02<00:00, 42.67it/s]\n"
     ]
    },
    {
     "name": "stdout",
     "output_type": "stream",
     "text": [
      "Completed! All frames saved to visualization/output/action_539/frames\n",
      "Creating video from 126 frames...\n"
     ]
    },
    {
     "name": "stderr",
     "output_type": "stream",
     "text": [
      "Creating video: 100%|██████████| 126/126 [00:01<00:00, 81.07it/s]\n"
     ]
    },
    {
     "name": "stdout",
     "output_type": "stream",
     "text": [
      "Video created successfully: visualization/output/action_539/video/action_539.mp4\n",
      "Visualization completed for data/gamestate_output/action_539.json\n",
      "Frames saved to visualization/output/action_539/frames\n",
      "Video saved to visualization/output/action_539/video/action_539.mp4\n",
      "Processing 126 frames ...\n"
     ]
    },
    {
     "name": "stderr",
     "output_type": "stream",
     "text": [
      "Processing frames: 100%|██████████| 126/126 [00:02<00:00, 46.34it/s]\n"
     ]
    },
    {
     "name": "stdout",
     "output_type": "stream",
     "text": [
      "Completed! All frames saved to visualization/output/action_391/frames\n",
      "Creating video from 126 frames...\n"
     ]
    },
    {
     "name": "stderr",
     "output_type": "stream",
     "text": [
      "Creating video: 100%|██████████| 126/126 [00:01<00:00, 74.89it/s]\n"
     ]
    },
    {
     "name": "stdout",
     "output_type": "stream",
     "text": [
      "Video created successfully: visualization/output/action_391/video/action_391.mp4\n",
      "Visualization completed for data/gamestate_output/action_391.json\n",
      "Frames saved to visualization/output/action_391/frames\n",
      "Video saved to visualization/output/action_391/video/action_391.mp4\n",
      "Processing 126 frames ...\n"
     ]
    },
    {
     "name": "stderr",
     "output_type": "stream",
     "text": [
      "Processing frames: 100%|██████████| 126/126 [00:03<00:00, 38.38it/s]\n"
     ]
    },
    {
     "name": "stdout",
     "output_type": "stream",
     "text": [
      "Completed! All frames saved to visualization/output/action_2915/frames\n",
      "Creating video from 126 frames...\n"
     ]
    },
    {
     "name": "stderr",
     "output_type": "stream",
     "text": [
      "Creating video: 100%|██████████| 126/126 [00:01<00:00, 71.60it/s]\n"
     ]
    },
    {
     "name": "stdout",
     "output_type": "stream",
     "text": [
      "Video created successfully: visualization/output/action_2915/video/action_2915.mp4\n",
      "Visualization completed for data/gamestate_output/action_2915.json\n",
      "Frames saved to visualization/output/action_2915/frames\n",
      "Video saved to visualization/output/action_2915/video/action_2915.mp4\n",
      "Processing 126 frames ...\n"
     ]
    },
    {
     "name": "stderr",
     "output_type": "stream",
     "text": [
      "Processing frames: 100%|██████████| 126/126 [00:02<00:00, 45.07it/s]\n"
     ]
    },
    {
     "name": "stdout",
     "output_type": "stream",
     "text": [
      "Completed! All frames saved to visualization/output/action_2850/frames\n",
      "Creating video from 126 frames...\n"
     ]
    },
    {
     "name": "stderr",
     "output_type": "stream",
     "text": [
      "Creating video: 100%|██████████| 126/126 [00:01<00:00, 74.30it/s]\n"
     ]
    },
    {
     "name": "stdout",
     "output_type": "stream",
     "text": [
      "Video created successfully: visualization/output/action_2850/video/action_2850.mp4\n",
      "Visualization completed for data/gamestate_output/action_2850.json\n",
      "Frames saved to visualization/output/action_2850/frames\n",
      "Video saved to visualization/output/action_2850/video/action_2850.mp4\n",
      "Processing 126 frames ...\n"
     ]
    },
    {
     "name": "stderr",
     "output_type": "stream",
     "text": [
      "Processing frames: 100%|██████████| 126/126 [00:02<00:00, 48.40it/s]\n"
     ]
    },
    {
     "name": "stdout",
     "output_type": "stream",
     "text": [
      "Completed! All frames saved to visualization/output/action_954/frames\n",
      "Creating video from 126 frames...\n"
     ]
    },
    {
     "name": "stderr",
     "output_type": "stream",
     "text": [
      "Creating video: 100%|██████████| 126/126 [00:01<00:00, 80.01it/s]\n"
     ]
    },
    {
     "name": "stdout",
     "output_type": "stream",
     "text": [
      "Video created successfully: visualization/output/action_954/video/action_954.mp4\n",
      "Visualization completed for data/gamestate_output/action_954.json\n",
      "Frames saved to visualization/output/action_954/frames\n",
      "Video saved to visualization/output/action_954/video/action_954.mp4\n",
      "Processing 126 frames ...\n"
     ]
    },
    {
     "name": "stderr",
     "output_type": "stream",
     "text": [
      "Processing frames: 100%|██████████| 126/126 [00:03<00:00, 38.14it/s]\n"
     ]
    },
    {
     "name": "stdout",
     "output_type": "stream",
     "text": [
      "Completed! All frames saved to visualization/output/action_407/frames\n",
      "Creating video from 126 frames...\n"
     ]
    },
    {
     "name": "stderr",
     "output_type": "stream",
     "text": [
      "Creating video: 100%|██████████| 126/126 [00:01<00:00, 75.19it/s]\n"
     ]
    },
    {
     "name": "stdout",
     "output_type": "stream",
     "text": [
      "Video created successfully: visualization/output/action_407/video/action_407.mp4\n",
      "Visualization completed for data/gamestate_output/action_407.json\n",
      "Frames saved to visualization/output/action_407/frames\n",
      "Video saved to visualization/output/action_407/video/action_407.mp4\n",
      "Processing 126 frames ...\n"
     ]
    },
    {
     "name": "stderr",
     "output_type": "stream",
     "text": [
      "Processing frames: 100%|██████████| 126/126 [00:03<00:00, 37.61it/s]\n"
     ]
    },
    {
     "name": "stdout",
     "output_type": "stream",
     "text": [
      "Completed! All frames saved to visualization/output/action_2411/frames\n",
      "Creating video from 126 frames...\n"
     ]
    },
    {
     "name": "stderr",
     "output_type": "stream",
     "text": [
      "Creating video: 100%|██████████| 126/126 [00:01<00:00, 83.26it/s]\n"
     ]
    },
    {
     "name": "stdout",
     "output_type": "stream",
     "text": [
      "Video created successfully: visualization/output/action_2411/video/action_2411.mp4\n",
      "Visualization completed for data/gamestate_output/action_2411.json\n",
      "Frames saved to visualization/output/action_2411/frames\n",
      "Video saved to visualization/output/action_2411/video/action_2411.mp4\n",
      "Processing 126 frames ...\n"
     ]
    },
    {
     "name": "stderr",
     "output_type": "stream",
     "text": [
      "Processing frames: 100%|██████████| 126/126 [00:03<00:00, 37.11it/s]\n"
     ]
    },
    {
     "name": "stdout",
     "output_type": "stream",
     "text": [
      "Completed! All frames saved to visualization/output/action_2041/frames\n",
      "Creating video from 126 frames...\n"
     ]
    },
    {
     "name": "stderr",
     "output_type": "stream",
     "text": [
      "Creating video: 100%|██████████| 126/126 [00:01<00:00, 81.53it/s]\n"
     ]
    },
    {
     "name": "stdout",
     "output_type": "stream",
     "text": [
      "Video created successfully: visualization/output/action_2041/video/action_2041.mp4\n",
      "Visualization completed for data/gamestate_output/action_2041.json\n",
      "Frames saved to visualization/output/action_2041/frames\n",
      "Video saved to visualization/output/action_2041/video/action_2041.mp4\n",
      "Processing 126 frames ...\n"
     ]
    },
    {
     "name": "stderr",
     "output_type": "stream",
     "text": [
      "Processing frames: 100%|██████████| 126/126 [00:03<00:00, 40.65it/s]\n"
     ]
    },
    {
     "name": "stdout",
     "output_type": "stream",
     "text": [
      "Completed! All frames saved to visualization/output/action_2104/frames\n",
      "Creating video from 126 frames...\n"
     ]
    },
    {
     "name": "stderr",
     "output_type": "stream",
     "text": [
      "Creating video: 100%|██████████| 126/126 [00:01<00:00, 67.07it/s]\n"
     ]
    },
    {
     "name": "stdout",
     "output_type": "stream",
     "text": [
      "Video created successfully: visualization/output/action_2104/video/action_2104.mp4\n",
      "Visualization completed for data/gamestate_output/action_2104.json\n",
      "Frames saved to visualization/output/action_2104/frames\n",
      "Video saved to visualization/output/action_2104/video/action_2104.mp4\n",
      "Processing 126 frames ...\n"
     ]
    },
    {
     "name": "stderr",
     "output_type": "stream",
     "text": [
      "Processing frames: 100%|██████████| 126/126 [00:03<00:00, 38.90it/s]\n"
     ]
    },
    {
     "name": "stdout",
     "output_type": "stream",
     "text": [
      "Completed! All frames saved to visualization/output/action_2807/frames\n",
      "Creating video from 126 frames...\n"
     ]
    },
    {
     "name": "stderr",
     "output_type": "stream",
     "text": [
      "Creating video: 100%|██████████| 126/126 [00:01<00:00, 81.08it/s]\n"
     ]
    },
    {
     "name": "stdout",
     "output_type": "stream",
     "text": [
      "Video created successfully: visualization/output/action_2807/video/action_2807.mp4\n",
      "Visualization completed for data/gamestate_output/action_2807.json\n",
      "Frames saved to visualization/output/action_2807/frames\n",
      "Video saved to visualization/output/action_2807/video/action_2807.mp4\n",
      "Processing 126 frames ...\n"
     ]
    },
    {
     "name": "stderr",
     "output_type": "stream",
     "text": [
      "Processing frames: 100%|██████████| 126/126 [00:03<00:00, 31.79it/s]\n"
     ]
    },
    {
     "name": "stdout",
     "output_type": "stream",
     "text": [
      "Completed! All frames saved to visualization/output/action_1694/frames\n",
      "Creating video from 126 frames...\n"
     ]
    },
    {
     "name": "stderr",
     "output_type": "stream",
     "text": [
      "Creating video: 100%|██████████| 126/126 [00:01<00:00, 78.87it/s]\n"
     ]
    },
    {
     "name": "stdout",
     "output_type": "stream",
     "text": [
      "Video created successfully: visualization/output/action_1694/video/action_1694.mp4\n",
      "Visualization completed for data/gamestate_output/action_1694.json\n",
      "Frames saved to visualization/output/action_1694/frames\n",
      "Video saved to visualization/output/action_1694/video/action_1694.mp4\n",
      "Processing 126 frames ...\n"
     ]
    },
    {
     "name": "stderr",
     "output_type": "stream",
     "text": [
      "Processing frames: 100%|██████████| 126/126 [00:03<00:00, 36.20it/s]\n"
     ]
    },
    {
     "name": "stdout",
     "output_type": "stream",
     "text": [
      "Completed! All frames saved to visualization/output/action_1913/frames\n",
      "Creating video from 126 frames...\n"
     ]
    },
    {
     "name": "stderr",
     "output_type": "stream",
     "text": [
      "Creating video: 100%|██████████| 126/126 [00:01<00:00, 73.78it/s]\n"
     ]
    },
    {
     "name": "stdout",
     "output_type": "stream",
     "text": [
      "Video created successfully: visualization/output/action_1913/video/action_1913.mp4\n",
      "Visualization completed for data/gamestate_output/action_1913.json\n",
      "Frames saved to visualization/output/action_1913/frames\n",
      "Video saved to visualization/output/action_1913/video/action_1913.mp4\n",
      "Processing 126 frames ...\n"
     ]
    },
    {
     "name": "stderr",
     "output_type": "stream",
     "text": [
      "Processing frames: 100%|██████████| 126/126 [00:03<00:00, 40.75it/s]\n"
     ]
    },
    {
     "name": "stdout",
     "output_type": "stream",
     "text": [
      "Completed! All frames saved to visualization/output/action_1505/frames\n",
      "Creating video from 126 frames...\n"
     ]
    },
    {
     "name": "stderr",
     "output_type": "stream",
     "text": [
      "Creating video: 100%|██████████| 126/126 [00:01<00:00, 76.68it/s]\n"
     ]
    },
    {
     "name": "stdout",
     "output_type": "stream",
     "text": [
      "Video created successfully: visualization/output/action_1505/video/action_1505.mp4\n",
      "Visualization completed for data/gamestate_output/action_1505.json\n",
      "Frames saved to visualization/output/action_1505/frames\n",
      "Video saved to visualization/output/action_1505/video/action_1505.mp4\n",
      "Processing 126 frames ...\n"
     ]
    },
    {
     "name": "stderr",
     "output_type": "stream",
     "text": [
      "Processing frames: 100%|██████████| 126/126 [00:02<00:00, 43.53it/s]\n"
     ]
    },
    {
     "name": "stdout",
     "output_type": "stream",
     "text": [
      "Completed! All frames saved to visualization/output/action_1155/frames\n",
      "Creating video from 126 frames...\n"
     ]
    },
    {
     "name": "stderr",
     "output_type": "stream",
     "text": [
      "Creating video: 100%|██████████| 126/126 [00:01<00:00, 81.86it/s]\n"
     ]
    },
    {
     "name": "stdout",
     "output_type": "stream",
     "text": [
      "Video created successfully: visualization/output/action_1155/video/action_1155.mp4\n",
      "Visualization completed for data/gamestate_output/action_1155.json\n",
      "Frames saved to visualization/output/action_1155/frames\n",
      "Video saved to visualization/output/action_1155/video/action_1155.mp4\n",
      "Processing 126 frames ...\n"
     ]
    },
    {
     "name": "stderr",
     "output_type": "stream",
     "text": [
      "Processing frames: 100%|██████████| 126/126 [00:03<00:00, 41.16it/s]\n"
     ]
    },
    {
     "name": "stdout",
     "output_type": "stream",
     "text": [
      "Completed! All frames saved to visualization/output/action_2450/frames\n",
      "Creating video from 126 frames...\n"
     ]
    },
    {
     "name": "stderr",
     "output_type": "stream",
     "text": [
      "Creating video: 100%|██████████| 126/126 [00:01<00:00, 77.59it/s]\n"
     ]
    },
    {
     "name": "stdout",
     "output_type": "stream",
     "text": [
      "Video created successfully: visualization/output/action_2450/video/action_2450.mp4\n",
      "Visualization completed for data/gamestate_output/action_2450.json\n",
      "Frames saved to visualization/output/action_2450/frames\n",
      "Video saved to visualization/output/action_2450/video/action_2450.mp4\n",
      "Processing 126 frames ...\n"
     ]
    },
    {
     "name": "stderr",
     "output_type": "stream",
     "text": [
      "Processing frames: 100%|██████████| 126/126 [00:02<00:00, 45.66it/s]\n"
     ]
    },
    {
     "name": "stdout",
     "output_type": "stream",
     "text": [
      "Completed! All frames saved to visualization/output/action_104/frames\n",
      "Creating video from 126 frames...\n"
     ]
    },
    {
     "name": "stderr",
     "output_type": "stream",
     "text": [
      "Creating video: 100%|██████████| 126/126 [00:01<00:00, 79.25it/s]\n"
     ]
    },
    {
     "name": "stdout",
     "output_type": "stream",
     "text": [
      "Video created successfully: visualization/output/action_104/video/action_104.mp4\n",
      "Visualization completed for data/gamestate_output/action_104.json\n",
      "Frames saved to visualization/output/action_104/frames\n",
      "Video saved to visualization/output/action_104/video/action_104.mp4\n",
      "Processing 126 frames ...\n"
     ]
    },
    {
     "name": "stderr",
     "output_type": "stream",
     "text": [
      "Processing frames: 100%|██████████| 126/126 [00:03<00:00, 36.17it/s]\n"
     ]
    },
    {
     "name": "stdout",
     "output_type": "stream",
     "text": [
      "Completed! All frames saved to visualization/output/action_2428/frames\n",
      "Creating video from 126 frames...\n"
     ]
    },
    {
     "name": "stderr",
     "output_type": "stream",
     "text": [
      "Creating video: 100%|██████████| 126/126 [00:01<00:00, 77.25it/s]\n"
     ]
    },
    {
     "name": "stdout",
     "output_type": "stream",
     "text": [
      "Video created successfully: visualization/output/action_2428/video/action_2428.mp4\n",
      "Visualization completed for data/gamestate_output/action_2428.json\n",
      "Frames saved to visualization/output/action_2428/frames\n",
      "Video saved to visualization/output/action_2428/video/action_2428.mp4\n",
      "Processing 126 frames ...\n"
     ]
    },
    {
     "name": "stderr",
     "output_type": "stream",
     "text": [
      "Processing frames: 100%|██████████| 126/126 [00:03<00:00, 37.36it/s]\n"
     ]
    },
    {
     "name": "stdout",
     "output_type": "stream",
     "text": [
      "Completed! All frames saved to visualization/output/action_486/frames\n",
      "Creating video from 126 frames...\n"
     ]
    },
    {
     "name": "stderr",
     "output_type": "stream",
     "text": [
      "Creating video: 100%|██████████| 126/126 [00:01<00:00, 73.77it/s]\n"
     ]
    },
    {
     "name": "stdout",
     "output_type": "stream",
     "text": [
      "Video created successfully: visualization/output/action_486/video/action_486.mp4\n",
      "Visualization completed for data/gamestate_output/action_486.json\n",
      "Frames saved to visualization/output/action_486/frames\n",
      "Video saved to visualization/output/action_486/video/action_486.mp4\n",
      "Processing 126 frames ...\n"
     ]
    },
    {
     "name": "stderr",
     "output_type": "stream",
     "text": [
      "Processing frames: 100%|██████████| 126/126 [00:02<00:00, 47.37it/s]\n"
     ]
    },
    {
     "name": "stdout",
     "output_type": "stream",
     "text": [
      "Completed! All frames saved to visualization/output/action_1204/frames\n",
      "Creating video from 126 frames...\n"
     ]
    },
    {
     "name": "stderr",
     "output_type": "stream",
     "text": [
      "Creating video: 100%|██████████| 126/126 [00:01<00:00, 74.63it/s]\n"
     ]
    },
    {
     "name": "stdout",
     "output_type": "stream",
     "text": [
      "Video created successfully: visualization/output/action_1204/video/action_1204.mp4\n",
      "Visualization completed for data/gamestate_output/action_1204.json\n",
      "Frames saved to visualization/output/action_1204/frames\n",
      "Video saved to visualization/output/action_1204/video/action_1204.mp4\n",
      "Processing 126 frames ...\n"
     ]
    },
    {
     "name": "stderr",
     "output_type": "stream",
     "text": [
      "Processing frames: 100%|██████████| 126/126 [00:02<00:00, 42.78it/s]\n"
     ]
    },
    {
     "name": "stdout",
     "output_type": "stream",
     "text": [
      "Completed! All frames saved to visualization/output/action_717/frames\n",
      "Creating video from 126 frames...\n"
     ]
    },
    {
     "name": "stderr",
     "output_type": "stream",
     "text": [
      "Creating video: 100%|██████████| 126/126 [00:01<00:00, 72.51it/s]\n"
     ]
    },
    {
     "name": "stdout",
     "output_type": "stream",
     "text": [
      "Video created successfully: visualization/output/action_717/video/action_717.mp4\n",
      "Visualization completed for data/gamestate_output/action_717.json\n",
      "Frames saved to visualization/output/action_717/frames\n",
      "Video saved to visualization/output/action_717/video/action_717.mp4\n",
      "Processing 126 frames ...\n"
     ]
    },
    {
     "name": "stderr",
     "output_type": "stream",
     "text": [
      "Processing frames: 100%|██████████| 126/126 [00:03<00:00, 38.21it/s]\n"
     ]
    },
    {
     "name": "stdout",
     "output_type": "stream",
     "text": [
      "Completed! All frames saved to visualization/output/action_2243/frames\n",
      "Creating video from 126 frames...\n"
     ]
    },
    {
     "name": "stderr",
     "output_type": "stream",
     "text": [
      "Creating video: 100%|██████████| 126/126 [00:01<00:00, 73.53it/s]\n"
     ]
    },
    {
     "name": "stdout",
     "output_type": "stream",
     "text": [
      "Video created successfully: visualization/output/action_2243/video/action_2243.mp4\n",
      "Visualization completed for data/gamestate_output/action_2243.json\n",
      "Frames saved to visualization/output/action_2243/frames\n",
      "Video saved to visualization/output/action_2243/video/action_2243.mp4\n",
      "Processing 126 frames ...\n"
     ]
    },
    {
     "name": "stderr",
     "output_type": "stream",
     "text": [
      "Processing frames: 100%|██████████| 126/126 [00:03<00:00, 36.00it/s]\n"
     ]
    },
    {
     "name": "stdout",
     "output_type": "stream",
     "text": [
      "Completed! All frames saved to visualization/output/action_1195/frames\n",
      "Creating video from 126 frames...\n"
     ]
    },
    {
     "name": "stderr",
     "output_type": "stream",
     "text": [
      "Creating video: 100%|██████████| 126/126 [00:01<00:00, 79.68it/s]\n"
     ]
    },
    {
     "name": "stdout",
     "output_type": "stream",
     "text": [
      "Video created successfully: visualization/output/action_1195/video/action_1195.mp4\n",
      "Visualization completed for data/gamestate_output/action_1195.json\n",
      "Frames saved to visualization/output/action_1195/frames\n",
      "Video saved to visualization/output/action_1195/video/action_1195.mp4\n",
      "Processing 126 frames ...\n"
     ]
    },
    {
     "name": "stderr",
     "output_type": "stream",
     "text": [
      "Processing frames: 100%|██████████| 126/126 [00:02<00:00, 47.55it/s]\n"
     ]
    },
    {
     "name": "stdout",
     "output_type": "stream",
     "text": [
      "Completed! All frames saved to visualization/output/action_33/frames\n",
      "Creating video from 126 frames...\n"
     ]
    },
    {
     "name": "stderr",
     "output_type": "stream",
     "text": [
      "Creating video: 100%|██████████| 126/126 [00:01<00:00, 81.82it/s]\n"
     ]
    },
    {
     "name": "stdout",
     "output_type": "stream",
     "text": [
      "Video created successfully: visualization/output/action_33/video/action_33.mp4\n",
      "Visualization completed for data/gamestate_output/action_33.json\n",
      "Frames saved to visualization/output/action_33/frames\n",
      "Video saved to visualization/output/action_33/video/action_33.mp4\n",
      "Processing 126 frames ...\n"
     ]
    },
    {
     "name": "stderr",
     "output_type": "stream",
     "text": [
      "Processing frames: 100%|██████████| 126/126 [00:03<00:00, 41.75it/s]\n"
     ]
    },
    {
     "name": "stdout",
     "output_type": "stream",
     "text": [
      "Completed! All frames saved to visualization/output/action_9/frames\n",
      "Creating video from 126 frames...\n"
     ]
    },
    {
     "name": "stderr",
     "output_type": "stream",
     "text": [
      "Creating video: 100%|██████████| 126/126 [00:01<00:00, 80.08it/s]\n"
     ]
    },
    {
     "name": "stdout",
     "output_type": "stream",
     "text": [
      "Video created successfully: visualization/output/action_9/video/action_9.mp4\n",
      "Visualization completed for data/gamestate_output/action_9.json\n",
      "Frames saved to visualization/output/action_9/frames\n",
      "Video saved to visualization/output/action_9/video/action_9.mp4\n",
      "Processing 126 frames ...\n"
     ]
    },
    {
     "name": "stderr",
     "output_type": "stream",
     "text": [
      "Processing frames: 100%|██████████| 126/126 [00:03<00:00, 37.74it/s]\n"
     ]
    },
    {
     "name": "stdout",
     "output_type": "stream",
     "text": [
      "Completed! All frames saved to visualization/output/action_1183/frames\n",
      "Creating video from 126 frames...\n"
     ]
    },
    {
     "name": "stderr",
     "output_type": "stream",
     "text": [
      "Creating video: 100%|██████████| 126/126 [00:01<00:00, 78.83it/s]\n"
     ]
    },
    {
     "name": "stdout",
     "output_type": "stream",
     "text": [
      "Video created successfully: visualization/output/action_1183/video/action_1183.mp4\n",
      "Visualization completed for data/gamestate_output/action_1183.json\n",
      "Frames saved to visualization/output/action_1183/frames\n",
      "Video saved to visualization/output/action_1183/video/action_1183.mp4\n",
      "Processing 126 frames ...\n"
     ]
    },
    {
     "name": "stderr",
     "output_type": "stream",
     "text": [
      "Processing frames: 100%|██████████| 126/126 [00:02<00:00, 43.65it/s]\n"
     ]
    },
    {
     "name": "stdout",
     "output_type": "stream",
     "text": [
      "Completed! All frames saved to visualization/output/action_1496/frames\n",
      "Creating video from 126 frames...\n"
     ]
    },
    {
     "name": "stderr",
     "output_type": "stream",
     "text": [
      "Creating video: 100%|██████████| 126/126 [00:01<00:00, 82.82it/s]\n"
     ]
    },
    {
     "name": "stdout",
     "output_type": "stream",
     "text": [
      "Video created successfully: visualization/output/action_1496/video/action_1496.mp4\n",
      "Visualization completed for data/gamestate_output/action_1496.json\n",
      "Frames saved to visualization/output/action_1496/frames\n",
      "Video saved to visualization/output/action_1496/video/action_1496.mp4\n",
      "Processing 126 frames ...\n"
     ]
    },
    {
     "name": "stderr",
     "output_type": "stream",
     "text": [
      "Processing frames: 100%|██████████| 126/126 [00:03<00:00, 37.42it/s]\n"
     ]
    },
    {
     "name": "stdout",
     "output_type": "stream",
     "text": [
      "Completed! All frames saved to visualization/output/action_25/frames\n",
      "Creating video from 126 frames...\n"
     ]
    },
    {
     "name": "stderr",
     "output_type": "stream",
     "text": [
      "Creating video: 100%|██████████| 126/126 [00:01<00:00, 80.55it/s]\n"
     ]
    },
    {
     "name": "stdout",
     "output_type": "stream",
     "text": [
      "Video created successfully: visualization/output/action_25/video/action_25.mp4\n",
      "Visualization completed for data/gamestate_output/action_25.json\n",
      "Frames saved to visualization/output/action_25/frames\n",
      "Video saved to visualization/output/action_25/video/action_25.mp4\n",
      "Processing 126 frames ...\n"
     ]
    },
    {
     "name": "stderr",
     "output_type": "stream",
     "text": [
      "Processing frames: 100%|██████████| 126/126 [00:03<00:00, 39.57it/s]\n"
     ]
    },
    {
     "name": "stdout",
     "output_type": "stream",
     "text": [
      "Completed! All frames saved to visualization/output/action_1750/frames\n",
      "Creating video from 126 frames...\n"
     ]
    },
    {
     "name": "stderr",
     "output_type": "stream",
     "text": [
      "Creating video: 100%|██████████| 126/126 [00:01<00:00, 84.77it/s]\n"
     ]
    },
    {
     "name": "stdout",
     "output_type": "stream",
     "text": [
      "Video created successfully: visualization/output/action_1750/video/action_1750.mp4\n",
      "Visualization completed for data/gamestate_output/action_1750.json\n",
      "Frames saved to visualization/output/action_1750/frames\n",
      "Video saved to visualization/output/action_1750/video/action_1750.mp4\n",
      "Processing 126 frames ...\n"
     ]
    },
    {
     "name": "stderr",
     "output_type": "stream",
     "text": [
      "Processing frames: 100%|██████████| 126/126 [00:02<00:00, 44.56it/s]\n"
     ]
    },
    {
     "name": "stdout",
     "output_type": "stream",
     "text": [
      "Completed! All frames saved to visualization/output/action_72/frames\n",
      "Creating video from 126 frames...\n"
     ]
    },
    {
     "name": "stderr",
     "output_type": "stream",
     "text": [
      "Creating video: 100%|██████████| 126/126 [00:01<00:00, 81.49it/s]\n"
     ]
    },
    {
     "name": "stdout",
     "output_type": "stream",
     "text": [
      "Video created successfully: visualization/output/action_72/video/action_72.mp4\n",
      "Visualization completed for data/gamestate_output/action_72.json\n",
      "Frames saved to visualization/output/action_72/frames\n",
      "Video saved to visualization/output/action_72/video/action_72.mp4\n",
      "Processing 126 frames ...\n"
     ]
    },
    {
     "name": "stderr",
     "output_type": "stream",
     "text": [
      "Processing frames: 100%|██████████| 126/126 [00:03<00:00, 41.34it/s]\n"
     ]
    },
    {
     "name": "stdout",
     "output_type": "stream",
     "text": [
      "Completed! All frames saved to visualization/output/action_1091/frames\n",
      "Creating video from 126 frames...\n"
     ]
    },
    {
     "name": "stderr",
     "output_type": "stream",
     "text": [
      "Creating video: 100%|██████████| 126/126 [00:01<00:00, 78.63it/s]\n"
     ]
    },
    {
     "name": "stdout",
     "output_type": "stream",
     "text": [
      "Video created successfully: visualization/output/action_1091/video/action_1091.mp4\n",
      "Visualization completed for data/gamestate_output/action_1091.json\n",
      "Frames saved to visualization/output/action_1091/frames\n",
      "Video saved to visualization/output/action_1091/video/action_1091.mp4\n",
      "Processing 126 frames ...\n"
     ]
    },
    {
     "name": "stderr",
     "output_type": "stream",
     "text": [
      "Processing frames: 100%|██████████| 126/126 [00:02<00:00, 44.86it/s]\n"
     ]
    },
    {
     "name": "stdout",
     "output_type": "stream",
     "text": [
      "Completed! All frames saved to visualization/output/action_1838/frames\n",
      "Creating video from 126 frames...\n"
     ]
    },
    {
     "name": "stderr",
     "output_type": "stream",
     "text": [
      "Creating video: 100%|██████████| 126/126 [00:01<00:00, 75.99it/s]\n"
     ]
    },
    {
     "name": "stdout",
     "output_type": "stream",
     "text": [
      "Video created successfully: visualization/output/action_1838/video/action_1838.mp4\n",
      "Visualization completed for data/gamestate_output/action_1838.json\n",
      "Frames saved to visualization/output/action_1838/frames\n",
      "Video saved to visualization/output/action_1838/video/action_1838.mp4\n",
      "Processing 126 frames ...\n"
     ]
    },
    {
     "name": "stderr",
     "output_type": "stream",
     "text": [
      "Processing frames: 100%|██████████| 126/126 [00:03<00:00, 39.47it/s]\n"
     ]
    },
    {
     "name": "stdout",
     "output_type": "stream",
     "text": [
      "Completed! All frames saved to visualization/output/action_243/frames\n",
      "Creating video from 126 frames...\n"
     ]
    },
    {
     "name": "stderr",
     "output_type": "stream",
     "text": [
      "Creating video: 100%|██████████| 126/126 [00:01<00:00, 79.97it/s]\n"
     ]
    },
    {
     "name": "stdout",
     "output_type": "stream",
     "text": [
      "Video created successfully: visualization/output/action_243/video/action_243.mp4\n",
      "Visualization completed for data/gamestate_output/action_243.json\n",
      "Frames saved to visualization/output/action_243/frames\n",
      "Video saved to visualization/output/action_243/video/action_243.mp4\n",
      "Processing 126 frames ...\n"
     ]
    },
    {
     "name": "stderr",
     "output_type": "stream",
     "text": [
      "Processing frames: 100%|██████████| 126/126 [00:03<00:00, 37.16it/s]\n"
     ]
    },
    {
     "name": "stdout",
     "output_type": "stream",
     "text": [
      "Completed! All frames saved to visualization/output/action_238/frames\n",
      "Creating video from 126 frames...\n"
     ]
    },
    {
     "name": "stderr",
     "output_type": "stream",
     "text": [
      "Creating video: 100%|██████████| 126/126 [00:01<00:00, 81.86it/s]\n"
     ]
    },
    {
     "name": "stdout",
     "output_type": "stream",
     "text": [
      "Video created successfully: visualization/output/action_238/video/action_238.mp4\n",
      "Visualization completed for data/gamestate_output/action_238.json\n",
      "Frames saved to visualization/output/action_238/frames\n",
      "Video saved to visualization/output/action_238/video/action_238.mp4\n",
      "Processing 126 frames ...\n"
     ]
    },
    {
     "name": "stderr",
     "output_type": "stream",
     "text": [
      "Processing frames: 100%|██████████| 126/126 [00:03<00:00, 38.39it/s]\n"
     ]
    },
    {
     "name": "stdout",
     "output_type": "stream",
     "text": [
      "Completed! All frames saved to visualization/output/action_1906/frames\n",
      "Creating video from 126 frames...\n"
     ]
    },
    {
     "name": "stderr",
     "output_type": "stream",
     "text": [
      "Creating video: 100%|██████████| 126/126 [00:01<00:00, 82.19it/s]\n"
     ]
    },
    {
     "name": "stdout",
     "output_type": "stream",
     "text": [
      "Video created successfully: visualization/output/action_1906/video/action_1906.mp4\n",
      "Visualization completed for data/gamestate_output/action_1906.json\n",
      "Frames saved to visualization/output/action_1906/frames\n",
      "Video saved to visualization/output/action_1906/video/action_1906.mp4\n",
      "Processing 126 frames ...\n"
     ]
    },
    {
     "name": "stderr",
     "output_type": "stream",
     "text": [
      "Processing frames: 100%|██████████| 126/126 [00:03<00:00, 36.54it/s]\n"
     ]
    },
    {
     "name": "stdout",
     "output_type": "stream",
     "text": [
      "Completed! All frames saved to visualization/output/action_2629/frames\n",
      "Creating video from 126 frames...\n"
     ]
    },
    {
     "name": "stderr",
     "output_type": "stream",
     "text": [
      "Creating video: 100%|██████████| 126/126 [00:01<00:00, 76.10it/s]\n"
     ]
    },
    {
     "name": "stdout",
     "output_type": "stream",
     "text": [
      "Video created successfully: visualization/output/action_2629/video/action_2629.mp4\n",
      "Visualization completed for data/gamestate_output/action_2629.json\n",
      "Frames saved to visualization/output/action_2629/frames\n",
      "Video saved to visualization/output/action_2629/video/action_2629.mp4\n",
      "Processing 126 frames ...\n"
     ]
    },
    {
     "name": "stderr",
     "output_type": "stream",
     "text": [
      "Processing frames: 100%|██████████| 126/126 [00:03<00:00, 41.55it/s]\n"
     ]
    },
    {
     "name": "stdout",
     "output_type": "stream",
     "text": [
      "Completed! All frames saved to visualization/output/action_2279/frames\n",
      "Creating video from 126 frames...\n"
     ]
    },
    {
     "name": "stderr",
     "output_type": "stream",
     "text": [
      "Creating video: 100%|██████████| 126/126 [00:01<00:00, 73.43it/s]\n"
     ]
    },
    {
     "name": "stdout",
     "output_type": "stream",
     "text": [
      "Video created successfully: visualization/output/action_2279/video/action_2279.mp4\n",
      "Visualization completed for data/gamestate_output/action_2279.json\n",
      "Frames saved to visualization/output/action_2279/frames\n",
      "Video saved to visualization/output/action_2279/video/action_2279.mp4\n",
      "Processing 126 frames ...\n"
     ]
    },
    {
     "name": "stderr",
     "output_type": "stream",
     "text": [
      "Processing frames: 100%|██████████| 126/126 [00:03<00:00, 40.17it/s]\n"
     ]
    },
    {
     "name": "stdout",
     "output_type": "stream",
     "text": [
      "Completed! All frames saved to visualization/output/action_2150/frames\n",
      "Creating video from 126 frames...\n"
     ]
    },
    {
     "name": "stderr",
     "output_type": "stream",
     "text": [
      "Creating video: 100%|██████████| 126/126 [00:01<00:00, 77.13it/s]\n"
     ]
    },
    {
     "name": "stdout",
     "output_type": "stream",
     "text": [
      "Video created successfully: visualization/output/action_2150/video/action_2150.mp4\n",
      "Visualization completed for data/gamestate_output/action_2150.json\n",
      "Frames saved to visualization/output/action_2150/frames\n",
      "Video saved to visualization/output/action_2150/video/action_2150.mp4\n",
      "Processing 126 frames ...\n"
     ]
    },
    {
     "name": "stderr",
     "output_type": "stream",
     "text": [
      "Processing frames: 100%|██████████| 126/126 [00:03<00:00, 38.54it/s]\n"
     ]
    },
    {
     "name": "stdout",
     "output_type": "stream",
     "text": [
      "Completed! All frames saved to visualization/output/action_2500/frames\n",
      "Creating video from 126 frames...\n"
     ]
    },
    {
     "name": "stderr",
     "output_type": "stream",
     "text": [
      "Creating video: 100%|██████████| 126/126 [00:01<00:00, 75.43it/s]\n"
     ]
    },
    {
     "name": "stdout",
     "output_type": "stream",
     "text": [
      "Video created successfully: visualization/output/action_2500/video/action_2500.mp4\n",
      "Visualization completed for data/gamestate_output/action_2500.json\n",
      "Frames saved to visualization/output/action_2500/frames\n",
      "Video saved to visualization/output/action_2500/video/action_2500.mp4\n",
      "Processing 126 frames ...\n"
     ]
    },
    {
     "name": "stderr",
     "output_type": "stream",
     "text": [
      "Processing frames: 100%|██████████| 126/126 [00:03<00:00, 38.93it/s]\n"
     ]
    },
    {
     "name": "stdout",
     "output_type": "stream",
     "text": [
      "Completed! All frames saved to visualization/output/action_2853/frames\n",
      "Creating video from 126 frames...\n"
     ]
    },
    {
     "name": "stderr",
     "output_type": "stream",
     "text": [
      "Creating video: 100%|██████████| 126/126 [00:01<00:00, 75.71it/s]\n"
     ]
    },
    {
     "name": "stdout",
     "output_type": "stream",
     "text": [
      "Video created successfully: visualization/output/action_2853/video/action_2853.mp4\n",
      "Visualization completed for data/gamestate_output/action_2853.json\n",
      "Frames saved to visualization/output/action_2853/frames\n",
      "Video saved to visualization/output/action_2853/video/action_2853.mp4\n",
      "Processing 125 frames ...\n"
     ]
    },
    {
     "name": "stderr",
     "output_type": "stream",
     "text": [
      "Processing frames: 100%|██████████| 125/125 [00:02<00:00, 42.69it/s]\n"
     ]
    },
    {
     "name": "stdout",
     "output_type": "stream",
     "text": [
      "Completed! All frames saved to visualization/output/action_2445/frames\n",
      "Creating video from 125 frames...\n"
     ]
    },
    {
     "name": "stderr",
     "output_type": "stream",
     "text": [
      "Creating video: 100%|██████████| 125/125 [00:01<00:00, 75.48it/s]\n"
     ]
    },
    {
     "name": "stdout",
     "output_type": "stream",
     "text": [
      "Video created successfully: visualization/output/action_2445/video/action_2445.mp4\n",
      "Visualization completed for data/gamestate_output/action_2445.json\n",
      "Frames saved to visualization/output/action_2445/frames\n",
      "Video saved to visualization/output/action_2445/video/action_2445.mp4\n",
      "Processing 126 frames ...\n"
     ]
    },
    {
     "name": "stderr",
     "output_type": "stream",
     "text": [
      "Processing frames: 100%|██████████| 126/126 [00:02<00:00, 43.30it/s]\n"
     ]
    },
    {
     "name": "stdout",
     "output_type": "stream",
     "text": [
      "Completed! All frames saved to visualization/output/action_1814/frames\n",
      "Creating video from 126 frames...\n"
     ]
    },
    {
     "name": "stderr",
     "output_type": "stream",
     "text": [
      "Creating video: 100%|██████████| 126/126 [00:01<00:00, 75.06it/s]\n"
     ]
    },
    {
     "name": "stdout",
     "output_type": "stream",
     "text": [
      "Video created successfully: visualization/output/action_1814/video/action_1814.mp4\n",
      "Visualization completed for data/gamestate_output/action_1814.json\n",
      "Frames saved to visualization/output/action_1814/frames\n",
      "Video saved to visualization/output/action_1814/video/action_1814.mp4\n",
      "Processing 126 frames ...\n"
     ]
    },
    {
     "name": "stderr",
     "output_type": "stream",
     "text": [
      "Processing frames: 100%|██████████| 126/126 [00:02<00:00, 47.32it/s]\n"
     ]
    },
    {
     "name": "stdout",
     "output_type": "stream",
     "text": [
      "Completed! All frames saved to visualization/output/action_1052/frames\n",
      "Creating video from 126 frames...\n"
     ]
    },
    {
     "name": "stderr",
     "output_type": "stream",
     "text": [
      "Creating video: 100%|██████████| 126/126 [00:01<00:00, 76.18it/s]\n"
     ]
    },
    {
     "name": "stdout",
     "output_type": "stream",
     "text": [
      "Video created successfully: visualization/output/action_1052/video/action_1052.mp4\n",
      "Visualization completed for data/gamestate_output/action_1052.json\n",
      "Frames saved to visualization/output/action_1052/frames\n",
      "Video saved to visualization/output/action_1052/video/action_1052.mp4\n",
      "Processing 126 frames ...\n"
     ]
    },
    {
     "name": "stderr",
     "output_type": "stream",
     "text": [
      "Processing frames: 100%|██████████| 126/126 [00:03<00:00, 41.72it/s]\n"
     ]
    },
    {
     "name": "stdout",
     "output_type": "stream",
     "text": [
      "Completed! All frames saved to visualization/output/action_1681/frames\n",
      "Creating video from 126 frames...\n"
     ]
    },
    {
     "name": "stderr",
     "output_type": "stream",
     "text": [
      "Creating video: 100%|██████████| 126/126 [00:01<00:00, 80.14it/s]\n"
     ]
    },
    {
     "name": "stdout",
     "output_type": "stream",
     "text": [
      "Video created successfully: visualization/output/action_1681/video/action_1681.mp4\n",
      "Visualization completed for data/gamestate_output/action_1681.json\n",
      "Frames saved to visualization/output/action_1681/frames\n",
      "Video saved to visualization/output/action_1681/video/action_1681.mp4\n",
      "Processing 126 frames ...\n"
     ]
    },
    {
     "name": "stderr",
     "output_type": "stream",
     "text": [
      "Processing frames: 100%|██████████| 126/126 [00:03<00:00, 39.23it/s]\n"
     ]
    },
    {
     "name": "stdout",
     "output_type": "stream",
     "text": [
      "Completed! All frames saved to visualization/output/action_2042/frames\n",
      "Creating video from 126 frames...\n"
     ]
    },
    {
     "name": "stderr",
     "output_type": "stream",
     "text": [
      "Creating video: 100%|██████████| 126/126 [00:01<00:00, 71.78it/s]\n"
     ]
    },
    {
     "name": "stdout",
     "output_type": "stream",
     "text": [
      "Video created successfully: visualization/output/action_2042/video/action_2042.mp4\n",
      "Visualization completed for data/gamestate_output/action_2042.json\n",
      "Frames saved to visualization/output/action_2042/frames\n",
      "Video saved to visualization/output/action_2042/video/action_2042.mp4\n",
      "Processing 126 frames ...\n"
     ]
    },
    {
     "name": "stderr",
     "output_type": "stream",
     "text": [
      "Processing frames: 100%|██████████| 126/126 [00:02<00:00, 43.66it/s]\n"
     ]
    },
    {
     "name": "stdout",
     "output_type": "stream",
     "text": [
      "Completed! All frames saved to visualization/output/action_845/frames\n",
      "Creating video from 126 frames...\n"
     ]
    },
    {
     "name": "stderr",
     "output_type": "stream",
     "text": [
      "Creating video: 100%|██████████| 126/126 [00:01<00:00, 77.45it/s]\n"
     ]
    },
    {
     "name": "stdout",
     "output_type": "stream",
     "text": [
      "Video created successfully: visualization/output/action_845/video/action_845.mp4\n",
      "Visualization completed for data/gamestate_output/action_845.json\n",
      "Frames saved to visualization/output/action_845/frames\n",
      "Video saved to visualization/output/action_845/video/action_845.mp4\n",
      "Processing 126 frames ...\n"
     ]
    },
    {
     "name": "stderr",
     "output_type": "stream",
     "text": [
      "Processing frames: 100%|██████████| 126/126 [00:03<00:00, 41.66it/s]\n"
     ]
    },
    {
     "name": "stdout",
     "output_type": "stream",
     "text": [
      "Completed! All frames saved to visualization/output/action_1947/frames\n",
      "Creating video from 126 frames...\n"
     ]
    },
    {
     "name": "stderr",
     "output_type": "stream",
     "text": [
      "Creating video: 100%|██████████| 126/126 [00:01<00:00, 80.10it/s]\n"
     ]
    },
    {
     "name": "stdout",
     "output_type": "stream",
     "text": [
      "Video created successfully: visualization/output/action_1947/video/action_1947.mp4\n",
      "Visualization completed for data/gamestate_output/action_1947.json\n",
      "Frames saved to visualization/output/action_1947/frames\n",
      "Video saved to visualization/output/action_1947/video/action_1947.mp4\n",
      "Processing 126 frames ...\n"
     ]
    },
    {
     "name": "stderr",
     "output_type": "stream",
     "text": [
      "Processing frames: 100%|██████████| 126/126 [00:03<00:00, 38.88it/s]\n"
     ]
    },
    {
     "name": "stdout",
     "output_type": "stream",
     "text": [
      "Completed! All frames saved to visualization/output/action_445/frames\n",
      "Creating video from 126 frames...\n"
     ]
    },
    {
     "name": "stderr",
     "output_type": "stream",
     "text": [
      "Creating video: 100%|██████████| 126/126 [00:01<00:00, 81.62it/s]\n"
     ]
    },
    {
     "name": "stdout",
     "output_type": "stream",
     "text": [
      "Video created successfully: visualization/output/action_445/video/action_445.mp4\n",
      "Visualization completed for data/gamestate_output/action_445.json\n",
      "Frames saved to visualization/output/action_445/frames\n",
      "Video saved to visualization/output/action_445/video/action_445.mp4\n",
      "Processing 126 frames ...\n"
     ]
    },
    {
     "name": "stderr",
     "output_type": "stream",
     "text": [
      "Processing frames: 100%|██████████| 126/126 [00:02<00:00, 44.67it/s]\n"
     ]
    },
    {
     "name": "stdout",
     "output_type": "stream",
     "text": [
      "Completed! All frames saved to visualization/output/action_2812/frames\n",
      "Creating video from 126 frames...\n"
     ]
    },
    {
     "name": "stderr",
     "output_type": "stream",
     "text": [
      "Creating video: 100%|██████████| 126/126 [00:01<00:00, 77.76it/s]\n"
     ]
    },
    {
     "name": "stdout",
     "output_type": "stream",
     "text": [
      "Video created successfully: visualization/output/action_2812/video/action_2812.mp4\n",
      "Visualization completed for data/gamestate_output/action_2812.json\n",
      "Frames saved to visualization/output/action_2812/frames\n",
      "Video saved to visualization/output/action_2812/video/action_2812.mp4\n",
      "Processing 126 frames ...\n"
     ]
    },
    {
     "name": "stderr",
     "output_type": "stream",
     "text": [
      "Processing frames: 100%|██████████| 126/126 [00:03<00:00, 39.46it/s]\n"
     ]
    },
    {
     "name": "stdout",
     "output_type": "stream",
     "text": [
      "Completed! All frames saved to visualization/output/action_916/frames\n",
      "Creating video from 126 frames...\n"
     ]
    },
    {
     "name": "stderr",
     "output_type": "stream",
     "text": [
      "Creating video: 100%|██████████| 126/126 [00:01<00:00, 75.44it/s]\n"
     ]
    },
    {
     "name": "stdout",
     "output_type": "stream",
     "text": [
      "Video created successfully: visualization/output/action_916/video/action_916.mp4\n",
      "Visualization completed for data/gamestate_output/action_916.json\n",
      "Frames saved to visualization/output/action_916/frames\n",
      "Video saved to visualization/output/action_916/video/action_916.mp4\n",
      "Processing 126 frames ...\n"
     ]
    },
    {
     "name": "stderr",
     "output_type": "stream",
     "text": [
      "Processing frames: 100%|██████████| 126/126 [00:02<00:00, 42.79it/s]\n"
     ]
    },
    {
     "name": "stdout",
     "output_type": "stream",
     "text": [
      "Completed! All frames saved to visualization/output/action_853/frames\n",
      "Creating video from 126 frames...\n"
     ]
    },
    {
     "name": "stderr",
     "output_type": "stream",
     "text": [
      "Creating video: 100%|██████████| 126/126 [00:01<00:00, 87.64it/s]\n"
     ]
    },
    {
     "name": "stdout",
     "output_type": "stream",
     "text": [
      "Video created successfully: visualization/output/action_853/video/action_853.mp4\n",
      "Visualization completed for data/gamestate_output/action_853.json\n",
      "Frames saved to visualization/output/action_853/frames\n",
      "Video saved to visualization/output/action_853/video/action_853.mp4\n",
      "Processing 126 frames ...\n"
     ]
    },
    {
     "name": "stderr",
     "output_type": "stream",
     "text": [
      "Processing frames: 100%|██████████| 126/126 [00:03<00:00, 38.58it/s]\n"
     ]
    },
    {
     "name": "stdout",
     "output_type": "stream",
     "text": [
      "Completed! All frames saved to visualization/output/action_2404/frames\n",
      "Creating video from 126 frames...\n"
     ]
    },
    {
     "name": "stderr",
     "output_type": "stream",
     "text": [
      "Creating video: 100%|██████████| 126/126 [00:01<00:00, 92.43it/s]\n"
     ]
    },
    {
     "name": "stdout",
     "output_type": "stream",
     "text": [
      "Video created successfully: visualization/output/action_2404/video/action_2404.mp4\n",
      "Visualization completed for data/gamestate_output/action_2404.json\n",
      "Frames saved to visualization/output/action_2404/frames\n",
      "Video saved to visualization/output/action_2404/video/action_2404.mp4\n",
      "Processing 126 frames ...\n"
     ]
    },
    {
     "name": "stderr",
     "output_type": "stream",
     "text": [
      "Processing frames: 100%|██████████| 126/126 [00:02<00:00, 47.91it/s]\n"
     ]
    },
    {
     "name": "stdout",
     "output_type": "stream",
     "text": [
      "Completed! All frames saved to visualization/output/action_1156/frames\n",
      "Creating video from 126 frames...\n"
     ]
    },
    {
     "name": "stderr",
     "output_type": "stream",
     "text": [
      "Creating video: 100%|██████████| 126/126 [00:01<00:00, 88.17it/s]\n"
     ]
    },
    {
     "name": "stdout",
     "output_type": "stream",
     "text": [
      "Video created successfully: visualization/output/action_1156/video/action_1156.mp4\n",
      "Visualization completed for data/gamestate_output/action_1156.json\n",
      "Frames saved to visualization/output/action_1156/frames\n",
      "Video saved to visualization/output/action_1156/video/action_1156.mp4\n",
      "Processing 126 frames ...\n"
     ]
    },
    {
     "name": "stderr",
     "output_type": "stream",
     "text": [
      "Processing frames: 100%|██████████| 126/126 [00:02<00:00, 42.38it/s]\n"
     ]
    },
    {
     "name": "stdout",
     "output_type": "stream",
     "text": [
      "Completed! All frames saved to visualization/output/action_1013/frames\n",
      "Creating video from 126 frames...\n"
     ]
    },
    {
     "name": "stderr",
     "output_type": "stream",
     "text": [
      "Creating video: 100%|██████████| 126/126 [00:01<00:00, 86.79it/s]\n"
     ]
    },
    {
     "name": "stdout",
     "output_type": "stream",
     "text": [
      "Video created successfully: visualization/output/action_1013/video/action_1013.mp4\n",
      "Visualization completed for data/gamestate_output/action_1013.json\n",
      "Frames saved to visualization/output/action_1013/frames\n",
      "Video saved to visualization/output/action_1013/video/action_1013.mp4\n",
      "Processing 126 frames ...\n"
     ]
    },
    {
     "name": "stderr",
     "output_type": "stream",
     "text": [
      "Processing frames: 100%|██████████| 126/126 [00:03<00:00, 38.40it/s]\n"
     ]
    },
    {
     "name": "stdout",
     "output_type": "stream",
     "text": [
      "Completed! All frames saved to visualization/output/action_804/frames\n",
      "Creating video from 126 frames...\n"
     ]
    },
    {
     "name": "stderr",
     "output_type": "stream",
     "text": [
      "Creating video: 100%|██████████| 126/126 [00:01<00:00, 87.94it/s]\n"
     ]
    },
    {
     "name": "stdout",
     "output_type": "stream",
     "text": [
      "Video created successfully: visualization/output/action_804/video/action_804.mp4\n",
      "Visualization completed for data/gamestate_output/action_804.json\n",
      "Frames saved to visualization/output/action_804/frames\n",
      "Video saved to visualization/output/action_804/video/action_804.mp4\n",
      "Processing 126 frames ...\n"
     ]
    },
    {
     "name": "stderr",
     "output_type": "stream",
     "text": [
      "Processing frames: 100%|██████████| 126/126 [00:02<00:00, 44.75it/s]\n"
     ]
    },
    {
     "name": "stdout",
     "output_type": "stream",
     "text": [
      "Completed! All frames saved to visualization/output/action_1967/frames\n",
      "Creating video from 126 frames...\n"
     ]
    },
    {
     "name": "stderr",
     "output_type": "stream",
     "text": [
      "Creating video: 100%|██████████| 126/126 [00:01<00:00, 89.57it/s]\n"
     ]
    },
    {
     "name": "stdout",
     "output_type": "stream",
     "text": [
      "Video created successfully: visualization/output/action_1967/video/action_1967.mp4\n",
      "Visualization completed for data/gamestate_output/action_1967.json\n",
      "Frames saved to visualization/output/action_1967/frames\n",
      "Video saved to visualization/output/action_1967/video/action_1967.mp4\n",
      "Processing 126 frames ...\n"
     ]
    },
    {
     "name": "stderr",
     "output_type": "stream",
     "text": [
      "Processing frames: 100%|██████████| 126/126 [00:03<00:00, 39.72it/s]\n"
     ]
    },
    {
     "name": "stdout",
     "output_type": "stream",
     "text": [
      "Completed! All frames saved to visualization/output/action_1064/frames\n",
      "Creating video from 126 frames...\n"
     ]
    },
    {
     "name": "stderr",
     "output_type": "stream",
     "text": [
      "Creating video: 100%|██████████| 126/126 [00:01<00:00, 88.95it/s]\n"
     ]
    },
    {
     "name": "stdout",
     "output_type": "stream",
     "text": [
      "Video created successfully: visualization/output/action_1064/video/action_1064.mp4\n",
      "Visualization completed for data/gamestate_output/action_1064.json\n",
      "Frames saved to visualization/output/action_1064/frames\n",
      "Video saved to visualization/output/action_1064/video/action_1064.mp4\n",
      "Processing 126 frames ...\n"
     ]
    },
    {
     "name": "stderr",
     "output_type": "stream",
     "text": [
      "Processing frames: 100%|██████████| 126/126 [00:03<00:00, 41.18it/s]\n"
     ]
    },
    {
     "name": "stdout",
     "output_type": "stream",
     "text": [
      "Completed! All frames saved to visualization/output/action_87/frames\n",
      "Creating video from 126 frames...\n"
     ]
    },
    {
     "name": "stderr",
     "output_type": "stream",
     "text": [
      "Creating video: 100%|██████████| 126/126 [00:01<00:00, 89.25it/s]\n"
     ]
    },
    {
     "name": "stdout",
     "output_type": "stream",
     "text": [
      "Video created successfully: visualization/output/action_87/video/action_87.mp4\n",
      "Visualization completed for data/gamestate_output/action_87.json\n",
      "Frames saved to visualization/output/action_87/frames\n",
      "Video saved to visualization/output/action_87/video/action_87.mp4\n",
      "Processing 126 frames ...\n"
     ]
    },
    {
     "name": "stderr",
     "output_type": "stream",
     "text": [
      "Processing frames: 100%|██████████| 126/126 [00:02<00:00, 55.49it/s]\n"
     ]
    },
    {
     "name": "stdout",
     "output_type": "stream",
     "text": [
      "Completed! All frames saved to visualization/output/action_1434/frames\n",
      "Creating video from 126 frames...\n"
     ]
    },
    {
     "name": "stderr",
     "output_type": "stream",
     "text": [
      "Creating video: 100%|██████████| 126/126 [00:01<00:00, 86.10it/s]\n"
     ]
    },
    {
     "name": "stdout",
     "output_type": "stream",
     "text": [
      "Video created successfully: visualization/output/action_1434/video/action_1434.mp4\n",
      "Visualization completed for data/gamestate_output/action_1434.json\n",
      "Frames saved to visualization/output/action_1434/frames\n",
      "Video saved to visualization/output/action_1434/video/action_1434.mp4\n",
      "Processing 126 frames ...\n"
     ]
    },
    {
     "name": "stderr",
     "output_type": "stream",
     "text": [
      "Processing frames: 100%|██████████| 126/126 [00:02<00:00, 44.08it/s]\n"
     ]
    },
    {
     "name": "stdout",
     "output_type": "stream",
     "text": [
      "Completed! All frames saved to visualization/output/action_1121/frames\n",
      "Creating video from 126 frames...\n"
     ]
    },
    {
     "name": "stderr",
     "output_type": "stream",
     "text": [
      "Creating video: 100%|██████████| 126/126 [00:01<00:00, 87.34it/s]\n"
     ]
    },
    {
     "name": "stdout",
     "output_type": "stream",
     "text": [
      "Video created successfully: visualization/output/action_1121/video/action_1121.mp4\n",
      "Visualization completed for data/gamestate_output/action_1121.json\n",
      "Frames saved to visualization/output/action_1121/frames\n",
      "Video saved to visualization/output/action_1121/video/action_1121.mp4\n",
      "Processing 126 frames ...\n"
     ]
    },
    {
     "name": "stderr",
     "output_type": "stream",
     "text": [
      "Processing frames: 100%|██████████| 126/126 [00:03<00:00, 39.47it/s]\n"
     ]
    },
    {
     "name": "stdout",
     "output_type": "stream",
     "text": [
      "Completed! All frames saved to visualization/output/action_2473/frames\n",
      "Creating video from 126 frames...\n"
     ]
    },
    {
     "name": "stderr",
     "output_type": "stream",
     "text": [
      "Creating video: 100%|██████████| 126/126 [00:01<00:00, 87.25it/s]\n"
     ]
    },
    {
     "name": "stdout",
     "output_type": "stream",
     "text": [
      "Video created successfully: visualization/output/action_2473/video/action_2473.mp4\n",
      "Visualization completed for data/gamestate_output/action_2473.json\n",
      "Frames saved to visualization/output/action_2473/frames\n",
      "Video saved to visualization/output/action_2473/video/action_2473.mp4\n",
      "Processing 126 frames ...\n"
     ]
    },
    {
     "name": "stderr",
     "output_type": "stream",
     "text": [
      "Processing frames: 100%|██████████| 126/126 [00:02<00:00, 46.61it/s]\n"
     ]
    },
    {
     "name": "stdout",
     "output_type": "stream",
     "text": [
      "Completed! All frames saved to visualization/output/action_824/frames\n",
      "Creating video from 126 frames...\n"
     ]
    },
    {
     "name": "stderr",
     "output_type": "stream",
     "text": [
      "Creating video: 100%|██████████| 126/126 [00:01<00:00, 87.74it/s]\n"
     ]
    },
    {
     "name": "stdout",
     "output_type": "stream",
     "text": [
      "Video created successfully: visualization/output/action_824/video/action_824.mp4\n",
      "Visualization completed for data/gamestate_output/action_824.json\n",
      "Frames saved to visualization/output/action_824/frames\n",
      "Video saved to visualization/output/action_824/video/action_824.mp4\n",
      "Processing 126 frames ...\n"
     ]
    },
    {
     "name": "stderr",
     "output_type": "stream",
     "text": [
      "Processing frames: 100%|██████████| 126/126 [00:02<00:00, 44.78it/s]\n"
     ]
    },
    {
     "name": "stdout",
     "output_type": "stream",
     "text": [
      "Completed! All frames saved to visualization/output/action_1463/frames\n",
      "Creating video from 126 frames...\n"
     ]
    },
    {
     "name": "stderr",
     "output_type": "stream",
     "text": [
      "Creating video: 100%|██████████| 126/126 [00:01<00:00, 86.66it/s]\n"
     ]
    },
    {
     "name": "stdout",
     "output_type": "stream",
     "text": [
      "Video created successfully: visualization/output/action_1463/video/action_1463.mp4\n",
      "Visualization completed for data/gamestate_output/action_1463.json\n",
      "Frames saved to visualization/output/action_1463/frames\n",
      "Video saved to visualization/output/action_1463/video/action_1463.mp4\n",
      "Processing 126 frames ...\n"
     ]
    },
    {
     "name": "stderr",
     "output_type": "stream",
     "text": [
      "Processing frames: 100%|██████████| 126/126 [00:02<00:00, 50.83it/s]\n"
     ]
    },
    {
     "name": "stdout",
     "output_type": "stream",
     "text": [
      "Completed! All frames saved to visualization/output/action_1199/frames\n",
      "Creating video from 126 frames...\n"
     ]
    },
    {
     "name": "stderr",
     "output_type": "stream",
     "text": [
      "Creating video: 100%|██████████| 126/126 [00:01<00:00, 88.68it/s]\n"
     ]
    },
    {
     "name": "stdout",
     "output_type": "stream",
     "text": [
      "Video created successfully: visualization/output/action_1199/video/action_1199.mp4\n",
      "Visualization completed for data/gamestate_output/action_1199.json\n",
      "Frames saved to visualization/output/action_1199/frames\n",
      "Video saved to visualization/output/action_1199/video/action_1199.mp4\n",
      "Processing 126 frames ...\n"
     ]
    },
    {
     "name": "stderr",
     "output_type": "stream",
     "text": [
      "Processing frames: 100%|██████████| 126/126 [00:03<00:00, 38.87it/s]\n"
     ]
    },
    {
     "name": "stdout",
     "output_type": "stream",
     "text": [
      "Completed! All frames saved to visualization/output/action_832/frames\n",
      "Creating video from 126 frames...\n"
     ]
    },
    {
     "name": "stderr",
     "output_type": "stream",
     "text": [
      "Creating video: 100%|██████████| 126/126 [00:01<00:00, 87.50it/s]\n"
     ]
    },
    {
     "name": "stdout",
     "output_type": "stream",
     "text": [
      "Video created successfully: visualization/output/action_832/video/action_832.mp4\n",
      "Visualization completed for data/gamestate_output/action_832.json\n",
      "Frames saved to visualization/output/action_832/frames\n",
      "Video saved to visualization/output/action_832/video/action_832.mp4\n",
      "Processing 126 frames ...\n"
     ]
    },
    {
     "name": "stderr",
     "output_type": "stream",
     "text": [
      "Processing frames: 100%|██████████| 126/126 [00:02<00:00, 43.29it/s]\n"
     ]
    },
    {
     "name": "stdout",
     "output_type": "stream",
     "text": [
      "Completed! All frames saved to visualization/output/action_2035/frames\n",
      "Creating video from 126 frames...\n"
     ]
    },
    {
     "name": "stderr",
     "output_type": "stream",
     "text": [
      "Creating video: 100%|██████████| 126/126 [00:01<00:00, 88.23it/s]\n"
     ]
    },
    {
     "name": "stdout",
     "output_type": "stream",
     "text": [
      "Video created successfully: visualization/output/action_2035/video/action_2035.mp4\n",
      "Visualization completed for data/gamestate_output/action_2035.json\n",
      "Frames saved to visualization/output/action_2035/frames\n",
      "Video saved to visualization/output/action_2035/video/action_2035.mp4\n",
      "Processing 126 frames ...\n"
     ]
    },
    {
     "name": "stderr",
     "output_type": "stream",
     "text": [
      "Processing frames: 100%|██████████| 126/126 [00:03<00:00, 41.36it/s]\n"
     ]
    },
    {
     "name": "stdout",
     "output_type": "stream",
     "text": [
      "Completed! All frames saved to visualization/output/action_2598/frames\n",
      "Creating video from 126 frames...\n"
     ]
    },
    {
     "name": "stderr",
     "output_type": "stream",
     "text": [
      "Creating video: 100%|██████████| 126/126 [00:01<00:00, 87.10it/s]\n"
     ]
    },
    {
     "name": "stdout",
     "output_type": "stream",
     "text": [
      "Video created successfully: visualization/output/action_2598/video/action_2598.mp4\n",
      "Visualization completed for data/gamestate_output/action_2598.json\n",
      "Frames saved to visualization/output/action_2598/frames\n",
      "Video saved to visualization/output/action_2598/video/action_2598.mp4\n",
      "Processing 126 frames ...\n"
     ]
    },
    {
     "name": "stderr",
     "output_type": "stream",
     "text": [
      "Processing frames: 100%|██████████| 126/126 [00:03<00:00, 39.08it/s]\n"
     ]
    },
    {
     "name": "stdout",
     "output_type": "stream",
     "text": [
      "Completed! All frames saved to visualization/output/action_2824/frames\n",
      "Creating video from 126 frames...\n"
     ]
    },
    {
     "name": "stderr",
     "output_type": "stream",
     "text": [
      "Creating video: 100%|██████████| 126/126 [00:01<00:00, 87.70it/s]\n"
     ]
    },
    {
     "name": "stdout",
     "output_type": "stream",
     "text": [
      "Video created successfully: visualization/output/action_2824/video/action_2824.mp4\n",
      "Visualization completed for data/gamestate_output/action_2824.json\n",
      "Frames saved to visualization/output/action_2824/frames\n",
      "Video saved to visualization/output/action_2824/video/action_2824.mp4\n",
      "Processing 126 frames ...\n"
     ]
    },
    {
     "name": "stderr",
     "output_type": "stream",
     "text": [
      "Processing frames: 100%|██████████| 126/126 [00:03<00:00, 37.57it/s]\n"
     ]
    },
    {
     "name": "stdout",
     "output_type": "stream",
     "text": [
      "Completed! All frames saved to visualization/output/action_2760/frames\n",
      "Creating video from 126 frames...\n"
     ]
    },
    {
     "name": "stderr",
     "output_type": "stream",
     "text": [
      "Creating video: 100%|██████████| 126/126 [00:01<00:00, 90.37it/s]\n"
     ]
    },
    {
     "name": "stdout",
     "output_type": "stream",
     "text": [
      "Video created successfully: visualization/output/action_2760/video/action_2760.mp4\n",
      "Visualization completed for data/gamestate_output/action_2760.json\n",
      "Frames saved to visualization/output/action_2760/frames\n",
      "Video saved to visualization/output/action_2760/video/action_2760.mp4\n",
      "Processing 126 frames ...\n"
     ]
    },
    {
     "name": "stderr",
     "output_type": "stream",
     "text": [
      "Processing frames: 100%|██████████| 126/126 [00:02<00:00, 44.63it/s]\n"
     ]
    },
    {
     "name": "stdout",
     "output_type": "stream",
     "text": [
      "Completed! All frames saved to visualization/output/action_1009/frames\n",
      "Creating video from 126 frames...\n"
     ]
    },
    {
     "name": "stderr",
     "output_type": "stream",
     "text": [
      "Creating video: 100%|██████████| 126/126 [00:01<00:00, 88.44it/s]\n"
     ]
    },
    {
     "name": "stdout",
     "output_type": "stream",
     "text": [
      "Video created successfully: visualization/output/action_1009/video/action_1009.mp4\n",
      "Visualization completed for data/gamestate_output/action_1009.json\n",
      "Frames saved to visualization/output/action_1009/frames\n",
      "Video saved to visualization/output/action_1009/video/action_1009.mp4\n",
      "Processing 126 frames ...\n"
     ]
    },
    {
     "name": "stderr",
     "output_type": "stream",
     "text": [
      "Processing frames: 100%|██████████| 126/126 [00:02<00:00, 43.65it/s]\n"
     ]
    },
    {
     "name": "stdout",
     "output_type": "stream",
     "text": [
      "Completed! All frames saved to visualization/output/action_1818/frames\n",
      "Creating video from 126 frames...\n"
     ]
    },
    {
     "name": "stderr",
     "output_type": "stream",
     "text": [
      "Creating video: 100%|██████████| 126/126 [00:01<00:00, 87.21it/s]\n"
     ]
    },
    {
     "name": "stdout",
     "output_type": "stream",
     "text": [
      "Video created successfully: visualization/output/action_1818/video/action_1818.mp4\n",
      "Visualization completed for data/gamestate_output/action_1818.json\n",
      "Frames saved to visualization/output/action_1818/frames\n",
      "Video saved to visualization/output/action_1818/video/action_1818.mp4\n",
      "Processing 126 frames ...\n"
     ]
    },
    {
     "name": "stderr",
     "output_type": "stream",
     "text": [
      "Processing frames: 100%|██████████| 126/126 [00:03<00:00, 38.45it/s]\n"
     ]
    },
    {
     "name": "stdout",
     "output_type": "stream",
     "text": [
      "Completed! All frames saved to visualization/output/action_776/frames\n",
      "Creating video from 126 frames...\n"
     ]
    },
    {
     "name": "stderr",
     "output_type": "stream",
     "text": [
      "Creating video: 100%|██████████| 126/126 [00:01<00:00, 81.51it/s]\n"
     ]
    },
    {
     "name": "stdout",
     "output_type": "stream",
     "text": [
      "Video created successfully: visualization/output/action_776/video/action_776.mp4\n",
      "Visualization completed for data/gamestate_output/action_776.json\n",
      "Frames saved to visualization/output/action_776/frames\n",
      "Video saved to visualization/output/action_776/video/action_776.mp4\n",
      "Processing 126 frames ...\n"
     ]
    },
    {
     "name": "stderr",
     "output_type": "stream",
     "text": [
      "Processing frames: 100%|██████████| 126/126 [00:03<00:00, 39.97it/s]\n"
     ]
    },
    {
     "name": "stdout",
     "output_type": "stream",
     "text": [
      "Completed! All frames saved to visualization/output/action_1361/frames\n",
      "Creating video from 126 frames...\n"
     ]
    },
    {
     "name": "stderr",
     "output_type": "stream",
     "text": [
      "Creating video: 100%|██████████| 126/126 [00:01<00:00, 80.42it/s]\n"
     ]
    },
    {
     "name": "stdout",
     "output_type": "stream",
     "text": [
      "Video created successfully: visualization/output/action_1361/video/action_1361.mp4\n",
      "Visualization completed for data/gamestate_output/action_1361.json\n",
      "Frames saved to visualization/output/action_1361/frames\n",
      "Video saved to visualization/output/action_1361/video/action_1361.mp4\n",
      "Processing 126 frames ...\n"
     ]
    },
    {
     "name": "stderr",
     "output_type": "stream",
     "text": [
      "Processing frames: 100%|██████████| 126/126 [00:03<00:00, 39.22it/s]\n"
     ]
    },
    {
     "name": "stdout",
     "output_type": "stream",
     "text": [
      "Completed! All frames saved to visualization/output/action_222/frames\n",
      "Creating video from 126 frames...\n"
     ]
    },
    {
     "name": "stderr",
     "output_type": "stream",
     "text": [
      "Creating video: 100%|██████████| 126/126 [00:01<00:00, 81.49it/s]\n"
     ]
    },
    {
     "name": "stdout",
     "output_type": "stream",
     "text": [
      "Video created successfully: visualization/output/action_222/video/action_222.mp4\n",
      "Visualization completed for data/gamestate_output/action_222.json\n",
      "Frames saved to visualization/output/action_222/frames\n",
      "Video saved to visualization/output/action_222/video/action_222.mp4\n",
      "Processing 126 frames ...\n"
     ]
    },
    {
     "name": "stderr",
     "output_type": "stream",
     "text": [
      "Processing frames: 100%|██████████| 126/126 [00:02<00:00, 42.72it/s]\n"
     ]
    },
    {
     "name": "stdout",
     "output_type": "stream",
     "text": [
      "Completed! All frames saved to visualization/output/action_673/frames\n",
      "Creating video from 126 frames...\n"
     ]
    },
    {
     "name": "stderr",
     "output_type": "stream",
     "text": [
      "Creating video: 100%|██████████| 126/126 [00:01<00:00, 79.64it/s]\n"
     ]
    },
    {
     "name": "stdout",
     "output_type": "stream",
     "text": [
      "Video created successfully: visualization/output/action_673/video/action_673.mp4\n",
      "Visualization completed for data/gamestate_output/action_673.json\n",
      "Frames saved to visualization/output/action_673/frames\n",
      "Video saved to visualization/output/action_673/video/action_673.mp4\n",
      "Processing 126 frames ...\n"
     ]
    },
    {
     "name": "stderr",
     "output_type": "stream",
     "text": [
      "Processing frames: 100%|██████████| 126/126 [00:03<00:00, 41.51it/s]\n"
     ]
    },
    {
     "name": "stdout",
     "output_type": "stream",
     "text": [
      "Completed! All frames saved to visualization/output/action_2777/frames\n",
      "Creating video from 126 frames...\n"
     ]
    },
    {
     "name": "stderr",
     "output_type": "stream",
     "text": [
      "Creating video: 100%|██████████| 126/126 [00:01<00:00, 87.41it/s]\n"
     ]
    },
    {
     "name": "stdout",
     "output_type": "stream",
     "text": [
      "Video created successfully: visualization/output/action_2777/video/action_2777.mp4\n",
      "Visualization completed for data/gamestate_output/action_2777.json\n",
      "Frames saved to visualization/output/action_2777/frames\n",
      "Video saved to visualization/output/action_2777/video/action_2777.mp4\n",
      "Processing 126 frames ...\n"
     ]
    },
    {
     "name": "stderr",
     "output_type": "stream",
     "text": [
      "Processing frames: 100%|██████████| 126/126 [00:02<00:00, 48.32it/s]\n"
     ]
    },
    {
     "name": "stdout",
     "output_type": "stream",
     "text": [
      "Completed! All frames saved to visualization/output/action_2798/frames\n",
      "Creating video from 126 frames...\n"
     ]
    },
    {
     "name": "stderr",
     "output_type": "stream",
     "text": [
      "Creating video: 100%|██████████| 126/126 [00:01<00:00, 85.01it/s]\n"
     ]
    },
    {
     "name": "stdout",
     "output_type": "stream",
     "text": [
      "Video created successfully: visualization/output/action_2798/video/action_2798.mp4\n",
      "Visualization completed for data/gamestate_output/action_2798.json\n",
      "Frames saved to visualization/output/action_2798/frames\n",
      "Video saved to visualization/output/action_2798/video/action_2798.mp4\n",
      "Processing 126 frames ...\n"
     ]
    },
    {
     "name": "stderr",
     "output_type": "stream",
     "text": [
      "Processing frames: 100%|██████████| 126/126 [00:03<00:00, 34.78it/s]\n"
     ]
    },
    {
     "name": "stdout",
     "output_type": "stream",
     "text": [
      "Completed! All frames saved to visualization/output/action_366/frames\n",
      "Creating video from 126 frames...\n"
     ]
    },
    {
     "name": "stderr",
     "output_type": "stream",
     "text": [
      "Creating video: 100%|██████████| 126/126 [00:01<00:00, 83.00it/s]\n"
     ]
    },
    {
     "name": "stdout",
     "output_type": "stream",
     "text": [
      "Video created successfully: visualization/output/action_366/video/action_366.mp4\n",
      "Visualization completed for data/gamestate_output/action_366.json\n",
      "Frames saved to visualization/output/action_366/frames\n",
      "Video saved to visualization/output/action_366/video/action_366.mp4\n",
      "Processing 126 frames ...\n"
     ]
    },
    {
     "name": "stderr",
     "output_type": "stream",
     "text": [
      "Processing frames: 100%|██████████| 126/126 [00:02<00:00, 44.97it/s]\n"
     ]
    },
    {
     "name": "stdout",
     "output_type": "stream",
     "text": [
      "Completed! All frames saved to visualization/output/action_2370/frames\n",
      "Creating video from 126 frames...\n"
     ]
    },
    {
     "name": "stderr",
     "output_type": "stream",
     "text": [
      "Creating video: 100%|██████████| 126/126 [00:01<00:00, 83.22it/s]\n"
     ]
    },
    {
     "name": "stdout",
     "output_type": "stream",
     "text": [
      "Video created successfully: visualization/output/action_2370/video/action_2370.mp4\n",
      "Visualization completed for data/gamestate_output/action_2370.json\n",
      "Frames saved to visualization/output/action_2370/frames\n",
      "Video saved to visualization/output/action_2370/video/action_2370.mp4\n",
      "Processing 126 frames ...\n"
     ]
    },
    {
     "name": "stderr",
     "output_type": "stream",
     "text": [
      "Processing frames: 100%|██████████| 126/126 [00:02<00:00, 45.02it/s]\n"
     ]
    },
    {
     "name": "stdout",
     "output_type": "stream",
     "text": [
      "Completed! All frames saved to visualization/output/action_798/frames\n",
      "Creating video from 126 frames...\n"
     ]
    },
    {
     "name": "stderr",
     "output_type": "stream",
     "text": [
      "Creating video: 100%|██████████| 126/126 [00:01<00:00, 84.90it/s]\n"
     ]
    },
    {
     "name": "stdout",
     "output_type": "stream",
     "text": [
      "Video created successfully: visualization/output/action_798/video/action_798.mp4\n",
      "Visualization completed for data/gamestate_output/action_798.json\n",
      "Frames saved to visualization/output/action_798/frames\n",
      "Video saved to visualization/output/action_798/video/action_798.mp4\n",
      "Processing 126 frames ...\n"
     ]
    },
    {
     "name": "stderr",
     "output_type": "stream",
     "text": [
      "Processing frames: 100%|██████████| 126/126 [00:03<00:00, 40.61it/s]\n"
     ]
    },
    {
     "name": "stdout",
     "output_type": "stream",
     "text": [
      "Completed! All frames saved to visualization/output/action_1399/frames\n",
      "Creating video from 126 frames...\n"
     ]
    },
    {
     "name": "stderr",
     "output_type": "stream",
     "text": [
      "Creating video: 100%|██████████| 126/126 [00:01<00:00, 90.38it/s]\n"
     ]
    },
    {
     "name": "stdout",
     "output_type": "stream",
     "text": [
      "Video created successfully: visualization/output/action_1399/video/action_1399.mp4\n",
      "Visualization completed for data/gamestate_output/action_1399.json\n",
      "Frames saved to visualization/output/action_1399/frames\n",
      "Video saved to visualization/output/action_1399/video/action_1399.mp4\n",
      "Processing 126 frames ...\n"
     ]
    },
    {
     "name": "stderr",
     "output_type": "stream",
     "text": [
      "Processing frames: 100%|██████████| 126/126 [00:02<00:00, 51.63it/s]\n"
     ]
    },
    {
     "name": "stdout",
     "output_type": "stream",
     "text": [
      "Completed! All frames saved to visualization/output/action_2274/frames\n",
      "Creating video from 126 frames...\n"
     ]
    },
    {
     "name": "stderr",
     "output_type": "stream",
     "text": [
      "Creating video: 100%|██████████| 126/126 [00:01<00:00, 87.82it/s]\n"
     ]
    },
    {
     "name": "stdout",
     "output_type": "stream",
     "text": [
      "Video created successfully: visualization/output/action_2274/video/action_2274.mp4\n",
      "Visualization completed for data/gamestate_output/action_2274.json\n",
      "Frames saved to visualization/output/action_2274/frames\n",
      "Video saved to visualization/output/action_2274/video/action_2274.mp4\n",
      "Processing 126 frames ...\n"
     ]
    },
    {
     "name": "stderr",
     "output_type": "stream",
     "text": [
      "Processing frames: 100%|██████████| 126/126 [00:03<00:00, 39.65it/s]\n"
     ]
    },
    {
     "name": "stdout",
     "output_type": "stream",
     "text": [
      "Completed! All frames saved to visualization/output/action_2433/frames\n",
      "Creating video from 126 frames...\n"
     ]
    },
    {
     "name": "stderr",
     "output_type": "stream",
     "text": [
      "Creating video: 100%|██████████| 126/126 [00:01<00:00, 81.97it/s]\n"
     ]
    },
    {
     "name": "stdout",
     "output_type": "stream",
     "text": [
      "Video created successfully: visualization/output/action_2433/video/action_2433.mp4\n",
      "Visualization completed for data/gamestate_output/action_2433.json\n",
      "Frames saved to visualization/output/action_2433/frames\n",
      "Video saved to visualization/output/action_2433/video/action_2433.mp4\n",
      "Processing 126 frames ...\n"
     ]
    },
    {
     "name": "stderr",
     "output_type": "stream",
     "text": [
      "Processing frames: 100%|██████████| 126/126 [00:02<00:00, 42.79it/s]\n"
     ]
    },
    {
     "name": "stdout",
     "output_type": "stream",
     "text": [
      "Completed! All frames saved to visualization/output/action_537/frames\n",
      "Creating video from 126 frames...\n"
     ]
    },
    {
     "name": "stderr",
     "output_type": "stream",
     "text": [
      "Creating video: 100%|██████████| 126/126 [00:01<00:00, 83.29it/s]\n"
     ]
    },
    {
     "name": "stdout",
     "output_type": "stream",
     "text": [
      "Video created successfully: visualization/output/action_537/video/action_537.mp4\n",
      "Visualization completed for data/gamestate_output/action_537.json\n",
      "Frames saved to visualization/output/action_537/frames\n",
      "Video saved to visualization/output/action_537/video/action_537.mp4\n",
      "Processing 126 frames ...\n"
     ]
    },
    {
     "name": "stderr",
     "output_type": "stream",
     "text": [
      "Processing frames: 100%|██████████| 126/126 [00:02<00:00, 43.05it/s]\n"
     ]
    },
    {
     "name": "stdout",
     "output_type": "stream",
     "text": [
      "Completed! All frames saved to visualization/output/action_2825/frames\n",
      "Creating video from 126 frames...\n"
     ]
    },
    {
     "name": "stderr",
     "output_type": "stream",
     "text": [
      "Creating video: 100%|██████████| 126/126 [00:01<00:00, 83.95it/s]\n"
     ]
    },
    {
     "name": "stdout",
     "output_type": "stream",
     "text": [
      "Video created successfully: visualization/output/action_2825/video/action_2825.mp4\n",
      "Visualization completed for data/gamestate_output/action_2825.json\n",
      "Frames saved to visualization/output/action_2825/frames\n",
      "Video saved to visualization/output/action_2825/video/action_2825.mp4\n",
      "Processing 126 frames ...\n"
     ]
    },
    {
     "name": "stderr",
     "output_type": "stream",
     "text": [
      "Processing frames: 100%|██████████| 126/126 [00:02<00:00, 48.10it/s]\n"
     ]
    },
    {
     "name": "stdout",
     "output_type": "stream",
     "text": [
      "Completed! All frames saved to visualization/output/action_921/frames\n",
      "Creating video from 126 frames...\n"
     ]
    },
    {
     "name": "stderr",
     "output_type": "stream",
     "text": [
      "Creating video: 100%|██████████| 126/126 [00:01<00:00, 81.68it/s]\n"
     ]
    },
    {
     "name": "stdout",
     "output_type": "stream",
     "text": [
      "Video created successfully: visualization/output/action_921/video/action_921.mp4\n",
      "Visualization completed for data/gamestate_output/action_921.json\n",
      "Frames saved to visualization/output/action_921/frames\n",
      "Video saved to visualization/output/action_921/video/action_921.mp4\n",
      "Processing 126 frames ...\n"
     ]
    },
    {
     "name": "stderr",
     "output_type": "stream",
     "text": [
      "Processing frames: 100%|██████████| 126/126 [00:03<00:00, 38.11it/s]\n"
     ]
    },
    {
     "name": "stdout",
     "output_type": "stream",
     "text": [
      "Completed! All frames saved to visualization/output/action_2608/frames\n",
      "Creating video from 126 frames...\n"
     ]
    },
    {
     "name": "stderr",
     "output_type": "stream",
     "text": [
      "Creating video: 100%|██████████| 126/126 [00:02<00:00, 56.55it/s]\n"
     ]
    },
    {
     "name": "stdout",
     "output_type": "stream",
     "text": [
      "Video created successfully: visualization/output/action_2608/video/action_2608.mp4\n",
      "Visualization completed for data/gamestate_output/action_2608.json\n",
      "Frames saved to visualization/output/action_2608/frames\n",
      "Video saved to visualization/output/action_2608/video/action_2608.mp4\n",
      "Processing 126 frames ...\n"
     ]
    },
    {
     "name": "stderr",
     "output_type": "stream",
     "text": [
      "Processing frames: 100%|██████████| 126/126 [00:04<00:00, 28.49it/s]\n"
     ]
    },
    {
     "name": "stdout",
     "output_type": "stream",
     "text": [
      "Completed! All frames saved to visualization/output/action_1161/frames\n",
      "Creating video from 126 frames...\n"
     ]
    },
    {
     "name": "stderr",
     "output_type": "stream",
     "text": [
      "Creating video: 100%|██████████| 126/126 [00:02<00:00, 56.24it/s]\n"
     ]
    },
    {
     "name": "stdout",
     "output_type": "stream",
     "text": [
      "Video created successfully: visualization/output/action_1161/video/action_1161.mp4\n",
      "Visualization completed for data/gamestate_output/action_1161.json\n",
      "Frames saved to visualization/output/action_1161/frames\n",
      "Video saved to visualization/output/action_1161/video/action_1161.mp4\n",
      "Processing 126 frames ...\n"
     ]
    },
    {
     "name": "stderr",
     "output_type": "stream",
     "text": [
      "Processing frames: 100%|██████████| 126/126 [00:03<00:00, 33.91it/s]\n"
     ]
    },
    {
     "name": "stdout",
     "output_type": "stream",
     "text": [
      "Completed! All frames saved to visualization/output/action_2464/frames\n",
      "Creating video from 126 frames...\n"
     ]
    },
    {
     "name": "stderr",
     "output_type": "stream",
     "text": [
      "Creating video: 100%|██████████| 126/126 [00:02<00:00, 58.08it/s]\n"
     ]
    },
    {
     "name": "stdout",
     "output_type": "stream",
     "text": [
      "Video created successfully: visualization/output/action_2464/video/action_2464.mp4\n",
      "Visualization completed for data/gamestate_output/action_2464.json\n",
      "Frames saved to visualization/output/action_2464/frames\n",
      "Video saved to visualization/output/action_2464/video/action_2464.mp4\n",
      "Processing 126 frames ...\n"
     ]
    },
    {
     "name": "stderr",
     "output_type": "stream",
     "text": [
      "Processing frames: 100%|██████████| 126/126 [00:04<00:00, 28.75it/s]\n"
     ]
    },
    {
     "name": "stdout",
     "output_type": "stream",
     "text": [
      "Completed! All frames saved to visualization/output/action_872/frames\n",
      "Creating video from 126 frames...\n"
     ]
    },
    {
     "name": "stderr",
     "output_type": "stream",
     "text": [
      "Creating video: 100%|██████████| 126/126 [00:02<00:00, 62.25it/s]\n"
     ]
    },
    {
     "name": "stdout",
     "output_type": "stream",
     "text": [
      "Video created successfully: visualization/output/action_872/video/action_872.mp4\n",
      "Visualization completed for data/gamestate_output/action_872.json\n",
      "Frames saved to visualization/output/action_872/frames\n",
      "Video saved to visualization/output/action_872/video/action_872.mp4\n",
      "Processing 126 frames ...\n"
     ]
    },
    {
     "name": "stderr",
     "output_type": "stream",
     "text": [
      "Processing frames: 100%|██████████| 126/126 [00:04<00:00, 30.90it/s]\n"
     ]
    },
    {
     "name": "stdout",
     "output_type": "stream",
     "text": [
      "Completed! All frames saved to visualization/output/action_2425/frames\n",
      "Creating video from 126 frames...\n"
     ]
    },
    {
     "name": "stderr",
     "output_type": "stream",
     "text": [
      "Creating video: 100%|██████████| 126/126 [00:02<00:00, 62.43it/s]\n"
     ]
    },
    {
     "name": "stdout",
     "output_type": "stream",
     "text": [
      "Video created successfully: visualization/output/action_2425/video/action_2425.mp4\n",
      "Visualization completed for data/gamestate_output/action_2425.json\n",
      "Frames saved to visualization/output/action_2425/frames\n",
      "Video saved to visualization/output/action_2425/video/action_2425.mp4\n",
      "Processing 126 frames ...\n"
     ]
    },
    {
     "name": "stderr",
     "output_type": "stream",
     "text": [
      "Processing frames: 100%|██████████| 126/126 [00:04<00:00, 29.48it/s]\n"
     ]
    },
    {
     "name": "stdout",
     "output_type": "stream",
     "text": [
      "Completed! All frames saved to visualization/output/action_2130/frames\n",
      "Creating video from 126 frames...\n"
     ]
    },
    {
     "name": "stderr",
     "output_type": "stream",
     "text": [
      "Creating video: 100%|██████████| 126/126 [00:02<00:00, 58.79it/s]\n"
     ]
    },
    {
     "name": "stdout",
     "output_type": "stream",
     "text": [
      "Video created successfully: visualization/output/action_2130/video/action_2130.mp4\n",
      "Visualization completed for data/gamestate_output/action_2130.json\n",
      "Frames saved to visualization/output/action_2130/frames\n",
      "Video saved to visualization/output/action_2130/video/action_2130.mp4\n",
      "Processing 126 frames ...\n"
     ]
    },
    {
     "name": "stderr",
     "output_type": "stream",
     "text": [
      "Processing frames: 100%|██████████| 126/126 [00:04<00:00, 27.54it/s]\n"
     ]
    },
    {
     "name": "stdout",
     "output_type": "stream",
     "text": [
      "Completed! All frames saved to visualization/output/action_940/frames\n",
      "Creating video from 126 frames...\n"
     ]
    },
    {
     "name": "stderr",
     "output_type": "stream",
     "text": [
      "Creating video: 100%|██████████| 126/126 [00:02<00:00, 56.65it/s]\n"
     ]
    },
    {
     "name": "stdout",
     "output_type": "stream",
     "text": [
      "Video created successfully: visualization/output/action_940/video/action_940.mp4\n",
      "Visualization completed for data/gamestate_output/action_940.json\n",
      "Frames saved to visualization/output/action_940/frames\n",
      "Video saved to visualization/output/action_940/video/action_940.mp4\n",
      "Processing 126 frames ...\n"
     ]
    },
    {
     "name": "stderr",
     "output_type": "stream",
     "text": [
      "Processing frames: 100%|██████████| 126/126 [00:04<00:00, 30.77it/s]\n"
     ]
    },
    {
     "name": "stdout",
     "output_type": "stream",
     "text": [
      "Completed! All frames saved to visualization/output/action_1854/frames\n",
      "Creating video from 126 frames...\n"
     ]
    },
    {
     "name": "stderr",
     "output_type": "stream",
     "text": [
      "Creating video: 100%|██████████| 126/126 [00:02<00:00, 51.14it/s]\n"
     ]
    },
    {
     "name": "stdout",
     "output_type": "stream",
     "text": [
      "Video created successfully: visualization/output/action_1854/video/action_1854.mp4\n",
      "Visualization completed for data/gamestate_output/action_1854.json\n",
      "Frames saved to visualization/output/action_1854/frames\n",
      "Video saved to visualization/output/action_1854/video/action_1854.mp4\n",
      "Processing 126 frames ...\n"
     ]
    },
    {
     "name": "stderr",
     "output_type": "stream",
     "text": [
      "Processing frames: 100%|██████████| 126/126 [00:05<00:00, 24.23it/s]\n"
     ]
    },
    {
     "name": "stdout",
     "output_type": "stream",
     "text": [
      "Completed! All frames saved to visualization/output/action_1507/frames\n",
      "Creating video from 126 frames...\n"
     ]
    },
    {
     "name": "stderr",
     "output_type": "stream",
     "text": [
      "Creating video: 100%|██████████| 126/126 [00:02<00:00, 57.44it/s]\n"
     ]
    },
    {
     "name": "stdout",
     "output_type": "stream",
     "text": [
      "Video created successfully: visualization/output/action_1507/video/action_1507.mp4\n",
      "Visualization completed for data/gamestate_output/action_1507.json\n",
      "Frames saved to visualization/output/action_1507/frames\n",
      "Video saved to visualization/output/action_1507/video/action_1507.mp4\n",
      "Processing 126 frames ...\n"
     ]
    },
    {
     "name": "stderr",
     "output_type": "stream",
     "text": [
      "Processing frames: 100%|██████████| 126/126 [00:05<00:00, 24.36it/s]\n"
     ]
    },
    {
     "name": "stdout",
     "output_type": "stream",
     "text": [
      "Completed! All frames saved to visualization/output/action_1911/frames\n",
      "Creating video from 126 frames...\n"
     ]
    },
    {
     "name": "stderr",
     "output_type": "stream",
     "text": [
      "Creating video: 100%|██████████| 126/126 [00:02<00:00, 49.37it/s]\n"
     ]
    },
    {
     "name": "stdout",
     "output_type": "stream",
     "text": [
      "Video created successfully: visualization/output/action_1911/video/action_1911.mp4\n",
      "Visualization completed for data/gamestate_output/action_1911.json\n",
      "Frames saved to visualization/output/action_1911/frames\n",
      "Video saved to visualization/output/action_1911/video/action_1911.mp4\n",
      "Processing 126 frames ...\n"
     ]
    },
    {
     "name": "stderr",
     "output_type": "stream",
     "text": [
      "Processing frames: 100%|██████████| 126/126 [00:04<00:00, 25.90it/s]\n"
     ]
    },
    {
     "name": "stdout",
     "output_type": "stream",
     "text": [
      "Completed! All frames saved to visualization/output/action_2540/frames\n",
      "Creating video from 126 frames...\n"
     ]
    },
    {
     "name": "stderr",
     "output_type": "stream",
     "text": [
      "Creating video: 100%|██████████| 126/126 [00:02<00:00, 50.23it/s]\n"
     ]
    },
    {
     "name": "stdout",
     "output_type": "stream",
     "text": [
      "Video created successfully: visualization/output/action_2540/video/action_2540.mp4\n",
      "Visualization completed for data/gamestate_output/action_2540.json\n",
      "Frames saved to visualization/output/action_2540/frames\n",
      "Video saved to visualization/output/action_2540/video/action_2540.mp4\n",
      "Processing 126 frames ...\n"
     ]
    },
    {
     "name": "stderr",
     "output_type": "stream",
     "text": [
      "Processing frames: 100%|██████████| 126/126 [00:04<00:00, 25.34it/s]\n"
     ]
    },
    {
     "name": "stdout",
     "output_type": "stream",
     "text": [
      "Completed! All frames saved to visualization/output/action_2813/frames\n",
      "Creating video from 126 frames...\n"
     ]
    },
    {
     "name": "stderr",
     "output_type": "stream",
     "text": [
      "Creating video: 100%|██████████| 126/126 [00:02<00:00, 51.75it/s]\n"
     ]
    },
    {
     "name": "stdout",
     "output_type": "stream",
     "text": [
      "Video created successfully: visualization/output/action_2813/video/action_2813.mp4\n",
      "Visualization completed for data/gamestate_output/action_2813.json\n",
      "Frames saved to visualization/output/action_2813/frames\n",
      "Video saved to visualization/output/action_2813/video/action_2813.mp4\n",
      "Processing 126 frames ...\n"
     ]
    },
    {
     "name": "stderr",
     "output_type": "stream",
     "text": [
      "Processing frames: 100%|██████████| 126/126 [00:04<00:00, 28.82it/s]\n"
     ]
    },
    {
     "name": "stdout",
     "output_type": "stream",
     "text": [
      "Completed! All frames saved to visualization/output/action_151/frames\n",
      "Creating video from 126 frames...\n"
     ]
    },
    {
     "name": "stderr",
     "output_type": "stream",
     "text": [
      "Creating video: 100%|██████████| 126/126 [00:02<00:00, 62.41it/s]\n"
     ]
    },
    {
     "name": "stdout",
     "output_type": "stream",
     "text": [
      "Video created successfully: visualization/output/action_151/video/action_151.mp4\n",
      "Visualization completed for data/gamestate_output/action_151.json\n",
      "Frames saved to visualization/output/action_151/frames\n",
      "Video saved to visualization/output/action_151/video/action_151.mp4\n",
      "Processing 126 frames ...\n"
     ]
    },
    {
     "name": "stderr",
     "output_type": "stream",
     "text": [
      "Processing frames: 100%|██████████| 126/126 [00:04<00:00, 26.15it/s]\n"
     ]
    },
    {
     "name": "stdout",
     "output_type": "stream",
     "text": [
      "Completed! All frames saved to visualization/output/action_2405/frames\n",
      "Creating video from 126 frames...\n"
     ]
    },
    {
     "name": "stderr",
     "output_type": "stream",
     "text": [
      "Creating video: 100%|██████████| 126/126 [00:02<00:00, 59.17it/s]\n"
     ]
    },
    {
     "name": "stdout",
     "output_type": "stream",
     "text": [
      "Video created successfully: visualization/output/action_2405/video/action_2405.mp4\n",
      "Visualization completed for data/gamestate_output/action_2405.json\n",
      "Frames saved to visualization/output/action_2405/frames\n",
      "Video saved to visualization/output/action_2405/video/action_2405.mp4\n",
      "Processing 126 frames ...\n"
     ]
    },
    {
     "name": "stderr",
     "output_type": "stream",
     "text": [
      "Processing frames: 100%|██████████| 126/126 [00:04<00:00, 31.33it/s]\n"
     ]
    },
    {
     "name": "stdout",
     "output_type": "stream",
     "text": [
      "Completed! All frames saved to visualization/output/action_501/frames\n",
      "Creating video from 126 frames...\n"
     ]
    },
    {
     "name": "stderr",
     "output_type": "stream",
     "text": [
      "Creating video: 100%|██████████| 126/126 [00:02<00:00, 54.40it/s]\n"
     ]
    },
    {
     "name": "stdout",
     "output_type": "stream",
     "text": [
      "Video created successfully: visualization/output/action_501/video/action_501.mp4\n",
      "Visualization completed for data/gamestate_output/action_501.json\n",
      "Frames saved to visualization/output/action_501/frames\n",
      "Video saved to visualization/output/action_501/video/action_501.mp4\n",
      "Processing 126 frames ...\n"
     ]
    },
    {
     "name": "stderr",
     "output_type": "stream",
     "text": [
      "Processing frames: 100%|██████████| 126/126 [00:04<00:00, 27.81it/s]\n"
     ]
    },
    {
     "name": "stdout",
     "output_type": "stream",
     "text": [
      "Completed! All frames saved to visualization/output/action_405/frames\n",
      "Creating video from 126 frames...\n"
     ]
    },
    {
     "name": "stderr",
     "output_type": "stream",
     "text": [
      "Creating video: 100%|██████████| 126/126 [00:02<00:00, 47.68it/s]\n"
     ]
    },
    {
     "name": "stdout",
     "output_type": "stream",
     "text": [
      "Video created successfully: visualization/output/action_405/video/action_405.mp4\n",
      "Visualization completed for data/gamestate_output/action_405.json\n",
      "Frames saved to visualization/output/action_405/frames\n",
      "Video saved to visualization/output/action_405/video/action_405.mp4\n",
      "Processing 126 frames ...\n"
     ]
    },
    {
     "name": "stderr",
     "output_type": "stream",
     "text": [
      "Processing frames: 100%|██████████| 126/126 [00:04<00:00, 26.12it/s]\n"
     ]
    },
    {
     "name": "stdout",
     "output_type": "stream",
     "text": [
      "Completed! All frames saved to visualization/output/action_1287/frames\n",
      "Creating video from 126 frames...\n"
     ]
    },
    {
     "name": "stderr",
     "output_type": "stream",
     "text": [
      "Creating video: 100%|██████████| 126/126 [00:02<00:00, 55.79it/s]\n"
     ]
    },
    {
     "name": "stdout",
     "output_type": "stream",
     "text": [
      "Video created successfully: visualization/output/action_1287/video/action_1287.mp4\n",
      "Visualization completed for data/gamestate_output/action_1287.json\n",
      "Frames saved to visualization/output/action_1287/frames\n",
      "Video saved to visualization/output/action_1287/video/action_1287.mp4\n",
      "Processing 126 frames ...\n"
     ]
    },
    {
     "name": "stderr",
     "output_type": "stream",
     "text": [
      "Processing frames: 100%|██████████| 126/126 [00:04<00:00, 27.96it/s]\n"
     ]
    },
    {
     "name": "stdout",
     "output_type": "stream",
     "text": [
      "Completed! All frames saved to visualization/output/action_540/frames\n",
      "Creating video from 126 frames...\n"
     ]
    },
    {
     "name": "stderr",
     "output_type": "stream",
     "text": [
      "Creating video: 100%|██████████| 126/126 [00:02<00:00, 50.16it/s]\n"
     ]
    },
    {
     "name": "stdout",
     "output_type": "stream",
     "text": [
      "Video created successfully: visualization/output/action_540/video/action_540.mp4\n",
      "Visualization completed for data/gamestate_output/action_540.json\n",
      "Frames saved to visualization/output/action_540/frames\n",
      "Video saved to visualization/output/action_540/video/action_540.mp4\n",
      "Processing 126 frames ...\n"
     ]
    },
    {
     "name": "stderr",
     "output_type": "stream",
     "text": [
      "Processing frames: 100%|██████████| 126/126 [00:04<00:00, 29.68it/s]\n"
     ]
    },
    {
     "name": "stdout",
     "output_type": "stream",
     "text": [
      "Completed! All frames saved to visualization/output/action_2595/frames\n",
      "Creating video from 126 frames...\n"
     ]
    },
    {
     "name": "stderr",
     "output_type": "stream",
     "text": [
      "Creating video: 100%|██████████| 126/126 [00:02<00:00, 47.89it/s]\n"
     ]
    },
    {
     "name": "stdout",
     "output_type": "stream",
     "text": [
      "Video created successfully: visualization/output/action_2595/video/action_2595.mp4\n",
      "Visualization completed for data/gamestate_output/action_2595.json\n",
      "Frames saved to visualization/output/action_2595/frames\n",
      "Video saved to visualization/output/action_2595/video/action_2595.mp4\n",
      "Processing 126 frames ...\n"
     ]
    },
    {
     "name": "stderr",
     "output_type": "stream",
     "text": [
      "Processing frames: 100%|██████████| 126/126 [00:04<00:00, 25.55it/s]\n"
     ]
    },
    {
     "name": "stdout",
     "output_type": "stream",
     "text": [
      "Completed! All frames saved to visualization/output/action_1706/frames\n",
      "Creating video from 126 frames...\n"
     ]
    },
    {
     "name": "stderr",
     "output_type": "stream",
     "text": [
      "Creating video: 100%|██████████| 126/126 [00:02<00:00, 51.41it/s]\n"
     ]
    },
    {
     "name": "stdout",
     "output_type": "stream",
     "text": [
      "Video created successfully: visualization/output/action_1706/video/action_1706.mp4\n",
      "Visualization completed for data/gamestate_output/action_1706.json\n",
      "Frames saved to visualization/output/action_1706/frames\n",
      "Video saved to visualization/output/action_1706/video/action_1706.mp4\n",
      "Processing 126 frames ...\n"
     ]
    },
    {
     "name": "stderr",
     "output_type": "stream",
     "text": [
      "Processing frames: 100%|██████████| 126/126 [00:04<00:00, 28.18it/s]\n"
     ]
    },
    {
     "name": "stdout",
     "output_type": "stream",
     "text": [
      "Completed! All frames saved to visualization/output/action_2203/frames\n",
      "Creating video from 126 frames...\n"
     ]
    },
    {
     "name": "stderr",
     "output_type": "stream",
     "text": [
      "Creating video: 100%|██████████| 126/126 [00:02<00:00, 52.76it/s]\n"
     ]
    },
    {
     "name": "stdout",
     "output_type": "stream",
     "text": [
      "Video created successfully: visualization/output/action_2203/video/action_2203.mp4\n",
      "Visualization completed for data/gamestate_output/action_2203.json\n",
      "Frames saved to visualization/output/action_2203/frames\n",
      "Video saved to visualization/output/action_2203/video/action_2203.mp4\n",
      "Processing 126 frames ...\n"
     ]
    },
    {
     "name": "stderr",
     "output_type": "stream",
     "text": [
      "Processing frames: 100%|██████████| 126/126 [00:04<00:00, 26.62it/s]\n"
     ]
    },
    {
     "name": "stdout",
     "output_type": "stream",
     "text": [
      "Completed! All frames saved to visualization/output/action_1585/frames\n",
      "Creating video from 126 frames...\n"
     ]
    },
    {
     "name": "stderr",
     "output_type": "stream",
     "text": [
      "Creating video: 100%|██████████| 126/126 [00:02<00:00, 53.75it/s]\n"
     ]
    },
    {
     "name": "stdout",
     "output_type": "stream",
     "text": [
      "Video created successfully: visualization/output/action_1585/video/action_1585.mp4\n",
      "Visualization completed for data/gamestate_output/action_1585.json\n",
      "Frames saved to visualization/output/action_1585/frames\n",
      "Video saved to visualization/output/action_1585/video/action_1585.mp4\n",
      "Processing 126 frames ...\n"
     ]
    },
    {
     "name": "stderr",
     "output_type": "stream",
     "text": [
      "Processing frames: 100%|██████████| 126/126 [00:04<00:00, 29.29it/s]\n"
     ]
    },
    {
     "name": "stdout",
     "output_type": "stream",
     "text": [
      "Completed! All frames saved to visualization/output/action_2716/frames\n",
      "Creating video from 126 frames...\n"
     ]
    },
    {
     "name": "stderr",
     "output_type": "stream",
     "text": [
      "Creating video: 100%|██████████| 126/126 [00:02<00:00, 58.10it/s]\n"
     ]
    },
    {
     "name": "stdout",
     "output_type": "stream",
     "text": [
      "Video created successfully: visualization/output/action_2716/video/action_2716.mp4\n",
      "Visualization completed for data/gamestate_output/action_2716.json\n",
      "Frames saved to visualization/output/action_2716/frames\n",
      "Video saved to visualization/output/action_2716/video/action_2716.mp4\n",
      "Processing 126 frames ...\n"
     ]
    },
    {
     "name": "stderr",
     "output_type": "stream",
     "text": [
      "Processing frames: 100%|██████████| 126/126 [00:04<00:00, 27.84it/s]\n"
     ]
    },
    {
     "name": "stdout",
     "output_type": "stream",
     "text": [
      "Completed! All frames saved to visualization/output/action_242/frames\n",
      "Creating video from 126 frames...\n"
     ]
    },
    {
     "name": "stderr",
     "output_type": "stream",
     "text": [
      "Creating video: 100%|██████████| 126/126 [00:02<00:00, 52.93it/s]\n"
     ]
    },
    {
     "name": "stdout",
     "output_type": "stream",
     "text": [
      "Video created successfully: visualization/output/action_242/video/action_242.mp4\n",
      "Visualization completed for data/gamestate_output/action_242.json\n",
      "Frames saved to visualization/output/action_242/frames\n",
      "Video saved to visualization/output/action_242/video/action_242.mp4\n",
      "Processing 126 frames ...\n"
     ]
    },
    {
     "name": "stderr",
     "output_type": "stream",
     "text": [
      "Processing frames: 100%|██████████| 126/126 [00:04<00:00, 27.78it/s]\n"
     ]
    },
    {
     "name": "stdout",
     "output_type": "stream",
     "text": [
      "Completed! All frames saved to visualization/output/action_2346/frames\n",
      "Creating video from 126 frames...\n"
     ]
    },
    {
     "name": "stderr",
     "output_type": "stream",
     "text": [
      "Creating video: 100%|██████████| 126/126 [00:02<00:00, 61.79it/s]\n"
     ]
    },
    {
     "name": "stdout",
     "output_type": "stream",
     "text": [
      "Video created successfully: visualization/output/action_2346/video/action_2346.mp4\n",
      "Visualization completed for data/gamestate_output/action_2346.json\n",
      "Frames saved to visualization/output/action_2346/frames\n",
      "Video saved to visualization/output/action_2346/video/action_2346.mp4\n",
      "Processing 126 frames ...\n"
     ]
    },
    {
     "name": "stderr",
     "output_type": "stream",
     "text": [
      "Processing frames: 100%|██████████| 126/126 [00:03<00:00, 34.27it/s]\n"
     ]
    },
    {
     "name": "stdout",
     "output_type": "stream",
     "text": [
      "Completed! All frames saved to visualization/output/action_2468/frames\n",
      "Creating video from 126 frames...\n"
     ]
    },
    {
     "name": "stderr",
     "output_type": "stream",
     "text": [
      "Creating video: 100%|██████████| 126/126 [00:01<00:00, 65.61it/s]\n"
     ]
    },
    {
     "name": "stdout",
     "output_type": "stream",
     "text": [
      "Video created successfully: visualization/output/action_2468/video/action_2468.mp4\n",
      "Visualization completed for data/gamestate_output/action_2468.json\n",
      "Frames saved to visualization/output/action_2468/frames\n",
      "Video saved to visualization/output/action_2468/video/action_2468.mp4\n",
      "Processing 126 frames ...\n"
     ]
    },
    {
     "name": "stderr",
     "output_type": "stream",
     "text": [
      "Processing frames: 100%|██████████| 126/126 [00:04<00:00, 29.23it/s]\n"
     ]
    },
    {
     "name": "stdout",
     "output_type": "stream",
     "text": [
      "Completed! All frames saved to visualization/output/action_1614/frames\n",
      "Creating video from 126 frames...\n"
     ]
    },
    {
     "name": "stderr",
     "output_type": "stream",
     "text": [
      "Creating video: 100%|██████████| 126/126 [00:02<00:00, 50.47it/s]\n"
     ]
    },
    {
     "name": "stdout",
     "output_type": "stream",
     "text": [
      "Video created successfully: visualization/output/action_1614/video/action_1614.mp4\n",
      "Visualization completed for data/gamestate_output/action_1614.json\n",
      "Frames saved to visualization/output/action_1614/frames\n",
      "Video saved to visualization/output/action_1614/video/action_1614.mp4\n",
      "Processing 126 frames ...\n"
     ]
    },
    {
     "name": "stderr",
     "output_type": "stream",
     "text": [
      "Processing frames: 100%|██████████| 126/126 [00:03<00:00, 36.70it/s]\n"
     ]
    },
    {
     "name": "stdout",
     "output_type": "stream",
     "text": [
      "Completed! All frames saved to visualization/output/action_429/frames\n",
      "Creating video from 126 frames...\n"
     ]
    },
    {
     "name": "stderr",
     "output_type": "stream",
     "text": [
      "Creating video: 100%|██████████| 126/126 [00:01<00:00, 82.41it/s]\n"
     ]
    },
    {
     "name": "stdout",
     "output_type": "stream",
     "text": [
      "Video created successfully: visualization/output/action_429/video/action_429.mp4\n",
      "Visualization completed for data/gamestate_output/action_429.json\n",
      "Frames saved to visualization/output/action_429/frames\n",
      "Video saved to visualization/output/action_429/video/action_429.mp4\n",
      "Processing 126 frames ...\n"
     ]
    },
    {
     "name": "stderr",
     "output_type": "stream",
     "text": [
      "Processing frames: 100%|██████████| 126/126 [00:02<00:00, 42.60it/s]\n"
     ]
    },
    {
     "name": "stdout",
     "output_type": "stream",
     "text": [
      "Completed! All frames saved to visualization/output/action_645/frames\n",
      "Creating video from 126 frames...\n"
     ]
    },
    {
     "name": "stderr",
     "output_type": "stream",
     "text": [
      "Creating video: 100%|██████████| 126/126 [00:01<00:00, 82.38it/s]\n"
     ]
    },
    {
     "name": "stdout",
     "output_type": "stream",
     "text": [
      "Video created successfully: visualization/output/action_645/video/action_645.mp4\n",
      "Visualization completed for data/gamestate_output/action_645.json\n",
      "Frames saved to visualization/output/action_645/frames\n",
      "Video saved to visualization/output/action_645/video/action_645.mp4\n",
      "Processing 126 frames ...\n"
     ]
    },
    {
     "name": "stderr",
     "output_type": "stream",
     "text": [
      "Processing frames: 100%|██████████| 126/126 [00:03<00:00, 38.98it/s]\n"
     ]
    },
    {
     "name": "stdout",
     "output_type": "stream",
     "text": [
      "Completed! All frames saved to visualization/output/action_983/frames\n",
      "Creating video from 126 frames...\n"
     ]
    },
    {
     "name": "stderr",
     "output_type": "stream",
     "text": [
      "Creating video: 100%|██████████| 126/126 [00:01<00:00, 86.12it/s]\n"
     ]
    },
    {
     "name": "stdout",
     "output_type": "stream",
     "text": [
      "Video created successfully: visualization/output/action_983/video/action_983.mp4\n",
      "Visualization completed for data/gamestate_output/action_983.json\n",
      "Frames saved to visualization/output/action_983/frames\n",
      "Video saved to visualization/output/action_983/video/action_983.mp4\n",
      "Processing 126 frames ...\n"
     ]
    },
    {
     "name": "stderr",
     "output_type": "stream",
     "text": [
      "Processing frames: 100%|██████████| 126/126 [00:02<00:00, 45.99it/s]\n"
     ]
    },
    {
     "name": "stdout",
     "output_type": "stream",
     "text": [
      "Completed! All frames saved to visualization/output/action_1317/frames\n",
      "Creating video from 126 frames...\n"
     ]
    },
    {
     "name": "stderr",
     "output_type": "stream",
     "text": [
      "Creating video: 100%|██████████| 126/126 [00:01<00:00, 71.64it/s]\n"
     ]
    },
    {
     "name": "stdout",
     "output_type": "stream",
     "text": [
      "Video created successfully: visualization/output/action_1317/video/action_1317.mp4\n",
      "Visualization completed for data/gamestate_output/action_1317.json\n",
      "Frames saved to visualization/output/action_1317/frames\n",
      "Video saved to visualization/output/action_1317/video/action_1317.mp4\n",
      "Processing 126 frames ...\n"
     ]
    },
    {
     "name": "stderr",
     "output_type": "stream",
     "text": [
      "Processing frames: 100%|██████████| 126/126 [00:02<00:00, 46.77it/s]\n"
     ]
    },
    {
     "name": "stdout",
     "output_type": "stream",
     "text": [
      "Completed! All frames saved to visualization/output/action_203/frames\n",
      "Creating video from 126 frames...\n"
     ]
    },
    {
     "name": "stderr",
     "output_type": "stream",
     "text": [
      "Creating video: 100%|██████████| 126/126 [00:01<00:00, 80.43it/s]\n"
     ]
    },
    {
     "name": "stdout",
     "output_type": "stream",
     "text": [
      "Video created successfully: visualization/output/action_203/video/action_203.mp4\n",
      "Visualization completed for data/gamestate_output/action_203.json\n",
      "Frames saved to visualization/output/action_203/frames\n",
      "Video saved to visualization/output/action_203/video/action_203.mp4\n",
      "Processing 126 frames ...\n"
     ]
    },
    {
     "name": "stderr",
     "output_type": "stream",
     "text": [
      "Processing frames: 100%|██████████| 126/126 [00:02<00:00, 49.58it/s]\n"
     ]
    },
    {
     "name": "stdout",
     "output_type": "stream",
     "text": [
      "Completed! All frames saved to visualization/output/action_1439/frames\n",
      "Creating video from 126 frames...\n"
     ]
    },
    {
     "name": "stderr",
     "output_type": "stream",
     "text": [
      "Creating video: 100%|██████████| 126/126 [00:01<00:00, 84.43it/s]\n"
     ]
    },
    {
     "name": "stdout",
     "output_type": "stream",
     "text": [
      "Video created successfully: visualization/output/action_1439/video/action_1439.mp4\n",
      "Visualization completed for data/gamestate_output/action_1439.json\n",
      "Frames saved to visualization/output/action_1439/frames\n",
      "Video saved to visualization/output/action_1439/video/action_1439.mp4\n",
      "Processing 126 frames ...\n"
     ]
    },
    {
     "name": "stderr",
     "output_type": "stream",
     "text": [
      "Processing frames: 100%|██████████| 126/126 [00:02<00:00, 42.31it/s]\n"
     ]
    },
    {
     "name": "stdout",
     "output_type": "stream",
     "text": [
      "Completed! All frames saved to visualization/output/action_1985/frames\n",
      "Creating video from 126 frames...\n"
     ]
    },
    {
     "name": "stderr",
     "output_type": "stream",
     "text": [
      "Creating video: 100%|██████████| 126/126 [00:01<00:00, 83.76it/s]\n"
     ]
    },
    {
     "name": "stdout",
     "output_type": "stream",
     "text": [
      "Video created successfully: visualization/output/action_1985/video/action_1985.mp4\n",
      "Visualization completed for data/gamestate_output/action_1985.json\n",
      "Frames saved to visualization/output/action_1985/frames\n",
      "Video saved to visualization/output/action_1985/video/action_1985.mp4\n",
      "Processing 126 frames ...\n"
     ]
    },
    {
     "name": "stderr",
     "output_type": "stream",
     "text": [
      "Processing frames: 100%|██████████| 126/126 [00:02<00:00, 45.10it/s]\n"
     ]
    },
    {
     "name": "stdout",
     "output_type": "stream",
     "text": [
      "Completed! All frames saved to visualization/output/action_254/frames\n",
      "Creating video from 126 frames...\n"
     ]
    },
    {
     "name": "stderr",
     "output_type": "stream",
     "text": [
      "Creating video: 100%|██████████| 126/126 [00:01<00:00, 81.42it/s]\n"
     ]
    },
    {
     "name": "stdout",
     "output_type": "stream",
     "text": [
      "Video created successfully: visualization/output/action_254/video/action_254.mp4\n",
      "Visualization completed for data/gamestate_output/action_254.json\n",
      "Frames saved to visualization/output/action_254/frames\n",
      "Video saved to visualization/output/action_254/video/action_254.mp4\n",
      "Processing 126 frames ...\n"
     ]
    },
    {
     "name": "stderr",
     "output_type": "stream",
     "text": [
      "Processing frames: 100%|██████████| 126/126 [00:03<00:00, 38.17it/s]\n"
     ]
    },
    {
     "name": "stdout",
     "output_type": "stream",
     "text": [
      "Completed! All frames saved to visualization/output/action_2350/frames\n",
      "Creating video from 126 frames...\n"
     ]
    },
    {
     "name": "stderr",
     "output_type": "stream",
     "text": [
      "Creating video: 100%|██████████| 126/126 [00:02<00:00, 53.46it/s]\n"
     ]
    },
    {
     "name": "stdout",
     "output_type": "stream",
     "text": [
      "Video created successfully: visualization/output/action_2350/video/action_2350.mp4\n",
      "Visualization completed for data/gamestate_output/action_2350.json\n",
      "Frames saved to visualization/output/action_2350/frames\n",
      "Video saved to visualization/output/action_2350/video/action_2350.mp4\n",
      "Processing 126 frames ...\n"
     ]
    },
    {
     "name": "stderr",
     "output_type": "stream",
     "text": [
      "Processing frames: 100%|██████████| 126/126 [00:04<00:00, 29.65it/s]\n"
     ]
    },
    {
     "name": "stdout",
     "output_type": "stream",
     "text": [
      "Completed! All frames saved to visualization/output/action_176/frames\n",
      "Creating video from 126 frames...\n"
     ]
    },
    {
     "name": "stderr",
     "output_type": "stream",
     "text": [
      "Creating video: 100%|██████████| 126/126 [00:02<00:00, 54.89it/s]\n"
     ]
    },
    {
     "name": "stdout",
     "output_type": "stream",
     "text": [
      "Video created successfully: visualization/output/action_176/video/action_176.mp4\n",
      "Visualization completed for data/gamestate_output/action_176.json\n",
      "Frames saved to visualization/output/action_176/frames\n",
      "Video saved to visualization/output/action_176/video/action_176.mp4\n",
      "Processing 126 frames ...\n"
     ]
    },
    {
     "name": "stderr",
     "output_type": "stream",
     "text": [
      "Processing frames: 100%|██████████| 126/126 [00:03<00:00, 34.99it/s]\n"
     ]
    },
    {
     "name": "stdout",
     "output_type": "stream",
     "text": [
      "Completed! All frames saved to visualization/output/action_930/frames\n",
      "Creating video from 126 frames...\n"
     ]
    },
    {
     "name": "stderr",
     "output_type": "stream",
     "text": [
      "Creating video: 100%|██████████| 126/126 [00:01<00:00, 77.48it/s]\n"
     ]
    },
    {
     "name": "stdout",
     "output_type": "stream",
     "text": [
      "Video created successfully: visualization/output/action_930/video/action_930.mp4\n",
      "Visualization completed for data/gamestate_output/action_930.json\n",
      "Frames saved to visualization/output/action_930/frames\n",
      "Video saved to visualization/output/action_930/video/action_930.mp4\n",
      "Processing 126 frames ...\n"
     ]
    },
    {
     "name": "stderr",
     "output_type": "stream",
     "text": [
      "Processing frames: 100%|██████████| 126/126 [00:02<00:00, 45.71it/s]\n"
     ]
    },
    {
     "name": "stdout",
     "output_type": "stream",
     "text": [
      "Completed! All frames saved to visualization/output/action_1127/frames\n",
      "Creating video from 126 frames...\n"
     ]
    },
    {
     "name": "stderr",
     "output_type": "stream",
     "text": [
      "Creating video: 100%|██████████| 126/126 [00:01<00:00, 83.51it/s]\n"
     ]
    },
    {
     "name": "stdout",
     "output_type": "stream",
     "text": [
      "Video created successfully: visualization/output/action_1127/video/action_1127.mp4\n",
      "Visualization completed for data/gamestate_output/action_1127.json\n",
      "Frames saved to visualization/output/action_1127/frames\n",
      "Video saved to visualization/output/action_1127/video/action_1127.mp4\n",
      "Processing 126 frames ...\n"
     ]
    },
    {
     "name": "stderr",
     "output_type": "stream",
     "text": [
      "Processing frames: 100%|██████████| 126/126 [00:03<00:00, 38.58it/s]\n"
     ]
    },
    {
     "name": "stdout",
     "output_type": "stream",
     "text": [
      "Completed! All frames saved to visualization/output/action_2475/frames\n",
      "Creating video from 126 frames...\n"
     ]
    },
    {
     "name": "stderr",
     "output_type": "stream",
     "text": [
      "Creating video: 100%|██████████| 126/126 [00:01<00:00, 87.06it/s]\n"
     ]
    },
    {
     "name": "stdout",
     "output_type": "stream",
     "text": [
      "Video created successfully: visualization/output/action_2475/video/action_2475.mp4\n",
      "Visualization completed for data/gamestate_output/action_2475.json\n",
      "Frames saved to visualization/output/action_2475/frames\n",
      "Video saved to visualization/output/action_2475/video/action_2475.mp4\n",
      "Processing 126 frames ...\n"
     ]
    },
    {
     "name": "stderr",
     "output_type": "stream",
     "text": [
      "Processing frames: 100%|██████████| 126/126 [00:03<00:00, 40.32it/s]\n"
     ]
    },
    {
     "name": "stdout",
     "output_type": "stream",
     "text": [
      "Completed! All frames saved to visualization/output/action_1873/frames\n",
      "Creating video from 126 frames...\n"
     ]
    },
    {
     "name": "stderr",
     "output_type": "stream",
     "text": [
      "Creating video: 100%|██████████| 126/126 [00:01<00:00, 81.30it/s]\n"
     ]
    },
    {
     "name": "stdout",
     "output_type": "stream",
     "text": [
      "Video created successfully: visualization/output/action_1873/video/action_1873.mp4\n",
      "Visualization completed for data/gamestate_output/action_1873.json\n",
      "Frames saved to visualization/output/action_1873/frames\n",
      "Video saved to visualization/output/action_1873/video/action_1873.mp4\n",
      "Processing 126 frames ...\n"
     ]
    },
    {
     "name": "stderr",
     "output_type": "stream",
     "text": [
      "Processing frames: 100%|██████████| 126/126 [00:03<00:00, 40.47it/s]\n"
     ]
    },
    {
     "name": "stdout",
     "output_type": "stream",
     "text": [
      "Completed! All frames saved to visualization/output/action_2033/frames\n",
      "Creating video from 126 frames...\n"
     ]
    },
    {
     "name": "stderr",
     "output_type": "stream",
     "text": [
      "Creating video: 100%|██████████| 126/126 [00:01<00:00, 84.23it/s]\n"
     ]
    },
    {
     "name": "stdout",
     "output_type": "stream",
     "text": [
      "Video created successfully: visualization/output/action_2033/video/action_2033.mp4\n",
      "Visualization completed for data/gamestate_output/action_2033.json\n",
      "Frames saved to visualization/output/action_2033/frames\n",
      "Video saved to visualization/output/action_2033/video/action_2033.mp4\n",
      "Processing 126 frames ...\n"
     ]
    },
    {
     "name": "stderr",
     "output_type": "stream",
     "text": [
      "Processing frames: 100%|██████████| 126/126 [00:02<00:00, 47.51it/s]\n"
     ]
    },
    {
     "name": "stdout",
     "output_type": "stream",
     "text": [
      "Completed! All frames saved to visualization/output/action_2526/frames\n",
      "Creating video from 126 frames...\n"
     ]
    },
    {
     "name": "stderr",
     "output_type": "stream",
     "text": [
      "Creating video: 100%|██████████| 126/126 [00:02<00:00, 59.00it/s]\n"
     ]
    },
    {
     "name": "stdout",
     "output_type": "stream",
     "text": [
      "Video created successfully: visualization/output/action_2526/video/action_2526.mp4\n",
      "Visualization completed for data/gamestate_output/action_2526.json\n",
      "Frames saved to visualization/output/action_2526/frames\n",
      "Video saved to visualization/output/action_2526/video/action_2526.mp4\n",
      "Processing 126 frames ...\n"
     ]
    },
    {
     "name": "stderr",
     "output_type": "stream",
     "text": [
      "Processing frames: 100%|██████████| 126/126 [00:03<00:00, 32.15it/s]\n"
     ]
    },
    {
     "name": "stdout",
     "output_type": "stream",
     "text": [
      "Completed! All frames saved to visualization/output/action_1920/frames\n",
      "Creating video from 126 frames...\n"
     ]
    },
    {
     "name": "stderr",
     "output_type": "stream",
     "text": [
      "Creating video: 100%|██████████| 126/126 [00:02<00:00, 55.38it/s]\n"
     ]
    },
    {
     "name": "stdout",
     "output_type": "stream",
     "text": [
      "Video created successfully: visualization/output/action_1920/video/action_1920.mp4\n",
      "Visualization completed for data/gamestate_output/action_1920.json\n",
      "Frames saved to visualization/output/action_1920/frames\n",
      "Video saved to visualization/output/action_1920/video/action_1920.mp4\n",
      "Processing 126 frames ...\n"
     ]
    },
    {
     "name": "stderr",
     "output_type": "stream",
     "text": [
      "Processing frames: 100%|██████████| 126/126 [00:03<00:00, 32.08it/s]\n"
     ]
    },
    {
     "name": "stdout",
     "output_type": "stream",
     "text": [
      "Completed! All frames saved to visualization/output/action_1218/frames\n",
      "Creating video from 126 frames...\n"
     ]
    },
    {
     "name": "stderr",
     "output_type": "stream",
     "text": [
      "Creating video: 100%|██████████| 126/126 [00:02<00:00, 58.24it/s]\n"
     ]
    },
    {
     "name": "stdout",
     "output_type": "stream",
     "text": [
      "Video created successfully: visualization/output/action_1218/video/action_1218.mp4\n",
      "Visualization completed for data/gamestate_output/action_1218.json\n",
      "Frames saved to visualization/output/action_1218/frames\n",
      "Video saved to visualization/output/action_1218/video/action_1218.mp4\n",
      "Processing 126 frames ...\n"
     ]
    },
    {
     "name": "stderr",
     "output_type": "stream",
     "text": [
      "Processing frames: 100%|██████████| 126/126 [00:03<00:00, 41.37it/s]\n"
     ]
    },
    {
     "name": "stdout",
     "output_type": "stream",
     "text": [
      "Completed! All frames saved to visualization/output/action_863/frames\n",
      "Creating video from 126 frames...\n"
     ]
    },
    {
     "name": "stderr",
     "output_type": "stream",
     "text": [
      "Creating video: 100%|██████████| 126/126 [00:01<00:00, 88.15it/s]\n"
     ]
    },
    {
     "name": "stdout",
     "output_type": "stream",
     "text": [
      "Video created successfully: visualization/output/action_863/video/action_863.mp4\n",
      "Visualization completed for data/gamestate_output/action_863.json\n",
      "Frames saved to visualization/output/action_863/frames\n",
      "Video saved to visualization/output/action_863/video/action_863.mp4\n",
      "Processing 126 frames ...\n"
     ]
    },
    {
     "name": "stderr",
     "output_type": "stream",
     "text": [
      "Processing frames: 100%|██████████| 126/126 [00:02<00:00, 45.12it/s]\n"
     ]
    },
    {
     "name": "stdout",
     "output_type": "stream",
     "text": [
      "Completed! All frames saved to visualization/output/action_160/frames\n",
      "Creating video from 126 frames...\n"
     ]
    },
    {
     "name": "stderr",
     "output_type": "stream",
     "text": [
      "Creating video: 100%|██████████| 126/126 [00:01<00:00, 83.78it/s]\n"
     ]
    },
    {
     "name": "stdout",
     "output_type": "stream",
     "text": [
      "Video created successfully: visualization/output/action_160/video/action_160.mp4\n",
      "Visualization completed for data/gamestate_output/action_160.json\n",
      "Frames saved to visualization/output/action_160/frames\n",
      "Video saved to visualization/output/action_160/video/action_160.mp4\n",
      "Processing 126 frames ...\n"
     ]
    },
    {
     "name": "stderr",
     "output_type": "stream",
     "text": [
      "Processing frames: 100%|██████████| 126/126 [00:02<00:00, 44.86it/s]\n"
     ]
    },
    {
     "name": "stdout",
     "output_type": "stream",
     "text": [
      "Completed! All frames saved to visualization/output/action_2658/frames\n",
      "Creating video from 126 frames...\n"
     ]
    },
    {
     "name": "stderr",
     "output_type": "stream",
     "text": [
      "Creating video: 100%|██████████| 126/126 [00:02<00:00, 57.88it/s]\n"
     ]
    },
    {
     "name": "stdout",
     "output_type": "stream",
     "text": [
      "Video created successfully: visualization/output/action_2658/video/action_2658.mp4\n",
      "Visualization completed for data/gamestate_output/action_2658.json\n",
      "Frames saved to visualization/output/action_2658/frames\n",
      "Video saved to visualization/output/action_2658/video/action_2658.mp4\n",
      "Processing 126 frames ...\n"
     ]
    },
    {
     "name": "stderr",
     "output_type": "stream",
     "text": [
      "Processing frames: 100%|██████████| 126/126 [00:03<00:00, 37.15it/s]\n"
     ]
    },
    {
     "name": "stdout",
     "output_type": "stream",
     "text": [
      "Completed! All frames saved to visualization/output/action_1424/frames\n",
      "Creating video from 126 frames...\n"
     ]
    },
    {
     "name": "stderr",
     "output_type": "stream",
     "text": [
      "Creating video: 100%|██████████| 126/126 [00:02<00:00, 55.75it/s]\n"
     ]
    },
    {
     "name": "stdout",
     "output_type": "stream",
     "text": [
      "Video created successfully: visualization/output/action_1424/video/action_1424.mp4\n",
      "Visualization completed for data/gamestate_output/action_1424.json\n",
      "Frames saved to visualization/output/action_1424/frames\n",
      "Video saved to visualization/output/action_1424/video/action_1424.mp4\n",
      "Processing 126 frames ...\n"
     ]
    },
    {
     "name": "stderr",
     "output_type": "stream",
     "text": [
      "Processing frames: 100%|██████████| 126/126 [00:04<00:00, 30.90it/s]\n"
     ]
    },
    {
     "name": "stdout",
     "output_type": "stream",
     "text": [
      "Completed! All frames saved to visualization/output/action_1776/frames\n",
      "Creating video from 126 frames...\n"
     ]
    },
    {
     "name": "stderr",
     "output_type": "stream",
     "text": [
      "Creating video: 100%|██████████| 126/126 [00:01<00:00, 85.41it/s]\n"
     ]
    },
    {
     "name": "stdout",
     "output_type": "stream",
     "text": [
      "Video created successfully: visualization/output/action_1776/video/action_1776.mp4\n",
      "Visualization completed for data/gamestate_output/action_1776.json\n",
      "Frames saved to visualization/output/action_1776/frames\n",
      "Video saved to visualization/output/action_1776/video/action_1776.mp4\n",
      "Processing 126 frames ...\n"
     ]
    },
    {
     "name": "stderr",
     "output_type": "stream",
     "text": [
      "Processing frames: 100%|██████████| 126/126 [00:03<00:00, 39.45it/s]\n"
     ]
    },
    {
     "name": "stdout",
     "output_type": "stream",
     "text": [
      "Completed! All frames saved to visualization/output/action_398/frames\n",
      "Creating video from 126 frames...\n"
     ]
    },
    {
     "name": "stderr",
     "output_type": "stream",
     "text": [
      "Creating video: 100%|██████████| 126/126 [00:01<00:00, 87.76it/s]\n"
     ]
    },
    {
     "name": "stdout",
     "output_type": "stream",
     "text": [
      "Video created successfully: visualization/output/action_398/video/action_398.mp4\n",
      "Visualization completed for data/gamestate_output/action_398.json\n",
      "Frames saved to visualization/output/action_398/frames\n",
      "Video saved to visualization/output/action_398/video/action_398.mp4\n",
      "Processing 126 frames ...\n"
     ]
    },
    {
     "name": "stderr",
     "output_type": "stream",
     "text": [
      "Processing frames: 100%|██████████| 126/126 [00:02<00:00, 51.10it/s]\n"
     ]
    },
    {
     "name": "stdout",
     "output_type": "stream",
     "text": [
      "Completed! All frames saved to visualization/output/action_2623/frames\n",
      "Creating video from 126 frames...\n"
     ]
    },
    {
     "name": "stderr",
     "output_type": "stream",
     "text": [
      "Creating video: 100%|██████████| 126/126 [00:01<00:00, 87.52it/s]\n"
     ]
    },
    {
     "name": "stdout",
     "output_type": "stream",
     "text": [
      "Video created successfully: visualization/output/action_2623/video/action_2623.mp4\n",
      "Visualization completed for data/gamestate_output/action_2623.json\n",
      "Frames saved to visualization/output/action_2623/frames\n",
      "Video saved to visualization/output/action_2623/video/action_2623.mp4\n",
      "Processing 126 frames ...\n"
     ]
    },
    {
     "name": "stderr",
     "output_type": "stream",
     "text": [
      "Processing frames: 100%|██████████| 126/126 [00:03<00:00, 40.10it/s]\n"
     ]
    },
    {
     "name": "stdout",
     "output_type": "stream",
     "text": [
      "Completed! All frames saved to visualization/output/action_1371/frames\n",
      "Creating video from 126 frames...\n"
     ]
    },
    {
     "name": "stderr",
     "output_type": "stream",
     "text": [
      "Creating video: 100%|██████████| 126/126 [00:01<00:00, 85.06it/s]\n"
     ]
    },
    {
     "name": "stdout",
     "output_type": "stream",
     "text": [
      "Video created successfully: visualization/output/action_1371/video/action_1371.mp4\n",
      "Visualization completed for data/gamestate_output/action_1371.json\n",
      "Frames saved to visualization/output/action_1371/frames\n",
      "Video saved to visualization/output/action_1371/video/action_1371.mp4\n",
      "Processing 126 frames ...\n"
     ]
    },
    {
     "name": "stderr",
     "output_type": "stream",
     "text": [
      "Processing frames: 100%|██████████| 126/126 [00:03<00:00, 40.24it/s]\n"
     ]
    },
    {
     "name": "stdout",
     "output_type": "stream",
     "text": [
      "Completed! All frames saved to visualization/output/action_2048/frames\n",
      "Creating video from 126 frames...\n"
     ]
    },
    {
     "name": "stderr",
     "output_type": "stream",
     "text": [
      "Creating video: 100%|██████████| 126/126 [00:01<00:00, 82.94it/s]\n"
     ]
    },
    {
     "name": "stdout",
     "output_type": "stream",
     "text": [
      "Video created successfully: visualization/output/action_2048/video/action_2048.mp4\n",
      "Visualization completed for data/gamestate_output/action_2048.json\n",
      "Frames saved to visualization/output/action_2048/frames\n",
      "Video saved to visualization/output/action_2048/video/action_2048.mp4\n",
      "Processing 126 frames ...\n"
     ]
    },
    {
     "name": "stderr",
     "output_type": "stream",
     "text": [
      "Processing frames: 100%|██████████| 126/126 [00:02<00:00, 46.41it/s]\n"
     ]
    },
    {
     "name": "stdout",
     "output_type": "stream",
     "text": [
      "Completed! All frames saved to visualization/output/action_1234/frames\n",
      "Creating video from 126 frames...\n"
     ]
    },
    {
     "name": "stderr",
     "output_type": "stream",
     "text": [
      "Creating video: 100%|██████████| 126/126 [00:01<00:00, 83.06it/s]\n"
     ]
    },
    {
     "name": "stdout",
     "output_type": "stream",
     "text": [
      "Video created successfully: visualization/output/action_1234/video/action_1234.mp4\n",
      "Visualization completed for data/gamestate_output/action_1234.json\n",
      "Frames saved to visualization/output/action_1234/frames\n",
      "Video saved to visualization/output/action_1234/video/action_1234.mp4\n",
      "Processing 126 frames ...\n"
     ]
    },
    {
     "name": "stderr",
     "output_type": "stream",
     "text": [
      "Processing frames: 100%|██████████| 126/126 [00:03<00:00, 41.52it/s]\n"
     ]
    },
    {
     "name": "stdout",
     "output_type": "stream",
     "text": [
      "Completed! All frames saved to visualization/output/action_265/frames\n",
      "Creating video from 126 frames...\n"
     ]
    },
    {
     "name": "stderr",
     "output_type": "stream",
     "text": [
      "Creating video: 100%|██████████| 126/126 [00:01<00:00, 84.94it/s]\n"
     ]
    },
    {
     "name": "stdout",
     "output_type": "stream",
     "text": [
      "Video created successfully: visualization/output/action_265/video/action_265.mp4\n",
      "Visualization completed for data/gamestate_output/action_265.json\n",
      "Frames saved to visualization/output/action_265/frames\n",
      "Video saved to visualization/output/action_265/video/action_265.mp4\n",
      "Processing 126 frames ...\n"
     ]
    },
    {
     "name": "stderr",
     "output_type": "stream",
     "text": [
      "Processing frames: 100%|██████████| 126/126 [00:03<00:00, 38.35it/s]\n"
     ]
    },
    {
     "name": "stdout",
     "output_type": "stream",
     "text": [
      "Completed! All frames saved to visualization/output/action_1367/frames\n",
      "Creating video from 126 frames...\n"
     ]
    },
    {
     "name": "stderr",
     "output_type": "stream",
     "text": [
      "Creating video: 100%|██████████| 126/126 [00:01<00:00, 80.83it/s]\n"
     ]
    },
    {
     "name": "stdout",
     "output_type": "stream",
     "text": [
      "Video created successfully: visualization/output/action_1367/video/action_1367.mp4\n",
      "Visualization completed for data/gamestate_output/action_1367.json\n",
      "Frames saved to visualization/output/action_1367/frames\n",
      "Video saved to visualization/output/action_1367/video/action_1367.mp4\n",
      "Processing 126 frames ...\n"
     ]
    },
    {
     "name": "stderr",
     "output_type": "stream",
     "text": [
      "Processing frames: 100%|██████████| 126/126 [00:03<00:00, 38.75it/s]\n"
     ]
    },
    {
     "name": "stdout",
     "output_type": "stream",
     "text": [
      "Completed! All frames saved to visualization/output/action_2727/frames\n",
      "Creating video from 126 frames...\n"
     ]
    },
    {
     "name": "stderr",
     "output_type": "stream",
     "text": [
      "Creating video: 100%|██████████| 126/126 [00:01<00:00, 83.30it/s]\n"
     ]
    },
    {
     "name": "stdout",
     "output_type": "stream",
     "text": [
      "Video created successfully: visualization/output/action_2727/video/action_2727.mp4\n",
      "Visualization completed for data/gamestate_output/action_2727.json\n",
      "Frames saved to visualization/output/action_2727/frames\n",
      "Video saved to visualization/output/action_2727/video/action_2727.mp4\n",
      "Processing 126 frames ...\n"
     ]
    },
    {
     "name": "stderr",
     "output_type": "stream",
     "text": [
      "Processing frames: 100%|██████████| 126/126 [00:02<00:00, 44.17it/s]\n"
     ]
    },
    {
     "name": "stdout",
     "output_type": "stream",
     "text": [
      "Completed! All frames saved to visualization/output/action_2459/frames\n",
      "Creating video from 126 frames...\n"
     ]
    },
    {
     "name": "stderr",
     "output_type": "stream",
     "text": [
      "Creating video: 100%|██████████| 126/126 [00:01<00:00, 81.88it/s]\n"
     ]
    },
    {
     "name": "stdout",
     "output_type": "stream",
     "text": [
      "Video created successfully: visualization/output/action_2459/video/action_2459.mp4\n",
      "Visualization completed for data/gamestate_output/action_2459.json\n",
      "Frames saved to visualization/output/action_2459/frames\n",
      "Video saved to visualization/output/action_2459/video/action_2459.mp4\n",
      "Processing 126 frames ...\n"
     ]
    },
    {
     "name": "stderr",
     "output_type": "stream",
     "text": [
      "Processing frames: 100%|██████████| 126/126 [00:03<00:00, 37.15it/s]\n"
     ]
    },
    {
     "name": "stdout",
     "output_type": "stream",
     "text": [
      "Completed! All frames saved to visualization/output/action_224/frames\n",
      "Creating video from 126 frames...\n"
     ]
    },
    {
     "name": "stderr",
     "output_type": "stream",
     "text": [
      "Creating video: 100%|██████████| 126/126 [00:01<00:00, 82.61it/s]\n"
     ]
    },
    {
     "name": "stdout",
     "output_type": "stream",
     "text": [
      "Video created successfully: visualization/output/action_224/video/action_224.mp4\n",
      "Visualization completed for data/gamestate_output/action_224.json\n",
      "Frames saved to visualization/output/action_224/frames\n",
      "Video saved to visualization/output/action_224/video/action_224.mp4\n",
      "Processing 126 frames ...\n"
     ]
    },
    {
     "name": "stderr",
     "output_type": "stream",
     "text": [
      "Processing frames: 100%|██████████| 126/126 [00:02<00:00, 45.36it/s]\n"
     ]
    },
    {
     "name": "stdout",
     "output_type": "stream",
     "text": [
      "Completed! All frames saved to visualization/output/action_2320/frames\n",
      "Creating video from 126 frames...\n"
     ]
    },
    {
     "name": "stderr",
     "output_type": "stream",
     "text": [
      "Creating video: 100%|██████████| 126/126 [00:01<00:00, 83.09it/s]\n"
     ]
    },
    {
     "name": "stdout",
     "output_type": "stream",
     "text": [
      "Video created successfully: visualization/output/action_2320/video/action_2320.mp4\n",
      "Visualization completed for data/gamestate_output/action_2320.json\n",
      "Frames saved to visualization/output/action_2320/frames\n",
      "Video saved to visualization/output/action_2320/video/action_2320.mp4\n",
      "Processing 126 frames ...\n"
     ]
    },
    {
     "name": "stderr",
     "output_type": "stream",
     "text": [
      "Processing frames: 100%|██████████| 126/126 [00:02<00:00, 44.39it/s]\n"
     ]
    },
    {
     "name": "stdout",
     "output_type": "stream",
     "text": [
      "Completed! All frames saved to visualization/output/action_2642/frames\n",
      "Creating video from 126 frames...\n"
     ]
    },
    {
     "name": "stderr",
     "output_type": "stream",
     "text": [
      "Creating video: 100%|██████████| 126/126 [00:01<00:00, 86.99it/s]\n"
     ]
    },
    {
     "name": "stdout",
     "output_type": "stream",
     "text": [
      "Video created successfully: visualization/output/action_2642/video/action_2642.mp4\n",
      "Visualization completed for data/gamestate_output/action_2642.json\n",
      "Frames saved to visualization/output/action_2642/frames\n",
      "Video saved to visualization/output/action_2642/video/action_2642.mp4\n",
      "Processing 126 frames ...\n"
     ]
    },
    {
     "name": "stderr",
     "output_type": "stream",
     "text": [
      "Processing frames: 100%|██████████| 126/126 [00:03<00:00, 38.69it/s]\n"
     ]
    },
    {
     "name": "stdout",
     "output_type": "stream",
     "text": [
      "Completed! All frames saved to visualization/output/action_253/frames\n",
      "Creating video from 126 frames...\n"
     ]
    },
    {
     "name": "stderr",
     "output_type": "stream",
     "text": [
      "Creating video: 100%|██████████| 126/126 [00:01<00:00, 79.14it/s]\n"
     ]
    },
    {
     "name": "stdout",
     "output_type": "stream",
     "text": [
      "Video created successfully: visualization/output/action_253/video/action_253.mp4\n",
      "Visualization completed for data/gamestate_output/action_253.json\n",
      "Frames saved to visualization/output/action_253/frames\n",
      "Video saved to visualization/output/action_253/video/action_253.mp4\n",
      "Processing 126 frames ...\n"
     ]
    },
    {
     "name": "stderr",
     "output_type": "stream",
     "text": [
      "Processing frames: 100%|██████████| 126/126 [00:03<00:00, 38.91it/s]\n"
     ]
    },
    {
     "name": "stdout",
     "output_type": "stream",
     "text": [
      "Completed! All frames saved to visualization/output/action_1982/frames\n",
      "Creating video from 126 frames...\n"
     ]
    },
    {
     "name": "stderr",
     "output_type": "stream",
     "text": [
      "Creating video: 100%|██████████| 126/126 [00:01<00:00, 80.71it/s]\n"
     ]
    },
    {
     "name": "stdout",
     "output_type": "stream",
     "text": [
      "Video created successfully: visualization/output/action_1982/video/action_1982.mp4\n",
      "Visualization completed for data/gamestate_output/action_1982.json\n",
      "Frames saved to visualization/output/action_1982/frames\n",
      "Video saved to visualization/output/action_1982/video/action_1982.mp4\n",
      "Processing 126 frames ...\n"
     ]
    },
    {
     "name": "stderr",
     "output_type": "stream",
     "text": [
      "Processing frames: 100%|██████████| 126/126 [00:02<00:00, 43.31it/s]\n"
     ]
    },
    {
     "name": "stdout",
     "output_type": "stream",
     "text": [
      "Completed! All frames saved to visualization/output/action_879/frames\n",
      "Creating video from 126 frames...\n"
     ]
    },
    {
     "name": "stderr",
     "output_type": "stream",
     "text": [
      "Creating video: 100%|██████████| 126/126 [00:01<00:00, 82.68it/s]\n"
     ]
    },
    {
     "name": "stdout",
     "output_type": "stream",
     "text": [
      "Video created successfully: visualization/output/action_879/video/action_879.mp4\n",
      "Visualization completed for data/gamestate_output/action_879.json\n",
      "Frames saved to visualization/output/action_879/frames\n",
      "Video saved to visualization/output/action_879/video/action_879.mp4\n",
      "Processing 126 frames ...\n"
     ]
    },
    {
     "name": "stderr",
     "output_type": "stream",
     "text": [
      "Processing frames: 100%|██████████| 126/126 [00:02<00:00, 44.45it/s]\n"
     ]
    },
    {
     "name": "stdout",
     "output_type": "stream",
     "text": [
      "Completed! All frames saved to visualization/output/action_1605/frames\n",
      "Creating video from 126 frames...\n"
     ]
    },
    {
     "name": "stderr",
     "output_type": "stream",
     "text": [
      "Creating video: 100%|██████████| 126/126 [00:01<00:00, 86.81it/s]\n"
     ]
    },
    {
     "name": "stdout",
     "output_type": "stream",
     "text": [
      "Video created successfully: visualization/output/action_1605/video/action_1605.mp4\n",
      "Visualization completed for data/gamestate_output/action_1605.json\n",
      "Frames saved to visualization/output/action_1605/frames\n",
      "Video saved to visualization/output/action_1605/video/action_1605.mp4\n",
      "Processing 126 frames ...\n"
     ]
    },
    {
     "name": "stderr",
     "output_type": "stream",
     "text": [
      "Processing frames: 100%|██████████| 126/126 [00:03<00:00, 35.90it/s]\n"
     ]
    },
    {
     "name": "stdout",
     "output_type": "stream",
     "text": [
      "Completed! All frames saved to visualization/output/action_1310/frames\n",
      "Creating video from 126 frames...\n"
     ]
    },
    {
     "name": "stderr",
     "output_type": "stream",
     "text": [
      "Creating video: 100%|██████████| 126/126 [00:01<00:00, 85.34it/s]\n"
     ]
    },
    {
     "name": "stdout",
     "output_type": "stream",
     "text": [
      "Video created successfully: visualization/output/action_1310/video/action_1310.mp4\n",
      "Visualization completed for data/gamestate_output/action_1310.json\n",
      "Frames saved to visualization/output/action_1310/frames\n",
      "Video saved to visualization/output/action_1310/video/action_1310.mp4\n",
      "Processing 126 frames ...\n"
     ]
    },
    {
     "name": "stderr",
     "output_type": "stream",
     "text": [
      "Processing frames: 100%|██████████| 126/126 [00:02<00:00, 45.39it/s]\n"
     ]
    },
    {
     "name": "stdout",
     "output_type": "stream",
     "text": [
      "Completed! All frames saved to visualization/output/action_1490/frames\n",
      "Creating video from 126 frames...\n"
     ]
    },
    {
     "name": "stderr",
     "output_type": "stream",
     "text": [
      "Creating video: 100%|██████████| 126/126 [00:01<00:00, 84.27it/s]\n"
     ]
    },
    {
     "name": "stdout",
     "output_type": "stream",
     "text": [
      "Video created successfully: visualization/output/action_1490/video/action_1490.mp4\n",
      "Visualization completed for data/gamestate_output/action_1490.json\n",
      "Frames saved to visualization/output/action_1490/frames\n",
      "Video saved to visualization/output/action_1490/video/action_1490.mp4\n",
      "Processing 126 frames ...\n"
     ]
    },
    {
     "name": "stderr",
     "output_type": "stream",
     "text": [
      "Processing frames: 100%|██████████| 126/126 [00:02<00:00, 44.57it/s]\n"
     ]
    },
    {
     "name": "stdout",
     "output_type": "stream",
     "text": [
      "Completed! All frames saved to visualization/output/action_2195/frames\n",
      "Creating video from 126 frames...\n"
     ]
    },
    {
     "name": "stderr",
     "output_type": "stream",
     "text": [
      "Creating video: 100%|██████████| 126/126 [00:01<00:00, 90.45it/s]\n"
     ]
    },
    {
     "name": "stdout",
     "output_type": "stream",
     "text": [
      "Video created successfully: visualization/output/action_2195/video/action_2195.mp4\n",
      "Visualization completed for data/gamestate_output/action_2195.json\n",
      "Frames saved to visualization/output/action_2195/frames\n",
      "Video saved to visualization/output/action_2195/video/action_2195.mp4\n",
      "Processing 126 frames ...\n"
     ]
    },
    {
     "name": "stderr",
     "output_type": "stream",
     "text": [
      "Processing frames: 100%|██████████| 126/126 [00:02<00:00, 46.31it/s]\n"
     ]
    },
    {
     "name": "stdout",
     "output_type": "stream",
     "text": [
      "Completed! All frames saved to visualization/output/action_584/frames\n",
      "Creating video from 126 frames...\n"
     ]
    },
    {
     "name": "stderr",
     "output_type": "stream",
     "text": [
      "Creating video: 100%|██████████| 126/126 [00:01<00:00, 89.23it/s]\n"
     ]
    },
    {
     "name": "stdout",
     "output_type": "stream",
     "text": [
      "Video created successfully: visualization/output/action_584/video/action_584.mp4\n",
      "Visualization completed for data/gamestate_output/action_584.json\n",
      "Frames saved to visualization/output/action_584/frames\n",
      "Video saved to visualization/output/action_584/video/action_584.mp4\n",
      "Processing 126 frames ...\n"
     ]
    },
    {
     "name": "stderr",
     "output_type": "stream",
     "text": [
      "Processing frames: 100%|██████████| 126/126 [00:03<00:00, 39.52it/s]\n"
     ]
    },
    {
     "name": "stdout",
     "output_type": "stream",
     "text": [
      "Completed! All frames saved to visualization/output/action_1306/frames\n",
      "Creating video from 126 frames...\n"
     ]
    },
    {
     "name": "stderr",
     "output_type": "stream",
     "text": [
      "Creating video: 100%|██████████| 126/126 [00:01<00:00, 88.01it/s]\n"
     ]
    },
    {
     "name": "stdout",
     "output_type": "stream",
     "text": [
      "Video created successfully: visualization/output/action_1306/video/action_1306.mp4\n",
      "Visualization completed for data/gamestate_output/action_1306.json\n",
      "Frames saved to visualization/output/action_1306/frames\n",
      "Video saved to visualization/output/action_1306/video/action_1306.mp4\n",
      "Processing 126 frames ...\n"
     ]
    },
    {
     "name": "stderr",
     "output_type": "stream",
     "text": [
      "Processing frames: 100%|██████████| 126/126 [00:02<00:00, 48.80it/s]\n"
     ]
    },
    {
     "name": "stdout",
     "output_type": "stream",
     "text": [
      "Completed! All frames saved to visualization/output/action_750/frames\n",
      "Creating video from 126 frames...\n"
     ]
    },
    {
     "name": "stderr",
     "output_type": "stream",
     "text": [
      "Creating video: 100%|██████████| 126/126 [00:01<00:00, 87.47it/s]\n"
     ]
    },
    {
     "name": "stdout",
     "output_type": "stream",
     "text": [
      "Video created successfully: visualization/output/action_750/video/action_750.mp4\n",
      "Visualization completed for data/gamestate_output/action_750.json\n",
      "Frames saved to visualization/output/action_750/frames\n",
      "Video saved to visualization/output/action_750/video/action_750.mp4\n",
      "Processing 126 frames ...\n"
     ]
    },
    {
     "name": "stderr",
     "output_type": "stream",
     "text": [
      "Processing frames: 100%|██████████| 126/126 [00:03<00:00, 41.41it/s]\n"
     ]
    },
    {
     "name": "stdout",
     "output_type": "stream",
     "text": [
      "Completed! All frames saved to visualization/output/action_615/frames\n",
      "Creating video from 126 frames...\n"
     ]
    },
    {
     "name": "stderr",
     "output_type": "stream",
     "text": [
      "Creating video: 100%|██████████| 126/126 [00:01<00:00, 88.55it/s]\n"
     ]
    },
    {
     "name": "stdout",
     "output_type": "stream",
     "text": [
      "Video created successfully: visualization/output/action_615/video/action_615.mp4\n",
      "Visualization completed for data/gamestate_output/action_615.json\n",
      "Frames saved to visualization/output/action_615/frames\n",
      "Video saved to visualization/output/action_615/video/action_615.mp4\n",
      "Processing 126 frames ...\n"
     ]
    },
    {
     "name": "stderr",
     "output_type": "stream",
     "text": [
      "Processing frames: 100%|██████████| 126/126 [00:02<00:00, 45.78it/s]\n"
     ]
    },
    {
     "name": "stdout",
     "output_type": "stream",
     "text": [
      "Completed! All frames saved to visualization/output/action_496/frames\n",
      "Creating video from 126 frames...\n"
     ]
    },
    {
     "name": "stderr",
     "output_type": "stream",
     "text": [
      "Creating video: 100%|██████████| 126/126 [00:01<00:00, 81.67it/s]\n"
     ]
    },
    {
     "name": "stdout",
     "output_type": "stream",
     "text": [
      "Video created successfully: visualization/output/action_496/video/action_496.mp4\n",
      "Visualization completed for data/gamestate_output/action_496.json\n",
      "Frames saved to visualization/output/action_496/frames\n",
      "Video saved to visualization/output/action_496/video/action_496.mp4\n",
      "Processing 126 frames ...\n"
     ]
    },
    {
     "name": "stderr",
     "output_type": "stream",
     "text": [
      "Processing frames: 100%|██████████| 126/126 [00:03<00:00, 39.51it/s]\n"
     ]
    },
    {
     "name": "stdout",
     "output_type": "stream",
     "text": [
      "Completed! All frames saved to visualization/output/action_183/frames\n",
      "Creating video from 126 frames...\n"
     ]
    },
    {
     "name": "stderr",
     "output_type": "stream",
     "text": [
      "Creating video: 100%|██████████| 126/126 [00:01<00:00, 81.49it/s]\n"
     ]
    },
    {
     "name": "stdout",
     "output_type": "stream",
     "text": [
      "Video created successfully: visualization/output/action_183/video/action_183.mp4\n",
      "Visualization completed for data/gamestate_output/action_183.json\n",
      "Frames saved to visualization/output/action_183/frames\n",
      "Video saved to visualization/output/action_183/video/action_183.mp4\n",
      "Processing 126 frames ...\n"
     ]
    },
    {
     "name": "stderr",
     "output_type": "stream",
     "text": [
      "Processing frames: 100%|██████████| 126/126 [00:03<00:00, 41.70it/s]\n"
     ]
    },
    {
     "name": "stdout",
     "output_type": "stream",
     "text": [
      "Completed! All frames saved to visualization/output/action_394/frames\n",
      "Creating video from 126 frames...\n"
     ]
    },
    {
     "name": "stderr",
     "output_type": "stream",
     "text": [
      "Creating video: 100%|██████████| 126/126 [00:01<00:00, 86.62it/s]\n"
     ]
    },
    {
     "name": "stdout",
     "output_type": "stream",
     "text": [
      "Video created successfully: visualization/output/action_394/video/action_394.mp4\n",
      "Visualization completed for data/gamestate_output/action_394.json\n",
      "Frames saved to visualization/output/action_394/frames\n",
      "Video saved to visualization/output/action_394/video/action_394.mp4\n",
      "Processing 126 frames ...\n"
     ]
    },
    {
     "name": "stderr",
     "output_type": "stream",
     "text": [
      "Processing frames: 100%|██████████| 126/126 [00:03<00:00, 41.08it/s]\n"
     ]
    },
    {
     "name": "stdout",
     "output_type": "stream",
     "text": [
      "Completed! All frames saved to visualization/output/action_951/frames\n",
      "Creating video from 126 frames...\n"
     ]
    },
    {
     "name": "stderr",
     "output_type": "stream",
     "text": [
      "Creating video: 100%|██████████| 126/126 [00:01<00:00, 86.32it/s]\n"
     ]
    },
    {
     "name": "stdout",
     "output_type": "stream",
     "text": [
      "Video created successfully: visualization/output/action_951/video/action_951.mp4\n",
      "Visualization completed for data/gamestate_output/action_951.json\n",
      "Frames saved to visualization/output/action_951/frames\n",
      "Video saved to visualization/output/action_951/video/action_951.mp4\n",
      "Processing 126 frames ...\n"
     ]
    },
    {
     "name": "stderr",
     "output_type": "stream",
     "text": [
      "Processing frames: 100%|██████████| 126/126 [00:03<00:00, 41.63it/s]\n"
     ]
    },
    {
     "name": "stdout",
     "output_type": "stream",
     "text": [
      "Completed! All frames saved to visualization/output/action_2506/frames\n",
      "Creating video from 126 frames...\n"
     ]
    },
    {
     "name": "stderr",
     "output_type": "stream",
     "text": [
      "Creating video: 100%|██████████| 126/126 [00:01<00:00, 86.07it/s]\n"
     ]
    },
    {
     "name": "stdout",
     "output_type": "stream",
     "text": [
      "Video created successfully: visualization/output/action_2506/video/action_2506.mp4\n",
      "Visualization completed for data/gamestate_output/action_2506.json\n",
      "Frames saved to visualization/output/action_2506/frames\n",
      "Video saved to visualization/output/action_2506/video/action_2506.mp4\n",
      "Processing 126 frames ...\n"
     ]
    },
    {
     "name": "stderr",
     "output_type": "stream",
     "text": [
      "Processing frames: 100%|██████████| 126/126 [00:03<00:00, 36.15it/s]\n"
     ]
    },
    {
     "name": "stdout",
     "output_type": "stream",
     "text": [
      "Completed! All frames saved to visualization/output/action_58/frames\n",
      "Creating video from 126 frames...\n"
     ]
    },
    {
     "name": "stderr",
     "output_type": "stream",
     "text": [
      "Creating video: 100%|██████████| 126/126 [00:01<00:00, 83.65it/s]\n"
     ]
    },
    {
     "name": "stdout",
     "output_type": "stream",
     "text": [
      "Video created successfully: visualization/output/action_58/video/action_58.mp4\n",
      "Visualization completed for data/gamestate_output/action_58.json\n",
      "Frames saved to visualization/output/action_58/frames\n",
      "Video saved to visualization/output/action_58/video/action_58.mp4\n",
      "Processing 126 frames ...\n"
     ]
    },
    {
     "name": "stderr",
     "output_type": "stream",
     "text": [
      "Processing frames: 100%|██████████| 126/126 [00:03<00:00, 38.94it/s]\n"
     ]
    },
    {
     "name": "stdout",
     "output_type": "stream",
     "text": [
      "Completed! All frames saved to visualization/output/action_2697/frames\n",
      "Creating video from 126 frames...\n"
     ]
    },
    {
     "name": "stderr",
     "output_type": "stream",
     "text": [
      "Creating video: 100%|██████████| 126/126 [00:01<00:00, 84.96it/s]\n"
     ]
    },
    {
     "name": "stdout",
     "output_type": "stream",
     "text": [
      "Video created successfully: visualization/output/action_2697/video/action_2697.mp4\n",
      "Visualization completed for data/gamestate_output/action_2697.json\n",
      "Frames saved to visualization/output/action_2697/frames\n",
      "Video saved to visualization/output/action_2697/video/action_2697.mp4\n",
      "Processing 126 frames ...\n"
     ]
    },
    {
     "name": "stderr",
     "output_type": "stream",
     "text": [
      "Processing frames: 100%|██████████| 126/126 [00:03<00:00, 40.16it/s]\n"
     ]
    },
    {
     "name": "stdout",
     "output_type": "stream",
     "text": [
      "Completed! All frames saved to visualization/output/action_639/frames\n",
      "Creating video from 126 frames...\n"
     ]
    },
    {
     "name": "stderr",
     "output_type": "stream",
     "text": [
      "Creating video: 100%|██████████| 126/126 [00:01<00:00, 87.18it/s]\n"
     ]
    },
    {
     "name": "stdout",
     "output_type": "stream",
     "text": [
      "Video created successfully: visualization/output/action_639/video/action_639.mp4\n",
      "Visualization completed for data/gamestate_output/action_639.json\n",
      "Frames saved to visualization/output/action_639/frames\n",
      "Video saved to visualization/output/action_639/video/action_639.mp4\n",
      "Processing 126 frames ...\n"
     ]
    },
    {
     "name": "stderr",
     "output_type": "stream",
     "text": [
      "Processing frames: 100%|██████████| 126/126 [00:02<00:00, 49.54it/s]\n"
     ]
    },
    {
     "name": "stdout",
     "output_type": "stream",
     "text": [
      "Completed! All frames saved to visualization/output/action_2228/frames\n",
      "Creating video from 126 frames...\n"
     ]
    },
    {
     "name": "stderr",
     "output_type": "stream",
     "text": [
      "Creating video: 100%|██████████| 126/126 [00:01<00:00, 84.99it/s]\n"
     ]
    },
    {
     "name": "stdout",
     "output_type": "stream",
     "text": [
      "Video created successfully: visualization/output/action_2228/video/action_2228.mp4\n",
      "Visualization completed for data/gamestate_output/action_2228.json\n",
      "Frames saved to visualization/output/action_2228/frames\n",
      "Video saved to visualization/output/action_2228/video/action_2228.mp4\n",
      "Processing 126 frames ...\n"
     ]
    },
    {
     "name": "stderr",
     "output_type": "stream",
     "text": [
      "Processing frames: 100%|██████████| 126/126 [00:02<00:00, 42.93it/s]\n"
     ]
    },
    {
     "name": "stdout",
     "output_type": "stream",
     "text": [
      "Completed! All frames saved to visualization/output/action_1957/frames\n",
      "Creating video from 126 frames...\n"
     ]
    },
    {
     "name": "stderr",
     "output_type": "stream",
     "text": [
      "Creating video: 100%|██████████| 126/126 [00:01<00:00, 87.00it/s]\n"
     ]
    },
    {
     "name": "stdout",
     "output_type": "stream",
     "text": [
      "Video created successfully: visualization/output/action_1957/video/action_1957.mp4\n",
      "Visualization completed for data/gamestate_output/action_1957.json\n",
      "Frames saved to visualization/output/action_1957/frames\n",
      "Video saved to visualization/output/action_1957/video/action_1957.mp4\n",
      "Processing 126 frames ...\n"
     ]
    },
    {
     "name": "stderr",
     "output_type": "stream",
     "text": [
      "Processing frames: 100%|██████████| 126/126 [00:02<00:00, 47.76it/s]\n"
     ]
    },
    {
     "name": "stdout",
     "output_type": "stream",
     "text": [
      "Completed! All frames saved to visualization/output/action_1054/frames\n",
      "Creating video from 126 frames...\n"
     ]
    },
    {
     "name": "stderr",
     "output_type": "stream",
     "text": [
      "Creating video: 100%|██████████| 126/126 [00:01<00:00, 86.89it/s]\n"
     ]
    },
    {
     "name": "stdout",
     "output_type": "stream",
     "text": [
      "Video created successfully: visualization/output/action_1054/video/action_1054.mp4\n",
      "Visualization completed for data/gamestate_output/action_1054.json\n",
      "Frames saved to visualization/output/action_1054/frames\n",
      "Video saved to visualization/output/action_1054/video/action_1054.mp4\n",
      "Processing 126 frames ...\n"
     ]
    },
    {
     "name": "stderr",
     "output_type": "stream",
     "text": [
      "Processing frames: 100%|██████████| 126/126 [00:02<00:00, 45.42it/s]\n"
     ]
    },
    {
     "name": "stdout",
     "output_type": "stream",
     "text": [
      "Completed! All frames saved to visualization/output/action_1392/frames\n",
      "Creating video from 126 frames...\n"
     ]
    },
    {
     "name": "stderr",
     "output_type": "stream",
     "text": [
      "Creating video: 100%|██████████| 126/126 [00:01<00:00, 83.85it/s]\n"
     ]
    },
    {
     "name": "stdout",
     "output_type": "stream",
     "text": [
      "Video created successfully: visualization/output/action_1392/video/action_1392.mp4\n",
      "Visualization completed for data/gamestate_output/action_1392.json\n",
      "Frames saved to visualization/output/action_1392/frames\n",
      "Video saved to visualization/output/action_1392/video/action_1392.mp4\n",
      "Processing 126 frames ...\n"
     ]
    },
    {
     "name": "stderr",
     "output_type": "stream",
     "text": [
      "Processing frames: 100%|██████████| 126/126 [00:02<00:00, 49.21it/s]\n"
     ]
    },
    {
     "name": "stdout",
     "output_type": "stream",
     "text": [
      "Completed! All frames saved to visualization/output/action_1691/frames\n",
      "Creating video from 126 frames...\n"
     ]
    },
    {
     "name": "stderr",
     "output_type": "stream",
     "text": [
      "Creating video: 100%|██████████| 126/126 [00:01<00:00, 84.80it/s]\n"
     ]
    },
    {
     "name": "stdout",
     "output_type": "stream",
     "text": [
      "Video created successfully: visualization/output/action_1691/video/action_1691.mp4\n",
      "Visualization completed for data/gamestate_output/action_1691.json\n",
      "Frames saved to visualization/output/action_1691/frames\n",
      "Video saved to visualization/output/action_1691/video/action_1691.mp4\n",
      "Processing 126 frames ...\n"
     ]
    },
    {
     "name": "stderr",
     "output_type": "stream",
     "text": [
      "Processing frames: 100%|██████████| 126/126 [00:02<00:00, 44.12it/s]\n"
     ]
    },
    {
     "name": "stdout",
     "output_type": "stream",
     "text": [
      "Completed! All frames saved to visualization/output/action_2547/frames\n",
      "Creating video from 126 frames...\n"
     ]
    },
    {
     "name": "stderr",
     "output_type": "stream",
     "text": [
      "Creating video: 100%|██████████| 126/126 [00:01<00:00, 86.73it/s]\n"
     ]
    },
    {
     "name": "stdout",
     "output_type": "stream",
     "text": [
      "Video created successfully: visualization/output/action_2547/video/action_2547.mp4\n",
      "Visualization completed for data/gamestate_output/action_2547.json\n",
      "Frames saved to visualization/output/action_2547/frames\n",
      "Video saved to visualization/output/action_2547/video/action_2547.mp4\n",
      "Processing 126 frames ...\n"
     ]
    },
    {
     "name": "stderr",
     "output_type": "stream",
     "text": [
      "Processing frames: 100%|██████████| 126/126 [00:02<00:00, 42.98it/s]\n"
     ]
    },
    {
     "name": "stdout",
     "output_type": "stream",
     "text": [
      "Completed! All frames saved to visualization/output/action_443/frames\n",
      "Creating video from 126 frames...\n"
     ]
    },
    {
     "name": "stderr",
     "output_type": "stream",
     "text": [
      "Creating video: 100%|██████████| 126/126 [00:01<00:00, 84.36it/s]\n"
     ]
    },
    {
     "name": "stdout",
     "output_type": "stream",
     "text": [
      "Video created successfully: visualization/output/action_443/video/action_443.mp4\n",
      "Visualization completed for data/gamestate_output/action_443.json\n",
      "Frames saved to visualization/output/action_443/frames\n",
      "Video saved to visualization/output/action_443/video/action_443.mp4\n",
      "Processing 126 frames ...\n"
     ]
    },
    {
     "name": "stderr",
     "output_type": "stream",
     "text": [
      "Processing frames: 100%|██████████| 126/126 [00:03<00:00, 40.63it/s]\n"
     ]
    },
    {
     "name": "stdout",
     "output_type": "stream",
     "text": [
      "Completed! All frames saved to visualization/output/action_506/frames\n",
      "Creating video from 126 frames...\n"
     ]
    },
    {
     "name": "stderr",
     "output_type": "stream",
     "text": [
      "Creating video: 100%|██████████| 126/126 [00:01<00:00, 83.54it/s]\n"
     ]
    },
    {
     "name": "stdout",
     "output_type": "stream",
     "text": [
      "Video created successfully: visualization/output/action_506/video/action_506.mp4\n",
      "Visualization completed for data/gamestate_output/action_506.json\n",
      "Frames saved to visualization/output/action_506/frames\n",
      "Video saved to visualization/output/action_506/video/action_506.mp4\n",
      "Processing 126 frames ...\n"
     ]
    },
    {
     "name": "stderr",
     "output_type": "stream",
     "text": [
      "Processing frames: 100%|██████████| 126/126 [00:03<00:00, 38.72it/s]\n"
     ]
    },
    {
     "name": "stdout",
     "output_type": "stream",
     "text": [
      "Completed! All frames saved to visualization/output/action_2402/frames\n",
      "Creating video from 126 frames...\n"
     ]
    },
    {
     "name": "stderr",
     "output_type": "stream",
     "text": [
      "Creating video: 100%|██████████| 126/126 [00:01<00:00, 86.23it/s]\n"
     ]
    },
    {
     "name": "stdout",
     "output_type": "stream",
     "text": [
      "Video created successfully: visualization/output/action_2402/video/action_2402.mp4\n",
      "Visualization completed for data/gamestate_output/action_2402.json\n",
      "Frames saved to visualization/output/action_2402/frames\n",
      "Video saved to visualization/output/action_2402/video/action_2402.mp4\n",
      "Processing 126 frames ...\n"
     ]
    },
    {
     "name": "stderr",
     "output_type": "stream",
     "text": [
      "Processing frames: 100%|██████████| 126/126 [00:03<00:00, 40.67it/s]\n"
     ]
    },
    {
     "name": "stdout",
     "output_type": "stream",
     "text": [
      "Completed! All frames saved to visualization/output/action_19/frames\n",
      "Creating video from 126 frames...\n"
     ]
    },
    {
     "name": "stderr",
     "output_type": "stream",
     "text": [
      "Creating video: 100%|██████████| 126/126 [00:01<00:00, 80.16it/s]\n"
     ]
    },
    {
     "name": "stdout",
     "output_type": "stream",
     "text": [
      "Video created successfully: visualization/output/action_19/video/action_19.mp4\n",
      "Visualization completed for data/gamestate_output/action_19.json\n",
      "Frames saved to visualization/output/action_19/frames\n",
      "Video saved to visualization/output/action_19/video/action_19.mp4\n",
      "Processing 126 frames ...\n"
     ]
    },
    {
     "name": "stderr",
     "output_type": "stream",
     "text": [
      "Processing frames: 100%|██████████| 126/126 [00:02<00:00, 43.76it/s]\n"
     ]
    },
    {
     "name": "stdout",
     "output_type": "stream",
     "text": [
      "Completed! All frames saved to visualization/output/action_697/frames\n",
      "Creating video from 126 frames...\n"
     ]
    },
    {
     "name": "stderr",
     "output_type": "stream",
     "text": [
      "Creating video: 100%|██████████| 126/126 [00:01<00:00, 80.76it/s]\n"
     ]
    },
    {
     "name": "stdout",
     "output_type": "stream",
     "text": [
      "Video created successfully: visualization/output/action_697/video/action_697.mp4\n",
      "Visualization completed for data/gamestate_output/action_697.json\n",
      "Frames saved to visualization/output/action_697/frames\n",
      "Video saved to visualization/output/action_697/video/action_697.mp4\n",
      "Processing 126 frames ...\n"
     ]
    },
    {
     "name": "stderr",
     "output_type": "stream",
     "text": [
      "Processing frames: 100%|██████████| 126/126 [00:03<00:00, 39.92it/s]\n"
     ]
    },
    {
     "name": "stdout",
     "output_type": "stream",
     "text": [
      "Completed! All frames saved to visualization/output/action_1916/frames\n",
      "Creating video from 126 frames...\n"
     ]
    },
    {
     "name": "stderr",
     "output_type": "stream",
     "text": [
      "Creating video: 100%|██████████| 126/126 [00:01<00:00, 82.25it/s]\n"
     ]
    },
    {
     "name": "stdout",
     "output_type": "stream",
     "text": [
      "Video created successfully: visualization/output/action_1916/video/action_1916.mp4\n",
      "Visualization completed for data/gamestate_output/action_1916.json\n",
      "Frames saved to visualization/output/action_1916/frames\n",
      "Video saved to visualization/output/action_1916/video/action_1916.mp4\n",
      "Processing 126 frames ...\n"
     ]
    },
    {
     "name": "stderr",
     "output_type": "stream",
     "text": [
      "Processing frames: 100%|██████████| 126/126 [00:02<00:00, 49.00it/s]\n"
     ]
    },
    {
     "name": "stdout",
     "output_type": "stream",
     "text": [
      "Completed! All frames saved to visualization/output/action_1279/frames\n",
      "Creating video from 126 frames...\n"
     ]
    },
    {
     "name": "stderr",
     "output_type": "stream",
     "text": [
      "Creating video: 100%|██████████| 126/126 [00:01<00:00, 78.21it/s]\n"
     ]
    },
    {
     "name": "stdout",
     "output_type": "stream",
     "text": [
      "Video created successfully: visualization/output/action_1279/video/action_1279.mp4\n",
      "Visualization completed for data/gamestate_output/action_1279.json\n",
      "Frames saved to visualization/output/action_1279/frames\n",
      "Video saved to visualization/output/action_1279/video/action_1279.mp4\n",
      "Processing 126 frames ...\n"
     ]
    },
    {
     "name": "stderr",
     "output_type": "stream",
     "text": [
      "Processing frames: 100%|██████████| 126/126 [00:02<00:00, 50.85it/s]\n"
     ]
    },
    {
     "name": "stdout",
     "output_type": "stream",
     "text": [
      "Completed! All frames saved to visualization/output/action_1629/frames\n",
      "Creating video from 126 frames...\n"
     ]
    },
    {
     "name": "stderr",
     "output_type": "stream",
     "text": [
      "Creating video: 100%|██████████| 126/126 [00:01<00:00, 82.11it/s]\n"
     ]
    },
    {
     "name": "stdout",
     "output_type": "stream",
     "text": [
      "Video created successfully: visualization/output/action_1629/video/action_1629.mp4\n",
      "Visualization completed for data/gamestate_output/action_1629.json\n",
      "Frames saved to visualization/output/action_1629/frames\n",
      "Video saved to visualization/output/action_1629/video/action_1629.mp4\n",
      "Processing 126 frames ...\n"
     ]
    },
    {
     "name": "stderr",
     "output_type": "stream",
     "text": [
      "Processing frames: 100%|██████████| 126/126 [00:02<00:00, 49.18it/s]\n"
     ]
    },
    {
     "name": "stdout",
     "output_type": "stream",
     "text": [
      "Completed! All frames saved to visualization/output/action_1501/frames\n",
      "Creating video from 126 frames...\n"
     ]
    },
    {
     "name": "stderr",
     "output_type": "stream",
     "text": [
      "Creating video: 100%|██████████| 126/126 [00:01<00:00, 70.71it/s]\n"
     ]
    },
    {
     "name": "stdout",
     "output_type": "stream",
     "text": [
      "Video created successfully: visualization/output/action_1501/video/action_1501.mp4\n",
      "Visualization completed for data/gamestate_output/action_1501.json\n",
      "Frames saved to visualization/output/action_1501/frames\n",
      "Video saved to visualization/output/action_1501/video/action_1501.mp4\n",
      "Processing 126 frames ...\n"
     ]
    },
    {
     "name": "stderr",
     "output_type": "stream",
     "text": [
      "Processing frames: 100%|██████████| 126/126 [00:03<00:00, 37.60it/s]\n"
     ]
    },
    {
     "name": "stdout",
     "output_type": "stream",
     "text": [
      "Completed! All frames saved to visualization/output/action_507/frames\n",
      "Creating video from 126 frames...\n"
     ]
    },
    {
     "name": "stderr",
     "output_type": "stream",
     "text": [
      "Creating video: 100%|██████████| 126/126 [00:01<00:00, 70.39it/s]\n"
     ]
    },
    {
     "name": "stdout",
     "output_type": "stream",
     "text": [
      "Video created successfully: visualization/output/action_507/video/action_507.mp4\n",
      "Visualization completed for data/gamestate_output/action_507.json\n",
      "Frames saved to visualization/output/action_507/frames\n",
      "Video saved to visualization/output/action_507/video/action_507.mp4\n",
      "Processing 126 frames ...\n"
     ]
    },
    {
     "name": "stderr",
     "output_type": "stream",
     "text": [
      "Processing frames: 100%|██████████| 126/126 [00:03<00:00, 35.36it/s]\n"
     ]
    },
    {
     "name": "stdout",
     "output_type": "stream",
     "text": [
      "Completed! All frames saved to visualization/output/action_2100/frames\n",
      "Creating video from 126 frames...\n"
     ]
    },
    {
     "name": "stderr",
     "output_type": "stream",
     "text": [
      "Creating video: 100%|██████████| 126/126 [00:01<00:00, 65.22it/s]\n"
     ]
    },
    {
     "name": "stdout",
     "output_type": "stream",
     "text": [
      "Video created successfully: visualization/output/action_2100/video/action_2100.mp4\n",
      "Visualization completed for data/gamestate_output/action_2100.json\n",
      "Frames saved to visualization/output/action_2100/frames\n",
      "Video saved to visualization/output/action_2100/video/action_2100.mp4\n",
      "Processing 126 frames ...\n"
     ]
    },
    {
     "name": "stderr",
     "output_type": "stream",
     "text": [
      "Processing frames: 100%|██████████| 126/126 [00:04<00:00, 31.07it/s]\n"
     ]
    },
    {
     "name": "stdout",
     "output_type": "stream",
     "text": [
      "Completed! All frames saved to visualization/output/action_1110/frames\n",
      "Creating video from 126 frames...\n"
     ]
    },
    {
     "name": "stderr",
     "output_type": "stream",
     "text": [
      "Creating video: 100%|██████████| 126/126 [00:01<00:00, 70.14it/s]\n"
     ]
    },
    {
     "name": "stdout",
     "output_type": "stream",
     "text": [
      "Video created successfully: visualization/output/action_1110/video/action_1110.mp4\n",
      "Visualization completed for data/gamestate_output/action_1110.json\n",
      "Frames saved to visualization/output/action_1110/frames\n",
      "Video saved to visualization/output/action_1110/video/action_1110.mp4\n",
      "Processing 126 frames ...\n"
     ]
    },
    {
     "name": "stderr",
     "output_type": "stream",
     "text": [
      "Processing frames: 100%|██████████| 126/126 [00:03<00:00, 36.97it/s]\n"
     ]
    },
    {
     "name": "stdout",
     "output_type": "stream",
     "text": [
      "Completed! All frames saved to visualization/output/action_2383/frames\n",
      "Creating video from 126 frames...\n"
     ]
    },
    {
     "name": "stderr",
     "output_type": "stream",
     "text": [
      "Creating video: 100%|██████████| 126/126 [00:01<00:00, 70.33it/s]\n"
     ]
    },
    {
     "name": "stdout",
     "output_type": "stream",
     "text": [
      "Video created successfully: visualization/output/action_2383/video/action_2383.mp4\n",
      "Visualization completed for data/gamestate_output/action_2383.json\n",
      "Frames saved to visualization/output/action_2383/frames\n",
      "Video saved to visualization/output/action_2383/video/action_2383.mp4\n",
      "Processing 126 frames ...\n"
     ]
    },
    {
     "name": "stderr",
     "output_type": "stream",
     "text": [
      "Processing frames: 100%|██████████| 126/126 [00:02<00:00, 45.58it/s]\n"
     ]
    },
    {
     "name": "stdout",
     "output_type": "stream",
     "text": [
      "Completed! All frames saved to visualization/output/action_1055/frames\n",
      "Creating video from 126 frames...\n"
     ]
    },
    {
     "name": "stderr",
     "output_type": "stream",
     "text": [
      "Creating video: 100%|██████████| 126/126 [00:01<00:00, 71.65it/s]\n"
     ]
    },
    {
     "name": "stdout",
     "output_type": "stream",
     "text": [
      "Video created successfully: visualization/output/action_1055/video/action_1055.mp4\n",
      "Visualization completed for data/gamestate_output/action_1055.json\n",
      "Frames saved to visualization/output/action_1055/frames\n",
      "Video saved to visualization/output/action_1055/video/action_1055.mp4\n",
      "Processing 126 frames ...\n"
     ]
    },
    {
     "name": "stderr",
     "output_type": "stream",
     "text": [
      "Processing frames: 100%|██████████| 126/126 [00:03<00:00, 37.85it/s]\n"
     ]
    },
    {
     "name": "stdout",
     "output_type": "stream",
     "text": [
      "Completed! All frames saved to visualization/output/action_950/frames\n",
      "Creating video from 126 frames...\n"
     ]
    },
    {
     "name": "stderr",
     "output_type": "stream",
     "text": [
      "Creating video: 100%|██████████| 126/126 [00:01<00:00, 75.42it/s]\n"
     ]
    },
    {
     "name": "stdout",
     "output_type": "stream",
     "text": [
      "Video created successfully: visualization/output/action_950/video/action_950.mp4\n",
      "Visualization completed for data/gamestate_output/action_950.json\n",
      "Frames saved to visualization/output/action_950/frames\n",
      "Video saved to visualization/output/action_950/video/action_950.mp4\n",
      "Processing 126 frames ...\n"
     ]
    },
    {
     "name": "stderr",
     "output_type": "stream",
     "text": [
      "Processing frames: 100%|██████████| 126/126 [00:03<00:00, 36.70it/s]\n"
     ]
    },
    {
     "name": "stdout",
     "output_type": "stream",
     "text": [
      "Completed! All frames saved to visualization/output/action_1281/frames\n",
      "Creating video from 126 frames...\n"
     ]
    },
    {
     "name": "stderr",
     "output_type": "stream",
     "text": [
      "Creating video: 100%|██████████| 126/126 [00:01<00:00, 72.77it/s]\n"
     ]
    },
    {
     "name": "stdout",
     "output_type": "stream",
     "text": [
      "Video created successfully: visualization/output/action_1281/video/action_1281.mp4\n",
      "Visualization completed for data/gamestate_output/action_1281.json\n",
      "Frames saved to visualization/output/action_1281/frames\n",
      "Video saved to visualization/output/action_1281/video/action_1281.mp4\n",
      "Processing 126 frames ...\n"
     ]
    },
    {
     "name": "stderr",
     "output_type": "stream",
     "text": [
      "Processing frames: 100%|██████████| 126/126 [00:02<00:00, 55.74it/s]\n"
     ]
    },
    {
     "name": "stdout",
     "output_type": "stream",
     "text": [
      "Completed! All frames saved to visualization/output/action_2012/frames\n",
      "Creating video from 126 frames...\n"
     ]
    },
    {
     "name": "stderr",
     "output_type": "stream",
     "text": [
      "Creating video: 100%|██████████| 126/126 [00:01<00:00, 72.84it/s]\n"
     ]
    },
    {
     "name": "stdout",
     "output_type": "stream",
     "text": [
      "Video created successfully: visualization/output/action_2012/video/action_2012.mp4\n",
      "Visualization completed for data/gamestate_output/action_2012.json\n",
      "Frames saved to visualization/output/action_2012/frames\n",
      "Video saved to visualization/output/action_2012/video/action_2012.mp4\n",
      "Processing 126 frames ...\n"
     ]
    },
    {
     "name": "stderr",
     "output_type": "stream",
     "text": [
      "Processing frames: 100%|██████████| 126/126 [00:02<00:00, 43.60it/s]\n"
     ]
    },
    {
     "name": "stdout",
     "output_type": "stream",
     "text": [
      "Completed! All frames saved to visualization/output/action_2291/frames\n",
      "Creating video from 126 frames...\n"
     ]
    },
    {
     "name": "stderr",
     "output_type": "stream",
     "text": [
      "Creating video: 100%|██████████| 126/126 [00:01<00:00, 76.74it/s]\n"
     ]
    },
    {
     "name": "stdout",
     "output_type": "stream",
     "text": [
      "Video created successfully: visualization/output/action_2291/video/action_2291.mp4\n",
      "Visualization completed for data/gamestate_output/action_2291.json\n",
      "Frames saved to visualization/output/action_2291/frames\n",
      "Video saved to visualization/output/action_2291/video/action_2291.mp4\n",
      "Processing 126 frames ...\n"
     ]
    },
    {
     "name": "stderr",
     "output_type": "stream",
     "text": [
      "Processing frames: 100%|██████████| 126/126 [00:02<00:00, 46.58it/s]\n"
     ]
    },
    {
     "name": "stdout",
     "output_type": "stream",
     "text": [
      "Completed! All frames saved to visualization/output/action_1700/frames\n",
      "Creating video from 126 frames...\n"
     ]
    },
    {
     "name": "stderr",
     "output_type": "stream",
     "text": [
      "Creating video: 100%|██████████| 126/126 [00:01<00:00, 77.54it/s]\n"
     ]
    },
    {
     "name": "stdout",
     "output_type": "stream",
     "text": [
      "Video created successfully: visualization/output/action_1700/video/action_1700.mp4\n",
      "Visualization completed for data/gamestate_output/action_1700.json\n",
      "Frames saved to visualization/output/action_1700/frames\n",
      "Video saved to visualization/output/action_1700/video/action_1700.mp4\n",
      "Processing 126 frames ...\n"
     ]
    },
    {
     "name": "stderr",
     "output_type": "stream",
     "text": [
      "Processing frames: 100%|██████████| 126/126 [00:02<00:00, 45.69it/s]\n"
     ]
    },
    {
     "name": "stdout",
     "output_type": "stream",
     "text": [
      "Completed! All frames saved to visualization/output/action_182/frames\n",
      "Creating video from 126 frames...\n"
     ]
    },
    {
     "name": "stderr",
     "output_type": "stream",
     "text": [
      "Creating video: 100%|██████████| 126/126 [00:01<00:00, 75.55it/s]\n"
     ]
    },
    {
     "name": "stdout",
     "output_type": "stream",
     "text": [
      "Video created successfully: visualization/output/action_182/video/action_182.mp4\n",
      "Visualization completed for data/gamestate_output/action_182.json\n",
      "Frames saved to visualization/output/action_182/frames\n",
      "Video saved to visualization/output/action_182/video/action_182.mp4\n",
      "Processing 126 frames ...\n"
     ]
    },
    {
     "name": "stderr",
     "output_type": "stream",
     "text": [
      "Processing frames: 100%|██████████| 126/126 [00:03<00:00, 38.87it/s]\n"
     ]
    },
    {
     "name": "stdout",
     "output_type": "stream",
     "text": [
      "Completed! All frames saved to visualization/output/action_301/frames\n",
      "Creating video from 126 frames...\n"
     ]
    },
    {
     "name": "stderr",
     "output_type": "stream",
     "text": [
      "Creating video: 100%|██████████| 126/126 [00:01<00:00, 76.37it/s]\n"
     ]
    },
    {
     "name": "stdout",
     "output_type": "stream",
     "text": [
      "Video created successfully: visualization/output/action_301/video/action_301.mp4\n",
      "Visualization completed for data/gamestate_output/action_301.json\n",
      "Frames saved to visualization/output/action_301/frames\n",
      "Video saved to visualization/output/action_301/video/action_301.mp4\n",
      "Processing 126 frames ...\n"
     ]
    },
    {
     "name": "stderr",
     "output_type": "stream",
     "text": [
      "Processing frames: 100%|██████████| 126/126 [00:03<00:00, 41.76it/s]\n"
     ]
    },
    {
     "name": "stdout",
     "output_type": "stream",
     "text": [
      "Completed! All frames saved to visualization/output/action_2710/frames\n",
      "Creating video from 126 frames...\n"
     ]
    },
    {
     "name": "stderr",
     "output_type": "stream",
     "text": [
      "Creating video: 100%|██████████| 126/126 [00:01<00:00, 72.97it/s]\n"
     ]
    },
    {
     "name": "stdout",
     "output_type": "stream",
     "text": [
      "Video created successfully: visualization/output/action_2710/video/action_2710.mp4\n",
      "Visualization completed for data/gamestate_output/action_2710.json\n",
      "Frames saved to visualization/output/action_2710/frames\n",
      "Video saved to visualization/output/action_2710/video/action_2710.mp4\n",
      "Processing 126 frames ...\n"
     ]
    },
    {
     "name": "stderr",
     "output_type": "stream",
     "text": [
      "Processing frames: 100%|██████████| 126/126 [00:02<00:00, 44.41it/s]\n"
     ]
    },
    {
     "name": "stdout",
     "output_type": "stream",
     "text": [
      "Completed! All frames saved to visualization/output/action_2340/frames\n",
      "Creating video from 126 frames...\n"
     ]
    },
    {
     "name": "stderr",
     "output_type": "stream",
     "text": [
      "Creating video: 100%|██████████| 126/126 [00:01<00:00, 73.57it/s]\n"
     ]
    },
    {
     "name": "stdout",
     "output_type": "stream",
     "text": [
      "Video created successfully: visualization/output/action_2340/video/action_2340.mp4\n",
      "Visualization completed for data/gamestate_output/action_2340.json\n",
      "Frames saved to visualization/output/action_2340/frames\n",
      "Video saved to visualization/output/action_2340/video/action_2340.mp4\n",
      "Processing 126 frames ...\n"
     ]
    },
    {
     "name": "stderr",
     "output_type": "stream",
     "text": [
      "Processing frames: 100%|██████████| 126/126 [00:02<00:00, 45.87it/s]\n"
     ]
    },
    {
     "name": "stdout",
     "output_type": "stream",
     "text": [
      "Completed! All frames saved to visualization/output/action_1307/frames\n",
      "Creating video from 126 frames...\n"
     ]
    },
    {
     "name": "stderr",
     "output_type": "stream",
     "text": [
      "Creating video: 100%|██████████| 126/126 [00:01<00:00, 71.27it/s]\n"
     ]
    },
    {
     "name": "stdout",
     "output_type": "stream",
     "text": [
      "Video created successfully: visualization/output/action_1307/video/action_1307.mp4\n",
      "Visualization completed for data/gamestate_output/action_1307.json\n",
      "Frames saved to visualization/output/action_1307/frames\n",
      "Video saved to visualization/output/action_1307/video/action_1307.mp4\n",
      "Processing 126 frames ...\n"
     ]
    },
    {
     "name": "stderr",
     "output_type": "stream",
     "text": [
      "Processing frames: 100%|██████████| 126/126 [00:03<00:00, 40.26it/s]\n"
     ]
    },
    {
     "name": "stdout",
     "output_type": "stream",
     "text": [
      "Completed! All frames saved to visualization/output/action_2602/frames\n",
      "Creating video from 126 frames...\n"
     ]
    },
    {
     "name": "stderr",
     "output_type": "stream",
     "text": [
      "Creating video: 100%|██████████| 126/126 [00:01<00:00, 72.93it/s]\n"
     ]
    },
    {
     "name": "stdout",
     "output_type": "stream",
     "text": [
      "Video created successfully: visualization/output/action_2602/video/action_2602.mp4\n",
      "Visualization completed for data/gamestate_output/action_2602.json\n",
      "Frames saved to visualization/output/action_2602/frames\n",
      "Video saved to visualization/output/action_2602/video/action_2602.mp4\n",
      "Processing 126 frames ...\n"
     ]
    },
    {
     "name": "stderr",
     "output_type": "stream",
     "text": [
      "Processing frames: 100%|██████████| 126/126 [00:03<00:00, 40.28it/s]\n"
     ]
    },
    {
     "name": "stdout",
     "output_type": "stream",
     "text": [
      "Completed! All frames saved to visualization/output/action_985/frames\n",
      "Creating video from 126 frames...\n"
     ]
    },
    {
     "name": "stderr",
     "output_type": "stream",
     "text": [
      "Creating video: 100%|██████████| 126/126 [00:01<00:00, 72.83it/s]\n"
     ]
    },
    {
     "name": "stdout",
     "output_type": "stream",
     "text": [
      "Video created successfully: visualization/output/action_985/video/action_985.mp4\n",
      "Visualization completed for data/gamestate_output/action_985.json\n",
      "Frames saved to visualization/output/action_985/frames\n",
      "Video saved to visualization/output/action_985/video/action_985.mp4\n",
      "Processing 126 frames ...\n"
     ]
    },
    {
     "name": "stderr",
     "output_type": "stream",
     "text": [
      "Processing frames: 100%|██████████| 126/126 [00:02<00:00, 44.20it/s]\n"
     ]
    },
    {
     "name": "stdout",
     "output_type": "stream",
     "text": [
      "Completed! All frames saved to visualization/output/action_1311/frames\n",
      "Creating video from 126 frames...\n"
     ]
    },
    {
     "name": "stderr",
     "output_type": "stream",
     "text": [
      "Creating video: 100%|██████████| 126/126 [00:01<00:00, 72.85it/s]\n"
     ]
    },
    {
     "name": "stdout",
     "output_type": "stream",
     "text": [
      "Video created successfully: visualization/output/action_1311/video/action_1311.mp4\n",
      "Visualization completed for data/gamestate_output/action_1311.json\n",
      "Frames saved to visualization/output/action_1311/frames\n",
      "Video saved to visualization/output/action_1311/video/action_1311.mp4\n",
      "Processing 126 frames ...\n"
     ]
    },
    {
     "name": "stderr",
     "output_type": "stream",
     "text": [
      "Processing frames: 100%|██████████| 126/126 [00:03<00:00, 38.36it/s]\n"
     ]
    },
    {
     "name": "stdout",
     "output_type": "stream",
     "text": [
      "Completed! All frames saved to visualization/output/action_34/frames\n",
      "Creating video from 126 frames...\n"
     ]
    },
    {
     "name": "stderr",
     "output_type": "stream",
     "text": [
      "Creating video: 100%|██████████| 126/126 [00:01<00:00, 76.79it/s]\n"
     ]
    },
    {
     "name": "stdout",
     "output_type": "stream",
     "text": [
      "Video created successfully: visualization/output/action_34/video/action_34.mp4\n",
      "Visualization completed for data/gamestate_output/action_34.json\n",
      "Frames saved to visualization/output/action_34/frames\n",
      "Video saved to visualization/output/action_34/video/action_34.mp4\n",
      "Processing 126 frames ...\n"
     ]
    },
    {
     "name": "stderr",
     "output_type": "stream",
     "text": [
      "Processing frames: 100%|██████████| 126/126 [00:03<00:00, 41.48it/s]\n"
     ]
    },
    {
     "name": "stdout",
     "output_type": "stream",
     "text": [
      "Completed! All frames saved to visualization/output/action_2839/frames\n",
      "Creating video from 126 frames...\n"
     ]
    },
    {
     "name": "stderr",
     "output_type": "stream",
     "text": [
      "Creating video: 100%|██████████| 126/126 [00:01<00:00, 75.12it/s]\n"
     ]
    },
    {
     "name": "stdout",
     "output_type": "stream",
     "text": [
      "Video created successfully: visualization/output/action_2839/video/action_2839.mp4\n",
      "Visualization completed for data/gamestate_output/action_2839.json\n",
      "Frames saved to visualization/output/action_2839/frames\n",
      "Video saved to visualization/output/action_2839/video/action_2839.mp4\n",
      "Processing 126 frames ...\n"
     ]
    },
    {
     "name": "stderr",
     "output_type": "stream",
     "text": [
      "Processing frames: 100%|██████████| 126/126 [00:03<00:00, 37.68it/s]\n"
     ]
    },
    {
     "name": "stdout",
     "output_type": "stream",
     "text": [
      "Completed! All frames saved to visualization/output/action_2643/frames\n",
      "Creating video from 126 frames...\n"
     ]
    },
    {
     "name": "stderr",
     "output_type": "stream",
     "text": [
      "Creating video: 100%|██████████| 126/126 [00:01<00:00, 75.88it/s]\n"
     ]
    },
    {
     "name": "stdout",
     "output_type": "stream",
     "text": [
      "Video created successfully: visualization/output/action_2643/video/action_2643.mp4\n",
      "Visualization completed for data/gamestate_output/action_2643.json\n",
      "Frames saved to visualization/output/action_2643/frames\n",
      "Video saved to visualization/output/action_2643/video/action_2643.mp4\n",
      "Processing 126 frames ...\n"
     ]
    },
    {
     "name": "stderr",
     "output_type": "stream",
     "text": [
      "Processing frames: 100%|██████████| 126/126 [00:03<00:00, 38.44it/s]\n"
     ]
    },
    {
     "name": "stdout",
     "output_type": "stream",
     "text": [
      "Completed! All frames saved to visualization/output/action_63/frames\n",
      "Creating video from 126 frames...\n"
     ]
    },
    {
     "name": "stderr",
     "output_type": "stream",
     "text": [
      "Creating video: 100%|██████████| 126/126 [00:01<00:00, 76.86it/s]\n"
     ]
    },
    {
     "name": "stdout",
     "output_type": "stream",
     "text": [
      "Video created successfully: visualization/output/action_63/video/action_63.mp4\n",
      "Visualization completed for data/gamestate_output/action_63.json\n",
      "Frames saved to visualization/output/action_63/frames\n",
      "Video saved to visualization/output/action_63/video/action_63.mp4\n",
      "Processing 126 frames ...\n"
     ]
    },
    {
     "name": "stderr",
     "output_type": "stream",
     "text": [
      "Processing frames: 100%|██████████| 126/126 [00:03<00:00, 39.98it/s]\n"
     ]
    },
    {
     "name": "stdout",
     "output_type": "stream",
     "text": [
      "Completed! All frames saved to visualization/output/action_252/frames\n",
      "Creating video from 126 frames...\n"
     ]
    },
    {
     "name": "stderr",
     "output_type": "stream",
     "text": [
      "Creating video: 100%|██████████| 126/126 [00:01<00:00, 77.32it/s]\n"
     ]
    },
    {
     "name": "stdout",
     "output_type": "stream",
     "text": [
      "Video created successfully: visualization/output/action_252/video/action_252.mp4\n",
      "Visualization completed for data/gamestate_output/action_252.json\n",
      "Frames saved to visualization/output/action_252/frames\n",
      "Video saved to visualization/output/action_252/video/action_252.mp4\n",
      "Processing 126 frames ...\n"
     ]
    },
    {
     "name": "stderr",
     "output_type": "stream",
     "text": [
      "Processing frames: 100%|██████████| 126/126 [00:02<00:00, 42.72it/s]\n"
     ]
    },
    {
     "name": "stdout",
     "output_type": "stream",
     "text": [
      "Completed! All frames saved to visualization/output/action_2706/frames\n",
      "Creating video from 126 frames...\n"
     ]
    },
    {
     "name": "stderr",
     "output_type": "stream",
     "text": [
      "Creating video: 100%|██████████| 126/126 [00:01<00:00, 72.74it/s]\n"
     ]
    },
    {
     "name": "stdout",
     "output_type": "stream",
     "text": [
      "Video created successfully: visualization/output/action_2706/video/action_2706.mp4\n",
      "Visualization completed for data/gamestate_output/action_2706.json\n",
      "Frames saved to visualization/output/action_2706/frames\n",
      "Video saved to visualization/output/action_2706/video/action_2706.mp4\n",
      "Processing 126 frames ...\n"
     ]
    },
    {
     "name": "stderr",
     "output_type": "stream",
     "text": [
      "Processing frames: 100%|██████████| 126/126 [00:03<00:00, 41.41it/s]\n"
     ]
    },
    {
     "name": "stdout",
     "output_type": "stream",
     "text": [
      "Completed! All frames saved to visualization/output/action_2458/frames\n",
      "Creating video from 126 frames...\n"
     ]
    },
    {
     "name": "stderr",
     "output_type": "stream",
     "text": [
      "Creating video: 100%|██████████| 126/126 [00:01<00:00, 72.31it/s]\n"
     ]
    },
    {
     "name": "stdout",
     "output_type": "stream",
     "text": [
      "Video created successfully: visualization/output/action_2458/video/action_2458.mp4\n",
      "Visualization completed for data/gamestate_output/action_2458.json\n",
      "Frames saved to visualization/output/action_2458/frames\n",
      "Video saved to visualization/output/action_2458/video/action_2458.mp4\n",
      "Processing 126 frames ...\n"
     ]
    },
    {
     "name": "stderr",
     "output_type": "stream",
     "text": [
      "Processing frames: 100%|██████████| 126/126 [00:03<00:00, 38.43it/s]\n"
     ]
    },
    {
     "name": "stdout",
     "output_type": "stream",
     "text": [
      "Completed! All frames saved to visualization/output/action_272/frames\n",
      "Creating video from 126 frames...\n"
     ]
    },
    {
     "name": "stderr",
     "output_type": "stream",
     "text": [
      "Creating video: 100%|██████████| 126/126 [00:01<00:00, 75.29it/s]\n"
     ]
    },
    {
     "name": "stdout",
     "output_type": "stream",
     "text": [
      "Video created successfully: visualization/output/action_272/video/action_272.mp4\n",
      "Visualization completed for data/gamestate_output/action_272.json\n",
      "Frames saved to visualization/output/action_272/frames\n",
      "Video saved to visualization/output/action_272/video/action_272.mp4\n",
      "Processing 126 frames ...\n"
     ]
    },
    {
     "name": "stderr",
     "output_type": "stream",
     "text": [
      "Processing frames: 100%|██████████| 126/126 [00:02<00:00, 45.11it/s]\n"
     ]
    },
    {
     "name": "stdout",
     "output_type": "stream",
     "text": [
      "Completed! All frames saved to visualization/output/action_2819/frames\n",
      "Creating video from 126 frames...\n"
     ]
    },
    {
     "name": "stderr",
     "output_type": "stream",
     "text": [
      "Creating video: 100%|██████████| 126/126 [00:01<00:00, 71.11it/s]\n"
     ]
    },
    {
     "name": "stdout",
     "output_type": "stream",
     "text": [
      "Video created successfully: visualization/output/action_2819/video/action_2819.mp4\n",
      "Visualization completed for data/gamestate_output/action_2819.json\n",
      "Frames saved to visualization/output/action_2819/frames\n",
      "Video saved to visualization/output/action_2819/video/action_2819.mp4\n",
      "Processing 126 frames ...\n"
     ]
    },
    {
     "name": "stderr",
     "output_type": "stream",
     "text": [
      "Processing frames: 100%|██████████| 126/126 [00:03<00:00, 38.16it/s]\n"
     ]
    },
    {
     "name": "stdout",
     "output_type": "stream",
     "text": [
      "Completed! All frames saved to visualization/output/action_2730/frames\n",
      "Creating video from 126 frames...\n"
     ]
    },
    {
     "name": "stderr",
     "output_type": "stream",
     "text": [
      "Creating video: 100%|██████████| 126/126 [00:01<00:00, 73.15it/s]\n"
     ]
    },
    {
     "name": "stdout",
     "output_type": "stream",
     "text": [
      "Video created successfully: visualization/output/action_2730/video/action_2730.mp4\n",
      "Visualization completed for data/gamestate_output/action_2730.json\n",
      "Frames saved to visualization/output/action_2730/frames\n",
      "Video saved to visualization/output/action_2730/video/action_2730.mp4\n",
      "Processing 126 frames ...\n"
     ]
    },
    {
     "name": "stderr",
     "output_type": "stream",
     "text": [
      "Processing frames: 100%|██████████| 126/126 [00:03<00:00, 38.85it/s]\n"
     ]
    },
    {
     "name": "stdout",
     "output_type": "stream",
     "text": [
      "Completed! All frames saved to visualization/output/action_663/frames\n",
      "Creating video from 126 frames...\n"
     ]
    },
    {
     "name": "stderr",
     "output_type": "stream",
     "text": [
      "Creating video: 100%|██████████| 126/126 [00:01<00:00, 75.49it/s]\n"
     ]
    },
    {
     "name": "stdout",
     "output_type": "stream",
     "text": [
      "Video created successfully: visualization/output/action_663/video/action_663.mp4\n",
      "Visualization completed for data/gamestate_output/action_663.json\n",
      "Frames saved to visualization/output/action_663/frames\n",
      "Video saved to visualization/output/action_663/video/action_663.mp4\n",
      "Processing 126 frames ...\n"
     ]
    },
    {
     "name": "stderr",
     "output_type": "stream",
     "text": [
      "Processing frames: 100%|██████████| 126/126 [00:03<00:00, 39.63it/s]\n"
     ]
    },
    {
     "name": "stdout",
     "output_type": "stream",
     "text": [
      "Completed! All frames saved to visualization/output/action_399/frames\n",
      "Creating video from 126 frames...\n"
     ]
    },
    {
     "name": "stderr",
     "output_type": "stream",
     "text": [
      "Creating video: 100%|██████████| 126/126 [00:01<00:00, 72.72it/s]\n"
     ]
    },
    {
     "name": "stdout",
     "output_type": "stream",
     "text": [
      "Video created successfully: visualization/output/action_399/video/action_399.mp4\n",
      "Visualization completed for data/gamestate_output/action_399.json\n",
      "Frames saved to visualization/output/action_399/frames\n",
      "Video saved to visualization/output/action_399/video/action_399.mp4\n",
      "Processing 126 frames ...\n"
     ]
    },
    {
     "name": "stderr",
     "output_type": "stream",
     "text": [
      "Processing frames: 100%|██████████| 126/126 [00:02<00:00, 43.46it/s]\n"
     ]
    },
    {
     "name": "stdout",
     "output_type": "stream",
     "text": [
      "Completed! All frames saved to visualization/output/action_2622/frames\n",
      "Creating video from 126 frames...\n"
     ]
    },
    {
     "name": "stderr",
     "output_type": "stream",
     "text": [
      "Creating video: 100%|██████████| 126/126 [00:01<00:00, 74.68it/s]\n"
     ]
    },
    {
     "name": "stdout",
     "output_type": "stream",
     "text": [
      "Video created successfully: visualization/output/action_2622/video/action_2622.mp4\n",
      "Visualization completed for data/gamestate_output/action_2622.json\n",
      "Frames saved to visualization/output/action_2622/frames\n",
      "Video saved to visualization/output/action_2622/video/action_2622.mp4\n",
      "Processing 126 frames ...\n"
     ]
    },
    {
     "name": "stderr",
     "output_type": "stream",
     "text": [
      "Processing frames: 100%|██████████| 126/126 [00:03<00:00, 40.46it/s]\n"
     ]
    },
    {
     "name": "stdout",
     "output_type": "stream",
     "text": [
      "Completed! All frames saved to visualization/output/action_2659/frames\n",
      "Creating video from 126 frames...\n"
     ]
    },
    {
     "name": "stderr",
     "output_type": "stream",
     "text": [
      "Creating video: 100%|██████████| 126/126 [00:01<00:00, 73.69it/s]\n"
     ]
    },
    {
     "name": "stdout",
     "output_type": "stream",
     "text": [
      "Video created successfully: visualization/output/action_2659/video/action_2659.mp4\n",
      "Visualization completed for data/gamestate_output/action_2659.json\n",
      "Frames saved to visualization/output/action_2659/frames\n",
      "Video saved to visualization/output/action_2659/video/action_2659.mp4\n",
      "Processing 126 frames ...\n"
     ]
    },
    {
     "name": "stderr",
     "output_type": "stream",
     "text": [
      "Processing frames: 100%|██████████| 126/126 [00:03<00:00, 36.47it/s]\n"
     ]
    },
    {
     "name": "stdout",
     "output_type": "stream",
     "text": [
      "Completed! All frames saved to visualization/output/action_1075/frames\n",
      "Creating video from 126 frames...\n"
     ]
    },
    {
     "name": "stderr",
     "output_type": "stream",
     "text": [
      "Creating video: 100%|██████████| 126/126 [00:01<00:00, 77.92it/s]\n"
     ]
    },
    {
     "name": "stdout",
     "output_type": "stream",
     "text": [
      "Video created successfully: visualization/output/action_1075/video/action_1075.mp4\n",
      "Visualization completed for data/gamestate_output/action_1075.json\n",
      "Frames saved to visualization/output/action_1075/frames\n",
      "Video saved to visualization/output/action_1075/video/action_1075.mp4\n",
      "Processing 126 frames ...\n"
     ]
    },
    {
     "name": "stderr",
     "output_type": "stream",
     "text": [
      "Processing frames: 100%|██████████| 126/126 [00:02<00:00, 42.49it/s]\n"
     ]
    },
    {
     "name": "stdout",
     "output_type": "stream",
     "text": [
      "Completed! All frames saved to visualization/output/action_2065/frames\n",
      "Creating video from 126 frames...\n"
     ]
    },
    {
     "name": "stderr",
     "output_type": "stream",
     "text": [
      "Creating video: 100%|██████████| 126/126 [00:01<00:00, 79.11it/s]\n"
     ]
    },
    {
     "name": "stdout",
     "output_type": "stream",
     "text": [
      "Video created successfully: visualization/output/action_2065/video/action_2065.mp4\n",
      "Visualization completed for data/gamestate_output/action_2065.json\n",
      "Frames saved to visualization/output/action_2065/frames\n",
      "Video saved to visualization/output/action_2065/video/action_2065.mp4\n",
      "Processing 126 frames ...\n"
     ]
    },
    {
     "name": "stderr",
     "output_type": "stream",
     "text": [
      "Processing frames: 100%|██████████| 126/126 [00:03<00:00, 41.89it/s]\n"
     ]
    },
    {
     "name": "stdout",
     "output_type": "stream",
     "text": [
      "Completed! All frames saved to visualization/output/action_927/frames\n",
      "Creating video from 126 frames...\n"
     ]
    },
    {
     "name": "stderr",
     "output_type": "stream",
     "text": [
      "Creating video: 100%|██████████| 126/126 [00:01<00:00, 73.39it/s]\n"
     ]
    },
    {
     "name": "stdout",
     "output_type": "stream",
     "text": [
      "Video created successfully: visualization/output/action_927/video/action_927.mp4\n",
      "Visualization completed for data/gamestate_output/action_927.json\n",
      "Frames saved to visualization/output/action_927/frames\n",
      "Video saved to visualization/output/action_927/video/action_927.mp4\n",
      "Processing 126 frames ...\n"
     ]
    },
    {
     "name": "stderr",
     "output_type": "stream",
     "text": [
      "Processing frames: 100%|██████████| 126/126 [00:02<00:00, 42.29it/s]\n"
     ]
    },
    {
     "name": "stdout",
     "output_type": "stream",
     "text": [
      "Completed! All frames saved to visualization/output/action_1864/frames\n",
      "Creating video from 126 frames...\n"
     ]
    },
    {
     "name": "stderr",
     "output_type": "stream",
     "text": [
      "Creating video: 100%|██████████| 126/126 [00:01<00:00, 73.19it/s]\n"
     ]
    },
    {
     "name": "stdout",
     "output_type": "stream",
     "text": [
      "Video created successfully: visualization/output/action_1864/video/action_1864.mp4\n",
      "Visualization completed for data/gamestate_output/action_1864.json\n",
      "Frames saved to visualization/output/action_1864/frames\n",
      "Video saved to visualization/output/action_1864/video/action_1864.mp4\n",
      "Processing 126 frames ...\n"
     ]
    },
    {
     "name": "stderr",
     "output_type": "stream",
     "text": [
      "Processing frames: 100%|██████████| 126/126 [00:03<00:00, 41.86it/s]\n"
     ]
    },
    {
     "name": "stdout",
     "output_type": "stream",
     "text": [
      "Completed! All frames saved to visualization/output/action_2874/frames\n",
      "Creating video from 126 frames...\n"
     ]
    },
    {
     "name": "stderr",
     "output_type": "stream",
     "text": [
      "Creating video: 100%|██████████| 126/126 [00:01<00:00, 74.22it/s]\n"
     ]
    },
    {
     "name": "stdout",
     "output_type": "stream",
     "text": [
      "Video created successfully: visualization/output/action_2874/video/action_2874.mp4\n",
      "Visualization completed for data/gamestate_output/action_2874.json\n",
      "Frames saved to visualization/output/action_2874/frames\n",
      "Video saved to visualization/output/action_2874/video/action_2874.mp4\n",
      "Processing 126 frames ...\n"
     ]
    },
    {
     "name": "stderr",
     "output_type": "stream",
     "text": [
      "Processing frames: 100%|██████████| 126/126 [00:02<00:00, 42.13it/s]\n"
     ]
    },
    {
     "name": "stdout",
     "output_type": "stream",
     "text": [
      "Completed! All frames saved to visualization/output/action_2618/frames\n",
      "Creating video from 126 frames...\n"
     ]
    },
    {
     "name": "stderr",
     "output_type": "stream",
     "text": [
      "Creating video: 100%|██████████| 126/126 [00:01<00:00, 74.15it/s]\n"
     ]
    },
    {
     "name": "stdout",
     "output_type": "stream",
     "text": [
      "Video created successfully: visualization/output/action_2618/video/action_2618.mp4\n",
      "Visualization completed for data/gamestate_output/action_2618.json\n",
      "Frames saved to visualization/output/action_2618/frames\n",
      "Video saved to visualization/output/action_2618/video/action_2618.mp4\n",
      "Processing 126 frames ...\n"
     ]
    },
    {
     "name": "stderr",
     "output_type": "stream",
     "text": [
      "Processing frames: 100%|██████████| 126/126 [00:03<00:00, 41.30it/s]\n"
     ]
    },
    {
     "name": "stdout",
     "output_type": "stream",
     "text": [
      "Completed! All frames saved to visualization/output/action_1825/frames\n",
      "Creating video from 126 frames...\n"
     ]
    },
    {
     "name": "stderr",
     "output_type": "stream",
     "text": [
      "Creating video: 100%|██████████| 126/126 [00:01<00:00, 75.94it/s]\n"
     ]
    },
    {
     "name": "stdout",
     "output_type": "stream",
     "text": [
      "Video created successfully: visualization/output/action_1825/video/action_1825.mp4\n",
      "Visualization completed for data/gamestate_output/action_1825.json\n",
      "Frames saved to visualization/output/action_1825/frames\n",
      "Video saved to visualization/output/action_1825/video/action_1825.mp4\n"
     ]
    }
   ],
   "source": [
    "import os\n",
    "from pathlib import Path\n",
    "import shutil\n",
    "from typing import Optional\n",
    "from visualization.visualizer import draw_frame, get_frame_info, create_video, get_unique_frame_ids\n",
    "import cv2\n",
    "from tqdm import tqdm\n",
    "\n",
    "\n",
    "json_files = os.listdir(\"data/gamestate_output\")\n",
    "\n",
    "\n",
    "for json_file in json_files:\n",
    "    json_file = f\"data/gamestate_output/{json_file}\"\n",
    "    if \"action\" not in json_file:\n",
    "        continue\n",
    "\n",
    "    # Check if file exists\n",
    "    if not os.path.exists(json_file):\n",
    "        msg = f\"Error: JSON file '{json_file}' not found.\"\n",
    "        raise ValueError(msg)\n",
    "\n",
    "    # Get filename without extension for output folder\n",
    "    filename = Path(json_file).stem\n",
    "\n",
    "    # Create output directories\n",
    "    output_frames_dir = Path(f\"visualization/output/{filename}/frames\")\n",
    "    output_video_dir = Path(f\"visualization/output/{filename}/video\")\n",
    "\n",
    "    # Check if output directories already exist and contain files\n",
    "    if (output_frames_dir.exists() and any(output_frames_dir.iterdir())) or \\\n",
    "        (output_video_dir.exists() and any(output_video_dir.iterdir())):\n",
    "        continue\n",
    "        response = input(f\"Output files already exist for {filename}. Overwrite? (y/n): \")\n",
    "        if response.lower() == 'y':\n",
    "            # Remove existing files\n",
    "            if output_frames_dir.exists():\n",
    "                shutil.rmtree(output_frames_dir)\n",
    "            if output_video_dir.exists():\n",
    "                shutil.rmtree(output_video_dir)\n",
    "            print(\"Existing files removed.\")\n",
    "        else:\n",
    "            msg = \"Operation cancelled.\"\n",
    "            raise ValueError(msg)\n",
    "\n",
    "    # Create directories\n",
    "    output_frames_dir.mkdir(parents=True, exist_ok=True)\n",
    "    output_video_dir.mkdir(parents=True, exist_ok=True)\n",
    "\n",
    "    # Get unique frame IDs\n",
    "    frame_ids = get_unique_frame_ids(json_file)\n",
    "\n",
    "    if not frame_ids:\n",
    "        msg = \"Error: No frames found in the JSON file\"\n",
    "        raise ValueError(msg)\n",
    "\n",
    "    print(f\"Processing {len(frame_ids)} frames ...\")\n",
    "\n",
    "    # Process frames sequentially\n",
    "    frame_paths = []\n",
    "\n",
    "    # Function to process a single frame\n",
    "    def process_frame(frame_id: str) -> Optional[Path]:\n",
    "        output_path = output_frames_dir / f\"frame_{frame_id}.png\"\n",
    "        \n",
    "        # Skip if file already exists\n",
    "        if output_path.exists():\n",
    "            return output_path\n",
    "        \n",
    "        # Get frame info and draw the frame\n",
    "        frame_info = get_frame_info(json_file, frame_id)\n",
    "        image = draw_frame(frame_info)\n",
    "        \n",
    "        # Save the frame\n",
    "        cv2.imwrite(str(output_path), image)\n",
    "        \n",
    "        return output_path\n",
    "\n",
    "    # Process frames sequentially with a progress bar\n",
    "    for frame_id in tqdm(frame_ids, desc=\"Processing frames\"):\n",
    "        frame_path = process_frame(frame_id)\n",
    "        if frame_path:\n",
    "            frame_paths.append(frame_path)\n",
    "\n",
    "    print(f\"Completed! All frames saved to {output_frames_dir}\")\n",
    "\n",
    "    # Create video\n",
    "    video_output_path = output_video_dir / f\"{filename}.mp4\"\n",
    "    create_video(frame_paths, video_output_path, fps=10)\n",
    "\n",
    "    print(f\"Visualization completed for {json_file}\")\n",
    "    print(f\"Frames saved to {output_frames_dir}\")\n",
    "    print(f\"Video saved to {video_output_path}\")"
   ]
  },
  {
   "cell_type": "code",
   "execution_count": null,
   "metadata": {},
   "outputs": [],
   "source": []
  },
  {
   "cell_type": "code",
   "execution_count": null,
   "metadata": {},
   "outputs": [],
   "source": []
  }
 ],
 "metadata": {
  "kernelspec": {
   "display_name": "Python 3",
   "language": "python",
   "name": "python3"
  },
  "language_info": {
   "codemirror_mode": {
    "name": "ipython",
    "version": 3
   },
   "file_extension": ".py",
   "mimetype": "text/x-python",
   "name": "python",
   "nbconvert_exporter": "python",
   "pygments_lexer": "ipython3",
   "version": "3.11.9"
  }
 },
 "nbformat": 4,
 "nbformat_minor": 2
}
