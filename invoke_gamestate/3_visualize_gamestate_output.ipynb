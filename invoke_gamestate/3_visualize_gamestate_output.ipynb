{
 "cells": [
  {
   "cell_type": "code",
   "execution_count": 1,
   "metadata": {},
   "outputs": [],
   "source": [
    "import json\n",
    "\n",
    "with open(\"data/gamestate_output/SNGS-001.json\", \"r\") as f:\n",
    "    data = json.load(f)\n",
    "    predictions = data[\"predictions\"]"
   ]
  },
  {
   "cell_type": "code",
   "execution_count": 2,
   "metadata": {},
   "outputs": [
    {
     "name": "stdout",
     "output_type": "stream",
     "text": [
      "12376\n"
     ]
    }
   ],
   "source": [
    "print(len(predictions))"
   ]
  },
  {
   "cell_type": "code",
   "execution_count": 3,
   "metadata": {},
   "outputs": [
    {
     "name": "stdout",
     "output_type": "stream",
     "text": [
      "{\n",
      "    \"image_id\": \"4001000001\",\n",
      "    \"bbox_image\": {\n",
      "        \"x\": 382.20587158203125,\n",
      "        \"y\": 783.1085815429688,\n",
      "        \"w\": 71.101806640625,\n",
      "        \"h\": 177.919189453125\n",
      "    },\n",
      "    \"video_id\": \"001\",\n",
      "    \"category_id\": 1.0,\n",
      "    \"track_id\": 1,\n",
      "    \"bbox_pitch\": {\n",
      "        \"x_bottom_left\": -6.3148218321410114,\n",
      "        \"y_bottom_left\": 23.00920891811881,\n",
      "        \"x_bottom_right\": -5.6064553448488725,\n",
      "        \"y_bottom_right\": 23.014673568178488,\n",
      "        \"x_bottom_middle\": -5.960646729080064,\n",
      "        \"y_bottom_middle\": 23.011941180348604\n",
      "    },\n",
      "    \"supercategory\": \"object\",\n",
      "    \"attributes\": {\n",
      "        \"role\": \"player\",\n",
      "        \"jersey\": \"24\",\n",
      "        \"team\": \"left\"\n",
      "    },\n",
      "    \"id\": \"0\"\n",
      "}\n",
      "{\n",
      "    \"image_id\": \"4001000001\",\n",
      "    \"bbox_image\": {\n",
      "        \"x\": 1064.484375,\n",
      "        \"y\": 493.9342041015625,\n",
      "        \"w\": 56.9696044921875,\n",
      "        \"h\": 149.6256103515625\n",
      "    },\n",
      "    \"video_id\": \"001\",\n",
      "    \"category_id\": 1.0,\n",
      "    \"track_id\": 2,\n",
      "    \"bbox_pitch\": {\n",
      "        \"x_bottom_left\": 0.6250356705669231,\n",
      "        \"y_bottom_left\": 11.066534794546762,\n",
      "        \"x_bottom_right\": 1.363904834243854,\n",
      "        \"y_bottom_right\": 11.071659811461535,\n",
      "        \"x_bottom_middle\": 0.9944613996447407,\n",
      "        \"y_bottom_middle\": 11.06909724159876\n",
      "    },\n",
      "    \"supercategory\": \"object\",\n",
      "    \"attributes\": {\n",
      "        \"role\": \"player\",\n",
      "        \"jersey\": \"9\",\n",
      "        \"team\": \"left\"\n",
      "    },\n",
      "    \"id\": \"1\"\n",
      "}\n",
      "{\n",
      "    \"image_id\": \"4001000001\",\n",
      "    \"bbox_image\": {\n",
      "        \"x\": 699.456298828125,\n",
      "        \"y\": 462.572021484375,\n",
      "        \"w\": 35.71783447265625,\n",
      "        \"h\": 132.19647216796875\n",
      "    },\n",
      "    \"video_id\": \"001\",\n",
      "    \"category_id\": 1.0,\n",
      "    \"track_id\": 11,\n",
      "    \"bbox_pitch\": {\n",
      "        \"x_bottom_left\": -4.307424044498785,\n",
      "        \"y_bottom_left\": 8.519004132574603,\n",
      "        \"x_bottom_right\": -3.822058526052938,\n",
      "        \"y_bottom_right\": 8.522291619237063,\n",
      "        \"x_bottom_middle\": -4.064745106689241,\n",
      "        \"y_bottom_middle\": 8.520647850022568\n",
      "    },\n",
      "    \"supercategory\": \"object\",\n",
      "    \"attributes\": {\n",
      "        \"role\": \"player\",\n",
      "        \"jersey\": \"13\",\n",
      "        \"team\": \"left\"\n",
      "    },\n",
      "    \"id\": \"10\"\n",
      "}\n",
      "{\n",
      "    \"image_id\": \"4001000007\",\n",
      "    \"bbox_image\": {\n",
      "        \"x\": 173.09812927246094,\n",
      "        \"y\": 610.048095703125,\n",
      "        \"w\": 49.00917053222656,\n",
      "        \"h\": 160.4874267578125\n",
      "    },\n",
      "    \"video_id\": \"001\",\n",
      "    \"category_id\": 1.0,\n",
      "    \"track_id\": 7,\n",
      "    \"bbox_pitch\": {\n",
      "        \"x_bottom_left\": -9.893348792315702,\n",
      "        \"y_bottom_left\": 16.516563768404087,\n",
      "        \"x_bottom_right\": -9.321554441043313,\n",
      "        \"y_bottom_right\": 16.52015104731613,\n",
      "        \"x_bottom_middle\": -9.60743079345189,\n",
      "        \"y_bottom_middle\": 16.518357538499252\n",
      "    },\n",
      "    \"supercategory\": \"object\",\n",
      "    \"attributes\": {\n",
      "        \"role\": \"goalkeeper\",\n",
      "        \"jersey\": null,\n",
      "        \"team\": \"left\"\n",
      "    },\n",
      "    \"id\": \"100\"\n",
      "}\n",
      "{\n",
      "    \"image_id\": \"4001000064\",\n",
      "    \"bbox_image\": {\n",
      "        \"x\": 676.9772338867188,\n",
      "        \"y\": 193.9530487060547,\n",
      "        \"w\": 37.33746337890625,\n",
      "        \"h\": 94.35572814941406\n",
      "    },\n",
      "    \"video_id\": \"001\",\n",
      "    \"category_id\": 1.0,\n",
      "    \"track_id\": 8,\n",
      "    \"bbox_pitch\": {\n",
      "        \"x_bottom_left\": -6.840241746689485,\n",
      "        \"y_bottom_left\": -15.749625550734047,\n",
      "        \"x_bottom_right\": -6.088973873880838,\n",
      "        \"y_bottom_right\": -15.73851263948354,\n",
      "        \"x_bottom_middle\": -6.464475130738093,\n",
      "        \"y_bottom_middle\": -15.744067132485226\n",
      "    },\n",
      "    \"supercategory\": \"object\",\n",
      "    \"attributes\": {\n",
      "        \"role\": \"player\",\n",
      "        \"jersey\": null,\n",
      "        \"team\": \"left\"\n",
      "    },\n",
      "    \"id\": \"1000\"\n",
      "}\n",
      "{\n",
      "    \"image_id\": \"4001000678\",\n",
      "    \"bbox_image\": {\n",
      "        \"x\": 1192.5986328125,\n",
      "        \"y\": 335.68994140625,\n",
      "        \"w\": 76.345947265625,\n",
      "        \"h\": 124.22772216796875\n",
      "    },\n",
      "    \"video_id\": \"001\",\n",
      "    \"category_id\": 1.0,\n",
      "    \"track_id\": 24,\n",
      "    \"bbox_pitch\": {\n",
      "        \"x_bottom_left\": -39.768377879538676,\n",
      "        \"y_bottom_left\": -2.714977322940354,\n",
      "        \"x_bottom_right\": -38.90181431081351,\n",
      "        \"y_bottom_right\": -3.3254133595380244,\n",
      "        \"x_bottom_middle\": -39.3350725988294,\n",
      "        \"y_bottom_middle\": -3.0202118928428634\n",
      "    },\n",
      "    \"supercategory\": \"object\",\n",
      "    \"attributes\": {\n",
      "        \"role\": \"player\",\n",
      "        \"jersey\": null,\n",
      "        \"team\": \"left\"\n",
      "    },\n",
      "    \"id\": \"10000\"\n",
      "}\n",
      "{\n",
      "    \"image_id\": \"4001000678\",\n",
      "    \"bbox_image\": {\n",
      "        \"x\": 969.3973388671875,\n",
      "        \"y\": 347.1929626464844,\n",
      "        \"w\": 48.61395263671875,\n",
      "        \"h\": 84.54428100585938\n",
      "    },\n",
      "    \"video_id\": \"001\",\n",
      "    \"category_id\": 1.0,\n",
      "    \"track_id\": 39,\n",
      "    \"bbox_pitch\": {\n",
      "        \"x_bottom_left\": -43.69912750780262,\n",
      "        \"y_bottom_left\": -2.7721056755346716,\n",
      "        \"x_bottom_right\": -43.12946024441759,\n",
      "        \"y_bottom_right\": -3.173196750449311,\n",
      "        \"x_bottom_middle\": -43.41428372717808,\n",
      "        \"y_bottom_middle\": -2.9726583586475583\n",
      "    },\n",
      "    \"supercategory\": \"object\",\n",
      "    \"attributes\": {\n",
      "        \"role\": \"player\",\n",
      "        \"jersey\": \"33\",\n",
      "        \"team\": \"right\"\n",
      "    },\n",
      "    \"id\": \"10001\"\n",
      "}\n",
      "{\n",
      "    \"image_id\": \"4001000678\",\n",
      "    \"bbox_image\": {\n",
      "        \"x\": 1600.790771484375,\n",
      "        \"y\": 376.30133056640625,\n",
      "        \"w\": 56.398681640625,\n",
      "        \"h\": 145.02825927734375\n",
      "    },\n",
      "    \"video_id\": \"001\",\n",
      "    \"category_id\": 1.0,\n",
      "    \"track_id\": 51,\n",
      "    \"bbox_pitch\": {\n",
      "        \"x_bottom_left\": -32.8211549044231,\n",
      "        \"y_bottom_left\": -2.015808657948152,\n",
      "        \"x_bottom_right\": -32.2217871805735,\n",
      "        \"y_bottom_right\": -2.438443012241052,\n",
      "        \"x_bottom_middle\": -32.521459792389855,\n",
      "        \"y_bottom_middle\": -2.2271337679246956\n",
      "    },\n",
      "    \"supercategory\": \"object\",\n",
      "    \"attributes\": {\n",
      "        \"role\": \"player\",\n",
      "        \"jersey\": \"15\",\n",
      "        \"team\": \"right\"\n",
      "    },\n",
      "    \"id\": \"10002\"\n",
      "}\n",
      "{\n",
      "    \"image_id\": \"4001000678\",\n",
      "    \"bbox_image\": {\n",
      "        \"x\": 1637.463134765625,\n",
      "        \"y\": 390.8480529785156,\n",
      "        \"w\": 89.338623046875,\n",
      "        \"h\": 119.03009033203125\n",
      "    },\n",
      "    \"video_id\": \"001\",\n",
      "    \"category_id\": 1.0,\n",
      "    \"track_id\": 50,\n",
      "    \"bbox_pitch\": {\n",
      "        \"x_bottom_left\": -32.83653582775856,\n",
      "        \"y_bottom_left\": -2.9945759708816095,\n",
      "        \"x_bottom_right\": -31.87601889183149,\n",
      "        \"y_bottom_right\": -3.671749724620303,\n",
      "        \"x_bottom_middle\": -32.35624846703406,\n",
      "        \"y_bottom_middle\": -3.3331832174276066\n",
      "    },\n",
      "    \"supercategory\": \"object\",\n",
      "    \"attributes\": {\n",
      "        \"role\": \"player\",\n",
      "        \"jersey\": \"24\",\n",
      "        \"team\": \"left\"\n",
      "    },\n",
      "    \"id\": \"10003\"\n",
      "}\n",
      "{\n",
      "    \"image_id\": \"4001000679\",\n",
      "    \"bbox_image\": {\n",
      "        \"x\": 1111.7523193359375,\n",
      "        \"y\": 744.0640869140625,\n",
      "        \"w\": 84.136962890625,\n",
      "        \"h\": 191.5799560546875\n",
      "    },\n",
      "    \"video_id\": \"001\",\n",
      "    \"category_id\": 1.0,\n",
      "    \"track_id\": 21,\n",
      "    \"bbox_pitch\": {\n",
      "        \"x_bottom_left\": -26.462257691551994,\n",
      "        \"y_bottom_left\": 17.869629547052085,\n",
      "        \"x_bottom_right\": -25.844083863698597,\n",
      "        \"y_bottom_right\": 17.427942185126255,\n",
      "        \"x_bottom_middle\": -26.15302847084105,\n",
      "        \"y_bottom_middle\": 17.648684187394142\n",
      "    },\n",
      "    \"supercategory\": \"object\",\n",
      "    \"attributes\": {\n",
      "        \"role\": \"player\",\n",
      "        \"jersey\": \"2\",\n",
      "        \"team\": \"left\"\n",
      "    },\n",
      "    \"id\": \"10004\"\n",
      "}\n",
      "{\n",
      "    \"image_id\": \"4001000679\",\n",
      "    \"bbox_image\": {\n",
      "        \"x\": 1483.5267333984375,\n",
      "        \"y\": 588.9339599609375,\n",
      "        \"w\": 90.2628173828125,\n",
      "        \"h\": 137.68603515625\n",
      "    },\n",
      "    \"video_id\": \"001\",\n",
      "    \"category_id\": 1.0,\n",
      "    \"track_id\": 48,\n",
      "    \"bbox_pitch\": {\n",
      "        \"x_bottom_left\": -28.085147742989342,\n",
      "        \"y_bottom_left\": 8.848847235219553,\n",
      "        \"x_bottom_right\": -27.305298508523922,\n",
      "        \"y_bottom_right\": 8.303434282013798,\n",
      "        \"x_bottom_middle\": -27.694997166966353,\n",
      "        \"y_bottom_middle\": 8.57598272697971\n",
      "    },\n",
      "    \"supercategory\": \"object\",\n",
      "    \"attributes\": {\n",
      "        \"role\": \"player\",\n",
      "        \"jersey\": \"27\",\n",
      "        \"team\": \"right\"\n",
      "    },\n",
      "    \"id\": \"10005\"\n",
      "}\n",
      "{\n",
      "    \"image_id\": \"4001000679\",\n",
      "    \"bbox_image\": {\n",
      "        \"x\": 1078.22265625,\n",
      "        \"y\": 581.6691284179688,\n",
      "        \"w\": 80.431640625,\n",
      "        \"h\": 178.64288330078125\n",
      "    },\n",
      "    \"video_id\": \"001\",\n",
      "    \"category_id\": 1.0,\n",
      "    \"track_id\": 30,\n",
      "    \"bbox_pitch\": {\n",
      "        \"x_bottom_left\": -30.704095054393044,\n",
      "        \"y_bottom_left\": 12.557161521168625,\n",
      "        \"x_bottom_right\": -30.022401698820357,\n",
      "        \"y_bottom_right\": 12.078504268729377,\n",
      "        \"x_bottom_middle\": -30.363076400769696,\n",
      "        \"y_bottom_middle\": 12.317712140535079\n",
      "    },\n",
      "    \"supercategory\": \"object\",\n",
      "    \"attributes\": {\n",
      "        \"role\": \"player\",\n",
      "        \"jersey\": null,\n",
      "        \"team\": \"left\"\n",
      "    },\n",
      "    \"id\": \"10006\"\n",
      "}\n",
      "{\n",
      "    \"image_id\": \"4001000679\",\n",
      "    \"bbox_image\": {\n",
      "        \"x\": 737.5204467773438,\n",
      "        \"y\": 347.6208190917969,\n",
      "        \"w\": 61.87738037109375,\n",
      "        \"h\": 112.42398071289062\n",
      "    },\n",
      "    \"video_id\": \"001\",\n",
      "    \"category_id\": 1.0,\n",
      "    \"track_id\": 5,\n",
      "    \"bbox_pitch\": {\n",
      "        \"x_bottom_left\": -45.09520175365929,\n",
      "        \"y_bottom_left\": 0.833231643710001,\n",
      "        \"x_bottom_right\": -44.37696402176459,\n",
      "        \"y_bottom_right\": 0.35162759261121346,\n",
      "        \"x_bottom_middle\": -44.73589595617331,\n",
      "        \"y_bottom_middle\": 0.5923042738876974\n",
      "    },\n",
      "    \"supercategory\": \"object\",\n",
      "    \"attributes\": {\n",
      "        \"role\": \"player\",\n",
      "        \"jersey\": \"84\",\n",
      "        \"team\": \"left\"\n",
      "    },\n",
      "    \"id\": \"10007\"\n",
      "}\n",
      "{\n",
      "    \"image_id\": \"4001000681\",\n",
      "    \"bbox_image\": {\n",
      "        \"x\": 1132.7486572265625,\n",
      "        \"y\": 746.3876953125,\n",
      "        \"w\": 84.377197265625,\n",
      "        \"h\": 189.3431396484375\n",
      "    },\n",
      "    \"video_id\": \"001\",\n",
      "    \"category_id\": 1.0,\n",
      "    \"track_id\": 21,\n",
      "    \"bbox_pitch\": {\n",
      "        \"x_bottom_left\": -26.591170721133572,\n",
      "        \"y_bottom_left\": 17.642002505006026,\n",
      "        \"x_bottom_right\": -25.97810789342841,\n",
      "        \"y_bottom_right\": 17.189087194675047,\n",
      "        \"x_bottom_middle\": -26.284507259870196,\n",
      "        \"y_bottom_middle\": 17.41544729655344\n",
      "    },\n",
      "    \"supercategory\": \"object\",\n",
      "    \"attributes\": {\n",
      "        \"role\": \"player\",\n",
      "        \"jersey\": \"2\",\n",
      "        \"team\": \"left\"\n",
      "    },\n",
      "    \"id\": \"10008\"\n",
      "}\n",
      "{\n",
      "    \"image_id\": \"4001000681\",\n",
      "    \"bbox_image\": {\n",
      "        \"x\": 1468.823974609375,\n",
      "        \"y\": 585.1689453125,\n",
      "        \"w\": 111.60302734375,\n",
      "        \"h\": 140.95684814453125\n",
      "    },\n",
      "    \"video_id\": \"001\",\n",
      "    \"category_id\": 1.0,\n",
      "    \"track_id\": 48,\n",
      "    \"bbox_pitch\": {\n",
      "        \"x_bottom_left\": -28.507811993983694,\n",
      "        \"y_bottom_left\": 8.780859976752664,\n",
      "        \"x_bottom_right\": -27.5510673453271,\n",
      "        \"y_bottom_right\": 8.087816247361213,\n",
      "        \"x_bottom_middle\": -28.029118859279546,\n",
      "        \"y_bottom_middle\": 8.434105724429141\n",
      "    },\n",
      "    \"supercategory\": \"object\",\n",
      "    \"attributes\": {\n",
      "        \"role\": \"player\",\n",
      "        \"jersey\": \"27\",\n",
      "        \"team\": \"right\"\n",
      "    },\n",
      "    \"id\": \"10009\"\n",
      "}\n",
      "{\n",
      "    \"image_id\": \"4001000064\",\n",
      "    \"bbox_image\": {\n",
      "        \"x\": 972.9508666992188,\n",
      "        \"y\": 241.9221954345703,\n",
      "        \"w\": 45.69873046875,\n",
      "        \"h\": 101.77470397949219\n",
      "    },\n",
      "    \"video_id\": \"001\",\n",
      "    \"category_id\": 1.0,\n",
      "    \"track_id\": 12,\n",
      "    \"bbox_pitch\": {\n",
      "        \"x_bottom_left\": -0.8402936901347534,\n",
      "        \"y_bottom_left\": -9.724594122301477,\n",
      "        \"x_bottom_right\": -0.0035250581682402,\n",
      "        \"y_bottom_right\": -9.716912129290659,\n",
      "        \"x_bottom_middle\": -0.42174383533327364,\n",
      "        \"y_bottom_middle\": -9.720751606059313\n",
      "    },\n",
      "    \"supercategory\": \"object\",\n",
      "    \"attributes\": {\n",
      "        \"role\": \"player\",\n",
      "        \"jersey\": \"25\",\n",
      "        \"team\": \"right\"\n",
      "    },\n",
      "    \"id\": \"1001\"\n",
      "}\n",
      "{\n",
      "    \"image_id\": \"4001000681\",\n",
      "    \"bbox_image\": {\n",
      "        \"x\": 292.90277099609375,\n",
      "        \"y\": 362.4822692871094,\n",
      "        \"w\": 64.51809692382812,\n",
      "        \"h\": 132.66741943359375\n",
      "    },\n",
      "    \"video_id\": \"001\",\n",
      "    \"category_id\": 1.0,\n",
      "    \"track_id\": 46,\n",
      "    \"bbox_pitch\": {\n",
      "        \"x_bottom_left\": -48.55752865997506,\n",
      "        \"y_bottom_left\": 6.388267151568907,\n",
      "        \"x_bottom_right\": -47.833862461183166,\n",
      "        \"y_bottom_right\": 5.880741534340959,\n",
      "        \"x_bottom_middle\": -48.1955170658898,\n",
      "        \"y_bottom_middle\": 6.134379160063263\n",
      "    },\n",
      "    \"supercategory\": \"object\",\n",
      "    \"attributes\": {\n",
      "        \"role\": \"goalkeeper\",\n",
      "        \"jersey\": null,\n",
      "        \"team\": \"left\"\n",
      "    },\n",
      "    \"id\": \"10010\"\n",
      "}\n",
      "{\n",
      "    \"image_id\": \"4001000681\",\n",
      "    \"bbox_image\": {\n",
      "        \"x\": 1093.7037353515625,\n",
      "        \"y\": 584.947265625,\n",
      "        \"w\": 74.9263916015625,\n",
      "        \"h\": 178.12994384765625\n",
      "    },\n",
      "    \"video_id\": \"001\",\n",
      "    \"category_id\": 1.0,\n",
      "    \"track_id\": 30,\n",
      "    \"bbox_pitch\": {\n",
      "        \"x_bottom_left\": -30.75973566626444,\n",
      "        \"y_bottom_left\": 12.48248489103466,\n",
      "        \"x_bottom_right\": -30.132310361687548,\n",
      "        \"y_bottom_right\": 12.026178352895553,\n",
      "        \"x_bottom_middle\": -30.44588551116851,\n",
      "        \"y_bottom_middle\": 12.254231620531291\n",
      "    },\n",
      "    \"supercategory\": \"object\",\n",
      "    \"attributes\": {\n",
      "        \"role\": \"player\",\n",
      "        \"jersey\": null,\n",
      "        \"team\": \"left\"\n",
      "    },\n",
      "    \"id\": \"10011\"\n",
      "}\n",
      "{\n",
      "    \"image_id\": \"4001000681\",\n",
      "    \"bbox_image\": {\n",
      "        \"x\": 934.5518798828125,\n",
      "        \"y\": 355.9779968261719,\n",
      "        \"w\": 69.6551513671875,\n",
      "        \"h\": 83.430908203125\n",
      "    },\n",
      "    \"video_id\": \"001\",\n",
      "    \"category_id\": 1.0,\n",
      "    \"track_id\": 39,\n",
      "    \"bbox_pitch\": {\n",
      "        \"x_bottom_left\": -44.09268011312304,\n",
      "        \"y_bottom_left\": -2.0690842781264474,\n",
      "        \"x_bottom_right\": -43.27407223722362,\n",
      "        \"y_bottom_right\": -2.6372173452698493,\n",
      "        \"x_bottom_middle\": -43.683146359023496,\n",
      "        \"y_bottom_middle\": -2.3533103094967007\n",
      "    },\n",
      "    \"supercategory\": \"object\",\n",
      "    \"attributes\": {\n",
      "        \"role\": \"player\",\n",
      "        \"jersey\": \"33\",\n",
      "        \"team\": \"right\"\n",
      "    },\n",
      "    \"id\": \"10012\"\n",
      "}\n",
      "{\n",
      "    \"image_id\": \"4001000681\",\n",
      "    \"bbox_image\": {\n",
      "        \"x\": 1016.7987670898438,\n",
      "        \"y\": 543.4421997070312,\n",
      "        \"w\": 63.45074462890625,\n",
      "        \"h\": 176.25408935546875\n",
      "    },\n",
      "    \"video_id\": \"001\",\n",
      "    \"category_id\": 1.0,\n",
      "    \"track_id\": 42,\n",
      "    \"bbox_pitch\": {\n",
      "        \"x_bottom_left\": -32.59072454157145,\n",
      "        \"y_bottom_left\": 11.364176762021089,\n",
      "        \"x_bottom_right\": -32.037266990516635,\n",
      "        \"y_bottom_right\": 10.963553425771906,\n",
      "        \"x_bottom_middle\": -32.31388905136415,\n",
      "        \"y_bottom_middle\": 11.163787847880068\n",
      "    },\n",
      "    \"supercategory\": \"object\",\n",
      "    \"attributes\": {\n",
      "        \"role\": \"player\",\n",
      "        \"jersey\": \"90\",\n",
      "        \"team\": \"left\"\n",
      "    },\n",
      "    \"id\": \"10013\"\n",
      "}\n",
      "{\n",
      "    \"image_id\": \"4001000681\",\n",
      "    \"bbox_image\": {\n",
      "        \"x\": 1140.4603271484375,\n",
      "        \"y\": 351.1989440917969,\n",
      "        \"w\": 89.445556640625,\n",
      "        \"h\": 129.57440185546875\n",
      "    },\n",
      "    \"video_id\": \"001\",\n",
      "    \"category_id\": 1.0,\n",
      "    \"track_id\": 27,\n",
      "    \"bbox_pitch\": {\n",
      "        \"x_bottom_left\": -39.78232248997129,\n",
      "        \"y_bottom_left\": -1.0726182852051036,\n",
      "        \"x_bottom_right\": -38.788599526384296,\n",
      "        \"y_bottom_right\": -1.767750890452188,\n",
      "        \"x_bottom_middle\": -39.28512029619616,\n",
      "        \"y_bottom_middle\": -1.4204229238801522\n",
      "    },\n",
      "    \"supercategory\": \"object\",\n",
      "    \"attributes\": {\n",
      "        \"role\": \"player\",\n",
      "        \"jersey\": \"7\",\n",
      "        \"team\": \"left\"\n",
      "    },\n",
      "    \"id\": \"10014\"\n",
      "}\n",
      "{\n",
      "    \"image_id\": \"4001000681\",\n",
      "    \"bbox_image\": {\n",
      "        \"x\": 748.7456665039062,\n",
      "        \"y\": 351.69598388671875,\n",
      "        \"w\": 55.40924072265625,\n",
      "        \"h\": 112.685302734375\n",
      "    },\n",
      "    \"video_id\": \"001\",\n",
      "    \"category_id\": 1.0,\n",
      "    \"track_id\": 5,\n",
      "    \"bbox_pitch\": {\n",
      "        \"x_bottom_left\": -44.98246571721502,\n",
      "        \"y_bottom_left\": 1.0155018797165778,\n",
      "        \"x_bottom_right\": -44.346834262853015,\n",
      "        \"y_bottom_right\": 0.5722114075713586,\n",
      "        \"x_bottom_middle\": -44.66451161579207,\n",
      "        \"y_bottom_middle\": 0.793760141209059\n",
      "    },\n",
      "    \"supercategory\": \"object\",\n",
      "    \"attributes\": {\n",
      "        \"role\": \"player\",\n",
      "        \"jersey\": \"84\",\n",
      "        \"team\": \"left\"\n",
      "    },\n",
      "    \"id\": \"10015\"\n",
      "}\n",
      "{\n",
      "    \"image_id\": \"4001000681\",\n",
      "    \"bbox_image\": {\n",
      "        \"x\": 1596.482666015625,\n",
      "        \"y\": 474.9141540527344,\n",
      "        \"w\": 64.80029296875,\n",
      "        \"h\": 150.12612915039062\n",
      "    },\n",
      "    \"video_id\": \"001\",\n",
      "    \"category_id\": 1.0,\n",
      "    \"track_id\": 34,\n",
      "    \"bbox_pitch\": {\n",
      "        \"x_bottom_left\": -30.02152045090186,\n",
      "        \"y_bottom_left\": 3.5111157911824744,\n",
      "        \"x_bottom_right\": -29.412206382047557,\n",
      "        \"y_bottom_right\": 3.0751656224318733,\n",
      "        \"x_bottom_middle\": -29.716733605149763,\n",
      "        \"y_bottom_middle\": 3.2930478297969303\n",
      "    },\n",
      "    \"supercategory\": \"object\",\n",
      "    \"attributes\": {\n",
      "        \"role\": \"player\",\n",
      "        \"jersey\": \"7\",\n",
      "        \"team\": \"left\"\n",
      "    },\n",
      "    \"id\": \"10016\"\n",
      "}\n",
      "{\n",
      "    \"image_id\": \"4001000681\",\n",
      "    \"bbox_image\": {\n",
      "        \"x\": 1264.202880859375,\n",
      "        \"y\": 310.9354248046875,\n",
      "        \"w\": 82.9591064453125,\n",
      "        \"h\": 94.05441284179688\n",
      "    },\n",
      "    \"video_id\": \"001\",\n",
      "    \"category_id\": 1.0,\n",
      "    \"track_id\": 12,\n",
      "    \"bbox_pitch\": {\n",
      "        \"x_bottom_left\": -41.89284815444418,\n",
      "        \"y_bottom_left\": -7.209568525061181,\n",
      "        \"x_bottom_right\": -40.88623468361486,\n",
      "        \"y_bottom_right\": -7.903179495556957,\n",
      "        \"x_bottom_middle\": -41.38919282261338,\n",
      "        \"y_bottom_middle\": -7.556614212040441\n",
      "    },\n",
      "    \"supercategory\": \"object\",\n",
      "    \"attributes\": {\n",
      "        \"role\": \"player\",\n",
      "        \"jersey\": \"25\",\n",
      "        \"team\": \"right\"\n",
      "    },\n",
      "    \"id\": \"10017\"\n",
      "}\n",
      "{\n",
      "    \"image_id\": \"4001000681\",\n",
      "    \"bbox_image\": {\n",
      "        \"x\": 1038.94140625,\n",
      "        \"y\": 465.591796875,\n",
      "        \"w\": 65.876220703125,\n",
      "        \"h\": 147.78204345703125\n",
      "    },\n",
      "    \"video_id\": \"001\",\n",
      "    \"category_id\": 1.0,\n",
      "    \"track_id\": 45,\n",
      "    \"bbox_pitch\": {\n",
      "        \"x_bottom_left\": -35.702695664821,\n",
      "        \"y_bottom_left\": 6.758758174296473,\n",
      "        \"x_bottom_right\": -35.06667636524227,\n",
      "        \"y_bottom_right\": 6.304421835646589,\n",
      "        \"x_bottom_middle\": -35.38454568788344,\n",
      "        \"y_bottom_middle\": 6.531489763166337\n",
      "    },\n",
      "    \"supercategory\": \"object\",\n",
      "    \"attributes\": {\n",
      "        \"role\": \"player\",\n",
      "        \"jersey\": \"33\",\n",
      "        \"team\": \"left\"\n",
      "    },\n",
      "    \"id\": \"10018\"\n",
      "}\n",
      "{\n",
      "    \"image_id\": \"4001000681\",\n",
      "    \"bbox_image\": {\n",
      "        \"x\": 1218.29541015625,\n",
      "        \"y\": 339.9610595703125,\n",
      "        \"w\": 75.86962890625,\n",
      "        \"h\": 125.30911254882812\n",
      "    },\n",
      "    \"video_id\": \"001\",\n",
      "    \"category_id\": 1.0,\n",
      "    \"track_id\": 24,\n",
      "    \"bbox_pitch\": {\n",
      "        \"x_bottom_left\": -39.59144848695385,\n",
      "        \"y_bottom_left\": -2.6594275945755323,\n",
      "        \"x_bottom_right\": -38.73498194944408,\n",
      "        \"y_bottom_right\": -3.2568289987044627,\n",
      "        \"x_bottom_middle\": -39.16296208399519,\n",
      "        \"y_bottom_middle\": -2.9583048624743173\n",
      "    },\n",
      "    \"supercategory\": \"object\",\n",
      "    \"attributes\": {\n",
      "        \"role\": \"player\",\n",
      "        \"jersey\": null,\n",
      "        \"team\": \"left\"\n",
      "    },\n",
      "    \"id\": \"10019\"\n",
      "}\n",
      "{\n",
      "    \"image_id\": \"4001000064\",\n",
      "    \"bbox_image\": {\n",
      "        \"x\": 1610.6312255859375,\n",
      "        \"y\": 255.66270446777344,\n",
      "        \"w\": 36.4251708984375,\n",
      "        \"h\": 95.26545715332031\n",
      "    },\n",
      "    \"video_id\": \"001\",\n",
      "    \"category_id\": 1.0,\n",
      "    \"track_id\": 10,\n",
      "    \"bbox_pitch\": {\n",
      "        \"x_bottom_left\": 10.608603772787529,\n",
      "        \"y_bottom_left\": -8.9210947537714,\n",
      "        \"x_bottom_right\": 11.254613915856742,\n",
      "        \"y_bottom_right\": -8.91559519129224,\n",
      "        \"x_bottom_middle\": 10.931708581238855,\n",
      "        \"y_bottom_middle\": -8.918344123459388\n",
      "    },\n",
      "    \"supercategory\": \"object\",\n",
      "    \"attributes\": {\n",
      "        \"role\": \"player\",\n",
      "        \"jersey\": null,\n",
      "        \"team\": \"right\"\n",
      "    },\n",
      "    \"id\": \"1002\"\n",
      "}\n",
      "{\n",
      "    \"image_id\": \"4001000681\",\n",
      "    \"bbox_image\": {\n",
      "        \"x\": 1060.9229736328125,\n",
      "        \"y\": 392.07220458984375,\n",
      "        \"w\": 38.38916015625,\n",
      "        \"h\": 97.3780517578125\n",
      "    },\n",
      "    \"video_id\": \"001\",\n",
      "    \"category_id\": 1.0,\n",
      "    \"track_id\": 43,\n",
      "    \"bbox_pitch\": {\n",
      "        \"x_bottom_left\": -40.28347817745796,\n",
      "        \"y_bottom_left\": 0.07175771770202617,\n",
      "        \"x_bottom_right\": -39.859890579467134,\n",
      "        \"y_bottom_right\": -0.22501520014984644,\n",
      "        \"x_bottom_middle\": -40.07162253807008,\n",
      "        \"y_bottom_middle\": -0.07667206769002745\n",
      "    },\n",
      "    \"supercategory\": \"object\",\n",
      "    \"attributes\": {\n",
      "        \"role\": \"player\",\n",
      "        \"jersey\": null,\n",
      "        \"team\": \"left\"\n",
      "    },\n",
      "    \"id\": \"10020\"\n",
      "}\n",
      "{\n",
      "    \"image_id\": \"4001000681\",\n",
      "    \"bbox_image\": {\n",
      "        \"x\": 1628.7205810546875,\n",
      "        \"y\": 383.9058837890625,\n",
      "        \"w\": 60.796875,\n",
      "        \"h\": 144.68975830078125\n",
      "    },\n",
      "    \"video_id\": \"001\",\n",
      "    \"category_id\": 1.0,\n",
      "    \"track_id\": 51,\n",
      "    \"bbox_pitch\": {\n",
      "        \"x_bottom_left\": -32.68641992352478,\n",
      "        \"y_bottom_left\": -1.8755771553885618,\n",
      "        \"x_bottom_right\": -32.05529871483102,\n",
      "        \"y_bottom_right\": -2.3207187522849044,\n",
      "        \"x_bottom_middle\": -32.37072056480824,\n",
      "        \"y_bottom_middle\": -2.098245819889774\n",
      "    },\n",
      "    \"supercategory\": \"object\",\n",
      "    \"attributes\": {\n",
      "        \"role\": \"player\",\n",
      "        \"jersey\": \"15\",\n",
      "        \"team\": \"right\"\n",
      "    },\n",
      "    \"id\": \"10021\"\n",
      "}\n",
      "{\n",
      "    \"image_id\": \"4001000682\",\n",
      "    \"bbox_image\": {\n",
      "        \"x\": 1148.4935302734375,\n",
      "        \"y\": 747.0675659179688,\n",
      "        \"w\": 80.408935546875,\n",
      "        \"h\": 190.072265625\n",
      "    },\n",
      "    \"video_id\": \"001\",\n",
      "    \"category_id\": 1.0,\n",
      "    \"track_id\": 21,\n",
      "    \"bbox_pitch\": {\n",
      "        \"x_bottom_left\": -26.541257878080607,\n",
      "        \"y_bottom_left\": 17.720790705066566,\n",
      "        \"x_bottom_right\": -25.961689880079916,\n",
      "        \"y_bottom_right\": 17.29785049051861,\n",
      "        \"x_bottom_middle\": -26.25141071859815,\n",
      "        \"y_bottom_middle\": 17.509274506379764\n",
      "    },\n",
      "    \"supercategory\": \"object\",\n",
      "    \"attributes\": {\n",
      "        \"role\": \"player\",\n",
      "        \"jersey\": \"2\",\n",
      "        \"team\": \"left\"\n",
      "    },\n",
      "    \"id\": \"10022\"\n",
      "}\n"
     ]
    }
   ],
   "source": [
    "for prediction in predictions[:30]:\n",
    "    print(json.dumps(prediction, indent=4))"
   ]
  },
  {
   "cell_type": "code",
   "execution_count": 4,
   "metadata": {},
   "outputs": [
    {
     "name": "stdout",
     "output_type": "stream",
     "text": [
      "Obtaining file:///Users/dariogod/coding/ugent/thesis_playground/invoke_gamestate/visualization\n",
      "  Installing build dependencies ... \u001b[?25ldone\n",
      "\u001b[?25h  Checking if build backend supports build_editable ... \u001b[?25ldone\n",
      "\u001b[?25h  Getting requirements to build editable ... \u001b[?25ldone\n",
      "\u001b[?25h  Preparing editable metadata (pyproject.toml) ... \u001b[?25ldone\n",
      "\u001b[?25hRequirement already satisfied: numpy in /Users/dariogod/.pyenv/versions/3.11.9/lib/python3.11/site-packages (from visualization==0.0.1) (1.26.4)\n",
      "Requirement already satisfied: opencv-python in /Users/dariogod/.pyenv/versions/3.11.9/lib/python3.11/site-packages (from visualization==0.0.1) (4.11.0.86)\n",
      "Requirement already satisfied: pydantic in /Users/dariogod/.pyenv/versions/3.11.9/lib/python3.11/site-packages (from visualization==0.0.1) (2.8.2)\n",
      "Requirement already satisfied: tqdm in /Users/dariogod/.pyenv/versions/3.11.9/lib/python3.11/site-packages (from visualization==0.0.1) (4.65.0)\n",
      "Requirement already satisfied: annotated-types>=0.4.0 in /Users/dariogod/.pyenv/versions/3.11.9/lib/python3.11/site-packages (from pydantic->visualization==0.0.1) (0.7.0)\n",
      "Requirement already satisfied: pydantic-core==2.20.1 in /Users/dariogod/.pyenv/versions/3.11.9/lib/python3.11/site-packages (from pydantic->visualization==0.0.1) (2.20.1)\n",
      "Requirement already satisfied: typing-extensions>=4.6.1 in /Users/dariogod/.pyenv/versions/3.11.9/lib/python3.11/site-packages (from pydantic->visualization==0.0.1) (4.12.2)\n",
      "Building wheels for collected packages: visualization\n",
      "  Building editable for visualization (pyproject.toml) ... \u001b[?25ldone\n",
      "\u001b[?25h  Created wheel for visualization: filename=visualization-0.0.1-0.editable-py3-none-any.whl size=2771 sha256=d4360627bf76faf2880d12ca6713896ece51d1cdff21dc5cf35c22927ef5f109\n",
      "  Stored in directory: /private/var/folders/6l/p6zt7z7j3qz18vr9n_6dpf3w0000gn/T/pip-ephem-wheel-cache-b7ki51mn/wheels/04/f6/2c/685b13e65d0683e01515b854ce058514aef692573ea731d26c\n",
      "Successfully built visualization\n",
      "Installing collected packages: visualization\n",
      "  Attempting uninstall: visualization\n",
      "    Found existing installation: visualization 0.0.1\n",
      "    Uninstalling visualization-0.0.1:\n",
      "      Successfully uninstalled visualization-0.0.1\n",
      "Successfully installed visualization-0.0.1\n"
     ]
    }
   ],
   "source": [
    "!pip install -e visualization/ "
   ]
  },
  {
   "cell_type": "code",
   "execution_count": 6,
   "metadata": {},
   "outputs": [
    {
     "name": "stdout",
     "output_type": "stream",
     "text": [
      "Processing 126 frames ...\n"
     ]
    },
    {
     "name": "stderr",
     "output_type": "stream",
     "text": [
      "Processing frames: 100%|██████████| 126/126 [00:03<00:00, 41.61it/s]\n"
     ]
    },
    {
     "name": "stdout",
     "output_type": "stream",
     "text": [
      "Completed! All frames saved to visualization/output/action_1670/frames\n",
      "Creating video from 126 frames...\n"
     ]
    },
    {
     "name": "stderr",
     "output_type": "stream",
     "text": [
      "Creating video: 100%|██████████| 126/126 [00:01<00:00, 95.91it/s]\n"
     ]
    },
    {
     "name": "stdout",
     "output_type": "stream",
     "text": [
      "Video created successfully: visualization/output/action_1670/video/action_1670.mp4\n",
      "Visualization completed for data/gamestate_output/action_1670.json\n",
      "Frames saved to visualization/output/action_1670/frames\n",
      "Video saved to visualization/output/action_1670/video/action_1670.mp4\n",
      "Processing 126 frames ...\n"
     ]
    },
    {
     "name": "stderr",
     "output_type": "stream",
     "text": [
      "Processing frames: 100%|██████████| 126/126 [00:02<00:00, 45.82it/s]\n"
     ]
    },
    {
     "name": "stdout",
     "output_type": "stream",
     "text": [
      "Completed! All frames saved to visualization/output/action_1959/frames\n",
      "Creating video from 126 frames...\n"
     ]
    },
    {
     "name": "stderr",
     "output_type": "stream",
     "text": [
      "Creating video: 100%|██████████| 126/126 [00:01<00:00, 92.28it/s]\n"
     ]
    },
    {
     "name": "stdout",
     "output_type": "stream",
     "text": [
      "Video created successfully: visualization/output/action_1959/video/action_1959.mp4\n",
      "Visualization completed for data/gamestate_output/action_1959.json\n",
      "Frames saved to visualization/output/action_1959/frames\n",
      "Video saved to visualization/output/action_1959/video/action_1959.mp4\n",
      "Processing 126 frames ...\n"
     ]
    },
    {
     "name": "stderr",
     "output_type": "stream",
     "text": [
      "Processing frames: 100%|██████████| 126/126 [00:02<00:00, 45.01it/s]\n"
     ]
    },
    {
     "name": "stdout",
     "output_type": "stream",
     "text": [
      "Completed! All frames saved to visualization/output/action_1631/frames\n",
      "Creating video from 126 frames...\n"
     ]
    },
    {
     "name": "stderr",
     "output_type": "stream",
     "text": [
      "Creating video: 100%|██████████| 126/126 [00:01<00:00, 95.01it/s]\n"
     ]
    },
    {
     "name": "stdout",
     "output_type": "stream",
     "text": [
      "Video created successfully: visualization/output/action_1631/video/action_1631.mp4\n",
      "Visualization completed for data/gamestate_output/action_1631.json\n",
      "Frames saved to visualization/output/action_1631/frames\n",
      "Video saved to visualization/output/action_1631/video/action_1631.mp4\n",
      "Processing 126 frames ...\n"
     ]
    },
    {
     "name": "stderr",
     "output_type": "stream",
     "text": [
      "Processing frames: 100%|██████████| 126/126 [00:02<00:00, 42.47it/s]\n"
     ]
    },
    {
     "name": "stdout",
     "output_type": "stream",
     "text": [
      "Completed! All frames saved to visualization/output/action_1774/frames\n",
      "Creating video from 126 frames...\n"
     ]
    },
    {
     "name": "stderr",
     "output_type": "stream",
     "text": [
      "Creating video: 100%|██████████| 126/126 [00:01<00:00, 95.00it/s]\n"
     ]
    },
    {
     "name": "stdout",
     "output_type": "stream",
     "text": [
      "Video created successfully: visualization/output/action_1774/video/action_1774.mp4\n",
      "Visualization completed for data/gamestate_output/action_1774.json\n",
      "Frames saved to visualization/output/action_1774/frames\n",
      "Video saved to visualization/output/action_1774/video/action_1774.mp4\n",
      "Processing 126 frames ...\n"
     ]
    },
    {
     "name": "stderr",
     "output_type": "stream",
     "text": [
      "Processing frames: 100%|██████████| 126/126 [00:03<00:00, 40.75it/s]\n"
     ]
    },
    {
     "name": "stdout",
     "output_type": "stream",
     "text": [
      "Completed! All frames saved to visualization/output/action_1975/frames\n",
      "Creating video from 126 frames...\n"
     ]
    },
    {
     "name": "stderr",
     "output_type": "stream",
     "text": [
      "Creating video: 100%|██████████| 126/126 [00:01<00:00, 93.28it/s]\n"
     ]
    },
    {
     "name": "stdout",
     "output_type": "stream",
     "text": [
      "Video created successfully: visualization/output/action_1975/video/action_1975.mp4\n",
      "Visualization completed for data/gamestate_output/action_1975.json\n",
      "Frames saved to visualization/output/action_1975/frames\n",
      "Video saved to visualization/output/action_1975/video/action_1975.mp4\n",
      "Processing 126 frames ...\n"
     ]
    },
    {
     "name": "stderr",
     "output_type": "stream",
     "text": [
      "Processing frames: 100%|██████████| 126/126 [00:02<00:00, 45.43it/s]\n"
     ]
    },
    {
     "name": "stdout",
     "output_type": "stream",
     "text": [
      "Completed! All frames saved to visualization/output/action_1871/frames\n",
      "Creating video from 126 frames...\n"
     ]
    },
    {
     "name": "stderr",
     "output_type": "stream",
     "text": [
      "Creating video: 100%|██████████| 126/126 [00:01<00:00, 90.22it/s]\n"
     ]
    },
    {
     "name": "stdout",
     "output_type": "stream",
     "text": [
      "Video created successfully: visualization/output/action_1871/video/action_1871.mp4\n",
      "Visualization completed for data/gamestate_output/action_1871.json\n",
      "Frames saved to visualization/output/action_1871/frames\n",
      "Video saved to visualization/output/action_1871/video/action_1871.mp4\n",
      "Processing 126 frames ...\n"
     ]
    },
    {
     "name": "stderr",
     "output_type": "stream",
     "text": [
      "Processing frames: 100%|██████████| 126/126 [00:02<00:00, 54.23it/s]\n"
     ]
    },
    {
     "name": "stdout",
     "output_type": "stream",
     "text": [
      "Completed! All frames saved to visualization/output/action_1963/frames\n",
      "Creating video from 126 frames...\n"
     ]
    },
    {
     "name": "stderr",
     "output_type": "stream",
     "text": [
      "Creating video: 100%|██████████| 126/126 [00:01<00:00, 91.88it/s]\n"
     ]
    },
    {
     "name": "stdout",
     "output_type": "stream",
     "text": [
      "Video created successfully: visualization/output/action_1963/video/action_1963.mp4\n",
      "Visualization completed for data/gamestate_output/action_1963.json\n",
      "Frames saved to visualization/output/action_1963/frames\n",
      "Video saved to visualization/output/action_1963/video/action_1963.mp4\n",
      "Processing 126 frames ...\n"
     ]
    },
    {
     "name": "stderr",
     "output_type": "stream",
     "text": [
      "Processing frames: 100%|██████████| 126/126 [00:02<00:00, 46.91it/s]\n"
     ]
    },
    {
     "name": "stdout",
     "output_type": "stream",
     "text": [
      "Completed! All frames saved to visualization/output/action_1943/frames\n",
      "Creating video from 126 frames...\n"
     ]
    },
    {
     "name": "stderr",
     "output_type": "stream",
     "text": [
      "Creating video: 100%|██████████| 126/126 [00:01<00:00, 93.07it/s]\n"
     ]
    },
    {
     "name": "stdout",
     "output_type": "stream",
     "text": [
      "Video created successfully: visualization/output/action_1943/video/action_1943.mp4\n",
      "Visualization completed for data/gamestate_output/action_1943.json\n",
      "Frames saved to visualization/output/action_1943/frames\n",
      "Video saved to visualization/output/action_1943/video/action_1943.mp4\n",
      "Processing 126 frames ...\n"
     ]
    },
    {
     "name": "stderr",
     "output_type": "stream",
     "text": [
      "Processing frames: 100%|██████████| 126/126 [00:03<00:00, 38.80it/s]\n"
     ]
    },
    {
     "name": "stdout",
     "output_type": "stream",
     "text": [
      "Completed! All frames saved to visualization/output/action_1806/frames\n",
      "Creating video from 126 frames...\n"
     ]
    },
    {
     "name": "stderr",
     "output_type": "stream",
     "text": [
      "Creating video: 100%|██████████| 126/126 [00:01<00:00, 90.79it/s]\n"
     ]
    },
    {
     "name": "stdout",
     "output_type": "stream",
     "text": [
      "Video created successfully: visualization/output/action_1806/video/action_1806.mp4\n",
      "Visualization completed for data/gamestate_output/action_1806.json\n",
      "Frames saved to visualization/output/action_1806/frames\n",
      "Video saved to visualization/output/action_1806/video/action_1806.mp4\n",
      "Processing 126 frames ...\n"
     ]
    },
    {
     "name": "stderr",
     "output_type": "stream",
     "text": [
      "Processing frames: 100%|██████████| 126/126 [00:02<00:00, 43.08it/s]\n"
     ]
    },
    {
     "name": "stdout",
     "output_type": "stream",
     "text": [
      "Completed! All frames saved to visualization/output/action_1390/frames\n",
      "Creating video from 126 frames...\n"
     ]
    },
    {
     "name": "stderr",
     "output_type": "stream",
     "text": [
      "Creating video: 100%|██████████| 126/126 [00:01<00:00, 90.48it/s]\n"
     ]
    },
    {
     "name": "stdout",
     "output_type": "stream",
     "text": [
      "Video created successfully: visualization/output/action_1390/video/action_1390.mp4\n",
      "Visualization completed for data/gamestate_output/action_1390.json\n",
      "Frames saved to visualization/output/action_1390/frames\n",
      "Video saved to visualization/output/action_1390/video/action_1390.mp4\n",
      "Processing 126 frames ...\n"
     ]
    },
    {
     "name": "stderr",
     "output_type": "stream",
     "text": [
      "Processing frames: 100%|██████████| 126/126 [00:02<00:00, 54.73it/s]\n"
     ]
    },
    {
     "name": "stdout",
     "output_type": "stream",
     "text": [
      "Completed! All frames saved to visualization/output/action_1685/frames\n",
      "Creating video from 126 frames...\n"
     ]
    },
    {
     "name": "stderr",
     "output_type": "stream",
     "text": [
      "Creating video: 100%|██████████| 126/126 [00:01<00:00, 88.46it/s]\n"
     ]
    },
    {
     "name": "stdout",
     "output_type": "stream",
     "text": [
      "Video created successfully: visualization/output/action_1685/video/action_1685.mp4\n",
      "Visualization completed for data/gamestate_output/action_1685.json\n",
      "Frames saved to visualization/output/action_1685/frames\n",
      "Video saved to visualization/output/action_1685/video/action_1685.mp4\n",
      "Processing 126 frames ...\n"
     ]
    },
    {
     "name": "stderr",
     "output_type": "stream",
     "text": [
      "Processing frames: 100%|██████████| 126/126 [00:02<00:00, 45.79it/s]\n"
     ]
    },
    {
     "name": "stdout",
     "output_type": "stream",
     "text": [
      "Completed! All frames saved to visualization/output/action_1778/frames\n",
      "Creating video from 126 frames...\n"
     ]
    },
    {
     "name": "stderr",
     "output_type": "stream",
     "text": [
      "Creating video: 100%|██████████| 126/126 [00:01<00:00, 91.18it/s]\n"
     ]
    },
    {
     "name": "stdout",
     "output_type": "stream",
     "text": [
      "Video created successfully: visualization/output/action_1778/video/action_1778.mp4\n",
      "Visualization completed for data/gamestate_output/action_1778.json\n",
      "Frames saved to visualization/output/action_1778/frames\n",
      "Video saved to visualization/output/action_1778/video/action_1778.mp4\n",
      "Processing 126 frames ...\n"
     ]
    },
    {
     "name": "stderr",
     "output_type": "stream",
     "text": [
      "Processing frames: 100%|██████████| 126/126 [00:02<00:00, 47.53it/s]\n"
     ]
    },
    {
     "name": "stdout",
     "output_type": "stream",
     "text": [
      "Completed! All frames saved to visualization/output/action_1611/frames\n",
      "Creating video from 126 frames...\n"
     ]
    },
    {
     "name": "stderr",
     "output_type": "stream",
     "text": [
      "Creating video: 100%|██████████| 126/126 [00:01<00:00, 90.89it/s]\n"
     ]
    },
    {
     "name": "stdout",
     "output_type": "stream",
     "text": [
      "Video created successfully: visualization/output/action_1611/video/action_1611.mp4\n",
      "Visualization completed for data/gamestate_output/action_1611.json\n",
      "Frames saved to visualization/output/action_1611/frames\n",
      "Video saved to visualization/output/action_1611/video/action_1611.mp4\n",
      "Processing 126 frames ...\n"
     ]
    },
    {
     "name": "stderr",
     "output_type": "stream",
     "text": [
      "Processing frames: 100%|██████████| 126/126 [00:02<00:00, 50.20it/s]\n"
     ]
    },
    {
     "name": "stdout",
     "output_type": "stream",
     "text": [
      "Completed! All frames saved to visualization/output/action_1492/frames\n",
      "Creating video from 126 frames...\n"
     ]
    },
    {
     "name": "stderr",
     "output_type": "stream",
     "text": [
      "Creating video: 100%|██████████| 126/126 [00:01<00:00, 91.17it/s]\n"
     ]
    },
    {
     "name": "stdout",
     "output_type": "stream",
     "text": [
      "Video created successfully: visualization/output/action_1492/video/action_1492.mp4\n",
      "Visualization completed for data/gamestate_output/action_1492.json\n",
      "Frames saved to visualization/output/action_1492/frames\n",
      "Video saved to visualization/output/action_1492/video/action_1492.mp4\n",
      "Processing 126 frames ...\n"
     ]
    },
    {
     "name": "stderr",
     "output_type": "stream",
     "text": [
      "Processing frames: 100%|██████████| 126/126 [00:03<00:00, 41.12it/s]\n"
     ]
    },
    {
     "name": "stdout",
     "output_type": "stream",
     "text": [
      "Completed! All frames saved to visualization/output/action_1485/frames\n",
      "Creating video from 126 frames...\n"
     ]
    },
    {
     "name": "stderr",
     "output_type": "stream",
     "text": [
      "Creating video: 100%|██████████| 126/126 [00:01<00:00, 83.46it/s]\n"
     ]
    },
    {
     "name": "stdout",
     "output_type": "stream",
     "text": [
      "Video created successfully: visualization/output/action_1485/video/action_1485.mp4\n",
      "Visualization completed for data/gamestate_output/action_1485.json\n",
      "Frames saved to visualization/output/action_1485/frames\n",
      "Video saved to visualization/output/action_1485/video/action_1485.mp4\n",
      "Processing 126 frames ...\n"
     ]
    },
    {
     "name": "stderr",
     "output_type": "stream",
     "text": [
      "Processing frames: 100%|██████████| 126/126 [00:02<00:00, 43.02it/s]\n"
     ]
    },
    {
     "name": "stdout",
     "output_type": "stream",
     "text": [
      "Completed! All frames saved to visualization/output/action_20/frames\n",
      "Creating video from 126 frames...\n"
     ]
    },
    {
     "name": "stderr",
     "output_type": "stream",
     "text": [
      "Creating video: 100%|██████████| 126/126 [00:01<00:00, 85.91it/s]\n"
     ]
    },
    {
     "name": "stdout",
     "output_type": "stream",
     "text": [
      "Video created successfully: visualization/output/action_20/video/action_20.mp4\n",
      "Visualization completed for data/gamestate_output/action_20.json\n",
      "Frames saved to visualization/output/action_20/frames\n",
      "Video saved to visualization/output/action_20/video/action_20.mp4\n",
      "Processing 126 frames ...\n"
     ]
    },
    {
     "name": "stderr",
     "output_type": "stream",
     "text": [
      "Processing frames: 100%|██████████| 126/126 [00:03<00:00, 41.96it/s]\n"
     ]
    },
    {
     "name": "stdout",
     "output_type": "stream",
     "text": [
      "Completed! All frames saved to visualization/output/action_1581/frames\n",
      "Creating video from 126 frames...\n"
     ]
    },
    {
     "name": "stderr",
     "output_type": "stream",
     "text": [
      "Creating video: 100%|██████████| 126/126 [00:01<00:00, 87.09it/s]\n"
     ]
    },
    {
     "name": "stdout",
     "output_type": "stream",
     "text": [
      "Video created successfully: visualization/output/action_1581/video/action_1581.mp4\n",
      "Visualization completed for data/gamestate_output/action_1581.json\n",
      "Frames saved to visualization/output/action_1581/frames\n",
      "Video saved to visualization/output/action_1581/video/action_1581.mp4\n",
      "Processing 126 frames ...\n"
     ]
    },
    {
     "name": "stderr",
     "output_type": "stream",
     "text": [
      "Processing frames: 100%|██████████| 126/126 [00:02<00:00, 49.59it/s]\n"
     ]
    },
    {
     "name": "stdout",
     "output_type": "stream",
     "text": [
      "Completed! All frames saved to visualization/output/action_1407/frames\n",
      "Creating video from 126 frames...\n"
     ]
    },
    {
     "name": "stderr",
     "output_type": "stream",
     "text": [
      "Creating video: 100%|██████████| 126/126 [00:01<00:00, 91.77it/s]\n"
     ]
    },
    {
     "name": "stdout",
     "output_type": "stream",
     "text": [
      "Video created successfully: visualization/output/action_1407/video/action_1407.mp4\n",
      "Visualization completed for data/gamestate_output/action_1407.json\n",
      "Frames saved to visualization/output/action_1407/frames\n",
      "Video saved to visualization/output/action_1407/video/action_1407.mp4\n",
      "Processing 126 frames ...\n"
     ]
    },
    {
     "name": "stderr",
     "output_type": "stream",
     "text": [
      "Processing frames: 100%|██████████| 126/126 [00:02<00:00, 48.27it/s]\n"
     ]
    },
    {
     "name": "stdout",
     "output_type": "stream",
     "text": [
      "Completed! All frames saved to visualization/output/action_1542/frames\n",
      "Creating video from 126 frames...\n"
     ]
    },
    {
     "name": "stderr",
     "output_type": "stream",
     "text": [
      "Creating video: 100%|██████████| 126/126 [00:01<00:00, 89.61it/s]\n"
     ]
    },
    {
     "name": "stdout",
     "output_type": "stream",
     "text": [
      "Video created successfully: visualization/output/action_1542/video/action_1542.mp4\n",
      "Visualization completed for data/gamestate_output/action_1542.json\n",
      "Frames saved to visualization/output/action_1542/frames\n",
      "Video saved to visualization/output/action_1542/video/action_1542.mp4\n",
      "Processing 126 frames ...\n"
     ]
    },
    {
     "name": "stderr",
     "output_type": "stream",
     "text": [
      "Processing frames: 100%|██████████| 126/126 [00:02<00:00, 46.85it/s]\n"
     ]
    },
    {
     "name": "stdout",
     "output_type": "stream",
     "text": [
      "Completed! All frames saved to visualization/output/action_1523/frames\n",
      "Creating video from 126 frames...\n"
     ]
    },
    {
     "name": "stderr",
     "output_type": "stream",
     "text": [
      "Creating video: 100%|██████████| 126/126 [00:01<00:00, 88.17it/s]\n"
     ]
    },
    {
     "name": "stdout",
     "output_type": "stream",
     "text": [
      "Video created successfully: visualization/output/action_1523/video/action_1523.mp4\n",
      "Visualization completed for data/gamestate_output/action_1523.json\n",
      "Frames saved to visualization/output/action_1523/frames\n",
      "Video saved to visualization/output/action_1523/video/action_1523.mp4\n",
      "Processing 126 frames ...\n"
     ]
    },
    {
     "name": "stderr",
     "output_type": "stream",
     "text": [
      "Processing frames: 100%|██████████| 126/126 [00:02<00:00, 44.72it/s]\n"
     ]
    },
    {
     "name": "stdout",
     "output_type": "stream",
     "text": [
      "Completed! All frames saved to visualization/output/action_1466/frames\n",
      "Creating video from 126 frames...\n"
     ]
    },
    {
     "name": "stderr",
     "output_type": "stream",
     "text": [
      "Creating video: 100%|██████████| 126/126 [00:01<00:00, 89.04it/s]\n"
     ]
    },
    {
     "name": "stdout",
     "output_type": "stream",
     "text": [
      "Video created successfully: visualization/output/action_1466/video/action_1466.mp4\n",
      "Visualization completed for data/gamestate_output/action_1466.json\n",
      "Frames saved to visualization/output/action_1466/frames\n",
      "Video saved to visualization/output/action_1466/video/action_1466.mp4\n",
      "Processing 126 frames ...\n"
     ]
    },
    {
     "name": "stderr",
     "output_type": "stream",
     "text": [
      "Processing frames: 100%|██████████| 126/126 [00:03<00:00, 36.23it/s]\n"
     ]
    },
    {
     "name": "stdout",
     "output_type": "stream",
     "text": [
      "Completed! All frames saved to visualization/output/action_1923/frames\n",
      "Creating video from 126 frames...\n"
     ]
    },
    {
     "name": "stderr",
     "output_type": "stream",
     "text": [
      "Creating video: 100%|██████████| 126/126 [00:01<00:00, 89.00it/s]\n"
     ]
    },
    {
     "name": "stdout",
     "output_type": "stream",
     "text": [
      "Video created successfully: visualization/output/action_1923/video/action_1923.mp4\n",
      "Visualization completed for data/gamestate_output/action_1923.json\n",
      "Frames saved to visualization/output/action_1923/frames\n",
      "Video saved to visualization/output/action_1923/video/action_1923.mp4\n",
      "Processing 126 frames ...\n"
     ]
    },
    {
     "name": "stderr",
     "output_type": "stream",
     "text": [
      "Processing frames: 100%|██████████| 126/126 [00:02<00:00, 47.20it/s]\n"
     ]
    },
    {
     "name": "stdout",
     "output_type": "stream",
     "text": [
      "Completed! All frames saved to visualization/output/action_1380/frames\n",
      "Creating video from 126 frames...\n"
     ]
    },
    {
     "name": "stderr",
     "output_type": "stream",
     "text": [
      "Creating video: 100%|██████████| 126/126 [00:01<00:00, 83.08it/s]\n"
     ]
    },
    {
     "name": "stdout",
     "output_type": "stream",
     "text": [
      "Video created successfully: visualization/output/action_1380/video/action_1380.mp4\n",
      "Visualization completed for data/gamestate_output/action_1380.json\n",
      "Frames saved to visualization/output/action_1380/frames\n",
      "Video saved to visualization/output/action_1380/video/action_1380.mp4\n",
      "Processing 126 frames ...\n"
     ]
    },
    {
     "name": "stderr",
     "output_type": "stream",
     "text": [
      "Processing frames: 100%|██████████| 126/126 [00:03<00:00, 40.46it/s]\n"
     ]
    },
    {
     "name": "stdout",
     "output_type": "stream",
     "text": [
      "Completed! All frames saved to visualization/output/action_1400/frames\n",
      "Creating video from 126 frames...\n"
     ]
    },
    {
     "name": "stderr",
     "output_type": "stream",
     "text": [
      "Creating video: 100%|██████████| 126/126 [00:01<00:00, 84.86it/s]\n"
     ]
    },
    {
     "name": "stdout",
     "output_type": "stream",
     "text": [
      "Video created successfully: visualization/output/action_1400/video/action_1400.mp4\n",
      "Visualization completed for data/gamestate_output/action_1400.json\n",
      "Frames saved to visualization/output/action_1400/frames\n",
      "Video saved to visualization/output/action_1400/video/action_1400.mp4\n",
      "Processing 126 frames ...\n"
     ]
    },
    {
     "name": "stderr",
     "output_type": "stream",
     "text": [
      "Processing frames: 100%|██████████| 126/126 [00:02<00:00, 44.25it/s]\n"
     ]
    },
    {
     "name": "stdout",
     "output_type": "stream",
     "text": [
      "Completed! All frames saved to visualization/output/action_1545/frames\n",
      "Creating video from 126 frames...\n"
     ]
    },
    {
     "name": "stderr",
     "output_type": "stream",
     "text": [
      "Creating video: 100%|██████████| 126/126 [00:01<00:00, 90.94it/s]\n"
     ]
    },
    {
     "name": "stdout",
     "output_type": "stream",
     "text": [
      "Video created successfully: visualization/output/action_1545/video/action_1545.mp4\n",
      "Visualization completed for data/gamestate_output/action_1545.json\n",
      "Frames saved to visualization/output/action_1545/frames\n",
      "Video saved to visualization/output/action_1545/video/action_1545.mp4\n",
      "Processing 126 frames ...\n"
     ]
    },
    {
     "name": "stderr",
     "output_type": "stream",
     "text": [
      "Processing frames: 100%|██████████| 126/126 [00:02<00:00, 47.15it/s]\n"
     ]
    },
    {
     "name": "stdout",
     "output_type": "stream",
     "text": [
      "Completed! All frames saved to visualization/output/action_1816/frames\n",
      "Creating video from 126 frames...\n"
     ]
    },
    {
     "name": "stderr",
     "output_type": "stream",
     "text": [
      "Creating video: 100%|██████████| 126/126 [00:01<00:00, 89.24it/s]\n"
     ]
    },
    {
     "name": "stdout",
     "output_type": "stream",
     "text": [
      "Video created successfully: visualization/output/action_1816/video/action_1816.mp4\n",
      "Visualization completed for data/gamestate_output/action_1816.json\n",
      "Frames saved to visualization/output/action_1816/frames\n",
      "Video saved to visualization/output/action_1816/video/action_1816.mp4\n",
      "Processing 126 frames ...\n"
     ]
    },
    {
     "name": "stderr",
     "output_type": "stream",
     "text": [
      "Processing frames: 100%|██████████| 126/126 [00:02<00:00, 55.27it/s]\n"
     ]
    },
    {
     "name": "stdout",
     "output_type": "stream",
     "text": [
      "Completed! All frames saved to visualization/output/action_2017/frames\n",
      "Creating video from 126 frames...\n"
     ]
    },
    {
     "name": "stderr",
     "output_type": "stream",
     "text": [
      "Creating video: 100%|██████████| 126/126 [00:01<00:00, 90.37it/s]\n"
     ]
    },
    {
     "name": "stdout",
     "output_type": "stream",
     "text": [
      "Video created successfully: visualization/output/action_2017/video/action_2017.mp4\n",
      "Visualization completed for data/gamestate_output/action_2017.json\n",
      "Frames saved to visualization/output/action_2017/frames\n",
      "Video saved to visualization/output/action_2017/video/action_2017.mp4\n",
      "Processing 126 frames ...\n"
     ]
    },
    {
     "name": "stderr",
     "output_type": "stream",
     "text": [
      "Processing frames: 100%|██████████| 126/126 [00:03<00:00, 40.30it/s]\n"
     ]
    },
    {
     "name": "stdout",
     "output_type": "stream",
     "text": [
      "Completed! All frames saved to visualization/output/action_2083/frames\n",
      "Creating video from 126 frames...\n"
     ]
    },
    {
     "name": "stderr",
     "output_type": "stream",
     "text": [
      "Creating video: 100%|██████████| 126/126 [00:01<00:00, 89.18it/s]\n"
     ]
    },
    {
     "name": "stdout",
     "output_type": "stream",
     "text": [
      "Video created successfully: visualization/output/action_2083/video/action_2083.mp4\n",
      "Visualization completed for data/gamestate_output/action_2083.json\n",
      "Frames saved to visualization/output/action_2083/frames\n",
      "Video saved to visualization/output/action_2083/video/action_2083.mp4\n",
      "Processing 126 frames ...\n"
     ]
    },
    {
     "name": "stderr",
     "output_type": "stream",
     "text": [
      "Processing frames: 100%|██████████| 126/126 [00:03<00:00, 41.88it/s]\n"
     ]
    },
    {
     "name": "stdout",
     "output_type": "stream",
     "text": [
      "Completed! All frames saved to visualization/output/action_1928/frames\n",
      "Creating video from 126 frames...\n"
     ]
    },
    {
     "name": "stderr",
     "output_type": "stream",
     "text": [
      "Creating video: 100%|██████████| 126/126 [00:01<00:00, 87.49it/s]\n"
     ]
    },
    {
     "name": "stdout",
     "output_type": "stream",
     "text": [
      "Video created successfully: visualization/output/action_1928/video/action_1928.mp4\n",
      "Visualization completed for data/gamestate_output/action_1928.json\n",
      "Frames saved to visualization/output/action_1928/frames\n",
      "Video saved to visualization/output/action_1928/video/action_1928.mp4\n",
      "Processing 126 frames ...\n"
     ]
    },
    {
     "name": "stderr",
     "output_type": "stream",
     "text": [
      "Processing frames: 100%|██████████| 126/126 [00:02<00:00, 48.12it/s]\n"
     ]
    },
    {
     "name": "stdout",
     "output_type": "stream",
     "text": [
      "Completed! All frames saved to visualization/output/action_200/frames\n",
      "Creating video from 126 frames...\n"
     ]
    },
    {
     "name": "stderr",
     "output_type": "stream",
     "text": [
      "Creating video: 100%|██████████| 126/126 [00:01<00:00, 88.06it/s]\n"
     ]
    },
    {
     "name": "stdout",
     "output_type": "stream",
     "text": [
      "Video created successfully: visualization/output/action_200/video/action_200.mp4\n",
      "Visualization completed for data/gamestate_output/action_200.json\n",
      "Frames saved to visualization/output/action_200/frames\n",
      "Video saved to visualization/output/action_200/video/action_200.mp4\n",
      "Processing 126 frames ...\n"
     ]
    },
    {
     "name": "stderr",
     "output_type": "stream",
     "text": [
      "Processing frames: 100%|██████████| 126/126 [00:02<00:00, 44.54it/s]\n"
     ]
    },
    {
     "name": "stdout",
     "output_type": "stream",
     "text": [
      "Completed! All frames saved to visualization/output/action_1949/frames\n",
      "Creating video from 126 frames...\n"
     ]
    },
    {
     "name": "stderr",
     "output_type": "stream",
     "text": [
      "Creating video: 100%|██████████| 126/126 [00:01<00:00, 88.01it/s]\n"
     ]
    },
    {
     "name": "stdout",
     "output_type": "stream",
     "text": [
      "Video created successfully: visualization/output/action_1949/video/action_1949.mp4\n",
      "Visualization completed for data/gamestate_output/action_1949.json\n",
      "Frames saved to visualization/output/action_1949/frames\n",
      "Video saved to visualization/output/action_1949/video/action_1949.mp4\n",
      "Processing 126 frames ...\n"
     ]
    },
    {
     "name": "stderr",
     "output_type": "stream",
     "text": [
      "Processing frames: 100%|██████████| 126/126 [00:03<00:00, 39.02it/s]\n"
     ]
    },
    {
     "name": "stdout",
     "output_type": "stream",
     "text": [
      "Completed! All frames saved to visualization/output/action_1676/frames\n",
      "Creating video from 126 frames...\n"
     ]
    },
    {
     "name": "stderr",
     "output_type": "stream",
     "text": [
      "Creating video: 100%|██████████| 126/126 [00:01<00:00, 87.14it/s]\n"
     ]
    },
    {
     "name": "stdout",
     "output_type": "stream",
     "text": [
      "Video created successfully: visualization/output/action_1676/video/action_1676.mp4\n",
      "Visualization completed for data/gamestate_output/action_1676.json\n",
      "Frames saved to visualization/output/action_1676/frames\n",
      "Video saved to visualization/output/action_1676/video/action_1676.mp4\n",
      "Processing 126 frames ...\n"
     ]
    },
    {
     "name": "stderr",
     "output_type": "stream",
     "text": [
      "Processing frames: 100%|██████████| 126/126 [00:03<00:00, 40.67it/s]\n"
     ]
    },
    {
     "name": "stdout",
     "output_type": "stream",
     "text": [
      "Completed! All frames saved to visualization/output/action_1565/frames\n",
      "Creating video from 126 frames...\n"
     ]
    },
    {
     "name": "stderr",
     "output_type": "stream",
     "text": [
      "Creating video: 100%|██████████| 126/126 [00:01<00:00, 88.00it/s]\n"
     ]
    },
    {
     "name": "stdout",
     "output_type": "stream",
     "text": [
      "Video created successfully: visualization/output/action_1565/video/action_1565.mp4\n",
      "Visualization completed for data/gamestate_output/action_1565.json\n",
      "Frames saved to visualization/output/action_1565/frames\n",
      "Video saved to visualization/output/action_1565/video/action_1565.mp4\n",
      "Processing 126 frames ...\n"
     ]
    },
    {
     "name": "stderr",
     "output_type": "stream",
     "text": [
      "Processing frames: 100%|██████████| 126/126 [00:02<00:00, 44.26it/s]\n"
     ]
    },
    {
     "name": "stdout",
     "output_type": "stream",
     "text": [
      "Completed! All frames saved to visualization/output/action_1836/frames\n",
      "Creating video from 126 frames...\n"
     ]
    },
    {
     "name": "stderr",
     "output_type": "stream",
     "text": [
      "Creating video: 100%|██████████| 126/126 [00:01<00:00, 86.98it/s]\n"
     ]
    },
    {
     "name": "stdout",
     "output_type": "stream",
     "text": [
      "Video created successfully: visualization/output/action_1836/video/action_1836.mp4\n",
      "Visualization completed for data/gamestate_output/action_1836.json\n",
      "Frames saved to visualization/output/action_1836/frames\n",
      "Video saved to visualization/output/action_1836/video/action_1836.mp4\n",
      "Processing 126 frames ...\n"
     ]
    },
    {
     "name": "stderr",
     "output_type": "stream",
     "text": [
      "Processing frames: 100%|██████████| 126/126 [00:02<00:00, 42.46it/s]\n"
     ]
    },
    {
     "name": "stdout",
     "output_type": "stream",
     "text": [
      "Completed! All frames saved to visualization/output/action_1861/frames\n",
      "Creating video from 126 frames...\n"
     ]
    },
    {
     "name": "stderr",
     "output_type": "stream",
     "text": [
      "Creating video: 100%|██████████| 126/126 [00:01<00:00, 87.90it/s]\n"
     ]
    },
    {
     "name": "stdout",
     "output_type": "stream",
     "text": [
      "Video created successfully: visualization/output/action_1861/video/action_1861.mp4\n",
      "Visualization completed for data/gamestate_output/action_1861.json\n",
      "Frames saved to visualization/output/action_1861/frames\n",
      "Video saved to visualization/output/action_1861/video/action_1861.mp4\n",
      "Processing 126 frames ...\n"
     ]
    },
    {
     "name": "stderr",
     "output_type": "stream",
     "text": [
      "Processing frames: 100%|██████████| 126/126 [00:02<00:00, 43.76it/s]\n"
     ]
    },
    {
     "name": "stdout",
     "output_type": "stream",
     "text": [
      "Completed! All frames saved to visualization/output/action_1477/frames\n",
      "Creating video from 126 frames...\n"
     ]
    },
    {
     "name": "stderr",
     "output_type": "stream",
     "text": [
      "Creating video: 100%|██████████| 126/126 [00:01<00:00, 87.94it/s]\n"
     ]
    },
    {
     "name": "stdout",
     "output_type": "stream",
     "text": [
      "Video created successfully: visualization/output/action_1477/video/action_1477.mp4\n",
      "Visualization completed for data/gamestate_output/action_1477.json\n",
      "Frames saved to visualization/output/action_1477/frames\n",
      "Video saved to visualization/output/action_1477/video/action_1477.mp4\n",
      "Processing 126 frames ...\n"
     ]
    },
    {
     "name": "stderr",
     "output_type": "stream",
     "text": [
      "Processing frames: 100%|██████████| 126/126 [00:03<00:00, 41.52it/s]\n"
     ]
    },
    {
     "name": "stdout",
     "output_type": "stream",
     "text": [
      "Completed! All frames saved to visualization/output/action_1524/frames\n",
      "Creating video from 126 frames...\n"
     ]
    },
    {
     "name": "stderr",
     "output_type": "stream",
     "text": [
      "Creating video: 100%|██████████| 126/126 [00:01<00:00, 87.58it/s]\n"
     ]
    },
    {
     "name": "stdout",
     "output_type": "stream",
     "text": [
      "Video created successfully: visualization/output/action_1524/video/action_1524.mp4\n",
      "Visualization completed for data/gamestate_output/action_1524.json\n",
      "Frames saved to visualization/output/action_1524/frames\n",
      "Video saved to visualization/output/action_1524/video/action_1524.mp4\n",
      "Processing 126 frames ...\n"
     ]
    },
    {
     "name": "stderr",
     "output_type": "stream",
     "text": [
      "Processing frames: 100%|██████████| 126/126 [00:02<00:00, 43.11it/s]\n"
     ]
    },
    {
     "name": "stdout",
     "output_type": "stream",
     "text": [
      "Completed! All frames saved to visualization/output/action_1932/frames\n",
      "Creating video from 126 frames...\n"
     ]
    },
    {
     "name": "stderr",
     "output_type": "stream",
     "text": [
      "Creating video: 100%|██████████| 126/126 [00:01<00:00, 87.96it/s]\n"
     ]
    },
    {
     "name": "stdout",
     "output_type": "stream",
     "text": [
      "Video created successfully: visualization/output/action_1932/video/action_1932.mp4\n",
      "Visualization completed for data/gamestate_output/action_1932.json\n",
      "Frames saved to visualization/output/action_1932/frames\n",
      "Video saved to visualization/output/action_1932/video/action_1932.mp4\n",
      "Processing 126 frames ...\n"
     ]
    },
    {
     "name": "stderr",
     "output_type": "stream",
     "text": [
      "Processing frames: 100%|██████████| 126/126 [00:03<00:00, 41.83it/s]\n"
     ]
    },
    {
     "name": "stdout",
     "output_type": "stream",
     "text": [
      "Completed! All frames saved to visualization/output/action_1748/frames\n",
      "Creating video from 126 frames...\n"
     ]
    },
    {
     "name": "stderr",
     "output_type": "stream",
     "text": [
      "Creating video: 100%|██████████| 126/126 [00:01<00:00, 89.49it/s]\n"
     ]
    },
    {
     "name": "stdout",
     "output_type": "stream",
     "text": [
      "Video created successfully: visualization/output/action_1748/video/action_1748.mp4\n",
      "Visualization completed for data/gamestate_output/action_1748.json\n",
      "Frames saved to visualization/output/action_1748/frames\n",
      "Video saved to visualization/output/action_1748/video/action_1748.mp4\n",
      "Processing 126 frames ...\n"
     ]
    },
    {
     "name": "stderr",
     "output_type": "stream",
     "text": [
      "Processing frames: 100%|██████████| 126/126 [00:02<00:00, 44.65it/s]\n"
     ]
    },
    {
     "name": "stdout",
     "output_type": "stream",
     "text": [
      "Completed! All frames saved to visualization/output/action_1820/frames\n",
      "Creating video from 126 frames...\n"
     ]
    },
    {
     "name": "stderr",
     "output_type": "stream",
     "text": [
      "Creating video: 100%|██████████| 126/126 [00:01<00:00, 88.51it/s]\n"
     ]
    },
    {
     "name": "stdout",
     "output_type": "stream",
     "text": [
      "Video created successfully: visualization/output/action_1820/video/action_1820.mp4\n",
      "Visualization completed for data/gamestate_output/action_1820.json\n",
      "Frames saved to visualization/output/action_1820/frames\n",
      "Video saved to visualization/output/action_1820/video/action_1820.mp4\n",
      "Processing 126 frames ...\n"
     ]
    },
    {
     "name": "stderr",
     "output_type": "stream",
     "text": [
      "Processing frames: 100%|██████████| 126/126 [00:02<00:00, 44.86it/s]\n"
     ]
    },
    {
     "name": "stdout",
     "output_type": "stream",
     "text": [
      "Completed! All frames saved to visualization/output/action_1821/frames\n",
      "Creating video from 126 frames...\n"
     ]
    },
    {
     "name": "stderr",
     "output_type": "stream",
     "text": [
      "Creating video: 100%|██████████| 126/126 [00:01<00:00, 90.42it/s]\n"
     ]
    },
    {
     "name": "stdout",
     "output_type": "stream",
     "text": [
      "Video created successfully: visualization/output/action_1821/video/action_1821.mp4\n",
      "Visualization completed for data/gamestate_output/action_1821.json\n",
      "Frames saved to visualization/output/action_1821/frames\n",
      "Video saved to visualization/output/action_1821/video/action_1821.mp4\n",
      "Processing 126 frames ...\n"
     ]
    },
    {
     "name": "stderr",
     "output_type": "stream",
     "text": [
      "Processing frames: 100%|██████████| 126/126 [00:02<00:00, 42.90it/s]\n"
     ]
    },
    {
     "name": "stdout",
     "output_type": "stream",
     "text": [
      "Completed! All frames saved to visualization/output/action_1476/frames\n",
      "Creating video from 126 frames...\n"
     ]
    },
    {
     "name": "stderr",
     "output_type": "stream",
     "text": [
      "Creating video: 100%|██████████| 126/126 [00:01<00:00, 89.89it/s]\n"
     ]
    },
    {
     "name": "stdout",
     "output_type": "stream",
     "text": [
      "Video created successfully: visualization/output/action_1476/video/action_1476.mp4\n",
      "Visualization completed for data/gamestate_output/action_1476.json\n",
      "Frames saved to visualization/output/action_1476/frames\n",
      "Video saved to visualization/output/action_1476/video/action_1476.mp4\n",
      "Processing 126 frames ...\n"
     ]
    },
    {
     "name": "stderr",
     "output_type": "stream",
     "text": [
      "Processing frames: 100%|██████████| 126/126 [00:03<00:00, 39.94it/s]\n"
     ]
    },
    {
     "name": "stdout",
     "output_type": "stream",
     "text": [
      "Completed! All frames saved to visualization/output/action_1925/frames\n",
      "Creating video from 126 frames...\n"
     ]
    },
    {
     "name": "stderr",
     "output_type": "stream",
     "text": [
      "Creating video: 100%|██████████| 126/126 [00:01<00:00, 88.53it/s]\n"
     ]
    },
    {
     "name": "stdout",
     "output_type": "stream",
     "text": [
      "Video created successfully: visualization/output/action_1925/video/action_1925.mp4\n",
      "Visualization completed for data/gamestate_output/action_1925.json\n",
      "Frames saved to visualization/output/action_1925/frames\n",
      "Video saved to visualization/output/action_1925/video/action_1925.mp4\n",
      "Processing 126 frames ...\n"
     ]
    },
    {
     "name": "stderr",
     "output_type": "stream",
     "text": [
      "Processing frames: 100%|██████████| 126/126 [00:02<00:00, 47.49it/s]\n"
     ]
    },
    {
     "name": "stdout",
     "output_type": "stream",
     "text": [
      "Completed! All frames saved to visualization/output/action_1374/frames\n",
      "Creating video from 126 frames...\n"
     ]
    },
    {
     "name": "stderr",
     "output_type": "stream",
     "text": [
      "Creating video: 100%|██████████| 126/126 [00:01<00:00, 87.59it/s]\n"
     ]
    },
    {
     "name": "stdout",
     "output_type": "stream",
     "text": [
      "Video created successfully: visualization/output/action_1374/video/action_1374.mp4\n",
      "Visualization completed for data/gamestate_output/action_1374.json\n",
      "Frames saved to visualization/output/action_1374/frames\n",
      "Video saved to visualization/output/action_1374/video/action_1374.mp4\n",
      "Processing 126 frames ...\n"
     ]
    },
    {
     "name": "stderr",
     "output_type": "stream",
     "text": [
      "Processing frames: 100%|██████████| 126/126 [00:02<00:00, 45.34it/s]\n"
     ]
    },
    {
     "name": "stdout",
     "output_type": "stream",
     "text": [
      "Completed! All frames saved to visualization/output/action_1591/frames\n",
      "Creating video from 126 frames...\n"
     ]
    },
    {
     "name": "stderr",
     "output_type": "stream",
     "text": [
      "Creating video: 100%|██████████| 126/126 [00:01<00:00, 90.42it/s]\n"
     ]
    },
    {
     "name": "stdout",
     "output_type": "stream",
     "text": [
      "Video created successfully: visualization/output/action_1591/video/action_1591.mp4\n",
      "Visualization completed for data/gamestate_output/action_1591.json\n",
      "Frames saved to visualization/output/action_1591/frames\n",
      "Video saved to visualization/output/action_1591/video/action_1591.mp4\n",
      "Processing 126 frames ...\n"
     ]
    },
    {
     "name": "stderr",
     "output_type": "stream",
     "text": [
      "Processing frames: 100%|██████████| 126/126 [00:02<00:00, 42.10it/s]\n"
     ]
    },
    {
     "name": "stdout",
     "output_type": "stream",
     "text": [
      "Completed! All frames saved to visualization/output/action_1657/frames\n",
      "Creating video from 126 frames...\n"
     ]
    },
    {
     "name": "stderr",
     "output_type": "stream",
     "text": [
      "Creating video: 100%|██████████| 126/126 [00:01<00:00, 92.25it/s]\n"
     ]
    },
    {
     "name": "stdout",
     "output_type": "stream",
     "text": [
      "Video created successfully: visualization/output/action_1657/video/action_1657.mp4\n",
      "Visualization completed for data/gamestate_output/action_1657.json\n",
      "Frames saved to visualization/output/action_1657/frames\n",
      "Video saved to visualization/output/action_1657/video/action_1657.mp4\n",
      "Processing 126 frames ...\n"
     ]
    },
    {
     "name": "stderr",
     "output_type": "stream",
     "text": [
      "Processing frames: 100%|██████████| 126/126 [00:02<00:00, 43.20it/s]\n"
     ]
    },
    {
     "name": "stdout",
     "output_type": "stream",
     "text": [
      "Completed! All frames saved to visualization/output/action_1991/frames\n",
      "Creating video from 126 frames...\n"
     ]
    },
    {
     "name": "stderr",
     "output_type": "stream",
     "text": [
      "Creating video: 100%|██████████| 126/126 [00:01<00:00, 91.24it/s]\n"
     ]
    },
    {
     "name": "stdout",
     "output_type": "stream",
     "text": [
      "Video created successfully: visualization/output/action_1991/video/action_1991.mp4\n",
      "Visualization completed for data/gamestate_output/action_1991.json\n",
      "Frames saved to visualization/output/action_1991/frames\n",
      "Video saved to visualization/output/action_1991/video/action_1991.mp4\n",
      "Processing 126 frames ...\n"
     ]
    },
    {
     "name": "stderr",
     "output_type": "stream",
     "text": [
      "Processing frames: 100%|██████████| 126/126 [00:03<00:00, 40.78it/s]\n"
     ]
    },
    {
     "name": "stdout",
     "output_type": "stream",
     "text": [
      "Completed! All frames saved to visualization/output/action_2041/frames\n",
      "Creating video from 126 frames...\n"
     ]
    },
    {
     "name": "stderr",
     "output_type": "stream",
     "text": [
      "Creating video: 100%|██████████| 126/126 [00:01<00:00, 87.14it/s]\n"
     ]
    },
    {
     "name": "stdout",
     "output_type": "stream",
     "text": [
      "Video created successfully: visualization/output/action_2041/video/action_2041.mp4\n",
      "Visualization completed for data/gamestate_output/action_2041.json\n",
      "Frames saved to visualization/output/action_2041/frames\n",
      "Video saved to visualization/output/action_2041/video/action_2041.mp4\n",
      "Processing 126 frames ...\n"
     ]
    },
    {
     "name": "stderr",
     "output_type": "stream",
     "text": [
      "Processing frames: 100%|██████████| 126/126 [00:03<00:00, 37.96it/s]\n"
     ]
    },
    {
     "name": "stdout",
     "output_type": "stream",
     "text": [
      "Completed! All frames saved to visualization/output/action_1694/frames\n",
      "Creating video from 126 frames...\n"
     ]
    },
    {
     "name": "stderr",
     "output_type": "stream",
     "text": [
      "Creating video: 100%|██████████| 126/126 [00:01<00:00, 90.55it/s]\n"
     ]
    },
    {
     "name": "stdout",
     "output_type": "stream",
     "text": [
      "Video created successfully: visualization/output/action_1694/video/action_1694.mp4\n",
      "Visualization completed for data/gamestate_output/action_1694.json\n",
      "Frames saved to visualization/output/action_1694/frames\n",
      "Video saved to visualization/output/action_1694/video/action_1694.mp4\n",
      "Processing 126 frames ...\n"
     ]
    },
    {
     "name": "stderr",
     "output_type": "stream",
     "text": [
      "Processing frames: 100%|██████████| 126/126 [00:02<00:00, 45.87it/s]\n"
     ]
    },
    {
     "name": "stdout",
     "output_type": "stream",
     "text": [
      "Completed! All frames saved to visualization/output/action_1913/frames\n",
      "Creating video from 126 frames...\n"
     ]
    },
    {
     "name": "stderr",
     "output_type": "stream",
     "text": [
      "Creating video: 100%|██████████| 126/126 [00:01<00:00, 90.19it/s]\n"
     ]
    },
    {
     "name": "stdout",
     "output_type": "stream",
     "text": [
      "Video created successfully: visualization/output/action_1913/video/action_1913.mp4\n",
      "Visualization completed for data/gamestate_output/action_1913.json\n",
      "Frames saved to visualization/output/action_1913/frames\n",
      "Video saved to visualization/output/action_1913/video/action_1913.mp4\n",
      "Processing 126 frames ...\n"
     ]
    },
    {
     "name": "stderr",
     "output_type": "stream",
     "text": [
      "Processing frames: 100%|██████████| 126/126 [00:02<00:00, 44.33it/s]\n"
     ]
    },
    {
     "name": "stdout",
     "output_type": "stream",
     "text": [
      "Completed! All frames saved to visualization/output/action_1505/frames\n",
      "Creating video from 126 frames...\n"
     ]
    },
    {
     "name": "stderr",
     "output_type": "stream",
     "text": [
      "Creating video: 100%|██████████| 126/126 [00:01<00:00, 86.27it/s]\n"
     ]
    },
    {
     "name": "stdout",
     "output_type": "stream",
     "text": [
      "Video created successfully: visualization/output/action_1505/video/action_1505.mp4\n",
      "Visualization completed for data/gamestate_output/action_1505.json\n",
      "Frames saved to visualization/output/action_1505/frames\n",
      "Video saved to visualization/output/action_1505/video/action_1505.mp4\n",
      "Processing 126 frames ...\n"
     ]
    },
    {
     "name": "stderr",
     "output_type": "stream",
     "text": [
      "Processing frames: 100%|██████████| 126/126 [00:02<00:00, 47.76it/s]\n"
     ]
    },
    {
     "name": "stdout",
     "output_type": "stream",
     "text": [
      "Completed! All frames saved to visualization/output/action_1496/frames\n",
      "Creating video from 126 frames...\n"
     ]
    },
    {
     "name": "stderr",
     "output_type": "stream",
     "text": [
      "Creating video: 100%|██████████| 126/126 [00:01<00:00, 89.59it/s]\n"
     ]
    },
    {
     "name": "stdout",
     "output_type": "stream",
     "text": [
      "Video created successfully: visualization/output/action_1496/video/action_1496.mp4\n",
      "Visualization completed for data/gamestate_output/action_1496.json\n",
      "Frames saved to visualization/output/action_1496/frames\n",
      "Video saved to visualization/output/action_1496/video/action_1496.mp4\n",
      "Processing 126 frames ...\n"
     ]
    },
    {
     "name": "stderr",
     "output_type": "stream",
     "text": [
      "Processing frames: 100%|██████████| 126/126 [00:03<00:00, 41.95it/s]\n"
     ]
    },
    {
     "name": "stdout",
     "output_type": "stream",
     "text": [
      "Completed! All frames saved to visualization/output/action_1750/frames\n",
      "Creating video from 126 frames...\n"
     ]
    },
    {
     "name": "stderr",
     "output_type": "stream",
     "text": [
      "Creating video: 100%|██████████| 126/126 [00:01<00:00, 90.48it/s]\n"
     ]
    },
    {
     "name": "stdout",
     "output_type": "stream",
     "text": [
      "Video created successfully: visualization/output/action_1750/video/action_1750.mp4\n",
      "Visualization completed for data/gamestate_output/action_1750.json\n",
      "Frames saved to visualization/output/action_1750/frames\n",
      "Video saved to visualization/output/action_1750/video/action_1750.mp4\n",
      "Processing 126 frames ...\n"
     ]
    },
    {
     "name": "stderr",
     "output_type": "stream",
     "text": [
      "Processing frames: 100%|██████████| 126/126 [00:02<00:00, 47.34it/s]\n"
     ]
    },
    {
     "name": "stdout",
     "output_type": "stream",
     "text": [
      "Completed! All frames saved to visualization/output/action_1838/frames\n",
      "Creating video from 126 frames...\n"
     ]
    },
    {
     "name": "stderr",
     "output_type": "stream",
     "text": [
      "Creating video: 100%|██████████| 126/126 [00:01<00:00, 88.43it/s]\n"
     ]
    },
    {
     "name": "stdout",
     "output_type": "stream",
     "text": [
      "Video created successfully: visualization/output/action_1838/video/action_1838.mp4\n",
      "Visualization completed for data/gamestate_output/action_1838.json\n",
      "Frames saved to visualization/output/action_1838/frames\n",
      "Video saved to visualization/output/action_1838/video/action_1838.mp4\n",
      "Processing 126 frames ...\n"
     ]
    },
    {
     "name": "stderr",
     "output_type": "stream",
     "text": [
      "Processing frames: 100%|██████████| 126/126 [00:02<00:00, 42.78it/s]\n"
     ]
    },
    {
     "name": "stdout",
     "output_type": "stream",
     "text": [
      "Completed! All frames saved to visualization/output/action_1906/frames\n",
      "Creating video from 126 frames...\n"
     ]
    },
    {
     "name": "stderr",
     "output_type": "stream",
     "text": [
      "Creating video: 100%|██████████| 126/126 [00:01<00:00, 85.11it/s]\n"
     ]
    },
    {
     "name": "stdout",
     "output_type": "stream",
     "text": [
      "Video created successfully: visualization/output/action_1906/video/action_1906.mp4\n",
      "Visualization completed for data/gamestate_output/action_1906.json\n",
      "Frames saved to visualization/output/action_1906/frames\n",
      "Video saved to visualization/output/action_1906/video/action_1906.mp4\n",
      "Processing 126 frames ...\n"
     ]
    },
    {
     "name": "stderr",
     "output_type": "stream",
     "text": [
      "Processing frames: 100%|██████████| 126/126 [00:02<00:00, 45.32it/s]\n"
     ]
    },
    {
     "name": "stdout",
     "output_type": "stream",
     "text": [
      "Completed! All frames saved to visualization/output/action_1814/frames\n",
      "Creating video from 126 frames...\n"
     ]
    },
    {
     "name": "stderr",
     "output_type": "stream",
     "text": [
      "Creating video: 100%|██████████| 126/126 [00:01<00:00, 88.60it/s]\n"
     ]
    },
    {
     "name": "stdout",
     "output_type": "stream",
     "text": [
      "Video created successfully: visualization/output/action_1814/video/action_1814.mp4\n",
      "Visualization completed for data/gamestate_output/action_1814.json\n",
      "Frames saved to visualization/output/action_1814/frames\n",
      "Video saved to visualization/output/action_1814/video/action_1814.mp4\n",
      "Processing 126 frames ...\n"
     ]
    },
    {
     "name": "stderr",
     "output_type": "stream",
     "text": [
      "Processing frames: 100%|██████████| 126/126 [00:02<00:00, 44.88it/s]\n"
     ]
    },
    {
     "name": "stdout",
     "output_type": "stream",
     "text": [
      "Completed! All frames saved to visualization/output/action_1681/frames\n",
      "Creating video from 126 frames...\n"
     ]
    },
    {
     "name": "stderr",
     "output_type": "stream",
     "text": [
      "Creating video: 100%|██████████| 126/126 [00:01<00:00, 89.67it/s]\n"
     ]
    },
    {
     "name": "stdout",
     "output_type": "stream",
     "text": [
      "Video created successfully: visualization/output/action_1681/video/action_1681.mp4\n",
      "Visualization completed for data/gamestate_output/action_1681.json\n",
      "Frames saved to visualization/output/action_1681/frames\n",
      "Video saved to visualization/output/action_1681/video/action_1681.mp4\n",
      "Processing 126 frames ...\n"
     ]
    },
    {
     "name": "stderr",
     "output_type": "stream",
     "text": [
      "Processing frames: 100%|██████████| 126/126 [00:03<00:00, 41.59it/s]\n"
     ]
    },
    {
     "name": "stdout",
     "output_type": "stream",
     "text": [
      "Completed! All frames saved to visualization/output/action_2042/frames\n",
      "Creating video from 126 frames...\n"
     ]
    },
    {
     "name": "stderr",
     "output_type": "stream",
     "text": [
      "Creating video: 100%|██████████| 126/126 [00:01<00:00, 86.89it/s]\n"
     ]
    },
    {
     "name": "stdout",
     "output_type": "stream",
     "text": [
      "Video created successfully: visualization/output/action_2042/video/action_2042.mp4\n",
      "Visualization completed for data/gamestate_output/action_2042.json\n",
      "Frames saved to visualization/output/action_2042/frames\n",
      "Video saved to visualization/output/action_2042/video/action_2042.mp4\n",
      "Processing 126 frames ...\n"
     ]
    },
    {
     "name": "stderr",
     "output_type": "stream",
     "text": [
      "Processing frames: 100%|██████████| 126/126 [00:02<00:00, 45.85it/s]\n"
     ]
    },
    {
     "name": "stdout",
     "output_type": "stream",
     "text": [
      "Completed! All frames saved to visualization/output/action_1947/frames\n",
      "Creating video from 126 frames...\n"
     ]
    },
    {
     "name": "stderr",
     "output_type": "stream",
     "text": [
      "Creating video: 100%|██████████| 126/126 [00:01<00:00, 91.26it/s]\n"
     ]
    },
    {
     "name": "stdout",
     "output_type": "stream",
     "text": [
      "Video created successfully: visualization/output/action_1947/video/action_1947.mp4\n",
      "Visualization completed for data/gamestate_output/action_1947.json\n",
      "Frames saved to visualization/output/action_1947/frames\n",
      "Video saved to visualization/output/action_1947/video/action_1947.mp4\n",
      "Processing 126 frames ...\n"
     ]
    },
    {
     "name": "stderr",
     "output_type": "stream",
     "text": [
      "Processing frames: 100%|██████████| 126/126 [00:02<00:00, 45.96it/s]\n"
     ]
    },
    {
     "name": "stdout",
     "output_type": "stream",
     "text": [
      "Completed! All frames saved to visualization/output/action_1967/frames\n",
      "Creating video from 126 frames...\n"
     ]
    },
    {
     "name": "stderr",
     "output_type": "stream",
     "text": [
      "Creating video: 100%|██████████| 126/126 [00:01<00:00, 90.07it/s]\n"
     ]
    },
    {
     "name": "stdout",
     "output_type": "stream",
     "text": [
      "Video created successfully: visualization/output/action_1967/video/action_1967.mp4\n",
      "Visualization completed for data/gamestate_output/action_1967.json\n",
      "Frames saved to visualization/output/action_1967/frames\n",
      "Video saved to visualization/output/action_1967/video/action_1967.mp4\n",
      "Processing 126 frames ...\n"
     ]
    },
    {
     "name": "stderr",
     "output_type": "stream",
     "text": [
      "Processing frames: 100%|██████████| 126/126 [00:02<00:00, 53.08it/s]\n"
     ]
    },
    {
     "name": "stdout",
     "output_type": "stream",
     "text": [
      "Completed! All frames saved to visualization/output/action_1434/frames\n",
      "Creating video from 126 frames...\n"
     ]
    },
    {
     "name": "stderr",
     "output_type": "stream",
     "text": [
      "Creating video: 100%|██████████| 126/126 [00:01<00:00, 89.83it/s]\n"
     ]
    },
    {
     "name": "stdout",
     "output_type": "stream",
     "text": [
      "Video created successfully: visualization/output/action_1434/video/action_1434.mp4\n",
      "Visualization completed for data/gamestate_output/action_1434.json\n",
      "Frames saved to visualization/output/action_1434/frames\n",
      "Video saved to visualization/output/action_1434/video/action_1434.mp4\n",
      "Processing 126 frames ...\n"
     ]
    },
    {
     "name": "stderr",
     "output_type": "stream",
     "text": [
      "Processing frames: 100%|██████████| 126/126 [00:02<00:00, 45.14it/s]\n"
     ]
    },
    {
     "name": "stdout",
     "output_type": "stream",
     "text": [
      "Completed! All frames saved to visualization/output/action_1463/frames\n",
      "Creating video from 126 frames...\n"
     ]
    },
    {
     "name": "stderr",
     "output_type": "stream",
     "text": [
      "Creating video: 100%|██████████| 126/126 [00:01<00:00, 89.70it/s]\n"
     ]
    },
    {
     "name": "stdout",
     "output_type": "stream",
     "text": [
      "Video created successfully: visualization/output/action_1463/video/action_1463.mp4\n",
      "Visualization completed for data/gamestate_output/action_1463.json\n",
      "Frames saved to visualization/output/action_1463/frames\n",
      "Video saved to visualization/output/action_1463/video/action_1463.mp4\n",
      "Processing 126 frames ...\n"
     ]
    },
    {
     "name": "stderr",
     "output_type": "stream",
     "text": [
      "Processing frames: 100%|██████████| 126/126 [00:02<00:00, 44.16it/s]\n"
     ]
    },
    {
     "name": "stdout",
     "output_type": "stream",
     "text": [
      "Completed! All frames saved to visualization/output/action_2035/frames\n",
      "Creating video from 126 frames...\n"
     ]
    },
    {
     "name": "stderr",
     "output_type": "stream",
     "text": [
      "Creating video: 100%|██████████| 126/126 [00:01<00:00, 89.15it/s]\n"
     ]
    },
    {
     "name": "stdout",
     "output_type": "stream",
     "text": [
      "Video created successfully: visualization/output/action_2035/video/action_2035.mp4\n",
      "Visualization completed for data/gamestate_output/action_2035.json\n",
      "Frames saved to visualization/output/action_2035/frames\n",
      "Video saved to visualization/output/action_2035/video/action_2035.mp4\n",
      "Processing 126 frames ...\n"
     ]
    },
    {
     "name": "stderr",
     "output_type": "stream",
     "text": [
      "Processing frames: 100%|██████████| 126/126 [00:02<00:00, 43.36it/s]\n"
     ]
    },
    {
     "name": "stdout",
     "output_type": "stream",
     "text": [
      "Completed! All frames saved to visualization/output/action_1818/frames\n",
      "Creating video from 126 frames...\n"
     ]
    },
    {
     "name": "stderr",
     "output_type": "stream",
     "text": [
      "Creating video: 100%|██████████| 126/126 [00:01<00:00, 88.55it/s]\n"
     ]
    },
    {
     "name": "stdout",
     "output_type": "stream",
     "text": [
      "Video created successfully: visualization/output/action_1818/video/action_1818.mp4\n",
      "Visualization completed for data/gamestate_output/action_1818.json\n",
      "Frames saved to visualization/output/action_1818/frames\n",
      "Video saved to visualization/output/action_1818/video/action_1818.mp4\n",
      "Processing 126 frames ...\n"
     ]
    },
    {
     "name": "stderr",
     "output_type": "stream",
     "text": [
      "Processing frames: 100%|██████████| 126/126 [00:02<00:00, 42.48it/s]\n"
     ]
    },
    {
     "name": "stdout",
     "output_type": "stream",
     "text": [
      "Completed! All frames saved to visualization/output/action_1399/frames\n",
      "Creating video from 126 frames...\n"
     ]
    },
    {
     "name": "stderr",
     "output_type": "stream",
     "text": [
      "Creating video: 100%|██████████| 126/126 [00:01<00:00, 89.18it/s]\n"
     ]
    },
    {
     "name": "stdout",
     "output_type": "stream",
     "text": [
      "Video created successfully: visualization/output/action_1399/video/action_1399.mp4\n",
      "Visualization completed for data/gamestate_output/action_1399.json\n",
      "Frames saved to visualization/output/action_1399/frames\n",
      "Video saved to visualization/output/action_1399/video/action_1399.mp4\n",
      "Processing 126 frames ...\n"
     ]
    },
    {
     "name": "stderr",
     "output_type": "stream",
     "text": [
      "Processing frames: 100%|██████████| 126/126 [00:02<00:00, 49.40it/s]\n"
     ]
    },
    {
     "name": "stdout",
     "output_type": "stream",
     "text": [
      "Completed! All frames saved to visualization/output/action_1854/frames\n",
      "Creating video from 126 frames...\n"
     ]
    },
    {
     "name": "stderr",
     "output_type": "stream",
     "text": [
      "Creating video: 100%|██████████| 126/126 [00:01<00:00, 90.07it/s]\n"
     ]
    },
    {
     "name": "stdout",
     "output_type": "stream",
     "text": [
      "Video created successfully: visualization/output/action_1854/video/action_1854.mp4\n",
      "Visualization completed for data/gamestate_output/action_1854.json\n",
      "Frames saved to visualization/output/action_1854/frames\n",
      "Video saved to visualization/output/action_1854/video/action_1854.mp4\n",
      "Processing 126 frames ...\n"
     ]
    },
    {
     "name": "stderr",
     "output_type": "stream",
     "text": [
      "Processing frames: 100%|██████████| 126/126 [00:03<00:00, 39.45it/s]\n"
     ]
    },
    {
     "name": "stdout",
     "output_type": "stream",
     "text": [
      "Completed! All frames saved to visualization/output/action_1507/frames\n",
      "Creating video from 126 frames...\n"
     ]
    },
    {
     "name": "stderr",
     "output_type": "stream",
     "text": [
      "Creating video: 100%|██████████| 126/126 [00:01<00:00, 87.09it/s]\n"
     ]
    },
    {
     "name": "stdout",
     "output_type": "stream",
     "text": [
      "Video created successfully: visualization/output/action_1507/video/action_1507.mp4\n",
      "Visualization completed for data/gamestate_output/action_1507.json\n",
      "Frames saved to visualization/output/action_1507/frames\n",
      "Video saved to visualization/output/action_1507/video/action_1507.mp4\n",
      "Processing 126 frames ...\n"
     ]
    },
    {
     "name": "stderr",
     "output_type": "stream",
     "text": [
      "Processing frames: 100%|██████████| 126/126 [00:02<00:00, 44.39it/s]\n"
     ]
    },
    {
     "name": "stdout",
     "output_type": "stream",
     "text": [
      "Completed! All frames saved to visualization/output/action_1911/frames\n",
      "Creating video from 126 frames...\n"
     ]
    },
    {
     "name": "stderr",
     "output_type": "stream",
     "text": [
      "Creating video: 100%|██████████| 126/126 [00:01<00:00, 90.81it/s]\n"
     ]
    },
    {
     "name": "stdout",
     "output_type": "stream",
     "text": [
      "Video created successfully: visualization/output/action_1911/video/action_1911.mp4\n",
      "Visualization completed for data/gamestate_output/action_1911.json\n",
      "Frames saved to visualization/output/action_1911/frames\n",
      "Video saved to visualization/output/action_1911/video/action_1911.mp4\n",
      "Processing 126 frames ...\n"
     ]
    },
    {
     "name": "stderr",
     "output_type": "stream",
     "text": [
      "Processing frames: 100%|██████████| 126/126 [00:02<00:00, 43.11it/s]\n"
     ]
    },
    {
     "name": "stdout",
     "output_type": "stream",
     "text": [
      "Completed! All frames saved to visualization/output/action_151/frames\n",
      "Creating video from 126 frames...\n"
     ]
    },
    {
     "name": "stderr",
     "output_type": "stream",
     "text": [
      "Creating video: 100%|██████████| 126/126 [00:01<00:00, 88.53it/s]\n"
     ]
    },
    {
     "name": "stdout",
     "output_type": "stream",
     "text": [
      "Video created successfully: visualization/output/action_151/video/action_151.mp4\n",
      "Visualization completed for data/gamestate_output/action_151.json\n",
      "Frames saved to visualization/output/action_151/frames\n",
      "Video saved to visualization/output/action_151/video/action_151.mp4\n",
      "Processing 126 frames ...\n"
     ]
    },
    {
     "name": "stderr",
     "output_type": "stream",
     "text": [
      "Processing frames: 100%|██████████| 126/126 [00:02<00:00, 44.65it/s]\n"
     ]
    },
    {
     "name": "stdout",
     "output_type": "stream",
     "text": [
      "Completed! All frames saved to visualization/output/action_1706/frames\n",
      "Creating video from 126 frames...\n"
     ]
    },
    {
     "name": "stderr",
     "output_type": "stream",
     "text": [
      "Creating video: 100%|██████████| 126/126 [00:01<00:00, 89.40it/s]\n"
     ]
    },
    {
     "name": "stdout",
     "output_type": "stream",
     "text": [
      "Video created successfully: visualization/output/action_1706/video/action_1706.mp4\n",
      "Visualization completed for data/gamestate_output/action_1706.json\n",
      "Frames saved to visualization/output/action_1706/frames\n",
      "Video saved to visualization/output/action_1706/video/action_1706.mp4\n",
      "Processing 126 frames ...\n"
     ]
    },
    {
     "name": "stderr",
     "output_type": "stream",
     "text": [
      "Processing frames: 100%|██████████| 126/126 [00:02<00:00, 46.57it/s]\n"
     ]
    },
    {
     "name": "stdout",
     "output_type": "stream",
     "text": [
      "Completed! All frames saved to visualization/output/action_1585/frames\n",
      "Creating video from 126 frames...\n"
     ]
    },
    {
     "name": "stderr",
     "output_type": "stream",
     "text": [
      "Creating video: 100%|██████████| 126/126 [00:01<00:00, 88.57it/s]\n"
     ]
    },
    {
     "name": "stdout",
     "output_type": "stream",
     "text": [
      "Video created successfully: visualization/output/action_1585/video/action_1585.mp4\n",
      "Visualization completed for data/gamestate_output/action_1585.json\n",
      "Frames saved to visualization/output/action_1585/frames\n",
      "Video saved to visualization/output/action_1585/video/action_1585.mp4\n",
      "Processing 126 frames ...\n"
     ]
    },
    {
     "name": "stderr",
     "output_type": "stream",
     "text": [
      "Processing frames: 100%|██████████| 126/126 [00:03<00:00, 40.27it/s]\n"
     ]
    },
    {
     "name": "stdout",
     "output_type": "stream",
     "text": [
      "Completed! All frames saved to visualization/output/action_1614/frames\n",
      "Creating video from 126 frames...\n"
     ]
    },
    {
     "name": "stderr",
     "output_type": "stream",
     "text": [
      "Creating video: 100%|██████████| 126/126 [00:01<00:00, 87.01it/s]\n"
     ]
    },
    {
     "name": "stdout",
     "output_type": "stream",
     "text": [
      "Video created successfully: visualization/output/action_1614/video/action_1614.mp4\n",
      "Visualization completed for data/gamestate_output/action_1614.json\n",
      "Frames saved to visualization/output/action_1614/frames\n",
      "Video saved to visualization/output/action_1614/video/action_1614.mp4\n",
      "Processing 126 frames ...\n"
     ]
    },
    {
     "name": "stderr",
     "output_type": "stream",
     "text": [
      "Processing frames: 100%|██████████| 126/126 [00:02<00:00, 49.61it/s]\n"
     ]
    },
    {
     "name": "stdout",
     "output_type": "stream",
     "text": [
      "Completed! All frames saved to visualization/output/action_203/frames\n",
      "Creating video from 126 frames...\n"
     ]
    },
    {
     "name": "stderr",
     "output_type": "stream",
     "text": [
      "Creating video: 100%|██████████| 126/126 [00:01<00:00, 90.14it/s]\n"
     ]
    },
    {
     "name": "stdout",
     "output_type": "stream",
     "text": [
      "Video created successfully: visualization/output/action_203/video/action_203.mp4\n",
      "Visualization completed for data/gamestate_output/action_203.json\n",
      "Frames saved to visualization/output/action_203/frames\n",
      "Video saved to visualization/output/action_203/video/action_203.mp4\n",
      "Processing 126 frames ...\n"
     ]
    },
    {
     "name": "stderr",
     "output_type": "stream",
     "text": [
      "Processing frames: 100%|██████████| 126/126 [00:02<00:00, 50.55it/s]\n"
     ]
    },
    {
     "name": "stdout",
     "output_type": "stream",
     "text": [
      "Completed! All frames saved to visualization/output/action_1439/frames\n",
      "Creating video from 126 frames...\n"
     ]
    },
    {
     "name": "stderr",
     "output_type": "stream",
     "text": [
      "Creating video: 100%|██████████| 126/126 [00:01<00:00, 88.63it/s]\n"
     ]
    },
    {
     "name": "stdout",
     "output_type": "stream",
     "text": [
      "Video created successfully: visualization/output/action_1439/video/action_1439.mp4\n",
      "Visualization completed for data/gamestate_output/action_1439.json\n",
      "Frames saved to visualization/output/action_1439/frames\n",
      "Video saved to visualization/output/action_1439/video/action_1439.mp4\n",
      "Processing 126 frames ...\n"
     ]
    },
    {
     "name": "stderr",
     "output_type": "stream",
     "text": [
      "Processing frames: 100%|██████████| 126/126 [00:02<00:00, 42.97it/s]\n"
     ]
    },
    {
     "name": "stdout",
     "output_type": "stream",
     "text": [
      "Completed! All frames saved to visualization/output/action_1985/frames\n",
      "Creating video from 126 frames...\n"
     ]
    },
    {
     "name": "stderr",
     "output_type": "stream",
     "text": [
      "Creating video: 100%|██████████| 126/126 [00:01<00:00, 82.97it/s]\n"
     ]
    },
    {
     "name": "stdout",
     "output_type": "stream",
     "text": [
      "Video created successfully: visualization/output/action_1985/video/action_1985.mp4\n",
      "Visualization completed for data/gamestate_output/action_1985.json\n",
      "Frames saved to visualization/output/action_1985/frames\n",
      "Video saved to visualization/output/action_1985/video/action_1985.mp4\n",
      "Processing 126 frames ...\n"
     ]
    },
    {
     "name": "stderr",
     "output_type": "stream",
     "text": [
      "Processing frames: 100%|██████████| 126/126 [00:03<00:00, 41.90it/s]\n"
     ]
    },
    {
     "name": "stdout",
     "output_type": "stream",
     "text": [
      "Completed! All frames saved to visualization/output/action_176/frames\n",
      "Creating video from 126 frames...\n"
     ]
    },
    {
     "name": "stderr",
     "output_type": "stream",
     "text": [
      "Creating video: 100%|██████████| 126/126 [00:01<00:00, 88.33it/s]\n"
     ]
    },
    {
     "name": "stdout",
     "output_type": "stream",
     "text": [
      "Video created successfully: visualization/output/action_176/video/action_176.mp4\n",
      "Visualization completed for data/gamestate_output/action_176.json\n",
      "Frames saved to visualization/output/action_176/frames\n",
      "Video saved to visualization/output/action_176/video/action_176.mp4\n",
      "Processing 126 frames ...\n"
     ]
    },
    {
     "name": "stderr",
     "output_type": "stream",
     "text": [
      "Processing frames: 100%|██████████| 126/126 [00:02<00:00, 45.19it/s]\n"
     ]
    },
    {
     "name": "stdout",
     "output_type": "stream",
     "text": [
      "Completed! All frames saved to visualization/output/action_1873/frames\n",
      "Creating video from 126 frames...\n"
     ]
    },
    {
     "name": "stderr",
     "output_type": "stream",
     "text": [
      "Creating video: 100%|██████████| 126/126 [00:01<00:00, 86.89it/s]\n"
     ]
    },
    {
     "name": "stdout",
     "output_type": "stream",
     "text": [
      "Video created successfully: visualization/output/action_1873/video/action_1873.mp4\n",
      "Visualization completed for data/gamestate_output/action_1873.json\n",
      "Frames saved to visualization/output/action_1873/frames\n",
      "Video saved to visualization/output/action_1873/video/action_1873.mp4\n",
      "Processing 126 frames ...\n"
     ]
    },
    {
     "name": "stderr",
     "output_type": "stream",
     "text": [
      "Processing frames: 100%|██████████| 126/126 [00:02<00:00, 42.84it/s]\n"
     ]
    },
    {
     "name": "stdout",
     "output_type": "stream",
     "text": [
      "Completed! All frames saved to visualization/output/action_2033/frames\n",
      "Creating video from 126 frames...\n"
     ]
    },
    {
     "name": "stderr",
     "output_type": "stream",
     "text": [
      "Creating video: 100%|██████████| 126/126 [00:01<00:00, 88.59it/s]\n"
     ]
    },
    {
     "name": "stdout",
     "output_type": "stream",
     "text": [
      "Video created successfully: visualization/output/action_2033/video/action_2033.mp4\n",
      "Visualization completed for data/gamestate_output/action_2033.json\n",
      "Frames saved to visualization/output/action_2033/frames\n",
      "Video saved to visualization/output/action_2033/video/action_2033.mp4\n",
      "Processing 126 frames ...\n"
     ]
    },
    {
     "name": "stderr",
     "output_type": "stream",
     "text": [
      "Processing frames: 100%|██████████| 126/126 [00:02<00:00, 43.87it/s]\n"
     ]
    },
    {
     "name": "stdout",
     "output_type": "stream",
     "text": [
      "Completed! All frames saved to visualization/output/action_1920/frames\n",
      "Creating video from 126 frames...\n"
     ]
    },
    {
     "name": "stderr",
     "output_type": "stream",
     "text": [
      "Creating video: 100%|██████████| 126/126 [00:01<00:00, 89.28it/s]\n"
     ]
    },
    {
     "name": "stdout",
     "output_type": "stream",
     "text": [
      "Video created successfully: visualization/output/action_1920/video/action_1920.mp4\n",
      "Visualization completed for data/gamestate_output/action_1920.json\n",
      "Frames saved to visualization/output/action_1920/frames\n",
      "Video saved to visualization/output/action_1920/video/action_1920.mp4\n",
      "Processing 126 frames ...\n"
     ]
    },
    {
     "name": "stderr",
     "output_type": "stream",
     "text": [
      "Processing frames: 100%|██████████| 126/126 [00:02<00:00, 47.51it/s]\n"
     ]
    },
    {
     "name": "stdout",
     "output_type": "stream",
     "text": [
      "Completed! All frames saved to visualization/output/action_160/frames\n",
      "Creating video from 126 frames...\n"
     ]
    },
    {
     "name": "stderr",
     "output_type": "stream",
     "text": [
      "Creating video: 100%|██████████| 126/126 [00:01<00:00, 89.32it/s]\n"
     ]
    },
    {
     "name": "stdout",
     "output_type": "stream",
     "text": [
      "Video created successfully: visualization/output/action_160/video/action_160.mp4\n",
      "Visualization completed for data/gamestate_output/action_160.json\n",
      "Frames saved to visualization/output/action_160/frames\n",
      "Video saved to visualization/output/action_160/video/action_160.mp4\n",
      "Processing 126 frames ...\n"
     ]
    },
    {
     "name": "stderr",
     "output_type": "stream",
     "text": [
      "Processing frames: 100%|██████████| 126/126 [00:02<00:00, 50.34it/s]\n"
     ]
    },
    {
     "name": "stdout",
     "output_type": "stream",
     "text": [
      "Completed! All frames saved to visualization/output/action_1424/frames\n",
      "Creating video from 126 frames...\n"
     ]
    },
    {
     "name": "stderr",
     "output_type": "stream",
     "text": [
      "Creating video: 100%|██████████| 126/126 [00:01<00:00, 88.65it/s]\n"
     ]
    },
    {
     "name": "stdout",
     "output_type": "stream",
     "text": [
      "Video created successfully: visualization/output/action_1424/video/action_1424.mp4\n",
      "Visualization completed for data/gamestate_output/action_1424.json\n",
      "Frames saved to visualization/output/action_1424/frames\n",
      "Video saved to visualization/output/action_1424/video/action_1424.mp4\n",
      "Processing 126 frames ...\n"
     ]
    },
    {
     "name": "stderr",
     "output_type": "stream",
     "text": [
      "Processing frames: 100%|██████████| 126/126 [00:02<00:00, 43.05it/s]\n"
     ]
    },
    {
     "name": "stdout",
     "output_type": "stream",
     "text": [
      "Completed! All frames saved to visualization/output/action_1776/frames\n",
      "Creating video from 126 frames...\n"
     ]
    },
    {
     "name": "stderr",
     "output_type": "stream",
     "text": [
      "Creating video: 100%|██████████| 126/126 [00:01<00:00, 82.89it/s]\n"
     ]
    },
    {
     "name": "stdout",
     "output_type": "stream",
     "text": [
      "Video created successfully: visualization/output/action_1776/video/action_1776.mp4\n",
      "Visualization completed for data/gamestate_output/action_1776.json\n",
      "Frames saved to visualization/output/action_1776/frames\n",
      "Video saved to visualization/output/action_1776/video/action_1776.mp4\n",
      "Processing 126 frames ...\n"
     ]
    },
    {
     "name": "stderr",
     "output_type": "stream",
     "text": [
      "Processing frames: 100%|██████████| 126/126 [00:02<00:00, 43.05it/s]\n"
     ]
    },
    {
     "name": "stdout",
     "output_type": "stream",
     "text": [
      "Completed! All frames saved to visualization/output/action_2048/frames\n",
      "Creating video from 126 frames...\n"
     ]
    },
    {
     "name": "stderr",
     "output_type": "stream",
     "text": [
      "Creating video: 100%|██████████| 126/126 [00:01<00:00, 89.16it/s]\n"
     ]
    },
    {
     "name": "stdout",
     "output_type": "stream",
     "text": [
      "Video created successfully: visualization/output/action_2048/video/action_2048.mp4\n",
      "Visualization completed for data/gamestate_output/action_2048.json\n",
      "Frames saved to visualization/output/action_2048/frames\n",
      "Video saved to visualization/output/action_2048/video/action_2048.mp4\n",
      "Processing 126 frames ...\n"
     ]
    },
    {
     "name": "stderr",
     "output_type": "stream",
     "text": [
      "Processing frames: 100%|██████████| 126/126 [00:03<00:00, 41.84it/s]\n"
     ]
    },
    {
     "name": "stdout",
     "output_type": "stream",
     "text": [
      "Completed! All frames saved to visualization/output/action_1982/frames\n",
      "Creating video from 126 frames...\n"
     ]
    },
    {
     "name": "stderr",
     "output_type": "stream",
     "text": [
      "Creating video: 100%|██████████| 126/126 [00:01<00:00, 88.55it/s]\n"
     ]
    },
    {
     "name": "stdout",
     "output_type": "stream",
     "text": [
      "Video created successfully: visualization/output/action_1982/video/action_1982.mp4\n",
      "Visualization completed for data/gamestate_output/action_1982.json\n",
      "Frames saved to visualization/output/action_1982/frames\n",
      "Video saved to visualization/output/action_1982/video/action_1982.mp4\n",
      "Processing 126 frames ...\n"
     ]
    },
    {
     "name": "stderr",
     "output_type": "stream",
     "text": [
      "Processing frames: 100%|██████████| 126/126 [00:02<00:00, 45.93it/s]\n"
     ]
    },
    {
     "name": "stdout",
     "output_type": "stream",
     "text": [
      "Completed! All frames saved to visualization/output/action_1605/frames\n",
      "Creating video from 126 frames...\n"
     ]
    },
    {
     "name": "stderr",
     "output_type": "stream",
     "text": [
      "Creating video: 100%|██████████| 126/126 [00:01<00:00, 88.07it/s]\n"
     ]
    },
    {
     "name": "stdout",
     "output_type": "stream",
     "text": [
      "Video created successfully: visualization/output/action_1605/video/action_1605.mp4\n",
      "Visualization completed for data/gamestate_output/action_1605.json\n",
      "Frames saved to visualization/output/action_1605/frames\n",
      "Video saved to visualization/output/action_1605/video/action_1605.mp4\n",
      "Processing 126 frames ...\n"
     ]
    },
    {
     "name": "stderr",
     "output_type": "stream",
     "text": [
      "Processing frames: 100%|██████████| 126/126 [00:02<00:00, 47.06it/s]\n"
     ]
    },
    {
     "name": "stdout",
     "output_type": "stream",
     "text": [
      "Completed! All frames saved to visualization/output/action_1490/frames\n",
      "Creating video from 126 frames...\n"
     ]
    },
    {
     "name": "stderr",
     "output_type": "stream",
     "text": [
      "Creating video: 100%|██████████| 126/126 [00:01<00:00, 88.41it/s]\n"
     ]
    },
    {
     "name": "stdout",
     "output_type": "stream",
     "text": [
      "Video created successfully: visualization/output/action_1490/video/action_1490.mp4\n",
      "Visualization completed for data/gamestate_output/action_1490.json\n",
      "Frames saved to visualization/output/action_1490/frames\n",
      "Video saved to visualization/output/action_1490/video/action_1490.mp4\n",
      "Processing 126 frames ...\n"
     ]
    },
    {
     "name": "stderr",
     "output_type": "stream",
     "text": [
      "Processing frames: 100%|██████████| 126/126 [00:03<00:00, 40.21it/s]\n"
     ]
    },
    {
     "name": "stdout",
     "output_type": "stream",
     "text": [
      "Completed! All frames saved to visualization/output/action_183/frames\n",
      "Creating video from 126 frames...\n"
     ]
    },
    {
     "name": "stderr",
     "output_type": "stream",
     "text": [
      "Creating video: 100%|██████████| 126/126 [00:01<00:00, 89.05it/s]\n"
     ]
    },
    {
     "name": "stdout",
     "output_type": "stream",
     "text": [
      "Video created successfully: visualization/output/action_183/video/action_183.mp4\n",
      "Visualization completed for data/gamestate_output/action_183.json\n",
      "Frames saved to visualization/output/action_183/frames\n",
      "Video saved to visualization/output/action_183/video/action_183.mp4\n",
      "Processing 126 frames ...\n"
     ]
    },
    {
     "name": "stderr",
     "output_type": "stream",
     "text": [
      "Processing frames: 100%|██████████| 126/126 [00:03<00:00, 41.93it/s]\n"
     ]
    },
    {
     "name": "stdout",
     "output_type": "stream",
     "text": [
      "Completed! All frames saved to visualization/output/action_1957/frames\n",
      "Creating video from 126 frames...\n"
     ]
    },
    {
     "name": "stderr",
     "output_type": "stream",
     "text": [
      "Creating video: 100%|██████████| 126/126 [00:01<00:00, 87.66it/s]\n"
     ]
    },
    {
     "name": "stdout",
     "output_type": "stream",
     "text": [
      "Video created successfully: visualization/output/action_1957/video/action_1957.mp4\n",
      "Visualization completed for data/gamestate_output/action_1957.json\n",
      "Frames saved to visualization/output/action_1957/frames\n",
      "Video saved to visualization/output/action_1957/video/action_1957.mp4\n",
      "Processing 126 frames ...\n"
     ]
    },
    {
     "name": "stderr",
     "output_type": "stream",
     "text": [
      "Processing frames: 100%|██████████| 126/126 [00:02<00:00, 45.30it/s]\n"
     ]
    },
    {
     "name": "stdout",
     "output_type": "stream",
     "text": [
      "Completed! All frames saved to visualization/output/action_1392/frames\n",
      "Creating video from 126 frames...\n"
     ]
    },
    {
     "name": "stderr",
     "output_type": "stream",
     "text": [
      "Creating video: 100%|██████████| 126/126 [00:01<00:00, 88.79it/s]\n"
     ]
    },
    {
     "name": "stdout",
     "output_type": "stream",
     "text": [
      "Video created successfully: visualization/output/action_1392/video/action_1392.mp4\n",
      "Visualization completed for data/gamestate_output/action_1392.json\n",
      "Frames saved to visualization/output/action_1392/frames\n",
      "Video saved to visualization/output/action_1392/video/action_1392.mp4\n",
      "Processing 126 frames ...\n"
     ]
    },
    {
     "name": "stderr",
     "output_type": "stream",
     "text": [
      "Processing frames: 100%|██████████| 126/126 [00:02<00:00, 51.62it/s]\n"
     ]
    },
    {
     "name": "stdout",
     "output_type": "stream",
     "text": [
      "Completed! All frames saved to visualization/output/action_1691/frames\n",
      "Creating video from 126 frames...\n"
     ]
    },
    {
     "name": "stderr",
     "output_type": "stream",
     "text": [
      "Creating video: 100%|██████████| 126/126 [00:01<00:00, 88.85it/s]\n"
     ]
    },
    {
     "name": "stdout",
     "output_type": "stream",
     "text": [
      "Video created successfully: visualization/output/action_1691/video/action_1691.mp4\n",
      "Visualization completed for data/gamestate_output/action_1691.json\n",
      "Frames saved to visualization/output/action_1691/frames\n",
      "Video saved to visualization/output/action_1691/video/action_1691.mp4\n",
      "Processing 126 frames ...\n"
     ]
    },
    {
     "name": "stderr",
     "output_type": "stream",
     "text": [
      "Processing frames: 100%|██████████| 126/126 [00:03<00:00, 41.28it/s]\n"
     ]
    },
    {
     "name": "stdout",
     "output_type": "stream",
     "text": [
      "Completed! All frames saved to visualization/output/action_19/frames\n",
      "Creating video from 126 frames...\n"
     ]
    },
    {
     "name": "stderr",
     "output_type": "stream",
     "text": [
      "Creating video: 100%|██████████| 126/126 [00:01<00:00, 85.90it/s]\n"
     ]
    },
    {
     "name": "stdout",
     "output_type": "stream",
     "text": [
      "Video created successfully: visualization/output/action_19/video/action_19.mp4\n",
      "Visualization completed for data/gamestate_output/action_19.json\n",
      "Frames saved to visualization/output/action_19/frames\n",
      "Video saved to visualization/output/action_19/video/action_19.mp4\n",
      "Processing 126 frames ...\n"
     ]
    },
    {
     "name": "stderr",
     "output_type": "stream",
     "text": [
      "Processing frames: 100%|██████████| 126/126 [00:03<00:00, 41.52it/s]\n"
     ]
    },
    {
     "name": "stdout",
     "output_type": "stream",
     "text": [
      "Completed! All frames saved to visualization/output/action_1916/frames\n",
      "Creating video from 126 frames...\n"
     ]
    },
    {
     "name": "stderr",
     "output_type": "stream",
     "text": [
      "Creating video: 100%|██████████| 126/126 [00:01<00:00, 89.31it/s]\n"
     ]
    },
    {
     "name": "stdout",
     "output_type": "stream",
     "text": [
      "Video created successfully: visualization/output/action_1916/video/action_1916.mp4\n",
      "Visualization completed for data/gamestate_output/action_1916.json\n",
      "Frames saved to visualization/output/action_1916/frames\n",
      "Video saved to visualization/output/action_1916/video/action_1916.mp4\n",
      "Processing 126 frames ...\n"
     ]
    },
    {
     "name": "stderr",
     "output_type": "stream",
     "text": [
      "Processing frames: 100%|██████████| 126/126 [00:02<00:00, 56.47it/s]\n"
     ]
    },
    {
     "name": "stdout",
     "output_type": "stream",
     "text": [
      "Completed! All frames saved to visualization/output/action_1629/frames\n",
      "Creating video from 126 frames...\n"
     ]
    },
    {
     "name": "stderr",
     "output_type": "stream",
     "text": [
      "Creating video: 100%|██████████| 126/126 [00:01<00:00, 88.95it/s]\n"
     ]
    },
    {
     "name": "stdout",
     "output_type": "stream",
     "text": [
      "Video created successfully: visualization/output/action_1629/video/action_1629.mp4\n",
      "Visualization completed for data/gamestate_output/action_1629.json\n",
      "Frames saved to visualization/output/action_1629/frames\n",
      "Video saved to visualization/output/action_1629/video/action_1629.mp4\n",
      "Processing 126 frames ...\n"
     ]
    },
    {
     "name": "stderr",
     "output_type": "stream",
     "text": [
      "Processing frames: 100%|██████████| 126/126 [00:02<00:00, 51.54it/s]\n"
     ]
    },
    {
     "name": "stdout",
     "output_type": "stream",
     "text": [
      "Completed! All frames saved to visualization/output/action_1501/frames\n",
      "Creating video from 126 frames...\n"
     ]
    },
    {
     "name": "stderr",
     "output_type": "stream",
     "text": [
      "Creating video: 100%|██████████| 126/126 [00:01<00:00, 88.35it/s]\n"
     ]
    },
    {
     "name": "stdout",
     "output_type": "stream",
     "text": [
      "Video created successfully: visualization/output/action_1501/video/action_1501.mp4\n",
      "Visualization completed for data/gamestate_output/action_1501.json\n",
      "Frames saved to visualization/output/action_1501/frames\n",
      "Video saved to visualization/output/action_1501/video/action_1501.mp4\n",
      "Processing 126 frames ...\n"
     ]
    },
    {
     "name": "stderr",
     "output_type": "stream",
     "text": [
      "Processing frames: 100%|██████████| 126/126 [00:02<00:00, 61.66it/s]\n"
     ]
    },
    {
     "name": "stdout",
     "output_type": "stream",
     "text": [
      "Completed! All frames saved to visualization/output/action_2012/frames\n",
      "Creating video from 126 frames...\n"
     ]
    },
    {
     "name": "stderr",
     "output_type": "stream",
     "text": [
      "Creating video: 100%|██████████| 126/126 [00:01<00:00, 90.70it/s]\n"
     ]
    },
    {
     "name": "stdout",
     "output_type": "stream",
     "text": [
      "Video created successfully: visualization/output/action_2012/video/action_2012.mp4\n",
      "Visualization completed for data/gamestate_output/action_2012.json\n",
      "Frames saved to visualization/output/action_2012/frames\n",
      "Video saved to visualization/output/action_2012/video/action_2012.mp4\n",
      "Processing 126 frames ...\n"
     ]
    },
    {
     "name": "stderr",
     "output_type": "stream",
     "text": [
      "Processing frames: 100%|██████████| 126/126 [00:02<00:00, 50.26it/s]\n"
     ]
    },
    {
     "name": "stdout",
     "output_type": "stream",
     "text": [
      "Completed! All frames saved to visualization/output/action_1700/frames\n",
      "Creating video from 126 frames...\n"
     ]
    },
    {
     "name": "stderr",
     "output_type": "stream",
     "text": [
      "Creating video: 100%|██████████| 126/126 [00:01<00:00, 85.76it/s]\n"
     ]
    },
    {
     "name": "stdout",
     "output_type": "stream",
     "text": [
      "Video created successfully: visualization/output/action_1700/video/action_1700.mp4\n",
      "Visualization completed for data/gamestate_output/action_1700.json\n",
      "Frames saved to visualization/output/action_1700/frames\n",
      "Video saved to visualization/output/action_1700/video/action_1700.mp4\n",
      "Processing 126 frames ...\n"
     ]
    },
    {
     "name": "stderr",
     "output_type": "stream",
     "text": [
      "Processing frames: 100%|██████████| 126/126 [00:02<00:00, 49.66it/s]\n"
     ]
    },
    {
     "name": "stdout",
     "output_type": "stream",
     "text": [
      "Completed! All frames saved to visualization/output/action_182/frames\n",
      "Creating video from 126 frames...\n"
     ]
    },
    {
     "name": "stderr",
     "output_type": "stream",
     "text": [
      "Creating video: 100%|██████████| 126/126 [00:01<00:00, 87.66it/s]\n"
     ]
    },
    {
     "name": "stdout",
     "output_type": "stream",
     "text": [
      "Video created successfully: visualization/output/action_182/video/action_182.mp4\n",
      "Visualization completed for data/gamestate_output/action_182.json\n",
      "Frames saved to visualization/output/action_182/frames\n",
      "Video saved to visualization/output/action_182/video/action_182.mp4\n",
      "Processing 126 frames ...\n"
     ]
    },
    {
     "name": "stderr",
     "output_type": "stream",
     "text": [
      "Processing frames: 100%|██████████| 126/126 [00:02<00:00, 46.56it/s]\n"
     ]
    },
    {
     "name": "stdout",
     "output_type": "stream",
     "text": [
      "Completed! All frames saved to visualization/output/action_2065/frames\n",
      "Creating video from 126 frames...\n"
     ]
    },
    {
     "name": "stderr",
     "output_type": "stream",
     "text": [
      "Creating video: 100%|██████████| 126/126 [00:01<00:00, 91.08it/s]\n"
     ]
    },
    {
     "name": "stdout",
     "output_type": "stream",
     "text": [
      "Video created successfully: visualization/output/action_2065/video/action_2065.mp4\n",
      "Visualization completed for data/gamestate_output/action_2065.json\n",
      "Frames saved to visualization/output/action_2065/frames\n",
      "Video saved to visualization/output/action_2065/video/action_2065.mp4\n",
      "Processing 126 frames ...\n"
     ]
    },
    {
     "name": "stderr",
     "output_type": "stream",
     "text": [
      "Processing frames: 100%|██████████| 126/126 [00:02<00:00, 43.12it/s]\n"
     ]
    },
    {
     "name": "stdout",
     "output_type": "stream",
     "text": [
      "Completed! All frames saved to visualization/output/action_1864/frames\n",
      "Creating video from 126 frames...\n"
     ]
    },
    {
     "name": "stderr",
     "output_type": "stream",
     "text": [
      "Creating video: 100%|██████████| 126/126 [00:01<00:00, 87.48it/s]\n"
     ]
    },
    {
     "name": "stdout",
     "output_type": "stream",
     "text": [
      "Video created successfully: visualization/output/action_1864/video/action_1864.mp4\n",
      "Visualization completed for data/gamestate_output/action_1864.json\n",
      "Frames saved to visualization/output/action_1864/frames\n",
      "Video saved to visualization/output/action_1864/video/action_1864.mp4\n",
      "Processing 126 frames ...\n"
     ]
    },
    {
     "name": "stderr",
     "output_type": "stream",
     "text": [
      "Processing frames: 100%|██████████| 126/126 [00:02<00:00, 43.89it/s]\n"
     ]
    },
    {
     "name": "stdout",
     "output_type": "stream",
     "text": [
      "Completed! All frames saved to visualization/output/action_1825/frames\n",
      "Creating video from 126 frames...\n"
     ]
    },
    {
     "name": "stderr",
     "output_type": "stream",
     "text": [
      "Creating video: 100%|██████████| 126/126 [00:01<00:00, 89.22it/s]"
     ]
    },
    {
     "name": "stdout",
     "output_type": "stream",
     "text": [
      "Video created successfully: visualization/output/action_1825/video/action_1825.mp4\n",
      "Visualization completed for data/gamestate_output/action_1825.json\n",
      "Frames saved to visualization/output/action_1825/frames\n",
      "Video saved to visualization/output/action_1825/video/action_1825.mp4\n"
     ]
    },
    {
     "name": "stderr",
     "output_type": "stream",
     "text": [
      "\n"
     ]
    }
   ],
   "source": [
    "import os\n",
    "from pathlib import Path\n",
    "import shutil\n",
    "from typing import Optional\n",
    "from visualization.visualizer import draw_frame, get_frame_info, create_video, get_unique_frame_ids\n",
    "import cv2\n",
    "from tqdm import tqdm\n",
    "\n",
    "\n",
    "json_files = os.listdir(\"data/gamestate_output\")\n",
    "\n",
    "\n",
    "for json_file in json_files:\n",
    "    json_file = f\"data/gamestate_output/{json_file}\"\n",
    "    if \"action\" not in json_file:\n",
    "        continue\n",
    "\n",
    "    # Check if file exists\n",
    "    if not os.path.exists(json_file):\n",
    "        msg = f\"Error: JSON file '{json_file}' not found.\"\n",
    "        raise ValueError(msg)\n",
    "\n",
    "    # Get filename without extension for output folder\n",
    "    filename = Path(json_file).stem\n",
    "\n",
    "    # Create output directories\n",
    "    output_frames_dir = Path(f\"visualization/output/{filename}/frames\")\n",
    "    output_video_dir = Path(f\"visualization/output/{filename}/video\")\n",
    "\n",
    "    # Check if output directories already exist and contain files\n",
    "    if (output_frames_dir.exists() and any(output_frames_dir.iterdir())) or \\\n",
    "        (output_video_dir.exists() and any(output_video_dir.iterdir())):\n",
    "        continue\n",
    "        response = input(f\"Output files already exist for {filename}. Overwrite? (y/n): \")\n",
    "        if response.lower() == 'y':\n",
    "            # Remove existing files\n",
    "            if output_frames_dir.exists():\n",
    "                shutil.rmtree(output_frames_dir)\n",
    "            if output_video_dir.exists():\n",
    "                shutil.rmtree(output_video_dir)\n",
    "            print(\"Existing files removed.\")\n",
    "        else:\n",
    "            msg = \"Operation cancelled.\"\n",
    "            raise ValueError(msg)\n",
    "\n",
    "    # Create directories\n",
    "    output_frames_dir.mkdir(parents=True, exist_ok=True)\n",
    "    output_video_dir.mkdir(parents=True, exist_ok=True)\n",
    "\n",
    "    # Get unique frame IDs\n",
    "    frame_ids = get_unique_frame_ids(json_file)\n",
    "\n",
    "    if not frame_ids:\n",
    "        msg = \"Error: No frames found in the JSON file\"\n",
    "        raise ValueError(msg)\n",
    "\n",
    "    print(f\"Processing {len(frame_ids)} frames ...\")\n",
    "\n",
    "    # Process frames sequentially\n",
    "    frame_paths = []\n",
    "\n",
    "    # Function to process a single frame\n",
    "    def process_frame(frame_id: str) -> Optional[Path]:\n",
    "        output_path = output_frames_dir / f\"frame_{frame_id}.png\"\n",
    "        \n",
    "        # Skip if file already exists\n",
    "        if output_path.exists():\n",
    "            return output_path\n",
    "        \n",
    "        # Get frame info and draw the frame\n",
    "        frame_info = get_frame_info(json_file, frame_id)\n",
    "        image = draw_frame(frame_info)\n",
    "        \n",
    "        # Save the frame\n",
    "        cv2.imwrite(str(output_path), image)\n",
    "        \n",
    "        return output_path\n",
    "\n",
    "    # Process frames sequentially with a progress bar\n",
    "    for frame_id in tqdm(frame_ids, desc=\"Processing frames\"):\n",
    "        frame_path = process_frame(frame_id)\n",
    "        if frame_path:\n",
    "            frame_paths.append(frame_path)\n",
    "\n",
    "    print(f\"Completed! All frames saved to {output_frames_dir}\")\n",
    "\n",
    "    # Create video\n",
    "    video_output_path = output_video_dir / f\"{filename}.mp4\"\n",
    "    create_video(frame_paths, video_output_path, fps=10)\n",
    "\n",
    "    print(f\"Visualization completed for {json_file}\")\n",
    "    print(f\"Frames saved to {output_frames_dir}\")\n",
    "    print(f\"Video saved to {video_output_path}\")"
   ]
  },
  {
   "cell_type": "code",
   "execution_count": null,
   "metadata": {},
   "outputs": [],
   "source": []
  },
  {
   "cell_type": "code",
   "execution_count": null,
   "metadata": {},
   "outputs": [],
   "source": []
  }
 ],
 "metadata": {
  "kernelspec": {
   "display_name": "Python 3",
   "language": "python",
   "name": "python3"
  },
  "language_info": {
   "codemirror_mode": {
    "name": "ipython",
    "version": 3
   },
   "file_extension": ".py",
   "mimetype": "text/x-python",
   "name": "python",
   "nbconvert_exporter": "python",
   "pygments_lexer": "ipython3",
   "version": "3.11.9"
  }
 },
 "nbformat": 4,
 "nbformat_minor": 2
}
