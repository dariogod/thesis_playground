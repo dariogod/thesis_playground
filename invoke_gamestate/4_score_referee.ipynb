{
 "cells": [
  {
   "cell_type": "code",
   "execution_count": 12,
   "metadata": {},
   "outputs": [],
   "source": [
    "!pip install -e visualization/ -q"
   ]
  },
  {
   "cell_type": "code",
   "execution_count": 13,
   "metadata": {},
   "outputs": [],
   "source": [
    "import os\n",
    "from pathlib import Path\n",
    "import shutil\n",
    "from typing import Optional\n",
    "from visualization.visualizer import draw_frame, get_frame_info, create_video, get_unique_frame_ids\n",
    "import cv2\n",
    "import json\n",
    "from tqdm import tqdm\n",
    "from visualization.visualizer import FrameInfo\n",
    "\n",
    "\n",
    "json_files = os.listdir(\"data/gamestate_output\")\n",
    "\n",
    "referee_detected_videos = []\n",
    "all_videos = []\n",
    "for json_file in json_files:\n",
    "    json_file = f\"data/gamestate_output/{json_file}\"\n",
    "    if \"action\" not in json_file:\n",
    "        continue\n",
    "\n",
    "    # Check if file exists\n",
    "    if not os.path.exists(json_file):\n",
    "        msg = f\"Error: JSON file '{json_file}' not found.\"\n",
    "        raise ValueError(msg)\n",
    "\n",
    "    # Get filename without extension for output folder\n",
    "    filename = Path(json_file).stem\n",
    "\n",
    "    # Get unique frame IDs\n",
    "    frame_ids = get_unique_frame_ids(json_file)\n",
    "\n",
    "    if not frame_ids:\n",
    "        msg = \"Error: No frames found in the JSON file\"\n",
    "        raise ValueError(msg)\n",
    "\n",
    "    video_info = {}\n",
    "    for frame_id in frame_ids:\n",
    "        frame_info = get_frame_info(json_file, frame_id)\n",
    "        video_info[frame_id] = frame_info.model_dump()\n",
    "\n",
    "\n",
    "    # Check if referee is detected\n",
    "    referee_detected = False\n",
    "    for frame_id, frame_info in video_info.items():\n",
    "        frame_info = FrameInfo.model_validate(frame_info)\n",
    "        for player in frame_info.players:\n",
    "            if player.role == \"referee\":\n",
    "                referee_detected = True\n",
    "                break\n",
    "    \n",
    "    if referee_detected:\n",
    "        referee_detected_videos.append(filename)\n",
    "    all_videos.append(filename)"
   ]
  },
  {
   "cell_type": "code",
   "execution_count": 14,
   "metadata": {},
   "outputs": [
    {
     "name": "stdout",
     "output_type": "stream",
     "text": [
      "91\n",
      "150\n"
     ]
    }
   ],
   "source": [
    "print(len(referee_detected_videos))\n",
    "print(len(all_videos))"
   ]
  },
  {
   "cell_type": "code",
   "execution_count": 15,
   "metadata": {},
   "outputs": [
    {
     "name": "stdout",
     "output_type": "stream",
     "text": [
      "['action_1670', 'action_1959', 'action_1975', 'action_1871', 'action_1037', 'action_1963', 'action_1943', 'action_1390', 'action_1685', 'action_1113', 'action_1304', 'action_1611', 'action_1492', 'action_1485', 'action_20', 'action_1581', 'action_1407', 'action_1542', 'action_1104', 'action_1523', 'action_1325', 'action_1380', 'action_1400', 'action_1545', 'action_1210', 'action_1949', 'action_1676', 'action_1267', 'action_1565', 'action_1836', 'action_1861', 'action_1524', 'action_1932', 'action_1748', 'action_1820', 'action_1821', 'action_132', 'action_1591', 'action_1657', 'action_1991', 'action_2041', 'action_1694', 'action_1913', 'action_1505', 'action_1155', 'action_1496', 'action_1750', 'action_1091', 'action_1838', 'action_1906', 'action_1814', 'action_1681', 'action_1947', 'action_1156', 'action_1967', 'action_1121', 'action_1463', 'action_1199', 'action_1009', 'action_1818', 'action_1361', 'action_1399', 'action_1854', 'action_1507', 'action_1911', 'action_151', 'action_1585', 'action_1614', 'action_1439', 'action_1985', 'action_176', 'action_2033', 'action_1218', 'action_1371', 'action_1367', 'action_1982', 'action_1605', 'action_1490', 'action_1957', 'action_1054', 'action_1392', 'action_1691', 'action_1629', 'action_1501', 'action_1110', 'action_1700', 'action_1307', 'action_1075', 'action_2065', 'action_1864', 'action_1825']\n"
     ]
    }
   ],
   "source": [
    "print(referee_detected_videos)"
   ]
  },
  {
   "cell_type": "code",
   "execution_count": null,
   "metadata": {},
   "outputs": [],
   "source": [
    "    "
   ]
  },
  {
   "cell_type": "code",
   "execution_count": null,
   "metadata": {},
   "outputs": [],
   "source": []
  }
 ],
 "metadata": {
  "kernelspec": {
   "display_name": "Python 3",
   "language": "python",
   "name": "python3"
  },
  "language_info": {
   "codemirror_mode": {
    "name": "ipython",
    "version": 3
   },
   "file_extension": ".py",
   "mimetype": "text/x-python",
   "name": "python",
   "nbconvert_exporter": "python",
   "pygments_lexer": "ipython3",
   "version": "3.11.9"
  }
 },
 "nbformat": 4,
 "nbformat_minor": 2
}
