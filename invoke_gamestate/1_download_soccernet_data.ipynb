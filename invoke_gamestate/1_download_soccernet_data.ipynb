{
 "cells": [
  {
   "cell_type": "code",
   "execution_count": 1,
   "metadata": {},
   "outputs": [],
   "source": [
    "! pip install SoccerNet -q\n",
    "! pip install dotenv -q"
   ]
  },
  {
   "cell_type": "code",
   "execution_count": 4,
   "metadata": {},
   "outputs": [
    {
     "data": {
      "text/plain": [
       "True"
      ]
     },
     "execution_count": 4,
     "metadata": {},
     "output_type": "execute_result"
    }
   ],
   "source": [
    "import dotenv\n",
    "dotenv.load_dotenv()"
   ]
  },
  {
   "cell_type": "code",
   "execution_count": 5,
   "metadata": {},
   "outputs": [
    {
     "name": "stderr",
     "output_type": "stream",
     "text": [
      "/Users/dariogod/coding/ugent/thesis_playground/venv/lib/python3.10/site-packages/tqdm/auto.py:21: TqdmWarning: IProgress not found. Please update jupyter and ipywidgets. See https://ipywidgets.readthedocs.io/en/stable/user_install.html\n",
      "  from .autonotebook import tqdm as notebook_tqdm\n",
      "Downloading data/mvfould_dataset/mvfouls/train.zip...: : 2.46GiB [04:24, 9.31MiB/s]                          \n",
      "Downloading data/mvfould_dataset/mvfouls/valid.zip...: : 351MiB [01:19, 4.40MiB/s]                         \n",
      "Downloading data/mvfould_dataset/mvfouls/test.zip...: : 268MiB [00:29, 9.18MiB/s]                         \n",
      "Downloading data/mvfould_dataset/mvfouls/challenge.zip...: : 246MiB [00:33, 7.44MiB/s]                         \n"
     ]
    }
   ],
   "source": [
    "from SoccerNet.Downloader import SoccerNetDownloader as SNdl\n",
    "import os\n",
    "\n",
    "\n",
    "mySNdl = SNdl(LocalDirectory=\"data\")\n",
    "mySNdl.downloadDataTask(task=\"mvfouls\", split=[\"train\", \"valid\", \"test\", \"challenge\"], password=os.getenv(\"SOCCERNET_PASSWORD\"))\n"
   ]
  },
  {
   "cell_type": "code",
   "execution_count": 2,
   "metadata": {},
   "outputs": [],
   "source": [
    "import zipfile\n",
    "\n",
    "with zipfile.ZipFile(\"data/mvfouls/train.zip\", \"r\") as zip_ref:\n",
    "    zip_ref.extractall(\"data/mvfouls/train\")\n",
    "\n"
   ]
  },
  {
   "cell_type": "code",
   "execution_count": null,
   "metadata": {},
   "outputs": [],
   "source": []
  }
 ],
 "metadata": {
  "kernelspec": {
   "display_name": "venv",
   "language": "python",
   "name": "python3"
  },
  "language_info": {
   "codemirror_mode": {
    "name": "ipython",
    "version": 3
   },
   "file_extension": ".py",
   "mimetype": "text/x-python",
   "name": "python",
   "nbconvert_exporter": "python",
   "pygments_lexer": "ipython3",
   "version": "3.10.16"
  }
 },
 "nbformat": 4,
 "nbformat_minor": 2
}
